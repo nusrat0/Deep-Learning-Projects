{
  "nbformat": 4,
  "nbformat_minor": 0,
  "metadata": {
    "colab": {
      "provenance": [],
      "gpuType": "T4"
    },
    "kernelspec": {
      "name": "python3",
      "display_name": "Python 3"
    },
    "language_info": {
      "name": "python"
    },
    "accelerator": "GPU"
  },
  "cells": [
    {
      "cell_type": "markdown",
      "source": [
        "\n",
        "# Customer Churn Prediction Using Artificial Neural Network (ANN)\n",
        "\n",
        "Customer churn, also known as customer attrition or customer turnover, refers to the loss of customers or clients over a specific period. It is a critical issue for businesses across various industries. Customer churn refers to the phenomenon of customers discontinuing their relationship with a business or brand. It can have a significant impact on a company’s profitability and long-term success. \n",
        "\n",
        "This project uses Artificial Neural Network to predict customer churn on a sample dataset from Kaggle- [Credit Card Customer Churn Prediction](https://www.kaggle.com/datasets/rjmanoj/credit-card-customer-churn-prediction)\n",
        "\n",
        "## Project Objectives:\n",
        "\n",
        "- Understanding Customer Churn Prediction\n",
        "- How can artificial neural networks (ANN) help in predicting customer churn?\n",
        "- Use Python Language for this Project and Importing the Libraries\n",
        "- Data Analysis & Visualization\n",
        "- Apply One Hot Encoding Technique & Handling the Imbalanced Dataset\n",
        "- Splitting the Dataset & Feature Scaling\n",
        "- Build, Train & Evaluating the ANN Model\n",
        "\n",
        "\n"
      ],
      "metadata": {
        "id": "qt35Ho-qo2ge"
      }
    },
    {
      "cell_type": "markdown",
      "source": [
        "### Why is customer churn prediction important?\n",
        "\n",
        "Customer churn prediction plays a crucial role in customer retention strategies and business growth. By identifying customers who are likely to churn in the future, companies can take proactive measures to mitigate the risk and prevent customer loss."
      ],
      "metadata": {
        "id": "-8p6UFbDqLjg"
      }
    },
    {
      "cell_type": "markdown",
      "source": [
        "### How can artificial neural networks (ANN) help in predicting customer churn?\n",
        "\n",
        "ANNs can handle both numerical and categorical data, making them versatile for analyzing customer-related features such as demographics, purchasing behavior, and engagement metrics. By training an ANN model on historical customer data with known churn outcomes, the model can learn the underlying patterns that indicate the likelihood of churn. Once trained, the ANN model can predict churn for new customers based on their characteristics and behavior."
      ],
      "metadata": {
        "id": "WDyqEh1nqN9l"
      }
    },
    {
      "cell_type": "markdown",
      "source": [
        "## Project Overview: Customer Churn Prediction using ANN\n",
        "\n",
        "- Importing the Libraries\n",
        "- Data Analysis & Visualization\n",
        "- Apply One Hot Encoding Technique on Gender & Geography Column\n",
        "- Handle the Imbalanced Target Column and Balance It\n",
        "- Splitting the Dataset into Training and Testing Sets\n",
        "- Feature Scaling - Sklearn Standard Scaler Technique\n",
        "- Build the Artificial Neural Network (ANN) Model\n",
        "- Training the ANN Model\n",
        "- Evaluating the ANN Model & Predicting Churn for New Customers\n",
        "\n"
      ],
      "metadata": {
        "id": "nWZLoMrsqZ5y"
      }
    },
    {
      "cell_type": "markdown",
      "source": [
        "## Step 1: Importing the Libraries\n",
        "\n",
        "The required libraries :\n",
        "\n",
        "- `NumPy` for numerical computations\n",
        "- `Pandas` for data manipulation and analysis\n",
        "- `Matplotlib` and `Seaborn` for data visualization\n",
        "- `Scikit-learn` for preprocessing and model evaluation\n",
        "- `Tensorflow` and `Keras` for building and training the ANN model"
      ],
      "metadata": {
        "id": "pTLbQl9OrE3H"
      }
    },
    {
      "cell_type": "code",
      "execution_count": 1,
      "metadata": {
        "id": "mtu-7B8PowQi"
      },
      "outputs": [],
      "source": [
        "# import necessary libraries\n",
        "import pandas as pd\n",
        "import numpy as np\n",
        "import matplotlib.pyplot as plt\n",
        "%matplotlib inline\n",
        "import seaborn as sns\n",
        "sns.set_style('darkgrid')\n",
        "from sklearn.model_selection import train_test_split\n",
        "from sklearn.preprocessing import StandardScaler\n",
        "from sklearn.utils import resample\n",
        "from sklearn.metrics import accuracy_score\n",
        "import tensorflow\n",
        "from tensorflow import keras\n",
        "from tensorflow.keras import Sequential\n",
        "from tensorflow.keras.layers import Dense"
      ]
    },
    {
      "cell_type": "markdown",
      "source": [
        "## Step 2: Data Analysis & Visualization\n",
        "**Reading the dataset:** Load the dataset into a pandas DataFrame to start our analysis."
      ],
      "metadata": {
        "id": "GC_yRc4brgNE"
      }
    },
    {
      "cell_type": "code",
      "source": [
        "# read the dataset\n",
        "df = pd.read_csv('/content/drive/MyDrive/Churn_Modelling.xls')\n",
        "\n",
        "# see the first five rows of df\n",
        "df.head()"
      ],
      "metadata": {
        "colab": {
          "base_uri": "https://localhost:8080/",
          "height": 206
        },
        "id": "Fmp_UG4Fx3i4",
        "outputId": "583b46e6-03b0-4ca3-fd1b-bc9aad67c2c7"
      },
      "execution_count": 2,
      "outputs": [
        {
          "output_type": "execute_result",
          "data": {
            "text/plain": [
              "   RowNumber  CustomerId   Surname  CreditScore Geography  Gender  Age  \\\n",
              "0          1    15634602  Hargrave          619    France  Female   42   \n",
              "1          2    15647311      Hill          608     Spain  Female   41   \n",
              "2          3    15619304      Onio          502    France  Female   42   \n",
              "3          4    15701354      Boni          699    France  Female   39   \n",
              "4          5    15737888  Mitchell          850     Spain  Female   43   \n",
              "\n",
              "   Tenure    Balance  NumOfProducts  HasCrCard  IsActiveMember  \\\n",
              "0       2       0.00              1          1               1   \n",
              "1       1   83807.86              1          0               1   \n",
              "2       8  159660.80              3          1               0   \n",
              "3       1       0.00              2          0               0   \n",
              "4       2  125510.82              1          1               1   \n",
              "\n",
              "   EstimatedSalary  Exited  \n",
              "0        101348.88       1  \n",
              "1        112542.58       0  \n",
              "2        113931.57       1  \n",
              "3         93826.63       0  \n",
              "4         79084.10       0  "
            ],
            "text/html": [
              "\n",
              "  <div id=\"df-5dfe892d-53a2-421a-bb74-a9d347159944\">\n",
              "    <div class=\"colab-df-container\">\n",
              "      <div>\n",
              "<style scoped>\n",
              "    .dataframe tbody tr th:only-of-type {\n",
              "        vertical-align: middle;\n",
              "    }\n",
              "\n",
              "    .dataframe tbody tr th {\n",
              "        vertical-align: top;\n",
              "    }\n",
              "\n",
              "    .dataframe thead th {\n",
              "        text-align: right;\n",
              "    }\n",
              "</style>\n",
              "<table border=\"1\" class=\"dataframe\">\n",
              "  <thead>\n",
              "    <tr style=\"text-align: right;\">\n",
              "      <th></th>\n",
              "      <th>RowNumber</th>\n",
              "      <th>CustomerId</th>\n",
              "      <th>Surname</th>\n",
              "      <th>CreditScore</th>\n",
              "      <th>Geography</th>\n",
              "      <th>Gender</th>\n",
              "      <th>Age</th>\n",
              "      <th>Tenure</th>\n",
              "      <th>Balance</th>\n",
              "      <th>NumOfProducts</th>\n",
              "      <th>HasCrCard</th>\n",
              "      <th>IsActiveMember</th>\n",
              "      <th>EstimatedSalary</th>\n",
              "      <th>Exited</th>\n",
              "    </tr>\n",
              "  </thead>\n",
              "  <tbody>\n",
              "    <tr>\n",
              "      <th>0</th>\n",
              "      <td>1</td>\n",
              "      <td>15634602</td>\n",
              "      <td>Hargrave</td>\n",
              "      <td>619</td>\n",
              "      <td>France</td>\n",
              "      <td>Female</td>\n",
              "      <td>42</td>\n",
              "      <td>2</td>\n",
              "      <td>0.00</td>\n",
              "      <td>1</td>\n",
              "      <td>1</td>\n",
              "      <td>1</td>\n",
              "      <td>101348.88</td>\n",
              "      <td>1</td>\n",
              "    </tr>\n",
              "    <tr>\n",
              "      <th>1</th>\n",
              "      <td>2</td>\n",
              "      <td>15647311</td>\n",
              "      <td>Hill</td>\n",
              "      <td>608</td>\n",
              "      <td>Spain</td>\n",
              "      <td>Female</td>\n",
              "      <td>41</td>\n",
              "      <td>1</td>\n",
              "      <td>83807.86</td>\n",
              "      <td>1</td>\n",
              "      <td>0</td>\n",
              "      <td>1</td>\n",
              "      <td>112542.58</td>\n",
              "      <td>0</td>\n",
              "    </tr>\n",
              "    <tr>\n",
              "      <th>2</th>\n",
              "      <td>3</td>\n",
              "      <td>15619304</td>\n",
              "      <td>Onio</td>\n",
              "      <td>502</td>\n",
              "      <td>France</td>\n",
              "      <td>Female</td>\n",
              "      <td>42</td>\n",
              "      <td>8</td>\n",
              "      <td>159660.80</td>\n",
              "      <td>3</td>\n",
              "      <td>1</td>\n",
              "      <td>0</td>\n",
              "      <td>113931.57</td>\n",
              "      <td>1</td>\n",
              "    </tr>\n",
              "    <tr>\n",
              "      <th>3</th>\n",
              "      <td>4</td>\n",
              "      <td>15701354</td>\n",
              "      <td>Boni</td>\n",
              "      <td>699</td>\n",
              "      <td>France</td>\n",
              "      <td>Female</td>\n",
              "      <td>39</td>\n",
              "      <td>1</td>\n",
              "      <td>0.00</td>\n",
              "      <td>2</td>\n",
              "      <td>0</td>\n",
              "      <td>0</td>\n",
              "      <td>93826.63</td>\n",
              "      <td>0</td>\n",
              "    </tr>\n",
              "    <tr>\n",
              "      <th>4</th>\n",
              "      <td>5</td>\n",
              "      <td>15737888</td>\n",
              "      <td>Mitchell</td>\n",
              "      <td>850</td>\n",
              "      <td>Spain</td>\n",
              "      <td>Female</td>\n",
              "      <td>43</td>\n",
              "      <td>2</td>\n",
              "      <td>125510.82</td>\n",
              "      <td>1</td>\n",
              "      <td>1</td>\n",
              "      <td>1</td>\n",
              "      <td>79084.10</td>\n",
              "      <td>0</td>\n",
              "    </tr>\n",
              "  </tbody>\n",
              "</table>\n",
              "</div>\n",
              "      <button class=\"colab-df-convert\" onclick=\"convertToInteractive('df-5dfe892d-53a2-421a-bb74-a9d347159944')\"\n",
              "              title=\"Convert this dataframe to an interactive table.\"\n",
              "              style=\"display:none;\">\n",
              "        \n",
              "  <svg xmlns=\"http://www.w3.org/2000/svg\" height=\"24px\"viewBox=\"0 0 24 24\"\n",
              "       width=\"24px\">\n",
              "    <path d=\"M0 0h24v24H0V0z\" fill=\"none\"/>\n",
              "    <path d=\"M18.56 5.44l.94 2.06.94-2.06 2.06-.94-2.06-.94-.94-2.06-.94 2.06-2.06.94zm-11 1L8.5 8.5l.94-2.06 2.06-.94-2.06-.94L8.5 2.5l-.94 2.06-2.06.94zm10 10l.94 2.06.94-2.06 2.06-.94-2.06-.94-.94-2.06-.94 2.06-2.06.94z\"/><path d=\"M17.41 7.96l-1.37-1.37c-.4-.4-.92-.59-1.43-.59-.52 0-1.04.2-1.43.59L10.3 9.45l-7.72 7.72c-.78.78-.78 2.05 0 2.83L4 21.41c.39.39.9.59 1.41.59.51 0 1.02-.2 1.41-.59l7.78-7.78 2.81-2.81c.8-.78.8-2.07 0-2.86zM5.41 20L4 18.59l7.72-7.72 1.47 1.35L5.41 20z\"/>\n",
              "  </svg>\n",
              "      </button>\n",
              "      \n",
              "  <style>\n",
              "    .colab-df-container {\n",
              "      display:flex;\n",
              "      flex-wrap:wrap;\n",
              "      gap: 12px;\n",
              "    }\n",
              "\n",
              "    .colab-df-convert {\n",
              "      background-color: #E8F0FE;\n",
              "      border: none;\n",
              "      border-radius: 50%;\n",
              "      cursor: pointer;\n",
              "      display: none;\n",
              "      fill: #1967D2;\n",
              "      height: 32px;\n",
              "      padding: 0 0 0 0;\n",
              "      width: 32px;\n",
              "    }\n",
              "\n",
              "    .colab-df-convert:hover {\n",
              "      background-color: #E2EBFA;\n",
              "      box-shadow: 0px 1px 2px rgba(60, 64, 67, 0.3), 0px 1px 3px 1px rgba(60, 64, 67, 0.15);\n",
              "      fill: #174EA6;\n",
              "    }\n",
              "\n",
              "    [theme=dark] .colab-df-convert {\n",
              "      background-color: #3B4455;\n",
              "      fill: #D2E3FC;\n",
              "    }\n",
              "\n",
              "    [theme=dark] .colab-df-convert:hover {\n",
              "      background-color: #434B5C;\n",
              "      box-shadow: 0px 1px 3px 1px rgba(0, 0, 0, 0.15);\n",
              "      filter: drop-shadow(0px 1px 2px rgba(0, 0, 0, 0.3));\n",
              "      fill: #FFFFFF;\n",
              "    }\n",
              "  </style>\n",
              "\n",
              "      <script>\n",
              "        const buttonEl =\n",
              "          document.querySelector('#df-5dfe892d-53a2-421a-bb74-a9d347159944 button.colab-df-convert');\n",
              "        buttonEl.style.display =\n",
              "          google.colab.kernel.accessAllowed ? 'block' : 'none';\n",
              "\n",
              "        async function convertToInteractive(key) {\n",
              "          const element = document.querySelector('#df-5dfe892d-53a2-421a-bb74-a9d347159944');\n",
              "          const dataTable =\n",
              "            await google.colab.kernel.invokeFunction('convertToInteractive',\n",
              "                                                     [key], {});\n",
              "          if (!dataTable) return;\n",
              "\n",
              "          const docLinkHtml = 'Like what you see? Visit the ' +\n",
              "            '<a target=\"_blank\" href=https://colab.research.google.com/notebooks/data_table.ipynb>data table notebook</a>'\n",
              "            + ' to learn more about interactive tables.';\n",
              "          element.innerHTML = '';\n",
              "          dataTable['output_type'] = 'display_data';\n",
              "          await google.colab.output.renderOutput(dataTable, element);\n",
              "          const docLink = document.createElement('div');\n",
              "          docLink.innerHTML = docLinkHtml;\n",
              "          element.appendChild(docLink);\n",
              "        }\n",
              "      </script>\n",
              "    </div>\n",
              "  </div>\n",
              "  "
            ]
          },
          "metadata": {},
          "execution_count": 2
        }
      ]
    },
    {
      "cell_type": "markdown",
      "source": [
        "**Checking the shape of the dataset:** Examine the dimensions of the dataset."
      ],
      "metadata": {
        "id": "2vjgQK25samf"
      }
    },
    {
      "cell_type": "code",
      "source": [
        "# see the shape of df\n",
        "df.shape"
      ],
      "metadata": {
        "colab": {
          "base_uri": "https://localhost:8080/"
        },
        "id": "5v5ob0cOrkK5",
        "outputId": "41b5613b-18c0-47e5-c766-3df84674f0d1"
      },
      "execution_count": 3,
      "outputs": [
        {
          "output_type": "execute_result",
          "data": {
            "text/plain": [
              "(10000, 14)"
            ]
          },
          "metadata": {},
          "execution_count": 3
        }
      ]
    },
    {
      "cell_type": "markdown",
      "source": [
        "**Getting the information of the dataset:** Inspect the data types of each column."
      ],
      "metadata": {
        "id": "tNIgmDTOshXZ"
      }
    },
    {
      "cell_type": "code",
      "source": [
        "# see the information of df\n",
        "df.info()"
      ],
      "metadata": {
        "colab": {
          "base_uri": "https://localhost:8080/"
        },
        "id": "JYkflSS7slbe",
        "outputId": "7d81c9d4-baee-4ebc-ba8a-7820742be2c8"
      },
      "execution_count": 4,
      "outputs": [
        {
          "output_type": "stream",
          "name": "stdout",
          "text": [
            "<class 'pandas.core.frame.DataFrame'>\n",
            "RangeIndex: 10000 entries, 0 to 9999\n",
            "Data columns (total 14 columns):\n",
            " #   Column           Non-Null Count  Dtype  \n",
            "---  ------           --------------  -----  \n",
            " 0   RowNumber        10000 non-null  int64  \n",
            " 1   CustomerId       10000 non-null  int64  \n",
            " 2   Surname          10000 non-null  object \n",
            " 3   CreditScore      10000 non-null  int64  \n",
            " 4   Geography        10000 non-null  object \n",
            " 5   Gender           10000 non-null  object \n",
            " 6   Age              10000 non-null  int64  \n",
            " 7   Tenure           10000 non-null  int64  \n",
            " 8   Balance          10000 non-null  float64\n",
            " 9   NumOfProducts    10000 non-null  int64  \n",
            " 10  HasCrCard        10000 non-null  int64  \n",
            " 11  IsActiveMember   10000 non-null  int64  \n",
            " 12  EstimatedSalary  10000 non-null  float64\n",
            " 13  Exited           10000 non-null  int64  \n",
            "dtypes: float64(2), int64(9), object(3)\n",
            "memory usage: 1.1+ MB\n"
          ]
        }
      ]
    },
    {
      "cell_type": "markdown",
      "source": [
        "**Descriptive statistics of the dataset:** Calculate basic statistics such as mean, standard deviation, and quartiles to understand the distribution of numerical variables."
      ],
      "metadata": {
        "id": "Z-8yB4YQsmE5"
      }
    },
    {
      "cell_type": "code",
      "source": [
        "# see the descriptive statistics of df\n",
        "df.describe().T"
      ],
      "metadata": {
        "colab": {
          "base_uri": "https://localhost:8080/",
          "height": 394
        },
        "id": "KIgqoUTAsqba",
        "outputId": "9340a944-ddb9-4a4e-8497-203329eeb600"
      },
      "execution_count": 5,
      "outputs": [
        {
          "output_type": "execute_result",
          "data": {
            "text/plain": [
              "                   count          mean           std          min  \\\n",
              "RowNumber        10000.0  5.000500e+03   2886.895680         1.00   \n",
              "CustomerId       10000.0  1.569094e+07  71936.186123  15565701.00   \n",
              "CreditScore      10000.0  6.505288e+02     96.653299       350.00   \n",
              "Age              10000.0  3.892180e+01     10.487806        18.00   \n",
              "Tenure           10000.0  5.012800e+00      2.892174         0.00   \n",
              "Balance          10000.0  7.648589e+04  62397.405202         0.00   \n",
              "NumOfProducts    10000.0  1.530200e+00      0.581654         1.00   \n",
              "HasCrCard        10000.0  7.055000e-01      0.455840         0.00   \n",
              "IsActiveMember   10000.0  5.151000e-01      0.499797         0.00   \n",
              "EstimatedSalary  10000.0  1.000902e+05  57510.492818        11.58   \n",
              "Exited           10000.0  2.037000e-01      0.402769         0.00   \n",
              "\n",
              "                         25%           50%           75%          max  \n",
              "RowNumber            2500.75  5.000500e+03  7.500250e+03     10000.00  \n",
              "CustomerId       15628528.25  1.569074e+07  1.575323e+07  15815690.00  \n",
              "CreditScore           584.00  6.520000e+02  7.180000e+02       850.00  \n",
              "Age                    32.00  3.700000e+01  4.400000e+01        92.00  \n",
              "Tenure                  3.00  5.000000e+00  7.000000e+00        10.00  \n",
              "Balance                 0.00  9.719854e+04  1.276442e+05    250898.09  \n",
              "NumOfProducts           1.00  1.000000e+00  2.000000e+00         4.00  \n",
              "HasCrCard               0.00  1.000000e+00  1.000000e+00         1.00  \n",
              "IsActiveMember          0.00  1.000000e+00  1.000000e+00         1.00  \n",
              "EstimatedSalary     51002.11  1.001939e+05  1.493882e+05    199992.48  \n",
              "Exited                  0.00  0.000000e+00  0.000000e+00         1.00  "
            ],
            "text/html": [
              "\n",
              "  <div id=\"df-a23a379e-35fa-463f-b1a1-a94de6a90d06\">\n",
              "    <div class=\"colab-df-container\">\n",
              "      <div>\n",
              "<style scoped>\n",
              "    .dataframe tbody tr th:only-of-type {\n",
              "        vertical-align: middle;\n",
              "    }\n",
              "\n",
              "    .dataframe tbody tr th {\n",
              "        vertical-align: top;\n",
              "    }\n",
              "\n",
              "    .dataframe thead th {\n",
              "        text-align: right;\n",
              "    }\n",
              "</style>\n",
              "<table border=\"1\" class=\"dataframe\">\n",
              "  <thead>\n",
              "    <tr style=\"text-align: right;\">\n",
              "      <th></th>\n",
              "      <th>count</th>\n",
              "      <th>mean</th>\n",
              "      <th>std</th>\n",
              "      <th>min</th>\n",
              "      <th>25%</th>\n",
              "      <th>50%</th>\n",
              "      <th>75%</th>\n",
              "      <th>max</th>\n",
              "    </tr>\n",
              "  </thead>\n",
              "  <tbody>\n",
              "    <tr>\n",
              "      <th>RowNumber</th>\n",
              "      <td>10000.0</td>\n",
              "      <td>5.000500e+03</td>\n",
              "      <td>2886.895680</td>\n",
              "      <td>1.00</td>\n",
              "      <td>2500.75</td>\n",
              "      <td>5.000500e+03</td>\n",
              "      <td>7.500250e+03</td>\n",
              "      <td>10000.00</td>\n",
              "    </tr>\n",
              "    <tr>\n",
              "      <th>CustomerId</th>\n",
              "      <td>10000.0</td>\n",
              "      <td>1.569094e+07</td>\n",
              "      <td>71936.186123</td>\n",
              "      <td>15565701.00</td>\n",
              "      <td>15628528.25</td>\n",
              "      <td>1.569074e+07</td>\n",
              "      <td>1.575323e+07</td>\n",
              "      <td>15815690.00</td>\n",
              "    </tr>\n",
              "    <tr>\n",
              "      <th>CreditScore</th>\n",
              "      <td>10000.0</td>\n",
              "      <td>6.505288e+02</td>\n",
              "      <td>96.653299</td>\n",
              "      <td>350.00</td>\n",
              "      <td>584.00</td>\n",
              "      <td>6.520000e+02</td>\n",
              "      <td>7.180000e+02</td>\n",
              "      <td>850.00</td>\n",
              "    </tr>\n",
              "    <tr>\n",
              "      <th>Age</th>\n",
              "      <td>10000.0</td>\n",
              "      <td>3.892180e+01</td>\n",
              "      <td>10.487806</td>\n",
              "      <td>18.00</td>\n",
              "      <td>32.00</td>\n",
              "      <td>3.700000e+01</td>\n",
              "      <td>4.400000e+01</td>\n",
              "      <td>92.00</td>\n",
              "    </tr>\n",
              "    <tr>\n",
              "      <th>Tenure</th>\n",
              "      <td>10000.0</td>\n",
              "      <td>5.012800e+00</td>\n",
              "      <td>2.892174</td>\n",
              "      <td>0.00</td>\n",
              "      <td>3.00</td>\n",
              "      <td>5.000000e+00</td>\n",
              "      <td>7.000000e+00</td>\n",
              "      <td>10.00</td>\n",
              "    </tr>\n",
              "    <tr>\n",
              "      <th>Balance</th>\n",
              "      <td>10000.0</td>\n",
              "      <td>7.648589e+04</td>\n",
              "      <td>62397.405202</td>\n",
              "      <td>0.00</td>\n",
              "      <td>0.00</td>\n",
              "      <td>9.719854e+04</td>\n",
              "      <td>1.276442e+05</td>\n",
              "      <td>250898.09</td>\n",
              "    </tr>\n",
              "    <tr>\n",
              "      <th>NumOfProducts</th>\n",
              "      <td>10000.0</td>\n",
              "      <td>1.530200e+00</td>\n",
              "      <td>0.581654</td>\n",
              "      <td>1.00</td>\n",
              "      <td>1.00</td>\n",
              "      <td>1.000000e+00</td>\n",
              "      <td>2.000000e+00</td>\n",
              "      <td>4.00</td>\n",
              "    </tr>\n",
              "    <tr>\n",
              "      <th>HasCrCard</th>\n",
              "      <td>10000.0</td>\n",
              "      <td>7.055000e-01</td>\n",
              "      <td>0.455840</td>\n",
              "      <td>0.00</td>\n",
              "      <td>0.00</td>\n",
              "      <td>1.000000e+00</td>\n",
              "      <td>1.000000e+00</td>\n",
              "      <td>1.00</td>\n",
              "    </tr>\n",
              "    <tr>\n",
              "      <th>IsActiveMember</th>\n",
              "      <td>10000.0</td>\n",
              "      <td>5.151000e-01</td>\n",
              "      <td>0.499797</td>\n",
              "      <td>0.00</td>\n",
              "      <td>0.00</td>\n",
              "      <td>1.000000e+00</td>\n",
              "      <td>1.000000e+00</td>\n",
              "      <td>1.00</td>\n",
              "    </tr>\n",
              "    <tr>\n",
              "      <th>EstimatedSalary</th>\n",
              "      <td>10000.0</td>\n",
              "      <td>1.000902e+05</td>\n",
              "      <td>57510.492818</td>\n",
              "      <td>11.58</td>\n",
              "      <td>51002.11</td>\n",
              "      <td>1.001939e+05</td>\n",
              "      <td>1.493882e+05</td>\n",
              "      <td>199992.48</td>\n",
              "    </tr>\n",
              "    <tr>\n",
              "      <th>Exited</th>\n",
              "      <td>10000.0</td>\n",
              "      <td>2.037000e-01</td>\n",
              "      <td>0.402769</td>\n",
              "      <td>0.00</td>\n",
              "      <td>0.00</td>\n",
              "      <td>0.000000e+00</td>\n",
              "      <td>0.000000e+00</td>\n",
              "      <td>1.00</td>\n",
              "    </tr>\n",
              "  </tbody>\n",
              "</table>\n",
              "</div>\n",
              "      <button class=\"colab-df-convert\" onclick=\"convertToInteractive('df-a23a379e-35fa-463f-b1a1-a94de6a90d06')\"\n",
              "              title=\"Convert this dataframe to an interactive table.\"\n",
              "              style=\"display:none;\">\n",
              "        \n",
              "  <svg xmlns=\"http://www.w3.org/2000/svg\" height=\"24px\"viewBox=\"0 0 24 24\"\n",
              "       width=\"24px\">\n",
              "    <path d=\"M0 0h24v24H0V0z\" fill=\"none\"/>\n",
              "    <path d=\"M18.56 5.44l.94 2.06.94-2.06 2.06-.94-2.06-.94-.94-2.06-.94 2.06-2.06.94zm-11 1L8.5 8.5l.94-2.06 2.06-.94-2.06-.94L8.5 2.5l-.94 2.06-2.06.94zm10 10l.94 2.06.94-2.06 2.06-.94-2.06-.94-.94-2.06-.94 2.06-2.06.94z\"/><path d=\"M17.41 7.96l-1.37-1.37c-.4-.4-.92-.59-1.43-.59-.52 0-1.04.2-1.43.59L10.3 9.45l-7.72 7.72c-.78.78-.78 2.05 0 2.83L4 21.41c.39.39.9.59 1.41.59.51 0 1.02-.2 1.41-.59l7.78-7.78 2.81-2.81c.8-.78.8-2.07 0-2.86zM5.41 20L4 18.59l7.72-7.72 1.47 1.35L5.41 20z\"/>\n",
              "  </svg>\n",
              "      </button>\n",
              "      \n",
              "  <style>\n",
              "    .colab-df-container {\n",
              "      display:flex;\n",
              "      flex-wrap:wrap;\n",
              "      gap: 12px;\n",
              "    }\n",
              "\n",
              "    .colab-df-convert {\n",
              "      background-color: #E8F0FE;\n",
              "      border: none;\n",
              "      border-radius: 50%;\n",
              "      cursor: pointer;\n",
              "      display: none;\n",
              "      fill: #1967D2;\n",
              "      height: 32px;\n",
              "      padding: 0 0 0 0;\n",
              "      width: 32px;\n",
              "    }\n",
              "\n",
              "    .colab-df-convert:hover {\n",
              "      background-color: #E2EBFA;\n",
              "      box-shadow: 0px 1px 2px rgba(60, 64, 67, 0.3), 0px 1px 3px 1px rgba(60, 64, 67, 0.15);\n",
              "      fill: #174EA6;\n",
              "    }\n",
              "\n",
              "    [theme=dark] .colab-df-convert {\n",
              "      background-color: #3B4455;\n",
              "      fill: #D2E3FC;\n",
              "    }\n",
              "\n",
              "    [theme=dark] .colab-df-convert:hover {\n",
              "      background-color: #434B5C;\n",
              "      box-shadow: 0px 1px 3px 1px rgba(0, 0, 0, 0.15);\n",
              "      filter: drop-shadow(0px 1px 2px rgba(0, 0, 0, 0.3));\n",
              "      fill: #FFFFFF;\n",
              "    }\n",
              "  </style>\n",
              "\n",
              "      <script>\n",
              "        const buttonEl =\n",
              "          document.querySelector('#df-a23a379e-35fa-463f-b1a1-a94de6a90d06 button.colab-df-convert');\n",
              "        buttonEl.style.display =\n",
              "          google.colab.kernel.accessAllowed ? 'block' : 'none';\n",
              "\n",
              "        async function convertToInteractive(key) {\n",
              "          const element = document.querySelector('#df-a23a379e-35fa-463f-b1a1-a94de6a90d06');\n",
              "          const dataTable =\n",
              "            await google.colab.kernel.invokeFunction('convertToInteractive',\n",
              "                                                     [key], {});\n",
              "          if (!dataTable) return;\n",
              "\n",
              "          const docLinkHtml = 'Like what you see? Visit the ' +\n",
              "            '<a target=\"_blank\" href=https://colab.research.google.com/notebooks/data_table.ipynb>data table notebook</a>'\n",
              "            + ' to learn more about interactive tables.';\n",
              "          element.innerHTML = '';\n",
              "          dataTable['output_type'] = 'display_data';\n",
              "          await google.colab.output.renderOutput(dataTable, element);\n",
              "          const docLink = document.createElement('div');\n",
              "          docLink.innerHTML = docLinkHtml;\n",
              "          element.appendChild(docLink);\n",
              "        }\n",
              "      </script>\n",
              "    </div>\n",
              "  </div>\n",
              "  "
            ]
          },
          "metadata": {},
          "execution_count": 5
        }
      ]
    },
    {
      "cell_type": "markdown",
      "source": [
        "**Checking for duplicate values:** Identify and remove any duplicate rows in the dataset."
      ],
      "metadata": {
        "id": "AYTeZ1XLurP8"
      }
    },
    {
      "cell_type": "code",
      "source": [
        "# see the duplicates values in dataset if exist then remove otherwise not.\n",
        "df.duplicated().sum()"
      ],
      "metadata": {
        "colab": {
          "base_uri": "https://localhost:8080/"
        },
        "id": "qlkbr0oWuthM",
        "outputId": "9c62ad66-3468-493f-92bd-71397aa1cd46"
      },
      "execution_count": 6,
      "outputs": [
        {
          "output_type": "execute_result",
          "data": {
            "text/plain": [
              "0"
            ]
          },
          "metadata": {},
          "execution_count": 6
        }
      ]
    },
    {
      "cell_type": "markdown",
      "source": [
        "**Checking for null values:** Check if there are any missing values in the dataset and handle them appropriately."
      ],
      "metadata": {
        "id": "ky187kB_EcKu"
      }
    },
    {
      "cell_type": "code",
      "source": [
        "# check the null values in the each columns of dataset if exist then remove otherwise not.\n",
        "df.isnull().sum()"
      ],
      "metadata": {
        "colab": {
          "base_uri": "https://localhost:8080/"
        },
        "id": "IYwk8Dk1EZrY",
        "outputId": "b49a974f-211c-4d42-a219-2a7dde87ac69"
      },
      "execution_count": 7,
      "outputs": [
        {
          "output_type": "execute_result",
          "data": {
            "text/plain": [
              "RowNumber          0\n",
              "CustomerId         0\n",
              "Surname            0\n",
              "CreditScore        0\n",
              "Geography          0\n",
              "Gender             0\n",
              "Age                0\n",
              "Tenure             0\n",
              "Balance            0\n",
              "NumOfProducts      0\n",
              "HasCrCard          0\n",
              "IsActiveMember     0\n",
              "EstimatedSalary    0\n",
              "Exited             0\n",
              "dtype: int64"
            ]
          },
          "metadata": {},
          "execution_count": 7
        }
      ]
    },
    {
      "cell_type": "markdown",
      "source": [
        "**Dropping irrelevant columns:** Drop any columns that are not relevant for our churn prediction analysis."
      ],
      "metadata": {
        "id": "vwkRm3M8Eir-"
      }
    },
    {
      "cell_type": "code",
      "source": [
        "# drop the irrelevant columns \n",
        "df.drop(columns=[\"RowNumber\", \"CustomerId\", \"Surname\"], inplace = True)"
      ],
      "metadata": {
        "id": "XVzw22DcEgNw"
      },
      "execution_count": 8,
      "outputs": []
    },
    {
      "cell_type": "markdown",
      "source": [
        "**Analyzing and Visualizing specific columns:** Explore and visualize columns such as “Geography,” “Gender,” “Number of Products,” “Has Credit Card,” “Is Active Member,” and the target column “Exited.”"
      ],
      "metadata": {
        "id": "Z5XzYtz9ExTn"
      }
    },
    {
      "cell_type": "markdown",
      "source": [
        "**Analysis & Visualization of Geography Feature**"
      ],
      "metadata": {
        "id": "twnWDdZKE2qN"
      }
    },
    {
      "cell_type": "code",
      "source": [
        "# check the value counts of \"Geography\" column.\n",
        "df_geography = df['Geography'].value_counts()\n",
        "df_geography"
      ],
      "metadata": {
        "colab": {
          "base_uri": "https://localhost:8080/"
        },
        "id": "Fs6sd3BXEnVx",
        "outputId": "8982f21a-55ab-46ac-de27-a98ec261ff84"
      },
      "execution_count": 9,
      "outputs": [
        {
          "output_type": "execute_result",
          "data": {
            "text/plain": [
              "France     5014\n",
              "Germany    2509\n",
              "Spain      2477\n",
              "Name: Geography, dtype: int64"
            ]
          },
          "metadata": {},
          "execution_count": 9
        }
      ]
    },
    {
      "cell_type": "code",
      "source": [
        "# let's perform univarient eda on \"Geography\" column. \n",
        "plt.figure(figsize=(12,6))\n",
        "res=sns.barplot(x=df_geography, y=df_geography.index)\n",
        "res.set_yticklabels(res.get_ymajorticklabels(), fontsize = 16, color='black')\n",
        "plt.xlabel('Value Counts of Customers Geographically',fontsize = 16, color='black')\n",
        "plt.ylabel('Geography Names',fontsize = 16, color='black')\n",
        "plt.title('Customers Geographically Data',fontsize = 16, color='black')\n",
        "plt.show()"
      ],
      "metadata": {
        "colab": {
          "base_uri": "https://localhost:8080/",
          "height": 572
        },
        "id": "gWw03o1GFBXM",
        "outputId": "6cd99e40-0b74-4fd9-c791-44ba69d9e224"
      },
      "execution_count": 10,
      "outputs": [
        {
          "output_type": "display_data",
          "data": {
            "text/plain": [
              "<Figure size 1200x600 with 1 Axes>"
            ],
            "image/png": "[encoded data removed]"
          },
          "metadata": {}
        }
      ]
    },
    {
      "cell_type": "markdown",
      "source": [
        "**Analysis & Visualization of Gender Feature**"
      ],
      "metadata": {
        "id": "CURB-ON8FEgV"
      }
    },
    {
      "cell_type": "code",
      "source": [
        "# check the value counts of \"Gender\" column.\n",
        "df_gender = df['Gender'].value_counts()\n",
        "df_gender"
      ],
      "metadata": {
        "colab": {
          "base_uri": "https://localhost:8080/"
        },
        "id": "6ZtYrAkSFMgl",
        "outputId": "7d8d3d96-9afd-4abd-a5bd-05a247776798"
      },
      "execution_count": 11,
      "outputs": [
        {
          "output_type": "execute_result",
          "data": {
            "text/plain": [
              "Male      5457\n",
              "Female    4543\n",
              "Name: Gender, dtype: int64"
            ]
          },
          "metadata": {},
          "execution_count": 11
        }
      ]
    },
    {
      "cell_type": "code",
      "source": [
        "# let's perform univarient eda on \"Gender\" column. \n",
        "plt.figure(figsize=(12,6))\n",
        "res=sns.barplot(x=df_gender, y=df_gender.index)\n",
        "res.set_yticklabels(res.get_ymajorticklabels(), fontsize = 16, color='black')\n",
        "plt.xlabel('Value Counts of Customers Gender',fontsize = 16, color='black')\n",
        "plt.ylabel('Gender Names',fontsize = 16, color='black')\n",
        "plt.title('Customers Genders Data',fontsize = 16, color='black')\n",
        "plt.show()"
      ],
      "metadata": {
        "colab": {
          "base_uri": "https://localhost:8080/",
          "height": 572
        },
        "id": "hs-0cvYMFPCt",
        "outputId": "2c4e6922-4a76-4ea8-b9c1-5b807e4cdedb"
      },
      "execution_count": 12,
      "outputs": [
        {
          "output_type": "display_data",
          "data": {
            "text/plain": [
              "<Figure size 1200x600 with 1 Axes>"
            ],
            "image/png": "[encoded data removed]"
          },
          "metadata": {}
        }
      ]
    },
    {
      "cell_type": "markdown",
      "source": [
        "**Analysis & Visualization of NumOfProducts Feature**"
      ],
      "metadata": {
        "id": "f0twhdMoFUrU"
      }
    },
    {
      "cell_type": "code",
      "source": [
        "# check the value counts of \"number of products\" column.\n",
        "df_nop = df['NumOfProducts'].value_counts()\n",
        "df_nop"
      ],
      "metadata": {
        "colab": {
          "base_uri": "https://localhost:8080/"
        },
        "id": "d6l6uozNFSaI",
        "outputId": "42cad922-1cf1-47dd-b938-8cbe39d21441"
      },
      "execution_count": 13,
      "outputs": [
        {
          "output_type": "execute_result",
          "data": {
            "text/plain": [
              "1    5084\n",
              "2    4590\n",
              "3     266\n",
              "4      60\n",
              "Name: NumOfProducts, dtype: int64"
            ]
          },
          "metadata": {},
          "execution_count": 13
        }
      ]
    },
    {
      "cell_type": "code",
      "source": [
        "# let's perform univarient eda on \"number of products\" column.\n",
        "plt.figure(figsize=(12,8))\n",
        "res=sns.barplot(y=df_nop, x=df_nop.index)\n",
        "res.set_yticklabels(res.get_ymajorticklabels(), fontsize = 16, color='black')\n",
        "plt.ylabel('Value Counts of Customers Usage of Bank Products',fontsize = 16, color='black')\n",
        "plt.xlabel('Product Value',fontsize = 16, color='black')\n",
        "plt.title('How many products of bank customer use',fontsize = 16, color='black')\n",
        "plt.show()"
      ],
      "metadata": {
        "colab": {
          "base_uri": "https://localhost:8080/",
          "height": 761
        },
        "id": "oADUwRiUFYUt",
        "outputId": "5b9b910c-9737-40db-edca-569849893de7"
      },
      "execution_count": 14,
      "outputs": [
        {
          "output_type": "stream",
          "name": "stderr",
          "text": [
            "<ipython-input-14-01a328d1d97d>:4: UserWarning: FixedFormatter should only be used together with FixedLocator\n",
            "  res.set_yticklabels(res.get_ymajorticklabels(), fontsize = 16, color='black')\n"
          ]
        },
        {
          "output_type": "display_data",
          "data": {
            "text/plain": [
              "<Figure size 1200x800 with 1 Axes>"
            ],
            "image/png": "[encoded data removed]"
          },
          "metadata": {}
        }
      ]
    },
    {
      "cell_type": "markdown",
      "source": [
        "**Analysis & Visualization of HasCrCard Feature**"
      ],
      "metadata": {
        "id": "7mvFprP5Fd3v"
      }
    },
    {
      "cell_type": "code",
      "source": [
        "# check the value counts of \"HasCrCard\" column.\n",
        "df_crc = df['HasCrCard'].value_counts()\n",
        "df_crc"
      ],
      "metadata": {
        "colab": {
          "base_uri": "https://localhost:8080/"
        },
        "id": "0jgDRJprFbKM",
        "outputId": "7573f943-03e5-4b54-f5a8-4c9ea9923922"
      },
      "execution_count": 15,
      "outputs": [
        {
          "output_type": "execute_result",
          "data": {
            "text/plain": [
              "1    7055\n",
              "0    2945\n",
              "Name: HasCrCard, dtype: int64"
            ]
          },
          "metadata": {},
          "execution_count": 15
        }
      ]
    },
    {
      "cell_type": "code",
      "source": [
        "# let's perform univarient eda on \"HasCrCard\" column.\n",
        "plt.figure(figsize=(12,8))\n",
        "res=sns.barplot(y=df_crc, x=df_crc.index)\n",
        "res.set_yticklabels(res.get_ymajorticklabels(), fontsize = 16, color='black')\n",
        "plt.ylabel('Value Counts of Customers Has a Credit Card or Not',fontsize = 16, color='black')\n",
        "plt.xlabel('Customer have credit card or not',fontsize = 16, color='black')\n",
        "plt.title('How many customers have credit cards',fontsize = 16, color='black')\n",
        "plt.show()"
      ],
      "metadata": {
        "colab": {
          "base_uri": "https://localhost:8080/",
          "height": 761
        },
        "id": "YAKKNMPFFi9P",
        "outputId": "5a4ccde9-efcc-4be7-d701-66627c0d0452"
      },
      "execution_count": 16,
      "outputs": [
        {
          "output_type": "stream",
          "name": "stderr",
          "text": [
            "<ipython-input-16-ec385fccbd4c>:4: UserWarning: FixedFormatter should only be used together with FixedLocator\n",
            "  res.set_yticklabels(res.get_ymajorticklabels(), fontsize = 16, color='black')\n"
          ]
        },
        {
          "output_type": "display_data",
          "data": {
            "text/plain": [
              "<Figure size 1200x800 with 1 Axes>"
            ],
            "image/png": "[encoded data removed]"
          },
          "metadata": {}
        }
      ]
    },
    {
      "cell_type": "markdown",
      "source": [
        "**Analysis & Visualization of IsActiveMember Feature**"
      ],
      "metadata": {
        "id": "6Hl4bzI9Fng4"
      }
    },
    {
      "cell_type": "code",
      "source": [
        "# check the value counts of \"IsActiveMember\" column.\n",
        "df_iam = df['IsActiveMember'].value_counts()\n",
        "df_iam"
      ],
      "metadata": {
        "colab": {
          "base_uri": "https://localhost:8080/"
        },
        "id": "E1yxUNrqFlRP",
        "outputId": "d32ca0c3-c42a-4330-84e8-5a71320329dd"
      },
      "execution_count": 17,
      "outputs": [
        {
          "output_type": "execute_result",
          "data": {
            "text/plain": [
              "1    5151\n",
              "0    4849\n",
              "Name: IsActiveMember, dtype: int64"
            ]
          },
          "metadata": {},
          "execution_count": 17
        }
      ]
    },
    {
      "cell_type": "code",
      "source": [
        "# let's perform univarient eda on \"IsActiveMember\" column.\n",
        "plt.figure(figsize=(12,8))\n",
        "res=sns.barplot(y=df_iam, x=df_iam.index)\n",
        "res.set_yticklabels(res.get_ymajorticklabels(), fontsize = 16, color='black')\n",
        "plt.ylabel('Value Counts of Customer IsActiveMember or Not',fontsize = 16, color='black')\n",
        "plt.xlabel('Customer IsActiveMember or Not',fontsize = 16, color='black')\n",
        "plt.title('How many customers is Active or Not Active',fontsize = 18, color='black')\n",
        "plt.show()"
      ],
      "metadata": {
        "colab": {
          "base_uri": "https://localhost:8080/",
          "height": 764
        },
        "id": "xFGN1gJMFqZc",
        "outputId": "c7bd85ca-5cc4-48b1-983d-5e8329421394"
      },
      "execution_count": 18,
      "outputs": [
        {
          "output_type": "stream",
          "name": "stderr",
          "text": [
            "<ipython-input-18-5c8e89f6ecd4>:4: UserWarning: FixedFormatter should only be used together with FixedLocator\n",
            "  res.set_yticklabels(res.get_ymajorticklabels(), fontsize = 16, color='black')\n"
          ]
        },
        {
          "output_type": "display_data",
          "data": {
            "text/plain": [
              "<Figure size 1200x800 with 1 Axes>"
            ],
            "image/png": "[encoded data removed]"
          },
          "metadata": {}
        }
      ]
    },
    {
      "cell_type": "markdown",
      "source": [
        "**Analysis & Visualization of “Exited” target column**"
      ],
      "metadata": {
        "id": "gdhXE_gVFurZ"
      }
    },
    {
      "cell_type": "code",
      "source": [
        "# check the value counts of \"Exited\" target column.\n",
        "df_exit = df['Exited'].value_counts()\n",
        "df_exit"
      ],
      "metadata": {
        "colab": {
          "base_uri": "https://localhost:8080/"
        },
        "id": "uKbJLsUuFsYx",
        "outputId": "25855a28-2608-4b73-f3f5-1cf27f7f6c5b"
      },
      "execution_count": 19,
      "outputs": [
        {
          "output_type": "execute_result",
          "data": {
            "text/plain": [
              "0    7963\n",
              "1    2037\n",
              "Name: Exited, dtype: int64"
            ]
          },
          "metadata": {},
          "execution_count": 19
        }
      ]
    },
    {
      "cell_type": "code",
      "source": [
        "# # let's perform univarient eda on \"Exited\" target column.\n",
        "plt.figure(figsize=(12,8))\n",
        "res=sns.barplot(y=df_exit, x=df_exit.index)\n",
        "res.set_yticklabels(res.get_ymajorticklabels(), fontsize = 16, color='black')\n",
        "plt.ylabel('Value Counts of Customer Churn or Not',fontsize = 16, color='black')\n",
        "plt.xlabel('Customer Curn or Not',fontsize = 16, color='black')\n",
        "plt.title('How many customers is Churn or Not Churn',fontsize = 18, color='black')\n",
        "plt.show()"
      ],
      "metadata": {
        "colab": {
          "base_uri": "https://localhost:8080/",
          "height": 764
        },
        "id": "YH2Vsm7dFyNN",
        "outputId": "451bdf2f-8a81-46b7-ee03-5a2ed01d5385"
      },
      "execution_count": 20,
      "outputs": [
        {
          "output_type": "stream",
          "name": "stderr",
          "text": [
            "<ipython-input-20-277a1453c4b3>:4: UserWarning: FixedFormatter should only be used together with FixedLocator\n",
            "  res.set_yticklabels(res.get_ymajorticklabels(), fontsize = 16, color='black')\n"
          ]
        },
        {
          "output_type": "display_data",
          "data": {
            "text/plain": [
              "<Figure size 1200x800 with 1 Axes>"
            ],
            "image/png": "[encoded data removed]"
          },
          "metadata": {}
        }
      ]
    },
    {
      "cell_type": "markdown",
      "source": [
        "## Step 3: Apply One Hot Encoding Technique on Gender & Geography Column\n",
        "\n",
        "Since our dataset contains categorical variables like “Gender” and “Geography,” we need to convert them into numerical format for the ANN model to process. We apply the one-hot encoding technique to transform these categorical columns into binary columns, representing different categories."
      ],
      "metadata": {
        "id": "0cn_kOKIF5PG"
      }
    },
    {
      "cell_type": "code",
      "source": [
        "# use pandas dummies funtion for one hot encodeing \n",
        "df = pd.get_dummies(df, columns=[\"Gender\", \"Geography\"], drop_first=True)"
      ],
      "metadata": {
        "id": "p4rSPkwdF0sR"
      },
      "execution_count": 21,
      "outputs": []
    },
    {
      "cell_type": "markdown",
      "source": [
        "## Step 4: Handle the Imbalanced Target Column and Balance It\n",
        "\n",
        "Customer churn datasets often suffer from class imbalance, where the number of churners is significantly smaller than non-churners. To address this issue, we will balance the target column by upsampling the minority class. This ensures that the model does not get biased towards the majority class during training."
      ],
      "metadata": {
        "id": "LZcPAD3dGCBY"
      }
    },
    {
      "cell_type": "code",
      "source": [
        "# Separate majority and minority classes\n",
        "majority_class = df[df['Exited'] == 0]\n",
        "minority_class = df[df['Exited'] == 1]\n",
        "\n",
        "# Upsample the minority class\n",
        "upsampled_minority = resample(minority_class,\n",
        "                              replace=True,  # Sample with replacement\n",
        "                              n_samples=len(majority_class),  # Match the number of majority class samples\n",
        "                              random_state=42)  # Set random state for reproducibility\n",
        "\n",
        "# Combine the upsampled minority class with the majority class\n",
        "balanced_data = pd.concat([majority_class, upsampled_minority])"
      ],
      "metadata": {
        "id": "4gebDJkoF_Zg"
      },
      "execution_count": 22,
      "outputs": []
    },
    {
      "cell_type": "code",
      "source": [
        "# check the target_balanced_data\n",
        "balanced_data"
      ],
      "metadata": {
        "colab": {
          "base_uri": "https://localhost:8080/",
          "height": 424
        },
        "id": "oy0rincjGLHO",
        "outputId": "4ea694f9-f92d-4153-ca2e-420c2ab86471"
      },
      "execution_count": 23,
      "outputs": [
        {
          "output_type": "execute_result",
          "data": {
            "text/plain": [
              "      CreditScore  Age  Tenure    Balance  NumOfProducts  HasCrCard  \\\n",
              "1             608   41       1   83807.86              1          0   \n",
              "3             699   39       1       0.00              2          0   \n",
              "4             850   43       2  125510.82              1          1   \n",
              "6             822   50       7       0.00              2          1   \n",
              "8             501   44       4  142051.07              2          0   \n",
              "...           ...  ...     ...        ...            ...        ...   \n",
              "5701          625   49       4  128504.76              1          1   \n",
              "9337          466   47       5  102085.72              1          1   \n",
              "4345          720   46       3   97042.60              1          1   \n",
              "1085          803   42       5       0.00              1          1   \n",
              "3694          608   33       4       0.00              1          1   \n",
              "\n",
              "      IsActiveMember  EstimatedSalary  Exited  Gender_Male  Geography_Germany  \\\n",
              "1                  1        112542.58       0            0                  0   \n",
              "3                  0         93826.63       0            0                  0   \n",
              "4                  1         79084.10       0            0                  0   \n",
              "6                  1         10062.80       0            1                  0   \n",
              "8                  1         74940.50       0            1                  0   \n",
              "...              ...              ...     ...          ...                ...   \n",
              "5701               0        126812.63       1            0                  1   \n",
              "9337               1        183536.24       1            0                  1   \n",
              "4345               1        133516.51       1            1                  1   \n",
              "1085               0        196466.83       1            1                  0   \n",
              "3694               0         79304.38       1            0                  0   \n",
              "\n",
              "      Geography_Spain  \n",
              "1                   1  \n",
              "3                   0  \n",
              "4                   1  \n",
              "6                   0  \n",
              "8                   0  \n",
              "...               ...  \n",
              "5701                0  \n",
              "9337                0  \n",
              "4345                0  \n",
              "1085                0  \n",
              "3694                0  \n",
              "\n",
              "[15926 rows x 12 columns]"
            ],
            "text/html": [
              "\n",
              "  <div id=\"df-0e4f789b-dfd5-4375-b8e0-da945bd8db58\">\n",
              "    <div class=\"colab-df-container\">\n",
              "      <div>\n",
              "<style scoped>\n",
              "    .dataframe tbody tr th:only-of-type {\n",
              "        vertical-align: middle;\n",
              "    }\n",
              "\n",
              "    .dataframe tbody tr th {\n",
              "        vertical-align: top;\n",
              "    }\n",
              "\n",
              "    .dataframe thead th {\n",
              "        text-align: right;\n",
              "    }\n",
              "</style>\n",
              "<table border=\"1\" class=\"dataframe\">\n",
              "  <thead>\n",
              "    <tr style=\"text-align: right;\">\n",
              "      <th></th>\n",
              "      <th>CreditScore</th>\n",
              "      <th>Age</th>\n",
              "      <th>Tenure</th>\n",
              "      <th>Balance</th>\n",
              "      <th>NumOfProducts</th>\n",
              "      <th>HasCrCard</th>\n",
              "      <th>IsActiveMember</th>\n",
              "      <th>EstimatedSalary</th>\n",
              "      <th>Exited</th>\n",
              "      <th>Gender_Male</th>\n",
              "      <th>Geography_Germany</th>\n",
              "      <th>Geography_Spain</th>\n",
              "    </tr>\n",
              "  </thead>\n",
              "  <tbody>\n",
              "    <tr>\n",
              "      <th>1</th>\n",
              "      <td>608</td>\n",
              "      <td>41</td>\n",
              "      <td>1</td>\n",
              "      <td>83807.86</td>\n",
              "      <td>1</td>\n",
              "      <td>0</td>\n",
              "      <td>1</td>\n",
              "      <td>112542.58</td>\n",
              "      <td>0</td>\n",
              "      <td>0</td>\n",
              "      <td>0</td>\n",
              "      <td>1</td>\n",
              "    </tr>\n",
              "    <tr>\n",
              "      <th>3</th>\n",
              "      <td>699</td>\n",
              "      <td>39</td>\n",
              "      <td>1</td>\n",
              "      <td>0.00</td>\n",
              "      <td>2</td>\n",
              "      <td>0</td>\n",
              "      <td>0</td>\n",
              "      <td>93826.63</td>\n",
              "      <td>0</td>\n",
              "      <td>0</td>\n",
              "      <td>0</td>\n",
              "      <td>0</td>\n",
              "    </tr>\n",
              "    <tr>\n",
              "      <th>4</th>\n",
              "      <td>850</td>\n",
              "      <td>43</td>\n",
              "      <td>2</td>\n",
              "      <td>125510.82</td>\n",
              "      <td>1</td>\n",
              "      <td>1</td>\n",
              "      <td>1</td>\n",
              "      <td>79084.10</td>\n",
              "      <td>0</td>\n",
              "      <td>0</td>\n",
              "      <td>0</td>\n",
              "      <td>1</td>\n",
              "    </tr>\n",
              "    <tr>\n",
              "      <th>6</th>\n",
              "      <td>822</td>\n",
              "      <td>50</td>\n",
              "      <td>7</td>\n",
              "      <td>0.00</td>\n",
              "      <td>2</td>\n",
              "      <td>1</td>\n",
              "      <td>1</td>\n",
              "      <td>10062.80</td>\n",
              "      <td>0</td>\n",
              "      <td>1</td>\n",
              "      <td>0</td>\n",
              "      <td>0</td>\n",
              "    </tr>\n",
              "    <tr>\n",
              "      <th>8</th>\n",
              "      <td>501</td>\n",
              "      <td>44</td>\n",
              "      <td>4</td>\n",
              "      <td>142051.07</td>\n",
              "      <td>2</td>\n",
              "      <td>0</td>\n",
              "      <td>1</td>\n",
              "      <td>74940.50</td>\n",
              "      <td>0</td>\n",
              "      <td>1</td>\n",
              "      <td>0</td>\n",
              "      <td>0</td>\n",
              "    </tr>\n",
              "    <tr>\n",
              "      <th>...</th>\n",
              "      <td>...</td>\n",
              "      <td>...</td>\n",
              "      <td>...</td>\n",
              "      <td>...</td>\n",
              "      <td>...</td>\n",
              "      <td>...</td>\n",
              "      <td>...</td>\n",
              "      <td>...</td>\n",
              "      <td>...</td>\n",
              "      <td>...</td>\n",
              "      <td>...</td>\n",
              "      <td>...</td>\n",
              "    </tr>\n",
              "    <tr>\n",
              "      <th>5701</th>\n",
              "      <td>625</td>\n",
              "      <td>49</td>\n",
              "      <td>4</td>\n",
              "      <td>128504.76</td>\n",
              "      <td>1</td>\n",
              "      <td>1</td>\n",
              "      <td>0</td>\n",
              "      <td>126812.63</td>\n",
              "      <td>1</td>\n",
              "      <td>0</td>\n",
              "      <td>1</td>\n",
              "      <td>0</td>\n",
              "    </tr>\n",
              "    <tr>\n",
              "      <th>9337</th>\n",
              "      <td>466</td>\n",
              "      <td>47</td>\n",
              "      <td>5</td>\n",
              "      <td>102085.72</td>\n",
              "      <td>1</td>\n",
              "      <td>1</td>\n",
              "      <td>1</td>\n",
              "      <td>183536.24</td>\n",
              "      <td>1</td>\n",
              "      <td>0</td>\n",
              "      <td>1</td>\n",
              "      <td>0</td>\n",
              "    </tr>\n",
              "    <tr>\n",
              "      <th>4345</th>\n",
              "      <td>720</td>\n",
              "      <td>46</td>\n",
              "      <td>3</td>\n",
              "      <td>97042.60</td>\n",
              "      <td>1</td>\n",
              "      <td>1</td>\n",
              "      <td>1</td>\n",
              "      <td>133516.51</td>\n",
              "      <td>1</td>\n",
              "      <td>1</td>\n",
              "      <td>1</td>\n",
              "      <td>0</td>\n",
              "    </tr>\n",
              "    <tr>\n",
              "      <th>1085</th>\n",
              "      <td>803</td>\n",
              "      <td>42</td>\n",
              "      <td>5</td>\n",
              "      <td>0.00</td>\n",
              "      <td>1</td>\n",
              "      <td>1</td>\n",
              "      <td>0</td>\n",
              "      <td>196466.83</td>\n",
              "      <td>1</td>\n",
              "      <td>1</td>\n",
              "      <td>0</td>\n",
              "      <td>0</td>\n",
              "    </tr>\n",
              "    <tr>\n",
              "      <th>3694</th>\n",
              "      <td>608</td>\n",
              "      <td>33</td>\n",
              "      <td>4</td>\n",
              "      <td>0.00</td>\n",
              "      <td>1</td>\n",
              "      <td>1</td>\n",
              "      <td>0</td>\n",
              "      <td>79304.38</td>\n",
              "      <td>1</td>\n",
              "      <td>0</td>\n",
              "      <td>0</td>\n",
              "      <td>0</td>\n",
              "    </tr>\n",
              "  </tbody>\n",
              "</table>\n",
              "<p>15926 rows × 12 columns</p>\n",
              "</div>\n",
              "      <button class=\"colab-df-convert\" onclick=\"convertToInteractive('df-0e4f789b-dfd5-4375-b8e0-da945bd8db58')\"\n",
              "              title=\"Convert this dataframe to an interactive table.\"\n",
              "              style=\"display:none;\">\n",
              "        \n",
              "  <svg xmlns=\"http://www.w3.org/2000/svg\" height=\"24px\"viewBox=\"0 0 24 24\"\n",
              "       width=\"24px\">\n",
              "    <path d=\"M0 0h24v24H0V0z\" fill=\"none\"/>\n",
              "    <path d=\"M18.56 5.44l.94 2.06.94-2.06 2.06-.94-2.06-.94-.94-2.06-.94 2.06-2.06.94zm-11 1L8.5 8.5l.94-2.06 2.06-.94-2.06-.94L8.5 2.5l-.94 2.06-2.06.94zm10 10l.94 2.06.94-2.06 2.06-.94-2.06-.94-.94-2.06-.94 2.06-2.06.94z\"/><path d=\"M17.41 7.96l-1.37-1.37c-.4-.4-.92-.59-1.43-.59-.52 0-1.04.2-1.43.59L10.3 9.45l-7.72 7.72c-.78.78-.78 2.05 0 2.83L4 21.41c.39.39.9.59 1.41.59.51 0 1.02-.2 1.41-.59l7.78-7.78 2.81-2.81c.8-.78.8-2.07 0-2.86zM5.41 20L4 18.59l7.72-7.72 1.47 1.35L5.41 20z\"/>\n",
              "  </svg>\n",
              "      </button>\n",
              "      \n",
              "  <style>\n",
              "    .colab-df-container {\n",
              "      display:flex;\n",
              "      flex-wrap:wrap;\n",
              "      gap: 12px;\n",
              "    }\n",
              "\n",
              "    .colab-df-convert {\n",
              "      background-color: #E8F0FE;\n",
              "      border: none;\n",
              "      border-radius: 50%;\n",
              "      cursor: pointer;\n",
              "      display: none;\n",
              "      fill: #1967D2;\n",
              "      height: 32px;\n",
              "      padding: 0 0 0 0;\n",
              "      width: 32px;\n",
              "    }\n",
              "\n",
              "    .colab-df-convert:hover {\n",
              "      background-color: #E2EBFA;\n",
              "      box-shadow: 0px 1px 2px rgba(60, 64, 67, 0.3), 0px 1px 3px 1px rgba(60, 64, 67, 0.15);\n",
              "      fill: #174EA6;\n",
              "    }\n",
              "\n",
              "    [theme=dark] .colab-df-convert {\n",
              "      background-color: #3B4455;\n",
              "      fill: #D2E3FC;\n",
              "    }\n",
              "\n",
              "    [theme=dark] .colab-df-convert:hover {\n",
              "      background-color: #434B5C;\n",
              "      box-shadow: 0px 1px 3px 1px rgba(0, 0, 0, 0.15);\n",
              "      filter: drop-shadow(0px 1px 2px rgba(0, 0, 0, 0.3));\n",
              "      fill: #FFFFFF;\n",
              "    }\n",
              "  </style>\n",
              "\n",
              "      <script>\n",
              "        const buttonEl =\n",
              "          document.querySelector('#df-0e4f789b-dfd5-4375-b8e0-da945bd8db58 button.colab-df-convert');\n",
              "        buttonEl.style.display =\n",
              "          google.colab.kernel.accessAllowed ? 'block' : 'none';\n",
              "\n",
              "        async function convertToInteractive(key) {\n",
              "          const element = document.querySelector('#df-0e4f789b-dfd5-4375-b8e0-da945bd8db58');\n",
              "          const dataTable =\n",
              "            await google.colab.kernel.invokeFunction('convertToInteractive',\n",
              "                                                     [key], {});\n",
              "          if (!dataTable) return;\n",
              "\n",
              "          const docLinkHtml = 'Like what you see? Visit the ' +\n",
              "            '<a target=\"_blank\" href=https://colab.research.google.com/notebooks/data_table.ipynb>data table notebook</a>'\n",
              "            + ' to learn more about interactive tables.';\n",
              "          element.innerHTML = '';\n",
              "          dataTable['output_type'] = 'display_data';\n",
              "          await google.colab.output.renderOutput(dataTable, element);\n",
              "          const docLink = document.createElement('div');\n",
              "          docLink.innerHTML = docLinkHtml;\n",
              "          element.appendChild(docLink);\n",
              "        }\n",
              "      </script>\n",
              "    </div>\n",
              "  </div>\n",
              "  "
            ]
          },
          "metadata": {},
          "execution_count": 23
        }
      ]
    },
    {
      "cell_type": "code",
      "source": [
        "# check again the value counts of \"Exited\" target column after the balancing the data.\n",
        "df_exit = balanced_data['Exited'].value_counts()\n",
        "df_exit"
      ],
      "metadata": {
        "colab": {
          "base_uri": "https://localhost:8080/"
        },
        "id": "KUD8ouiAGMEF",
        "outputId": "ace62958-7c6c-4ebd-af9f-e4a8a04eb2e3"
      },
      "execution_count": 24,
      "outputs": [
        {
          "output_type": "execute_result",
          "data": {
            "text/plain": [
              "0    7963\n",
              "1    7963\n",
              "Name: Exited, dtype: int64"
            ]
          },
          "metadata": {},
          "execution_count": 24
        }
      ]
    },
    {
      "cell_type": "markdown",
      "source": [
        "## Step 5: Splitting the Dataset into Training and Testing Sets\n",
        "\n",
        "Before training our ANN model, we need to preprocess the data by separating the features and the target variable. we split the dataset into training and testing sets. The training set is used to train the model on historical data, while the testing set is used to evaluate the model’s performance on unseen data. Typically, around 70–80% of the data is used for training, and the remaining 20–30% is used for testing."
      ],
      "metadata": {
        "id": "_Fxt3XvYGRkK"
      }
    },
    {
      "cell_type": "code",
      "source": [
        "# # split the feature in x variable and target varible in y variable\n",
        "y = balanced_data['Exited']\n",
        "X = balanced_data.drop('Exited',axis=1)"
      ],
      "metadata": {
        "id": "EHHpUUfcGPIS"
      },
      "execution_count": 25,
      "outputs": []
    },
    {
      "cell_type": "code",
      "source": [
        "# use sklearn for train_test_split\n",
        "X_train, X_test, y_train, y_test = train_test_split(X, y, test_size = 0.2, random_state = 42)"
      ],
      "metadata": {
        "id": "ebvgAxdNGVQi"
      },
      "execution_count": 26,
      "outputs": []
    },
    {
      "cell_type": "code",
      "source": [
        "# check the shape of X_train & X_test, y_train & y_test\n",
        "print(\"X_train Shape : \", X_train.shape)\n",
        "print(\"X_test Shape : \", X_test.shape)\n",
        "print(\"y_train Shape : \", y_train.shape)\n",
        "print(\"y_test Shape : \", y_test.shape)"
      ],
      "metadata": {
        "colab": {
          "base_uri": "https://localhost:8080/"
        },
        "id": "yW5aixj1GXr9",
        "outputId": "f911ea67-b772-459f-9962-419de1052382"
      },
      "execution_count": 27,
      "outputs": [
        {
          "output_type": "stream",
          "name": "stdout",
          "text": [
            "X_train Shape :  (12740, 11)\n",
            "X_test Shape :  (3186, 11)\n",
            "y_train Shape :  (12740,)\n",
            "y_test Shape :  (3186,)\n"
          ]
        }
      ]
    },
    {
      "cell_type": "markdown",
      "source": [
        "## Step 6: Feature Scaling - Sklearn Standard Scaler Technique\n",
        "\n",
        "Feature scaling is an essential preprocessing step for ANN models. It standardizes the range of input features, ensuring that they have similar scales. This step prevents certain features from dominating others during the training process. We apply feature scaling using techniques such as Sklearn Standard Scaler Technique for Standardized the Input Features Values."
      ],
      "metadata": {
        "id": "sZM9vkJQGcJs"
      }
    },
    {
      "cell_type": "code",
      "source": [
        "# use sklearn standard scaler technique for standarized the input features values\n",
        "scaler = StandardScaler()\n",
        "\n",
        "X_train_scaled = scaler.fit_transform(X_train)\n",
        "X_test_scaled = scaler.transform(X_test)"
      ],
      "metadata": {
        "id": "R-SqYvQtGZyA"
      },
      "execution_count": 28,
      "outputs": []
    },
    {
      "cell_type": "code",
      "source": [
        "# check the X_train_scaled values\n",
        "X_train_scaled"
      ],
      "metadata": {
        "colab": {
          "base_uri": "https://localhost:8080/"
        },
        "id": "hrTOwNpwGjEM",
        "outputId": "0516b79d-05bc-41cb-b4e1-19b30acb4117"
      },
      "execution_count": 29,
      "outputs": [
        {
          "output_type": "execute_result",
          "data": {
            "text/plain": [
              "array([[ 1.74458075e+00,  2.64948525e-01,  1.02260197e+00, ...,\n",
              "         9.74118179e-01, -6.65070356e-01, -5.47359263e-01],\n",
              "       [ 1.24130320e+00,  7.61019204e-02,  8.82175645e-04, ...,\n",
              "         9.74118179e-01, -6.65070356e-01, -5.47359263e-01],\n",
              "       [ 8.06835512e-02, -1.83213817e-02,  1.02260197e+00, ...,\n",
              "         9.74118179e-01,  1.50360032e+00, -5.47359263e-01],\n",
              "       ...,\n",
              "       [ 3.16915869e-01, -8.68131101e-01,  8.82175645e-04, ...,\n",
              "        -1.02656949e+00, -6.65070356e-01, -5.47359263e-01],\n",
              "       [ 4.60709454e-01, -4.90437892e-01, -3.39691089e-01, ...,\n",
              "        -1.02656949e+00, -6.65070356e-01, -5.47359263e-01],\n",
              "       [-2.68529441e-01, -1.12744684e-01,  1.70374850e+00, ...,\n",
              "         9.74118179e-01, -6.65070356e-01, -5.47359263e-01]])"
            ]
          },
          "metadata": {},
          "execution_count": 29
        }
      ]
    },
    {
      "cell_type": "code",
      "source": [
        "# check the X_est_scaled values\n",
        "X_test_scaled"
      ],
      "metadata": {
        "colab": {
          "base_uri": "https://localhost:8080/"
        },
        "id": "7MamQP9_Gla-",
        "outputId": "b8c1b6c1-1fcc-4f9c-f6f3-5382dde60518"
      },
      "execution_count": 30,
      "outputs": [
        {
          "output_type": "execute_result",
          "data": {
            "text/plain": [
              "array([[ 0.46070945,  0.45379513, -1.02083762, ...,  0.97411818,\n",
              "        -0.66507036,  1.82695364],\n",
              "       [-1.34698133, -0.39601459,  1.02260197, ..., -1.02656949,\n",
              "        -0.66507036, -0.54735926],\n",
              "       [-1.19291677, -0.39601459, -1.36141088, ...,  0.97411818,\n",
              "        -0.66507036,  1.82695364],\n",
              "       ...,\n",
              "       [-0.11446489, -1.0569777 ,  1.02260197, ...,  0.97411818,\n",
              "         1.50360032, -0.54735926],\n",
              "       [-1.0799361 , -0.7737078 ,  1.02260197, ...,  0.97411818,\n",
              "         1.50360032, -0.54735926],\n",
              "       [-2.4665171 , -0.39601459, -1.36141088, ...,  0.97411818,\n",
              "        -0.66507036,  1.82695364]])"
            ]
          },
          "metadata": {},
          "execution_count": 30
        }
      ]
    },
    {
      "cell_type": "markdown",
      "source": [
        "## Step 7: Build the Artificial Neural Network (ANN) Model\n",
        "\n",
        "In this Step, Now it’s time to construct the architecture of the ANN model using the Keras library, which is a high-level API for building neural networks in TensorFlow. The model consists of multiple layers of interconnected neurons, including input, hidden, and output layers. We define the number of neurons in each layer, activation functions, and other parameters. The choice of the model architecture depends on the complexity of the problem and the available computational resources."
      ],
      "metadata": {
        "id": "-O0fmHArGqQT"
      }
    },
    {
      "cell_type": "code",
      "source": [
        "model = Sequential()\n",
        "model.add(Dense(11, activation='relu', input_dim = 11))\n",
        "model.add(Dense(11, activation='relu'))\n",
        "model.add(Dense(1, activation='sigmoid'))"
      ],
      "metadata": {
        "id": "cSyFCK4JGnkP"
      },
      "execution_count": 31,
      "outputs": []
    },
    {
      "cell_type": "code",
      "source": [
        "model.summary()"
      ],
      "metadata": {
        "colab": {
          "base_uri": "https://localhost:8080/"
        },
        "id": "JJNy2W-xG7rR",
        "outputId": "28bfc692-c3e4-4deb-9201-2d679a71f677"
      },
      "execution_count": 32,
      "outputs": [
        {
          "output_type": "stream",
          "name": "stdout",
          "text": [
            "Model: \"sequential\"\n",
            "_________________________________________________________________\n",
            " Layer (type)                Output Shape              Param #   \n",
            "=================================================================\n",
            " dense (Dense)               (None, 11)                132       \n",
            "                                                                 \n",
            " dense_1 (Dense)             (None, 11)                132       \n",
            "                                                                 \n",
            " dense_2 (Dense)             (None, 1)                 12        \n",
            "                                                                 \n",
            "=================================================================\n",
            "Total params: 276\n",
            "Trainable params: 276\n",
            "Non-trainable params: 0\n",
            "_________________________________________________________________\n"
          ]
        }
      ]
    },
    {
      "cell_type": "markdown",
      "source": [
        "## Step 8: Training the ANN Model\n",
        "\n",
        "Once the model architecture is defined, we train the ANN model using the training dataset. During training, the model adjusts its internal parameters (weights and biases) to minimize the difference between the predicted churn outcomes and the actual outcomes. We specify the number of epochs (iterations) and the batch size for training. Monitoring metrics such as accuracy, loss, and validation metrics help assess the model’s performance during training."
      ],
      "metadata": {
        "id": "RHg4HUJ6HAvA"
      }
    },
    {
      "cell_type": "code",
      "source": [
        "model.compile(loss='binary_crossentropy', optimizer='Adam', metrics=['accuracy'])"
      ],
      "metadata": {
        "id": "d1VlhX4LG-fr"
      },
      "execution_count": 33,
      "outputs": []
    },
    {
      "cell_type": "code",
      "source": [
        "history = model.fit(X_train_scaled, y_train, epochs = 100, validation_split=0.2)"
      ],
      "metadata": {
        "colab": {
          "base_uri": "https://localhost:8080/"
        },
        "id": "tcvhRgDXHHpy",
        "outputId": "b187b7f6-bcc2-4782-f8e6-5009bf237953"
      },
      "execution_count": 34,
      "outputs": [
        {
          "output_type": "stream",
          "name": "stdout",
          "text": [
            "Epoch 1/100\n",
            "319/319 [==============================] - 5s 8ms/step - loss: 0.6293 - accuracy: 0.6500 - val_loss: 0.5967 - val_accuracy: 0.6856\n",
            "Epoch 2/100\n",
            "319/319 [==============================] - 3s 10ms/step - loss: 0.5766 - accuracy: 0.7025 - val_loss: 0.5707 - val_accuracy: 0.7104\n",
            "Epoch 3/100\n",
            "319/319 [==============================] - 3s 8ms/step - loss: 0.5594 - accuracy: 0.7158 - val_loss: 0.5543 - val_accuracy: 0.7241\n",
            "Epoch 4/100\n",
            "319/319 [==============================] - 3s 8ms/step - loss: 0.5398 - accuracy: 0.7287 - val_loss: 0.5267 - val_accuracy: 0.7433\n",
            "Epoch 5/100\n",
            "319/319 [==============================] - 2s 7ms/step - loss: 0.5079 - accuracy: 0.7510 - val_loss: 0.4919 - val_accuracy: 0.7649\n",
            "Epoch 6/100\n",
            "319/319 [==============================] - 3s 9ms/step - loss: 0.4822 - accuracy: 0.7682 - val_loss: 0.4726 - val_accuracy: 0.7716\n",
            "Epoch 7/100\n",
            "319/319 [==============================] - 3s 11ms/step - loss: 0.4701 - accuracy: 0.7746 - val_loss: 0.4648 - val_accuracy: 0.7732\n",
            "Epoch 8/100\n",
            "319/319 [==============================] - 3s 10ms/step - loss: 0.4644 - accuracy: 0.7729 - val_loss: 0.4600 - val_accuracy: 0.7818\n",
            "Epoch 9/100\n",
            "319/319 [==============================] - 3s 9ms/step - loss: 0.4604 - accuracy: 0.7753 - val_loss: 0.4574 - val_accuracy: 0.7794\n",
            "Epoch 10/100\n",
            "319/319 [==============================] - 3s 10ms/step - loss: 0.4575 - accuracy: 0.7779 - val_loss: 0.4547 - val_accuracy: 0.7853\n",
            "Epoch 11/100\n",
            "319/319 [==============================] - 2s 5ms/step - loss: 0.4554 - accuracy: 0.7778 - val_loss: 0.4544 - val_accuracy: 0.7838\n",
            "Epoch 12/100\n",
            "319/319 [==============================] - 2s 6ms/step - loss: 0.4529 - accuracy: 0.7807 - val_loss: 0.4521 - val_accuracy: 0.7892\n",
            "Epoch 13/100\n",
            "319/319 [==============================] - 2s 6ms/step - loss: 0.4517 - accuracy: 0.7813 - val_loss: 0.4518 - val_accuracy: 0.7873\n",
            "Epoch 14/100\n",
            "319/319 [==============================] - 1s 4ms/step - loss: 0.4496 - accuracy: 0.7804 - val_loss: 0.4532 - val_accuracy: 0.7798\n",
            "Epoch 15/100\n",
            "319/319 [==============================] - 1s 4ms/step - loss: 0.4490 - accuracy: 0.7841 - val_loss: 0.4506 - val_accuracy: 0.7865\n",
            "Epoch 16/100\n",
            "319/319 [==============================] - 1s 5ms/step - loss: 0.4478 - accuracy: 0.7838 - val_loss: 0.4508 - val_accuracy: 0.7853\n",
            "Epoch 17/100\n",
            "319/319 [==============================] - 1s 4ms/step - loss: 0.4468 - accuracy: 0.7853 - val_loss: 0.4487 - val_accuracy: 0.7877\n",
            "Epoch 18/100\n",
            "319/319 [==============================] - 1s 4ms/step - loss: 0.4453 - accuracy: 0.7869 - val_loss: 0.4492 - val_accuracy: 0.7869\n",
            "Epoch 19/100\n",
            "319/319 [==============================] - 1s 4ms/step - loss: 0.4446 - accuracy: 0.7878 - val_loss: 0.4491 - val_accuracy: 0.7857\n",
            "Epoch 20/100\n",
            "319/319 [==============================] - 1s 4ms/step - loss: 0.4436 - accuracy: 0.7880 - val_loss: 0.4472 - val_accuracy: 0.7869\n",
            "Epoch 21/100\n",
            "319/319 [==============================] - 2s 5ms/step - loss: 0.4434 - accuracy: 0.7892 - val_loss: 0.4491 - val_accuracy: 0.7830\n",
            "Epoch 22/100\n",
            "319/319 [==============================] - 2s 6ms/step - loss: 0.4424 - accuracy: 0.7872 - val_loss: 0.4475 - val_accuracy: 0.7861\n",
            "Epoch 23/100\n",
            "319/319 [==============================] - 2s 5ms/step - loss: 0.4412 - accuracy: 0.7903 - val_loss: 0.4474 - val_accuracy: 0.7845\n",
            "Epoch 24/100\n",
            "319/319 [==============================] - 1s 4ms/step - loss: 0.4410 - accuracy: 0.7897 - val_loss: 0.4475 - val_accuracy: 0.7830\n",
            "Epoch 25/100\n",
            "319/319 [==============================] - 1s 5ms/step - loss: 0.4406 - accuracy: 0.7907 - val_loss: 0.4467 - val_accuracy: 0.7881\n",
            "Epoch 26/100\n",
            "319/319 [==============================] - 1s 4ms/step - loss: 0.4400 - accuracy: 0.7909 - val_loss: 0.4462 - val_accuracy: 0.7861\n",
            "Epoch 27/100\n",
            "319/319 [==============================] - 1s 4ms/step - loss: 0.4387 - accuracy: 0.7940 - val_loss: 0.4451 - val_accuracy: 0.7904\n",
            "Epoch 28/100\n",
            "319/319 [==============================] - 1s 4ms/step - loss: 0.4385 - accuracy: 0.7939 - val_loss: 0.4470 - val_accuracy: 0.7830\n",
            "Epoch 29/100\n",
            "319/319 [==============================] - 1s 4ms/step - loss: 0.4380 - accuracy: 0.7925 - val_loss: 0.4454 - val_accuracy: 0.7857\n",
            "Epoch 30/100\n",
            "319/319 [==============================] - 1s 5ms/step - loss: 0.4373 - accuracy: 0.7921 - val_loss: 0.4455 - val_accuracy: 0.7877\n",
            "Epoch 31/100\n",
            "319/319 [==============================] - 2s 6ms/step - loss: 0.4370 - accuracy: 0.7943 - val_loss: 0.4449 - val_accuracy: 0.7861\n",
            "Epoch 32/100\n",
            "319/319 [==============================] - 2s 6ms/step - loss: 0.4364 - accuracy: 0.7938 - val_loss: 0.4447 - val_accuracy: 0.7873\n",
            "Epoch 33/100\n",
            "319/319 [==============================] - 1s 5ms/step - loss: 0.4357 - accuracy: 0.7902 - val_loss: 0.4453 - val_accuracy: 0.7877\n",
            "Epoch 34/100\n",
            "319/319 [==============================] - 1s 4ms/step - loss: 0.4357 - accuracy: 0.7956 - val_loss: 0.4423 - val_accuracy: 0.7932\n",
            "Epoch 35/100\n",
            "319/319 [==============================] - 1s 4ms/step - loss: 0.4346 - accuracy: 0.7941 - val_loss: 0.4454 - val_accuracy: 0.7853\n",
            "Epoch 36/100\n",
            "319/319 [==============================] - 1s 5ms/step - loss: 0.4350 - accuracy: 0.7938 - val_loss: 0.4442 - val_accuracy: 0.7896\n",
            "Epoch 37/100\n",
            "319/319 [==============================] - 1s 4ms/step - loss: 0.4335 - accuracy: 0.7952 - val_loss: 0.4432 - val_accuracy: 0.7896\n",
            "Epoch 38/100\n",
            "319/319 [==============================] - 1s 4ms/step - loss: 0.4337 - accuracy: 0.7959 - val_loss: 0.4470 - val_accuracy: 0.7904\n",
            "Epoch 39/100\n",
            "319/319 [==============================] - 1s 4ms/step - loss: 0.4335 - accuracy: 0.7949 - val_loss: 0.4461 - val_accuracy: 0.7849\n",
            "Epoch 40/100\n",
            "319/319 [==============================] - 2s 6ms/step - loss: 0.4336 - accuracy: 0.7965 - val_loss: 0.4422 - val_accuracy: 0.7900\n",
            "Epoch 41/100\n",
            "319/319 [==============================] - 2s 6ms/step - loss: 0.4329 - accuracy: 0.7956 - val_loss: 0.4430 - val_accuracy: 0.7936\n",
            "Epoch 42/100\n",
            "319/319 [==============================] - 2s 5ms/step - loss: 0.4325 - accuracy: 0.7970 - val_loss: 0.4426 - val_accuracy: 0.7904\n",
            "Epoch 43/100\n",
            "319/319 [==============================] - 1s 4ms/step - loss: 0.4326 - accuracy: 0.7992 - val_loss: 0.4433 - val_accuracy: 0.7889\n",
            "Epoch 44/100\n",
            "319/319 [==============================] - 1s 5ms/step - loss: 0.4319 - accuracy: 0.7964 - val_loss: 0.4425 - val_accuracy: 0.7892\n",
            "Epoch 45/100\n",
            "319/319 [==============================] - 1s 5ms/step - loss: 0.4315 - accuracy: 0.7956 - val_loss: 0.4437 - val_accuracy: 0.7869\n",
            "Epoch 46/100\n",
            "319/319 [==============================] - 1s 4ms/step - loss: 0.4318 - accuracy: 0.7964 - val_loss: 0.4444 - val_accuracy: 0.7908\n",
            "Epoch 47/100\n",
            "319/319 [==============================] - 2s 6ms/step - loss: 0.4308 - accuracy: 0.7971 - val_loss: 0.4423 - val_accuracy: 0.7908\n",
            "Epoch 48/100\n",
            "319/319 [==============================] - 2s 6ms/step - loss: 0.4314 - accuracy: 0.7983 - val_loss: 0.4417 - val_accuracy: 0.7889\n",
            "Epoch 49/100\n",
            "319/319 [==============================] - 2s 7ms/step - loss: 0.4306 - accuracy: 0.7987 - val_loss: 0.4445 - val_accuracy: 0.7932\n",
            "Epoch 50/100\n",
            "319/319 [==============================] - 2s 6ms/step - loss: 0.4303 - accuracy: 0.8001 - val_loss: 0.4431 - val_accuracy: 0.7908\n",
            "Epoch 51/100\n",
            "319/319 [==============================] - 1s 4ms/step - loss: 0.4295 - accuracy: 0.7992 - val_loss: 0.4428 - val_accuracy: 0.7896\n",
            "Epoch 52/100\n",
            "319/319 [==============================] - 1s 5ms/step - loss: 0.4297 - accuracy: 0.7997 - val_loss: 0.4413 - val_accuracy: 0.7892\n",
            "Epoch 53/100\n",
            "319/319 [==============================] - 1s 4ms/step - loss: 0.4292 - accuracy: 0.7993 - val_loss: 0.4446 - val_accuracy: 0.7869\n",
            "Epoch 54/100\n",
            "319/319 [==============================] - 1s 5ms/step - loss: 0.4294 - accuracy: 0.7998 - val_loss: 0.4412 - val_accuracy: 0.7873\n",
            "Epoch 55/100\n",
            "319/319 [==============================] - 1s 5ms/step - loss: 0.4290 - accuracy: 0.7970 - val_loss: 0.4412 - val_accuracy: 0.7932\n",
            "Epoch 56/100\n",
            "319/319 [==============================] - 1s 4ms/step - loss: 0.4289 - accuracy: 0.7984 - val_loss: 0.4427 - val_accuracy: 0.7865\n",
            "Epoch 57/100\n",
            "319/319 [==============================] - 1s 5ms/step - loss: 0.4283 - accuracy: 0.7998 - val_loss: 0.4443 - val_accuracy: 0.7869\n",
            "Epoch 58/100\n",
            "319/319 [==============================] - 2s 6ms/step - loss: 0.4288 - accuracy: 0.7987 - val_loss: 0.4424 - val_accuracy: 0.7896\n",
            "Epoch 59/100\n",
            "319/319 [==============================] - 2s 6ms/step - loss: 0.4284 - accuracy: 0.8004 - val_loss: 0.4410 - val_accuracy: 0.7861\n",
            "Epoch 60/100\n",
            "319/319 [==============================] - 1s 5ms/step - loss: 0.4283 - accuracy: 0.7977 - val_loss: 0.4416 - val_accuracy: 0.7908\n",
            "Epoch 61/100\n",
            "319/319 [==============================] - 1s 4ms/step - loss: 0.4282 - accuracy: 0.7976 - val_loss: 0.4433 - val_accuracy: 0.7904\n",
            "Epoch 62/100\n",
            "319/319 [==============================] - 1s 4ms/step - loss: 0.4278 - accuracy: 0.7995 - val_loss: 0.4437 - val_accuracy: 0.7885\n",
            "Epoch 63/100\n",
            "319/319 [==============================] - 1s 4ms/step - loss: 0.4279 - accuracy: 0.7996 - val_loss: 0.4429 - val_accuracy: 0.7861\n",
            "Epoch 64/100\n",
            "319/319 [==============================] - 1s 4ms/step - loss: 0.4272 - accuracy: 0.7989 - val_loss: 0.4476 - val_accuracy: 0.7900\n",
            "Epoch 65/100\n",
            "319/319 [==============================] - 1s 5ms/step - loss: 0.4279 - accuracy: 0.7995 - val_loss: 0.4434 - val_accuracy: 0.7936\n",
            "Epoch 66/100\n",
            "319/319 [==============================] - 1s 4ms/step - loss: 0.4276 - accuracy: 0.7992 - val_loss: 0.4416 - val_accuracy: 0.7916\n",
            "Epoch 67/100\n",
            "319/319 [==============================] - 2s 5ms/step - loss: 0.4275 - accuracy: 0.8001 - val_loss: 0.4445 - val_accuracy: 0.7908\n",
            "Epoch 68/100\n",
            "319/319 [==============================] - 2s 6ms/step - loss: 0.4274 - accuracy: 0.7984 - val_loss: 0.4440 - val_accuracy: 0.7889\n",
            "Epoch 69/100\n",
            "319/319 [==============================] - 2s 6ms/step - loss: 0.4270 - accuracy: 0.8017 - val_loss: 0.4453 - val_accuracy: 0.7896\n",
            "Epoch 70/100\n",
            "319/319 [==============================] - 1s 5ms/step - loss: 0.4271 - accuracy: 0.8000 - val_loss: 0.4459 - val_accuracy: 0.7900\n",
            "Epoch 71/100\n",
            "319/319 [==============================] - 1s 5ms/step - loss: 0.4263 - accuracy: 0.7999 - val_loss: 0.4430 - val_accuracy: 0.7885\n",
            "Epoch 72/100\n",
            "319/319 [==============================] - 1s 4ms/step - loss: 0.4265 - accuracy: 0.7981 - val_loss: 0.4435 - val_accuracy: 0.7916\n",
            "Epoch 73/100\n",
            "319/319 [==============================] - 1s 5ms/step - loss: 0.4273 - accuracy: 0.7989 - val_loss: 0.4472 - val_accuracy: 0.7814\n",
            "Epoch 74/100\n",
            "319/319 [==============================] - 2s 5ms/step - loss: 0.4272 - accuracy: 0.7983 - val_loss: 0.4442 - val_accuracy: 0.7892\n",
            "Epoch 75/100\n",
            "319/319 [==============================] - 2s 5ms/step - loss: 0.4261 - accuracy: 0.8019 - val_loss: 0.4464 - val_accuracy: 0.7892\n",
            "Epoch 76/100\n",
            "319/319 [==============================] - 2s 6ms/step - loss: 0.4260 - accuracy: 0.7978 - val_loss: 0.4431 - val_accuracy: 0.7908\n",
            "Epoch 77/100\n",
            "319/319 [==============================] - 2s 6ms/step - loss: 0.4262 - accuracy: 0.7998 - val_loss: 0.4430 - val_accuracy: 0.7892\n",
            "Epoch 78/100\n",
            "319/319 [==============================] - 1s 5ms/step - loss: 0.4257 - accuracy: 0.8014 - val_loss: 0.4439 - val_accuracy: 0.7853\n",
            "Epoch 79/100\n",
            "319/319 [==============================] - 1s 5ms/step - loss: 0.4257 - accuracy: 0.7983 - val_loss: 0.4453 - val_accuracy: 0.7924\n",
            "Epoch 80/100\n",
            "319/319 [==============================] - 1s 4ms/step - loss: 0.4261 - accuracy: 0.7995 - val_loss: 0.4456 - val_accuracy: 0.7912\n",
            "Epoch 81/100\n",
            "319/319 [==============================] - 1s 5ms/step - loss: 0.4255 - accuracy: 0.8013 - val_loss: 0.4450 - val_accuracy: 0.7892\n",
            "Epoch 82/100\n",
            "319/319 [==============================] - 1s 5ms/step - loss: 0.4252 - accuracy: 0.7969 - val_loss: 0.4446 - val_accuracy: 0.7892\n",
            "Epoch 83/100\n",
            "319/319 [==============================] - 1s 4ms/step - loss: 0.4252 - accuracy: 0.7995 - val_loss: 0.4437 - val_accuracy: 0.7892\n",
            "Epoch 84/100\n",
            "319/319 [==============================] - 1s 4ms/step - loss: 0.4250 - accuracy: 0.8005 - val_loss: 0.4434 - val_accuracy: 0.7916\n",
            "Epoch 85/100\n",
            "319/319 [==============================] - 2s 6ms/step - loss: 0.4248 - accuracy: 0.8002 - val_loss: 0.4432 - val_accuracy: 0.7869\n",
            "Epoch 86/100\n",
            "319/319 [==============================] - 2s 6ms/step - loss: 0.4242 - accuracy: 0.8001 - val_loss: 0.4424 - val_accuracy: 0.7892\n",
            "Epoch 87/100\n",
            "319/319 [==============================] - 1s 5ms/step - loss: 0.4242 - accuracy: 0.8002 - val_loss: 0.4454 - val_accuracy: 0.7904\n",
            "Epoch 88/100\n",
            "319/319 [==============================] - 1s 4ms/step - loss: 0.4239 - accuracy: 0.7993 - val_loss: 0.4422 - val_accuracy: 0.7873\n",
            "Epoch 89/100\n",
            "319/319 [==============================] - 1s 4ms/step - loss: 0.4240 - accuracy: 0.7988 - val_loss: 0.4446 - val_accuracy: 0.7908\n",
            "Epoch 90/100\n",
            "319/319 [==============================] - 1s 4ms/step - loss: 0.4240 - accuracy: 0.8012 - val_loss: 0.4432 - val_accuracy: 0.7853\n",
            "Epoch 91/100\n",
            "319/319 [==============================] - 1s 4ms/step - loss: 0.4240 - accuracy: 0.7986 - val_loss: 0.4452 - val_accuracy: 0.7885\n",
            "Epoch 92/100\n",
            "319/319 [==============================] - 1s 5ms/step - loss: 0.4237 - accuracy: 0.8001 - val_loss: 0.4438 - val_accuracy: 0.7892\n",
            "Epoch 93/100\n",
            "319/319 [==============================] - 1s 4ms/step - loss: 0.4230 - accuracy: 0.8001 - val_loss: 0.4466 - val_accuracy: 0.7881\n",
            "Epoch 94/100\n",
            "319/319 [==============================] - 2s 5ms/step - loss: 0.4233 - accuracy: 0.8006 - val_loss: 0.4453 - val_accuracy: 0.7892\n",
            "Epoch 95/100\n",
            "319/319 [==============================] - 2s 6ms/step - loss: 0.4232 - accuracy: 0.7985 - val_loss: 0.4442 - val_accuracy: 0.7865\n",
            "Epoch 96/100\n",
            "319/319 [==============================] - 2s 5ms/step - loss: 0.4229 - accuracy: 0.8007 - val_loss: 0.4450 - val_accuracy: 0.7865\n",
            "Epoch 97/100\n",
            "319/319 [==============================] - 1s 4ms/step - loss: 0.4226 - accuracy: 0.8016 - val_loss: 0.4464 - val_accuracy: 0.7841\n",
            "Epoch 98/100\n",
            "319/319 [==============================] - 1s 4ms/step - loss: 0.4233 - accuracy: 0.8021 - val_loss: 0.4427 - val_accuracy: 0.7889\n",
            "Epoch 99/100\n",
            "319/319 [==============================] - 1s 4ms/step - loss: 0.4225 - accuracy: 0.8001 - val_loss: 0.4426 - val_accuracy: 0.7885\n",
            "Epoch 100/100\n",
            "319/319 [==============================] - 1s 4ms/step - loss: 0.4226 - accuracy: 0.8025 - val_loss: 0.4440 - val_accuracy: 0.7885\n"
          ]
        }
      ]
    },
    {
      "cell_type": "markdown",
      "source": [
        "## Step 9: Visualize the Loss & Accuracy of ANN Model\n",
        "\n",
        "Finally, we can visualize the model’s performance by plotting the training and validation accuracy and loss over the epochs"
      ],
      "metadata": {
        "id": "Mha0XlBvHWmL"
      }
    },
    {
      "cell_type": "code",
      "source": [
        "plt.plot(history.history['loss'])\n",
        "plt.plot(history.history['val_loss'])"
      ],
      "metadata": {
        "colab": {
          "base_uri": "https://localhost:8080/",
          "height": 447
        },
        "id": "GcZIP_NlHJfz",
        "outputId": "8f862b0f-3215-4b47-a9c4-c0513f8762c2"
      },
      "execution_count": 35,
      "outputs": [
        {
          "output_type": "execute_result",
          "data": {
            "text/plain": [
              "[<matplotlib.lines.Line2D at 0x7ff13e570b20>]"
            ]
          },
          "metadata": {},
          "execution_count": 35
        },
        {
          "output_type": "display_data",
          "data": {
            "text/plain": [
              "<Figure size 640x480 with 1 Axes>"
            ],
            "image/png": "[encoded data removed]"
          },
          "metadata": {}
        }
      ]
    },
    {
      "cell_type": "code",
      "source": [
        "plt.plot(history.history['accuracy'])\n",
        "plt.plot(history.history['val_accuracy'])"
      ],
      "metadata": {
        "colab": {
          "base_uri": "https://localhost:8080/",
          "height": 447
        },
        "id": "dkMfM7bAIol6",
        "outputId": "6b2b2e6e-5082-4298-bf76-a1a440971c37"
      },
      "execution_count": 36,
      "outputs": [
        {
          "output_type": "execute_result",
          "data": {
            "text/plain": [
              "[<matplotlib.lines.Line2D at 0x7ff13e1aa680>]"
            ]
          },
          "metadata": {},
          "execution_count": 36
        },
        {
          "output_type": "display_data",
          "data": {
            "text/plain": [
              "<Figure size 640x480 with 1 Axes>"
            ],
            "image/png": "[encoded data removed]"
          },
          "metadata": {}
        }
      ]
    },
    {
      "cell_type": "markdown",
      "source": [
        "## Step 10: Evaluating the ANN Model & Predicting Churn for New Customers\n",
        "\n",
        "After training, we evaluate the performance of the ANN model using the testing dataset. We calculate various evaluation metrics such as accuracy, precision, recall, and F1 score to assess how well the model predicts customer churn."
      ],
      "metadata": {
        "id": "-ZZdhOGtJgZz"
      }
    },
    {
      "cell_type": "code",
      "source": [
        "y_log = model.predict(X_test_scaled)"
      ],
      "metadata": {
        "colab": {
          "base_uri": "https://localhost:8080/"
        },
        "id": "PFS5WWnlJeFV",
        "outputId": "81b12f3b-e6e3-4dad-9556-d5a313269ad1"
      },
      "execution_count": 37,
      "outputs": [
        {
          "output_type": "stream",
          "name": "stdout",
          "text": [
            "100/100 [==============================] - 0s 2ms/step\n"
          ]
        }
      ]
    },
    {
      "cell_type": "code",
      "source": [
        "y_pred = np.where(y_log > 0.5, 1, 0)"
      ],
      "metadata": {
        "id": "UYtcGBZsJjxi"
      },
      "execution_count": 38,
      "outputs": []
    },
    {
      "cell_type": "code",
      "source": [
        "accuracy_score(y_test, y_pred)"
      ],
      "metadata": {
        "colab": {
          "base_uri": "https://localhost:8080/"
        },
        "id": "D7YjT4wxJmRW",
        "outputId": "a5871fce-5003-4145-e34d-91e128310e9c"
      },
      "execution_count": 39,
      "outputs": [
        {
          "output_type": "execute_result",
          "data": {
            "text/plain": [
              "0.788135593220339"
            ]
          },
          "metadata": {},
          "execution_count": 39
        }
      ]
    },
    {
      "cell_type": "code",
      "source": [],
      "metadata": {
        "id": "kZcoJ0c8Jogc"
      },
      "execution_count": null,
      "outputs": []
    }
  ]
}