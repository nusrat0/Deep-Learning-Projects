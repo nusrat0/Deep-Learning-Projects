{
  "nbformat": 4,
  "nbformat_minor": 0,
  "metadata": {
    "colab": {
      "provenance": []
    },
    "kernelspec": {
      "name": "python3",
      "display_name": "Python 3"
    },
    "language_info": {
      "name": "python"
    }
  },
  "cells": [
    {
      "cell_type": "markdown",
      "source": [
        "# Introduction to Neural Network Regression with Tensorflow\n",
        "\n",
        "There are many definitions for a regression problem but in our case, we're going to simplify it: predicting a numerical variable based on some other combination of variables, even shorter... predicting a number."
      ],
      "metadata": {
        "id": "a3ewCB5W9KFl"
      }
    },
    {
      "cell_type": "code",
      "source": [
        "# Import TensorFlow\n",
        "import tensorflow as tf\n",
        "print(tf.__version__)"
      ],
      "metadata": {
        "colab": {
          "base_uri": "https://localhost:8080/"
        },
        "id": "lBx4egBO9s7y",
        "outputId": "76f96332-f1ed-4534-b504-05e49c6f015f"
      },
      "execution_count": 1,
      "outputs": [
        {
          "output_type": "stream",
          "name": "stdout",
          "text": [
            "2.12.0\n"
          ]
        }
      ]
    },
    {
      "cell_type": "markdown",
      "source": [
        "## Creating Some Data for Modeling"
      ],
      "metadata": {
        "id": "WaZQBLGN-Lor"
      }
    },
    {
      "cell_type": "code",
      "source": [
        "import numpy as np\n",
        "import matplotlib.pyplot as plt\n",
        "\n",
        "# Create features (capital \"X\")\n",
        "X = np.array([-7.0, -4.0, -1.0, 2.0, 5.0, 8.0, 11.0, 14.0])\n",
        "\n",
        "# Create labels (lowercase \"y\")\n",
        "y = np.array([3.0, 6.0, 9.0, 12.0, 15.0, 18.0, 21.0, 24.0])\n",
        "\n",
        "# Visualize it\n",
        "plt.scatter(X, y);"
      ],
      "metadata": {
        "colab": {
          "base_uri": "https://localhost:8080/",
          "height": 435
        },
        "id": "cABQS3QE-CYS",
        "outputId": "faf0ac4d-80f5-462b-cb94-80cb3a3c37d1"
      },
      "execution_count": 2,
      "outputs": [
        {
          "output_type": "display_data",
          "data": {
            "text/plain": [
              "<Figure size 640x480 with 1 Axes>"
            ],
            "image/png": "[encoded data removed]"
          },
          "metadata": {}
        }
      ]
    },
    {
      "cell_type": "code",
      "source": [
        "# Check the relationship between X and y\n",
        "y == X + 10"
      ],
      "metadata": {
        "colab": {
          "base_uri": "https://localhost:8080/"
        },
        "id": "ESKgS4-w-Wg_",
        "outputId": "b2ea7c54-ef72-4b00-f7fe-a89261aedac0"
      },
      "execution_count": 3,
      "outputs": [
        {
          "output_type": "execute_result",
          "data": {
            "text/plain": [
              "array([ True,  True,  True,  True,  True,  True,  True,  True])"
            ]
          },
          "metadata": {},
          "execution_count": 3
        }
      ]
    },
    {
      "cell_type": "markdown",
      "source": [
        "## Input and output shapes"
      ],
      "metadata": {
        "id": "af-tZDwW-pmN"
      }
    },
    {
      "cell_type": "code",
      "source": [
        "# Create a demo tensor for our housing price prediction problem\n",
        "house_info = tf.constant([\"bedroom\", \"bathroom\", \"garage\"])\n",
        "house_price = tf.constant([939700])\n",
        "house_info, house_price"
      ],
      "metadata": {
        "colab": {
          "base_uri": "https://localhost:8080/"
        },
        "id": "uRCXlRcp-jIv",
        "outputId": "f883c617-26bc-4258-c4b5-af6a37e3e121"
      },
      "execution_count": 4,
      "outputs": [
        {
          "output_type": "execute_result",
          "data": {
            "text/plain": [
              "(<tf.Tensor: shape=(3,), dtype=string, numpy=array([b'bedroom', b'bathroom', b'garage'], dtype=object)>,\n",
              " <tf.Tensor: shape=(1,), dtype=int32, numpy=array([939700], dtype=int32)>)"
            ]
          },
          "metadata": {},
          "execution_count": 4
        }
      ]
    },
    {
      "cell_type": "code",
      "source": [
        "X[0], y[0]"
      ],
      "metadata": {
        "colab": {
          "base_uri": "https://localhost:8080/"
        },
        "id": "J-wBorGP_k7a",
        "outputId": "387ebc53-8cb2-4c0d-ed18-608ed6243a42"
      },
      "execution_count": 5,
      "outputs": [
        {
          "output_type": "execute_result",
          "data": {
            "text/plain": [
              "(-7.0, 3.0)"
            ]
          },
          "metadata": {},
          "execution_count": 5
        }
      ]
    },
    {
      "cell_type": "code",
      "source": [
        "X[1], y[1]"
      ],
      "metadata": {
        "colab": {
          "base_uri": "https://localhost:8080/"
        },
        "id": "eghtt5eD_ncW",
        "outputId": "53486e1d-8743-44e8-eba4-9b25730c289c"
      },
      "execution_count": 6,
      "outputs": [
        {
          "output_type": "execute_result",
          "data": {
            "text/plain": [
              "(-4.0, 6.0)"
            ]
          },
          "metadata": {},
          "execution_count": 6
        }
      ]
    },
    {
      "cell_type": "code",
      "source": [
        "input_shape = X[0].shape\n",
        "output_shape = y[0].shape\n",
        "input_shape, output_shape"
      ],
      "metadata": {
        "colab": {
          "base_uri": "https://localhost:8080/"
        },
        "id": "-eQ8kHQz_p4x",
        "outputId": "7cfff6c3-4810-4e1d-90f3-a6786c55cf18"
      },
      "execution_count": 7,
      "outputs": [
        {
          "output_type": "execute_result",
          "data": {
            "text/plain": [
              "((), ())"
            ]
          },
          "metadata": {},
          "execution_count": 7
        }
      ]
    },
    {
      "cell_type": "code",
      "source": [
        "X[0].ndim"
      ],
      "metadata": {
        "colab": {
          "base_uri": "https://localhost:8080/"
        },
        "id": "GTxxXBOQ_sMJ",
        "outputId": "b77a9a4b-10c7-4e07-89b7-dbd7ed511e44"
      },
      "execution_count": 8,
      "outputs": [
        {
          "output_type": "execute_result",
          "data": {
            "text/plain": [
              "0"
            ]
          },
          "metadata": {},
          "execution_count": 8
        }
      ]
    },
    {
      "cell_type": "code",
      "source": [
        "y[0].ndim"
      ],
      "metadata": {
        "colab": {
          "base_uri": "https://localhost:8080/"
        },
        "id": "ZDUwB1X9DehQ",
        "outputId": "147efa54-1b07-489d-b83c-5fdde5399f11"
      },
      "execution_count": 9,
      "outputs": [
        {
          "output_type": "execute_result",
          "data": {
            "text/plain": [
              "0"
            ]
          },
          "metadata": {},
          "execution_count": 9
        }
      ]
    },
    {
      "cell_type": "code",
      "source": [
        "# Turn our NumPy arrays into tensors with dtype float32\n",
        "X = tf.cast(tf.constant(X), dtype=tf.float32)\n",
        "y = tf.cast(tf.constant(y), dtype=tf.float32)\n",
        "X, y"
      ],
      "metadata": {
        "colab": {
          "base_uri": "https://localhost:8080/"
        },
        "id": "LQZY_jDXAVG5",
        "outputId": "ab186d64-1d88-41be-8af1-f43d2144ae47"
      },
      "execution_count": 10,
      "outputs": [
        {
          "output_type": "execute_result",
          "data": {
            "text/plain": [
              "(<tf.Tensor: shape=(8,), dtype=float32, numpy=array([-7., -4., -1.,  2.,  5.,  8., 11., 14.], dtype=float32)>,\n",
              " <tf.Tensor: shape=(8,), dtype=float32, numpy=array([ 3.,  6.,  9., 12., 15., 18., 21., 24.], dtype=float32)>)"
            ]
          },
          "metadata": {},
          "execution_count": 10
        }
      ]
    },
    {
      "cell_type": "code",
      "source": [
        "input_shape = X[0].shape\n",
        "output_shape = y[0].shape\n",
        "input_shape, output_shape"
      ],
      "metadata": {
        "colab": {
          "base_uri": "https://localhost:8080/"
        },
        "id": "AJqfaOkHAbK2",
        "outputId": "2af0ea74-2829-4379-88d0-f8e9eacd7ccb"
      },
      "execution_count": 11,
      "outputs": [
        {
          "output_type": "execute_result",
          "data": {
            "text/plain": [
              "(TensorShape([]), TensorShape([]))"
            ]
          },
          "metadata": {},
          "execution_count": 11
        }
      ]
    },
    {
      "cell_type": "code",
      "source": [
        "plt.scatter(X, y);"
      ],
      "metadata": {
        "colab": {
          "base_uri": "https://localhost:8080/",
          "height": 435
        },
        "id": "tnlZg-PYAd0m",
        "outputId": "43e03d95-1755-467c-f2a5-1b89282950c6"
      },
      "execution_count": 12,
      "outputs": [
        {
          "output_type": "display_data",
          "data": {
            "text/plain": [
              "<Figure size 640x480 with 1 Axes>"
            ],
            "image/png": "[encoded data removed]"
          },
          "metadata": {}
        }
      ]
    },
    {
      "cell_type": "markdown",
      "source": [
        "\n",
        "## Steps in modelling with TensorFlow\n",
        "\n",
        "- **Creating a model** - define the input and output layers, as well as the hidden layers of a deep learning model.\n",
        "- **Compiling a model** - define the loss funtion (in other words, the function which tells our model how wrong it is) and the optimizer (tells our model how to improve the patterns its learning) and evaluation metrics (what we can use to interpret the performance of our model).\n",
        "- **Fitting a model** - letting the model try to find patterns between X & y (features and labels).\n",
        "\n"
      ],
      "metadata": {
        "id": "GAGTozjSA-WK"
      }
    },
    {
      "cell_type": "markdown",
      "source": [
        "```\n",
        "## Error\n",
        "The error you might see if passing a scalar to any TensorFlow training function:\n",
        "\n",
        "ValueError: Exception encountered when calling layer \"sequential\" (type Sequential).\n",
        "    \n",
        "Input 0 of layer \"dense\" is incompatible with the layer: expected min_ndim=2, found ndim=1. Full shape received: (None,)\n",
        "    \n",
        "Call arguments received:\n",
        "- inputs=tf.Tensor(shape=(None,), dtype=float32)\n",
        "- training=True\n",
        "- mask=None\n",
        "\n",
        "Notice the change to the input of model.fit(). The shape of X gets expanded in the last dimension using tf.expand_dims(X, axis=-1).\n",
        "\n",
        "That's the only major change that you should have to do when fitting a model on data that's a scalar (e.g. no second dimension, like X).\n",
        "```"
      ],
      "metadata": {
        "id": "UltuK2hLH9S5"
      }
    },
    {
      "cell_type": "code",
      "source": [
        "# Set random seed\n",
        "tf.random.set_seed(42)\n",
        "\n",
        "# 1. Create a model using the Sequential API\n",
        "model = tf.keras.Sequential([\n",
        "  tf.keras.layers.Dense(1)\n",
        "])\n",
        "\n",
        "# 2. Compile the model\n",
        "model.compile(loss=tf.keras.losses.mae, # mae is short for mean absolute error\n",
        "              optimizer=tf.keras.optimizers.SGD(), # sgd is short for stochasitc gradient descent\n",
        "              metrics=[\"mae\"])\n",
        "\n",
        "# 3. Fit the model\n",
        "model.fit(tf.expand_dims(X, axis=-1), y, epochs=10) # <- updated line (error corrected from mrdbourke github discussion)"
      ],
      "metadata": {
        "colab": {
          "base_uri": "https://localhost:8080/"
        },
        "id": "VafRUDWjAgDl",
        "outputId": "e8f26101-9139-4b66-e50b-eb7bb8411e7c"
      },
      "execution_count": 13,
      "outputs": [
        {
          "output_type": "stream",
          "name": "stdout",
          "text": [
            "Epoch 1/10\n",
            "1/1 [==============================] - 0s 438ms/step - loss: 8.6356 - mae: 8.6356\n",
            "Epoch 2/10\n",
            "1/1 [==============================] - 0s 31ms/step - loss: 8.5031 - mae: 8.5031\n",
            "Epoch 3/10\n",
            "1/1 [==============================] - 0s 21ms/step - loss: 8.3706 - mae: 8.3706\n",
            "Epoch 4/10\n",
            "1/1 [==============================] - 0s 21ms/step - loss: 8.2381 - mae: 8.2381\n",
            "Epoch 5/10\n",
            "1/1 [==============================] - 0s 23ms/step - loss: 8.1056 - mae: 8.1056\n",
            "Epoch 6/10\n",
            "1/1 [==============================] - 0s 20ms/step - loss: 7.9731 - mae: 7.9731\n",
            "Epoch 7/10\n",
            "1/1 [==============================] - 0s 22ms/step - loss: 7.8406 - mae: 7.8406\n",
            "Epoch 8/10\n",
            "1/1 [==============================] - 0s 18ms/step - loss: 7.7081 - mae: 7.7081\n",
            "Epoch 9/10\n",
            "1/1 [==============================] - 0s 21ms/step - loss: 7.5756 - mae: 7.5756\n",
            "Epoch 10/10\n",
            "1/1 [==============================] - 0s 12ms/step - loss: 7.4431 - mae: 7.4431\n"
          ]
        },
        {
          "output_type": "execute_result",
          "data": {
            "text/plain": [
              "<keras.callbacks.History at 0x7f9a02a93b80>"
            ]
          },
          "metadata": {},
          "execution_count": 13
        }
      ]
    },
    {
      "cell_type": "code",
      "source": [
        "# Check out X and y\n",
        "X, y"
      ],
      "metadata": {
        "colab": {
          "base_uri": "https://localhost:8080/"
        },
        "id": "g0sYvn9vCRYv",
        "outputId": "71d737e8-38c8-4326-b13a-24134a55cf17"
      },
      "execution_count": 14,
      "outputs": [
        {
          "output_type": "execute_result",
          "data": {
            "text/plain": [
              "(<tf.Tensor: shape=(8,), dtype=float32, numpy=array([-7., -4., -1.,  2.,  5.,  8., 11., 14.], dtype=float32)>,\n",
              " <tf.Tensor: shape=(8,), dtype=float32, numpy=array([ 3.,  6.,  9., 12., 15., 18., 21., 24.], dtype=float32)>)"
            ]
          },
          "metadata": {},
          "execution_count": 14
        }
      ]
    },
    {
      "cell_type": "code",
      "source": [
        "# Try and make a prediction using our model\n",
        "y_pred = model.predict([17.0])\n",
        "y_pred"
      ],
      "metadata": {
        "colab": {
          "base_uri": "https://localhost:8080/"
        },
        "id": "9UxdAQabEGu_",
        "outputId": "4a104e4e-07c2-484f-a7dc-e595657285d7"
      },
      "execution_count": 15,
      "outputs": [
        {
          "output_type": "stream",
          "name": "stdout",
          "text": [
            "1/1 [==============================] - 0s 176ms/step\n"
          ]
        },
        {
          "output_type": "execute_result",
          "data": {
            "text/plain": [
              "array([[29.677189]], dtype=float32)"
            ]
          },
          "metadata": {},
          "execution_count": 15
        }
      ]
    },
    {
      "cell_type": "code",
      "source": [
        "y_pred + 10"
      ],
      "metadata": {
        "colab": {
          "base_uri": "https://localhost:8080/"
        },
        "id": "oajXk5VuGqdo",
        "outputId": "9c6de710-96c1-44d6-d71c-86adfdf4ef35"
      },
      "execution_count": 16,
      "outputs": [
        {
          "output_type": "execute_result",
          "data": {
            "text/plain": [
              "array([[39.67719]], dtype=float32)"
            ]
          },
          "metadata": {},
          "execution_count": 16
        }
      ]
    },
    {
      "cell_type": "markdown",
      "source": [
        "\n",
        "## Improving our model\n",
        "\n",
        "We can improve our model, by altering the steps we took to create a model.\n",
        "\n",
        "- **Creating a model** - here we might add more layers, increase the number of hidden units (all called neurons) within each of the hideen layers, change the activation function of each layer.\n",
        "- **Compiling a model** - here we might change the optimization function or perhaps the `learning rate` of the optimization function.\n",
        "- **Fitting a model** - here we might fit a model for more `epochs` (leave it training for longer) or on more data (give the model more examples to learn from).\n",
        "\n"
      ],
      "metadata": {
        "id": "-L1ZnPBlHSLs"
      }
    },
    {
      "cell_type": "code",
      "source": [
        "# Let's rebuild our model\n",
        "\n",
        "# 1. Create the model\n",
        "model = tf.keras.Sequential([\n",
        "  tf.keras.layers.Dense(1)\n",
        "])\n",
        "\n",
        "# 2. Compile the model\n",
        "model.compile(loss=tf.keras.losses.mae,\n",
        "              optimizer=tf.keras.optimizers.SGD(),\n",
        "              metrics=[\"mae\"])\n",
        "\n",
        "# 3. Fit the model (this time we'll train for longer)\n",
        "model.fit(tf.expand_dims(X, axis=-1), y, epochs=100)"
      ],
      "metadata": {
        "colab": {
          "base_uri": "https://localhost:8080/"
        },
        "id": "IgejDu3kGs_n",
        "outputId": "9f1ef18e-c0a4-4ca0-b04b-53b79f197516"
      },
      "execution_count": 17,
      "outputs": [
        {
          "output_type": "stream",
          "name": "stdout",
          "text": [
            "Epoch 1/100\n",
            "1/1 [==============================] - 1s 686ms/step - loss: 15.0872 - mae: 15.0872\n",
            "Epoch 2/100\n",
            "1/1 [==============================] - 0s 34ms/step - loss: 14.8669 - mae: 14.8669\n",
            "Epoch 3/100\n",
            "1/1 [==============================] - 0s 27ms/step - loss: 14.7344 - mae: 14.7344\n",
            "Epoch 4/100\n",
            "1/1 [==============================] - 0s 20ms/step - loss: 14.6019 - mae: 14.6019\n",
            "Epoch 5/100\n",
            "1/1 [==============================] - 0s 19ms/step - loss: 14.4694 - mae: 14.4694\n",
            "Epoch 6/100\n",
            "1/1 [==============================] - 0s 14ms/step - loss: 14.3369 - mae: 14.3369\n",
            "Epoch 7/100\n",
            "1/1 [==============================] - 0s 18ms/step - loss: 14.2044 - mae: 14.2044\n",
            "Epoch 8/100\n",
            "1/1 [==============================] - 0s 14ms/step - loss: 14.0719 - mae: 14.0719\n",
            "Epoch 9/100\n",
            "1/1 [==============================] - 0s 15ms/step - loss: 13.9394 - mae: 13.9394\n",
            "Epoch 10/100\n",
            "1/1 [==============================] - 0s 30ms/step - loss: 13.8069 - mae: 13.8069\n",
            "Epoch 11/100\n",
            "1/1 [==============================] - 0s 13ms/step - loss: 13.6744 - mae: 13.6744\n",
            "Epoch 12/100\n",
            "1/1 [==============================] - 0s 15ms/step - loss: 13.5419 - mae: 13.5419\n",
            "Epoch 13/100\n",
            "1/1 [==============================] - 0s 13ms/step - loss: 13.4094 - mae: 13.4094\n",
            "Epoch 14/100\n",
            "1/1 [==============================] - 0s 34ms/step - loss: 13.2769 - mae: 13.2769\n",
            "Epoch 15/100\n",
            "1/1 [==============================] - 0s 13ms/step - loss: 13.1444 - mae: 13.1444\n",
            "Epoch 16/100\n",
            "1/1 [==============================] - 0s 25ms/step - loss: 13.0119 - mae: 13.0119\n",
            "Epoch 17/100\n",
            "1/1 [==============================] - 0s 26ms/step - loss: 12.8794 - mae: 12.8794\n",
            "Epoch 18/100\n",
            "1/1 [==============================] - 0s 34ms/step - loss: 12.7469 - mae: 12.7469\n",
            "Epoch 19/100\n",
            "1/1 [==============================] - 0s 22ms/step - loss: 12.6144 - mae: 12.6144\n",
            "Epoch 20/100\n",
            "1/1 [==============================] - 0s 16ms/step - loss: 12.4819 - mae: 12.4819\n",
            "Epoch 21/100\n",
            "1/1 [==============================] - 0s 18ms/step - loss: 12.3494 - mae: 12.3494\n",
            "Epoch 22/100\n",
            "1/1 [==============================] - 0s 15ms/step - loss: 12.2169 - mae: 12.2169\n",
            "Epoch 23/100\n",
            "1/1 [==============================] - 0s 13ms/step - loss: 12.0844 - mae: 12.0844\n",
            "Epoch 24/100\n",
            "1/1 [==============================] - 0s 13ms/step - loss: 11.9519 - mae: 11.9519\n",
            "Epoch 25/100\n",
            "1/1 [==============================] - 0s 18ms/step - loss: 11.8194 - mae: 11.8194\n",
            "Epoch 26/100\n",
            "1/1 [==============================] - 0s 14ms/step - loss: 11.6869 - mae: 11.6869\n",
            "Epoch 27/100\n",
            "1/1 [==============================] - 0s 13ms/step - loss: 11.5544 - mae: 11.5544\n",
            "Epoch 28/100\n",
            "1/1 [==============================] - 0s 12ms/step - loss: 11.4219 - mae: 11.4219\n",
            "Epoch 29/100\n",
            "1/1 [==============================] - 0s 15ms/step - loss: 11.2894 - mae: 11.2894\n",
            "Epoch 30/100\n",
            "1/1 [==============================] - 0s 16ms/step - loss: 11.1569 - mae: 11.1569\n",
            "Epoch 31/100\n",
            "1/1 [==============================] - 0s 15ms/step - loss: 11.0244 - mae: 11.0244\n",
            "Epoch 32/100\n",
            "1/1 [==============================] - 0s 13ms/step - loss: 10.8919 - mae: 10.8919\n",
            "Epoch 33/100\n",
            "1/1 [==============================] - 0s 14ms/step - loss: 10.7594 - mae: 10.7594\n",
            "Epoch 34/100\n",
            "1/1 [==============================] - 0s 13ms/step - loss: 10.6269 - mae: 10.6269\n",
            "Epoch 35/100\n",
            "1/1 [==============================] - 0s 15ms/step - loss: 10.4944 - mae: 10.4944\n",
            "Epoch 36/100\n",
            "1/1 [==============================] - 0s 45ms/step - loss: 10.3619 - mae: 10.3619\n",
            "Epoch 37/100\n",
            "1/1 [==============================] - 0s 20ms/step - loss: 10.2294 - mae: 10.2294\n",
            "Epoch 38/100\n",
            "1/1 [==============================] - 0s 23ms/step - loss: 10.0969 - mae: 10.0969\n",
            "Epoch 39/100\n",
            "1/1 [==============================] - 0s 14ms/step - loss: 9.9644 - mae: 9.9644\n",
            "Epoch 40/100\n",
            "1/1 [==============================] - 0s 44ms/step - loss: 9.8319 - mae: 9.8319\n",
            "Epoch 41/100\n",
            "1/1 [==============================] - 0s 13ms/step - loss: 9.6994 - mae: 9.6994\n",
            "Epoch 42/100\n",
            "1/1 [==============================] - 0s 13ms/step - loss: 9.5669 - mae: 9.5669\n",
            "Epoch 43/100\n",
            "1/1 [==============================] - 0s 18ms/step - loss: 9.4344 - mae: 9.4344\n",
            "Epoch 44/100\n",
            "1/1 [==============================] - 0s 17ms/step - loss: 9.3019 - mae: 9.3019\n",
            "Epoch 45/100\n",
            "1/1 [==============================] - 0s 18ms/step - loss: 9.1694 - mae: 9.1694\n",
            "Epoch 46/100\n",
            "1/1 [==============================] - 0s 14ms/step - loss: 9.0369 - mae: 9.0369\n",
            "Epoch 47/100\n",
            "1/1 [==============================] - 0s 13ms/step - loss: 8.9044 - mae: 8.9044\n",
            "Epoch 48/100\n",
            "1/1 [==============================] - 0s 25ms/step - loss: 8.7719 - mae: 8.7719\n",
            "Epoch 49/100\n",
            "1/1 [==============================] - 0s 18ms/step - loss: 8.6394 - mae: 8.6394\n",
            "Epoch 50/100\n",
            "1/1 [==============================] - 0s 18ms/step - loss: 8.5069 - mae: 8.5069\n",
            "Epoch 51/100\n",
            "1/1 [==============================] - 0s 22ms/step - loss: 8.3744 - mae: 8.3744\n",
            "Epoch 52/100\n",
            "1/1 [==============================] - 0s 12ms/step - loss: 8.2419 - mae: 8.2419\n",
            "Epoch 53/100\n",
            "1/1 [==============================] - 0s 14ms/step - loss: 8.1094 - mae: 8.1094\n",
            "Epoch 54/100\n",
            "1/1 [==============================] - 0s 13ms/step - loss: 7.9769 - mae: 7.9769\n",
            "Epoch 55/100\n",
            "1/1 [==============================] - 0s 20ms/step - loss: 7.8444 - mae: 7.8444\n",
            "Epoch 56/100\n",
            "1/1 [==============================] - 0s 15ms/step - loss: 7.7119 - mae: 7.7119\n",
            "Epoch 57/100\n",
            "1/1 [==============================] - 0s 14ms/step - loss: 7.5794 - mae: 7.5794\n",
            "Epoch 58/100\n",
            "1/1 [==============================] - 0s 15ms/step - loss: 7.4469 - mae: 7.4469\n",
            "Epoch 59/100\n",
            "1/1 [==============================] - 0s 17ms/step - loss: 7.3144 - mae: 7.3144\n",
            "Epoch 60/100\n",
            "1/1 [==============================] - 0s 26ms/step - loss: 7.1819 - mae: 7.1819\n",
            "Epoch 61/100\n",
            "1/1 [==============================] - 0s 15ms/step - loss: 7.0519 - mae: 7.0519\n",
            "Epoch 62/100\n",
            "1/1 [==============================] - 0s 18ms/step - loss: 7.0463 - mae: 7.0463\n",
            "Epoch 63/100\n",
            "1/1 [==============================] - 0s 16ms/step - loss: 7.0406 - mae: 7.0406\n",
            "Epoch 64/100\n",
            "1/1 [==============================] - 0s 33ms/step - loss: 7.0350 - mae: 7.0350\n",
            "Epoch 65/100\n",
            "1/1 [==============================] - 0s 17ms/step - loss: 7.0294 - mae: 7.0294\n",
            "Epoch 66/100\n",
            "1/1 [==============================] - 0s 17ms/step - loss: 7.0238 - mae: 7.0238\n",
            "Epoch 67/100\n",
            "1/1 [==============================] - 0s 17ms/step - loss: 7.0181 - mae: 7.0181\n",
            "Epoch 68/100\n",
            "1/1 [==============================] - 0s 15ms/step - loss: 7.0125 - mae: 7.0125\n",
            "Epoch 69/100\n",
            "1/1 [==============================] - 0s 16ms/step - loss: 7.0069 - mae: 7.0069\n",
            "Epoch 70/100\n",
            "1/1 [==============================] - 0s 22ms/step - loss: 7.0013 - mae: 7.0013\n",
            "Epoch 71/100\n",
            "1/1 [==============================] - 0s 20ms/step - loss: 6.9956 - mae: 6.9956\n",
            "Epoch 72/100\n",
            "1/1 [==============================] - 0s 21ms/step - loss: 6.9900 - mae: 6.9900\n",
            "Epoch 73/100\n",
            "1/1 [==============================] - 0s 19ms/step - loss: 6.9844 - mae: 6.9844\n",
            "Epoch 74/100\n",
            "1/1 [==============================] - 0s 14ms/step - loss: 6.9788 - mae: 6.9788\n",
            "Epoch 75/100\n",
            "1/1 [==============================] - 0s 14ms/step - loss: 6.9731 - mae: 6.9731\n",
            "Epoch 76/100\n",
            "1/1 [==============================] - 0s 13ms/step - loss: 6.9675 - mae: 6.9675\n",
            "Epoch 77/100\n",
            "1/1 [==============================] - 0s 19ms/step - loss: 6.9619 - mae: 6.9619\n",
            "Epoch 78/100\n",
            "1/1 [==============================] - 0s 14ms/step - loss: 6.9563 - mae: 6.9563\n",
            "Epoch 79/100\n",
            "1/1 [==============================] - 0s 19ms/step - loss: 6.9506 - mae: 6.9506\n",
            "Epoch 80/100\n",
            "1/1 [==============================] - 0s 14ms/step - loss: 6.9450 - mae: 6.9450\n",
            "Epoch 81/100\n",
            "1/1 [==============================] - 0s 27ms/step - loss: 6.9394 - mae: 6.9394\n",
            "Epoch 82/100\n",
            "1/1 [==============================] - 0s 22ms/step - loss: 6.9338 - mae: 6.9338\n",
            "Epoch 83/100\n",
            "1/1 [==============================] - 0s 20ms/step - loss: 6.9281 - mae: 6.9281\n",
            "Epoch 84/100\n",
            "1/1 [==============================] - 0s 17ms/step - loss: 6.9225 - mae: 6.9225\n",
            "Epoch 85/100\n",
            "1/1 [==============================] - 0s 26ms/step - loss: 6.9169 - mae: 6.9169\n",
            "Epoch 86/100\n",
            "1/1 [==============================] - 0s 24ms/step - loss: 6.9113 - mae: 6.9113\n",
            "Epoch 87/100\n",
            "1/1 [==============================] - 0s 21ms/step - loss: 6.9056 - mae: 6.9056\n",
            "Epoch 88/100\n",
            "1/1 [==============================] - 0s 24ms/step - loss: 6.9000 - mae: 6.9000\n",
            "Epoch 89/100\n",
            "1/1 [==============================] - 0s 21ms/step - loss: 6.8944 - mae: 6.8944\n",
            "Epoch 90/100\n",
            "1/1 [==============================] - 0s 26ms/step - loss: 6.8888 - mae: 6.8888\n",
            "Epoch 91/100\n",
            "1/1 [==============================] - 0s 21ms/step - loss: 6.8831 - mae: 6.8831\n",
            "Epoch 92/100\n",
            "1/1 [==============================] - 0s 20ms/step - loss: 6.8775 - mae: 6.8775\n",
            "Epoch 93/100\n",
            "1/1 [==============================] - 0s 15ms/step - loss: 6.8719 - mae: 6.8719\n",
            "Epoch 94/100\n",
            "1/1 [==============================] - 0s 23ms/step - loss: 6.8663 - mae: 6.8663\n",
            "Epoch 95/100\n",
            "1/1 [==============================] - 0s 13ms/step - loss: 6.8606 - mae: 6.8606\n",
            "Epoch 96/100\n",
            "1/1 [==============================] - 0s 20ms/step - loss: 6.8550 - mae: 6.8550\n",
            "Epoch 97/100\n",
            "1/1 [==============================] - 0s 19ms/step - loss: 6.8494 - mae: 6.8494\n",
            "Epoch 98/100\n",
            "1/1 [==============================] - 0s 14ms/step - loss: 6.8438 - mae: 6.8438\n",
            "Epoch 99/100\n",
            "1/1 [==============================] - 0s 20ms/step - loss: 6.8381 - mae: 6.8381\n",
            "Epoch 100/100\n",
            "1/1 [==============================] - 0s 14ms/step - loss: 6.8325 - mae: 6.8325\n"
          ]
        },
        {
          "output_type": "execute_result",
          "data": {
            "text/plain": [
              "<keras.callbacks.History at 0x7f9a020bfe80>"
            ]
          },
          "metadata": {},
          "execution_count": 17
        }
      ]
    },
    {
      "cell_type": "code",
      "source": [
        "# Remind ourselves of the data\n",
        "X, y"
      ],
      "metadata": {
        "colab": {
          "base_uri": "https://localhost:8080/"
        },
        "id": "Wm1MIlhxHgvV",
        "outputId": "f8330fdc-d662-4530-b961-2b15d2814ef8"
      },
      "execution_count": 18,
      "outputs": [
        {
          "output_type": "execute_result",
          "data": {
            "text/plain": [
              "(<tf.Tensor: shape=(8,), dtype=float32, numpy=array([-7., -4., -1.,  2.,  5.,  8., 11., 14.], dtype=float32)>,\n",
              " <tf.Tensor: shape=(8,), dtype=float32, numpy=array([ 3.,  6.,  9., 12., 15., 18., 21., 24.], dtype=float32)>)"
            ]
          },
          "metadata": {},
          "execution_count": 18
        }
      ]
    },
    {
      "cell_type": "code",
      "source": [
        "# Let's see if our model's prediction has improved...\n",
        "model.predict([17.0])"
      ],
      "metadata": {
        "colab": {
          "base_uri": "https://localhost:8080/"
        },
        "id": "1yztjRYIKfcM",
        "outputId": "31bf03c0-6731-4829-a6d4-1f20e81065e4"
      },
      "execution_count": 19,
      "outputs": [
        {
          "output_type": "stream",
          "name": "stdout",
          "text": [
            "1/1 [==============================] - 0s 347ms/step\n"
          ]
        },
        {
          "output_type": "execute_result",
          "data": {
            "text/plain": [
              "array([[29.326906]], dtype=float32)"
            ]
          },
          "metadata": {},
          "execution_count": 19
        }
      ]
    },
    {
      "cell_type": "code",
      "source": [
        "# Let's see if we can make another to improve our model\n",
        "\n",
        "# 1. Create the model (this time with an extra hidden layer with 100 hidden units)\n",
        "model = tf.keras.Sequential([\n",
        "  tf.keras.layers.Dense(100, activation= None),\n",
        "  tf.keras.layers.Dense(1)\n",
        "])\n",
        "\n",
        "# 2. Compile the model\n",
        "model.compile(loss=\"mae\",\n",
        "              optimizer=tf.keras.optimizers.Adam(lr=0.01),\n",
        "              metrics=[\"mae\"])\n",
        "\n",
        "# 3. Fit the model\n",
        "model.fit(tf.expand_dims(X, axis=-1), y, epochs=100) "
      ],
      "metadata": {
        "colab": {
          "base_uri": "https://localhost:8080/"
        },
        "id": "CDX2MoM-Khn9",
        "outputId": "95a7f4de-c46e-4b61-9597-db9edc055ea5"
      },
      "execution_count": 20,
      "outputs": [
        {
          "output_type": "stream",
          "name": "stderr",
          "text": [
            "WARNING:absl:`lr` is deprecated in Keras optimizer, please use `learning_rate` or use the legacy optimizer, e.g.,tf.keras.optimizers.legacy.Adam.\n"
          ]
        },
        {
          "output_type": "stream",
          "name": "stdout",
          "text": [
            "Epoch 1/100\n",
            "1/1 [==============================] - 2s 2s/step - loss: 13.3342 - mae: 13.3342\n",
            "Epoch 2/100\n",
            "1/1 [==============================] - 0s 13ms/step - loss: 13.2327 - mae: 13.2327\n",
            "Epoch 3/100\n",
            "1/1 [==============================] - 0s 13ms/step - loss: 13.1312 - mae: 13.1312\n",
            "Epoch 4/100\n",
            "1/1 [==============================] - 0s 13ms/step - loss: 13.0296 - mae: 13.0296\n",
            "Epoch 5/100\n",
            "1/1 [==============================] - 0s 26ms/step - loss: 12.9279 - mae: 12.9279\n",
            "Epoch 6/100\n",
            "1/1 [==============================] - 0s 13ms/step - loss: 12.8262 - mae: 12.8262\n",
            "Epoch 7/100\n",
            "1/1 [==============================] - 0s 17ms/step - loss: 12.7243 - mae: 12.7243\n",
            "Epoch 8/100\n",
            "1/1 [==============================] - 0s 26ms/step - loss: 12.6223 - mae: 12.6223\n",
            "Epoch 9/100\n",
            "1/1 [==============================] - 0s 32ms/step - loss: 12.5202 - mae: 12.5202\n",
            "Epoch 10/100\n",
            "1/1 [==============================] - 0s 36ms/step - loss: 12.4179 - mae: 12.4179\n",
            "Epoch 11/100\n",
            "1/1 [==============================] - 0s 25ms/step - loss: 12.3155 - mae: 12.3155\n",
            "Epoch 12/100\n",
            "1/1 [==============================] - 0s 17ms/step - loss: 12.2130 - mae: 12.2130\n",
            "Epoch 13/100\n",
            "1/1 [==============================] - 0s 20ms/step - loss: 12.1103 - mae: 12.1103\n",
            "Epoch 14/100\n",
            "1/1 [==============================] - 0s 44ms/step - loss: 12.0075 - mae: 12.0075\n",
            "Epoch 15/100\n",
            "1/1 [==============================] - 0s 35ms/step - loss: 11.9045 - mae: 11.9045\n",
            "Epoch 16/100\n",
            "1/1 [==============================] - 0s 14ms/step - loss: 11.8013 - mae: 11.8013\n",
            "Epoch 17/100\n",
            "1/1 [==============================] - 0s 13ms/step - loss: 11.6979 - mae: 11.6979\n",
            "Epoch 18/100\n",
            "1/1 [==============================] - 0s 24ms/step - loss: 11.5944 - mae: 11.5944\n",
            "Epoch 19/100\n",
            "1/1 [==============================] - 0s 25ms/step - loss: 11.4906 - mae: 11.4906\n",
            "Epoch 20/100\n",
            "1/1 [==============================] - 0s 11ms/step - loss: 11.3866 - mae: 11.3866\n",
            "Epoch 21/100\n",
            "1/1 [==============================] - 0s 18ms/step - loss: 11.2824 - mae: 11.2824\n",
            "Epoch 22/100\n",
            "1/1 [==============================] - 0s 16ms/step - loss: 11.1779 - mae: 11.1779\n",
            "Epoch 23/100\n",
            "1/1 [==============================] - 0s 11ms/step - loss: 11.0733 - mae: 11.0733\n",
            "Epoch 24/100\n",
            "1/1 [==============================] - 0s 21ms/step - loss: 10.9683 - mae: 10.9683\n",
            "Epoch 25/100\n",
            "1/1 [==============================] - 0s 21ms/step - loss: 10.8631 - mae: 10.8631\n",
            "Epoch 26/100\n",
            "1/1 [==============================] - 0s 15ms/step - loss: 10.7575 - mae: 10.7575\n",
            "Epoch 27/100\n",
            "1/1 [==============================] - 0s 33ms/step - loss: 10.6517 - mae: 10.6517\n",
            "Epoch 28/100\n",
            "1/1 [==============================] - 0s 13ms/step - loss: 10.5456 - mae: 10.5456\n",
            "Epoch 29/100\n",
            "1/1 [==============================] - 0s 12ms/step - loss: 10.4391 - mae: 10.4391\n",
            "Epoch 30/100\n",
            "1/1 [==============================] - 0s 24ms/step - loss: 10.3323 - mae: 10.3323\n",
            "Epoch 31/100\n",
            "1/1 [==============================] - 0s 15ms/step - loss: 10.2252 - mae: 10.2252\n",
            "Epoch 32/100\n",
            "1/1 [==============================] - 0s 44ms/step - loss: 10.1176 - mae: 10.1176\n",
            "Epoch 33/100\n",
            "1/1 [==============================] - 0s 30ms/step - loss: 10.0097 - mae: 10.0097\n",
            "Epoch 34/100\n",
            "1/1 [==============================] - 0s 27ms/step - loss: 9.9014 - mae: 9.9014\n",
            "Epoch 35/100\n",
            "1/1 [==============================] - 0s 28ms/step - loss: 9.7927 - mae: 9.7927\n",
            "Epoch 36/100\n",
            "1/1 [==============================] - 0s 20ms/step - loss: 9.6835 - mae: 9.6835\n",
            "Epoch 37/100\n",
            "1/1 [==============================] - 0s 36ms/step - loss: 9.5738 - mae: 9.5738\n",
            "Epoch 38/100\n",
            "1/1 [==============================] - 0s 15ms/step - loss: 9.4637 - mae: 9.4637\n",
            "Epoch 39/100\n",
            "1/1 [==============================] - 0s 16ms/step - loss: 9.3532 - mae: 9.3532\n",
            "Epoch 40/100\n",
            "1/1 [==============================] - 0s 19ms/step - loss: 9.2421 - mae: 9.2421\n",
            "Epoch 41/100\n",
            "1/1 [==============================] - 0s 17ms/step - loss: 9.1305 - mae: 9.1305\n",
            "Epoch 42/100\n",
            "1/1 [==============================] - 0s 16ms/step - loss: 9.0183 - mae: 9.0183\n",
            "Epoch 43/100\n",
            "1/1 [==============================] - 0s 18ms/step - loss: 8.9056 - mae: 8.9056\n",
            "Epoch 44/100\n",
            "1/1 [==============================] - 0s 18ms/step - loss: 8.7924 - mae: 8.7924\n",
            "Epoch 45/100\n",
            "1/1 [==============================] - 0s 26ms/step - loss: 8.6785 - mae: 8.6785\n",
            "Epoch 46/100\n",
            "1/1 [==============================] - 0s 23ms/step - loss: 8.5641 - mae: 8.5641\n",
            "Epoch 47/100\n",
            "1/1 [==============================] - 0s 21ms/step - loss: 8.4491 - mae: 8.4491\n",
            "Epoch 48/100\n",
            "1/1 [==============================] - 0s 27ms/step - loss: 8.3334 - mae: 8.3334\n",
            "Epoch 49/100\n",
            "1/1 [==============================] - 0s 14ms/step - loss: 8.2171 - mae: 8.2171\n",
            "Epoch 50/100\n",
            "1/1 [==============================] - 0s 12ms/step - loss: 8.1001 - mae: 8.1001\n",
            "Epoch 51/100\n",
            "1/1 [==============================] - 0s 13ms/step - loss: 7.9824 - mae: 7.9824\n",
            "Epoch 52/100\n",
            "1/1 [==============================] - 0s 13ms/step - loss: 7.8641 - mae: 7.8641\n",
            "Epoch 53/100\n",
            "1/1 [==============================] - 0s 19ms/step - loss: 7.7450 - mae: 7.7450\n",
            "Epoch 54/100\n",
            "1/1 [==============================] - 0s 21ms/step - loss: 7.6252 - mae: 7.6252\n",
            "Epoch 55/100\n",
            "1/1 [==============================] - 0s 28ms/step - loss: 7.5047 - mae: 7.5047\n",
            "Epoch 56/100\n",
            "1/1 [==============================] - 0s 13ms/step - loss: 7.3834 - mae: 7.3834\n",
            "Epoch 57/100\n",
            "1/1 [==============================] - 0s 12ms/step - loss: 7.2614 - mae: 7.2614\n",
            "Epoch 58/100\n",
            "1/1 [==============================] - 0s 13ms/step - loss: 7.1386 - mae: 7.1386\n",
            "Epoch 59/100\n",
            "1/1 [==============================] - 0s 19ms/step - loss: 7.0149 - mae: 7.0149\n",
            "Epoch 60/100\n",
            "1/1 [==============================] - 0s 20ms/step - loss: 6.8905 - mae: 6.8905\n",
            "Epoch 61/100\n",
            "1/1 [==============================] - 0s 22ms/step - loss: 6.8065 - mae: 6.8065\n",
            "Epoch 62/100\n",
            "1/1 [==============================] - 0s 37ms/step - loss: 6.7924 - mae: 6.7924\n",
            "Epoch 63/100\n",
            "1/1 [==============================] - 0s 43ms/step - loss: 6.7785 - mae: 6.7785\n",
            "Epoch 64/100\n",
            "1/1 [==============================] - 0s 30ms/step - loss: 6.7648 - mae: 6.7648\n",
            "Epoch 65/100\n",
            "1/1 [==============================] - 0s 18ms/step - loss: 6.7513 - mae: 6.7513\n",
            "Epoch 66/100\n",
            "1/1 [==============================] - 0s 25ms/step - loss: 6.7381 - mae: 6.7381\n",
            "Epoch 67/100\n",
            "1/1 [==============================] - 0s 18ms/step - loss: 6.7250 - mae: 6.7250\n",
            "Epoch 68/100\n",
            "1/1 [==============================] - 0s 26ms/step - loss: 6.7121 - mae: 6.7121\n",
            "Epoch 69/100\n",
            "1/1 [==============================] - 0s 27ms/step - loss: 6.7342 - mae: 6.7342\n",
            "Epoch 70/100\n",
            "1/1 [==============================] - 0s 35ms/step - loss: 6.7553 - mae: 6.7553\n",
            "Epoch 71/100\n",
            "1/1 [==============================] - 0s 23ms/step - loss: 6.7665 - mae: 6.7665\n",
            "Epoch 72/100\n",
            "1/1 [==============================] - 0s 23ms/step - loss: 6.7688 - mae: 6.7688\n",
            "Epoch 73/100\n",
            "1/1 [==============================] - 0s 18ms/step - loss: 6.7631 - mae: 6.7631\n",
            "Epoch 74/100\n",
            "1/1 [==============================] - 0s 31ms/step - loss: 6.7502 - mae: 6.7502\n",
            "Epoch 75/100\n",
            "1/1 [==============================] - 0s 22ms/step - loss: 6.7308 - mae: 6.7308\n",
            "Epoch 76/100\n",
            "1/1 [==============================] - 0s 66ms/step - loss: 6.7056 - mae: 6.7056\n",
            "Epoch 77/100\n",
            "1/1 [==============================] - 0s 23ms/step - loss: 6.6752 - mae: 6.6752\n",
            "Epoch 78/100\n",
            "1/1 [==============================] - 0s 25ms/step - loss: 6.6401 - mae: 6.6401\n",
            "Epoch 79/100\n",
            "1/1 [==============================] - 0s 17ms/step - loss: 6.6011 - mae: 6.6011\n",
            "Epoch 80/100\n",
            "1/1 [==============================] - 0s 17ms/step - loss: 6.5928 - mae: 6.5928\n",
            "Epoch 81/100\n",
            "1/1 [==============================] - 0s 19ms/step - loss: 6.5841 - mae: 6.5841\n",
            "Epoch 82/100\n",
            "1/1 [==============================] - 0s 16ms/step - loss: 6.5751 - mae: 6.5751\n",
            "Epoch 83/100\n",
            "1/1 [==============================] - 0s 15ms/step - loss: 6.5659 - mae: 6.5659\n",
            "Epoch 84/100\n",
            "1/1 [==============================] - 0s 20ms/step - loss: 6.5564 - mae: 6.5564\n",
            "Epoch 85/100\n",
            "1/1 [==============================] - 0s 60ms/step - loss: 6.5467 - mae: 6.5467\n",
            "Epoch 86/100\n",
            "1/1 [==============================] - 0s 43ms/step - loss: 6.5368 - mae: 6.5368\n",
            "Epoch 87/100\n",
            "1/1 [==============================] - 0s 23ms/step - loss: 6.5266 - mae: 6.5266\n",
            "Epoch 88/100\n",
            "1/1 [==============================] - 0s 47ms/step - loss: 6.5163 - mae: 6.5163\n",
            "Epoch 89/100\n",
            "1/1 [==============================] - 0s 26ms/step - loss: 6.5058 - mae: 6.5058\n",
            "Epoch 90/100\n",
            "1/1 [==============================] - 0s 17ms/step - loss: 6.4951 - mae: 6.4951\n",
            "Epoch 91/100\n",
            "1/1 [==============================] - 0s 18ms/step - loss: 6.4843 - mae: 6.4843\n",
            "Epoch 92/100\n",
            "1/1 [==============================] - 0s 31ms/step - loss: 6.4734 - mae: 6.4734\n",
            "Epoch 93/100\n",
            "1/1 [==============================] - 0s 15ms/step - loss: 6.4622 - mae: 6.4622\n",
            "Epoch 94/100\n",
            "1/1 [==============================] - 0s 17ms/step - loss: 6.4510 - mae: 6.4510\n",
            "Epoch 95/100\n",
            "1/1 [==============================] - 0s 31ms/step - loss: 6.4396 - mae: 6.4396\n",
            "Epoch 96/100\n",
            "1/1 [==============================] - 0s 29ms/step - loss: 6.4281 - mae: 6.4281\n",
            "Epoch 97/100\n",
            "1/1 [==============================] - 0s 33ms/step - loss: 6.4165 - mae: 6.4165\n",
            "Epoch 98/100\n",
            "1/1 [==============================] - 0s 24ms/step - loss: 6.4048 - mae: 6.4048\n",
            "Epoch 99/100\n",
            "1/1 [==============================] - 0s 26ms/step - loss: 6.3929 - mae: 6.3929\n",
            "Epoch 100/100\n",
            "1/1 [==============================] - 0s 17ms/step - loss: 6.3810 - mae: 6.3810\n"
          ]
        },
        {
          "output_type": "execute_result",
          "data": {
            "text/plain": [
              "<keras.callbacks.History at 0x7f9a01fbc220>"
            ]
          },
          "metadata": {},
          "execution_count": 20
        }
      ]
    },
    {
      "cell_type": "code",
      "source": [
        "# Let's remind ourselves of the data\n",
        "X, y"
      ],
      "metadata": {
        "colab": {
          "base_uri": "https://localhost:8080/"
        },
        "id": "hgitq_d-KmRf",
        "outputId": "bdf81e25-0a3a-44b7-d1dd-f09ddff9b692"
      },
      "execution_count": 21,
      "outputs": [
        {
          "output_type": "execute_result",
          "data": {
            "text/plain": [
              "(<tf.Tensor: shape=(8,), dtype=float32, numpy=array([-7., -4., -1.,  2.,  5.,  8., 11., 14.], dtype=float32)>,\n",
              " <tf.Tensor: shape=(8,), dtype=float32, numpy=array([ 3.,  6.,  9., 12., 15., 18., 21., 24.], dtype=float32)>)"
            ]
          },
          "metadata": {},
          "execution_count": 21
        }
      ]
    },
    {
      "cell_type": "code",
      "source": [
        "# Let's try to make a prediction\n",
        "model.predict([17.0])"
      ],
      "metadata": {
        "colab": {
          "base_uri": "https://localhost:8080/"
        },
        "id": "r9cvDqGgK0SK",
        "outputId": "4c5b7f05-4935-4a45-c76e-309a413438a5"
      },
      "execution_count": 22,
      "outputs": [
        {
          "output_type": "stream",
          "name": "stdout",
          "text": [
            "1/1 [==============================] - 0s 372ms/step\n"
          ]
        },
        {
          "output_type": "execute_result",
          "data": {
            "text/plain": [
              "array([[30.60021]], dtype=float32)"
            ]
          },
          "metadata": {},
          "execution_count": 22
        }
      ]
    },
    {
      "cell_type": "markdown",
      "source": [
        "\n",
        "## Evaluting a model\n",
        "\n",
        "In practice, a typical workflow you'll go through when building neural networks is:\n",
        "\n",
        "```\n",
        "Build a model  -> fit it -> evaluate it -> tweak a model -> fit it -> evaluate it -> tweak a model -> fit it -> evaluate it...\n",
        "```\n",
        "\n",
        "When it comes to evaluation... there are 3 words you should memorize:\n",
        "\n",
        "    \n",
        "\n",
        "\n",
        "> \"Visualize, visualize, visualize\"\n",
        "\n",
        "\n",
        "\n",
        "\n",
        "It's a good idea to visualize:\n",
        "\n",
        "- The data - what data are we working with? What does it look like?\n",
        "- The model itself - what does our model look like?\n",
        "- The training of a model - how does a model perform while it learns?\n",
        "- This is formatted as code\n",
        "\n",
        "\n",
        "The predictions of the model - how do the predictions of a model line up against the ground truth (the original labels)?\n",
        "\n"
      ],
      "metadata": {
        "id": "TUKTK0IzK4NS"
      }
    },
    {
      "cell_type": "code",
      "source": [
        "# Make a bigger dataset\n",
        "X = tf.range(-100, 100, 4)\n",
        "X"
      ],
      "metadata": {
        "colab": {
          "base_uri": "https://localhost:8080/"
        },
        "id": "-jzSgkfdK2L2",
        "outputId": "59fda725-35f5-40fd-fcac-aeb2bf84b7bb"
      },
      "execution_count": 23,
      "outputs": [
        {
          "output_type": "execute_result",
          "data": {
            "text/plain": [
              "<tf.Tensor: shape=(50,), dtype=int32, numpy=\n",
              "array([-100,  -96,  -92,  -88,  -84,  -80,  -76,  -72,  -68,  -64,  -60,\n",
              "        -56,  -52,  -48,  -44,  -40,  -36,  -32,  -28,  -24,  -20,  -16,\n",
              "        -12,   -8,   -4,    0,    4,    8,   12,   16,   20,   24,   28,\n",
              "         32,   36,   40,   44,   48,   52,   56,   60,   64,   68,   72,\n",
              "         76,   80,   84,   88,   92,   96], dtype=int32)>"
            ]
          },
          "metadata": {},
          "execution_count": 23
        }
      ]
    },
    {
      "cell_type": "code",
      "source": [
        "# Make labels for the dataset\n",
        "y = X + 10\n",
        "y"
      ],
      "metadata": {
        "colab": {
          "base_uri": "https://localhost:8080/"
        },
        "id": "K5FV0-rhTFRJ",
        "outputId": "63d77675-7668-4eeb-fee1-0713ca0cbba6"
      },
      "execution_count": 24,
      "outputs": [
        {
          "output_type": "execute_result",
          "data": {
            "text/plain": [
              "<tf.Tensor: shape=(50,), dtype=int32, numpy=\n",
              "array([-90, -86, -82, -78, -74, -70, -66, -62, -58, -54, -50, -46, -42,\n",
              "       -38, -34, -30, -26, -22, -18, -14, -10,  -6,  -2,   2,   6,  10,\n",
              "        14,  18,  22,  26,  30,  34,  38,  42,  46,  50,  54,  58,  62,\n",
              "        66,  70,  74,  78,  82,  86,  90,  94,  98, 102, 106], dtype=int32)>"
            ]
          },
          "metadata": {},
          "execution_count": 24
        }
      ]
    },
    {
      "cell_type": "code",
      "source": [
        "# Visualize the data\n",
        "import matplotlib.pyplot as plt\n",
        "\n",
        "plt.scatter(X, y);"
      ],
      "metadata": {
        "colab": {
          "base_uri": "https://localhost:8080/",
          "height": 430
        },
        "id": "uT0-iOpfTNwk",
        "outputId": "303deabb-d3a1-4434-da08-a46fd4eccc1f"
      },
      "execution_count": 25,
      "outputs": [
        {
          "output_type": "display_data",
          "data": {
            "text/plain": [
              "<Figure size 640x480 with 1 Axes>"
            ],
            "image/png": "[encoded data removed]"
          },
          "metadata": {}
        }
      ]
    },
    {
      "cell_type": "markdown",
      "source": [
        "\n",
        "## The 3 sets...\n",
        "\n",
        "- Training set - the model learns from this data, which is typically 70-80% of the total data you have available.\n",
        "- Validation set - the model gets tuned on this data, which is typically 10-15% of the data available.\n",
        "- Test set - the model gets evaluated on this data to test what is has learned, this set is typically 10-15% of the total data available.\n",
        "\n"
      ],
      "metadata": {
        "id": "E_-gyfWxT31X"
      }
    },
    {
      "cell_type": "code",
      "source": [
        "# Check the length of how many samples we have\n",
        "len(X)"
      ],
      "metadata": {
        "colab": {
          "base_uri": "https://localhost:8080/"
        },
        "id": "AB6TFVdHTzTz",
        "outputId": "342a095d-3563-4586-d286-13a6c7912a76"
      },
      "execution_count": 26,
      "outputs": [
        {
          "output_type": "execute_result",
          "data": {
            "text/plain": [
              "50"
            ]
          },
          "metadata": {},
          "execution_count": 26
        }
      ]
    },
    {
      "cell_type": "code",
      "source": [
        "# Split the data into train and test sets\n",
        "X_train = X[:40] # first 40 are training samples (80% of the data) \n",
        "y_train = y[:40]\n",
        "\n",
        "X_test = X[40:] # last 10 are testing samples (20% of the data)\n",
        "y_test = y[40:]\n",
        "\n",
        "len(X_train), len(X_test), len(y_train), len(y_test)"
      ],
      "metadata": {
        "colab": {
          "base_uri": "https://localhost:8080/"
        },
        "id": "XOWD6gLYVFf8",
        "outputId": "8a26169e-64f4-474b-a1c7-6d45f06eab78"
      },
      "execution_count": 27,
      "outputs": [
        {
          "output_type": "execute_result",
          "data": {
            "text/plain": [
              "(40, 10, 40, 10)"
            ]
          },
          "metadata": {},
          "execution_count": 27
        }
      ]
    },
    {
      "cell_type": "markdown",
      "source": [
        "\n",
        "## Visualizing the data\n",
        "\n",
        "Now we've got our data in training and test sets... let's visualize it again!\n"
      ],
      "metadata": {
        "id": "KxJXZ3_5VaTq"
      }
    },
    {
      "cell_type": "code",
      "source": [
        "plt.figure(figsize=(10, 7))\n",
        "# Plot training data in blue\n",
        "plt.scatter(X_train, y_train, c=\"b\", label=\"Training data\") # our model will learn on this\n",
        "# Plot test data in green\n",
        "plt.scatter(X_test, y_test, c=\"g\", label=\"Testing data\") # want our model to be able to predict this (given X, what's y?)\n",
        "# Show a legend\n",
        "plt.legend();"
      ],
      "metadata": {
        "colab": {
          "base_uri": "https://localhost:8080/",
          "height": 599
        },
        "id": "_Bn--4IYVH1N",
        "outputId": "a0b9321e-3582-4751-8fd9-46cce22fb14c"
      },
      "execution_count": 28,
      "outputs": [
        {
          "output_type": "display_data",
          "data": {
            "text/plain": [
              "<Figure size 1000x700 with 1 Axes>"
            ],
            "image/png": "[encoded data removed]"
          },
          "metadata": {}
        }
      ]
    },
    {
      "cell_type": "code",
      "source": [
        "# Let's have a look at how to build a neural network for our data\n",
        "\n",
        "# 1. Create a model\n",
        "model = tf.keras.Sequential([\n",
        "  tf.keras.layers.Dense(1)                             \n",
        "])\n",
        "\n",
        "# 2. Compile the model\n",
        "model.compile(loss=tf.keras.losses.mae,\n",
        "              optimizer=tf.keras.optimizers.SGD(),\n",
        "              metrics=[\"mae\"])\n",
        "\n",
        "# # 3. Fit the model\n",
        "# model.fit(X_train, y_train, epochs=100)"
      ],
      "metadata": {
        "id": "fpsCnZFhVw_f"
      },
      "execution_count": 29,
      "outputs": []
    },
    {
      "cell_type": "markdown",
      "source": [
        "## Visualizing the model"
      ],
      "metadata": {
        "id": "Y-QtG3QpYeiV"
      }
    },
    {
      "cell_type": "code",
      "source": [
        "model.summary()"
      ],
      "metadata": {
        "colab": {
          "base_uri": "https://localhost:8080/",
          "height": 336
        },
        "id": "P65X8ELWYaOj",
        "outputId": "4fd83f2f-2ef4-46af-9f08-804cba792586"
      },
      "execution_count": 30,
      "outputs": [
        {
          "output_type": "error",
          "ename": "ValueError",
          "evalue": "ignored",
          "traceback": [
            "\u001b[0;31m---------------------------------------------------------------------------\u001b[0m",
            "\u001b[0;31mValueError\u001b[0m                                Traceback (most recent call last)",
            "\u001b[0;32m<ipython-input-30-5f15418b3570>\u001b[0m in \u001b[0;36m<cell line: 1>\u001b[0;34m()\u001b[0m\n\u001b[0;32m----> 1\u001b[0;31m \u001b[0mmodel\u001b[0m\u001b[0;34m.\u001b[0m\u001b[0msummary\u001b[0m\u001b[0;34m(\u001b[0m\u001b[0;34m)\u001b[0m\u001b[0;34m\u001b[0m\u001b[0;34m\u001b[0m\u001b[0m\n\u001b[0m",
            "\u001b[0;32m/usr/local/lib/python3.10/dist-packages/keras/engine/training.py\u001b[0m in \u001b[0;36msummary\u001b[0;34m(self, line_length, positions, print_fn, expand_nested, show_trainable, layer_range)\u001b[0m\n\u001b[1;32m   3227\u001b[0m         \"\"\"\n\u001b[1;32m   3228\u001b[0m         \u001b[0;32mif\u001b[0m \u001b[0;32mnot\u001b[0m \u001b[0mself\u001b[0m\u001b[0;34m.\u001b[0m\u001b[0mbuilt\u001b[0m\u001b[0;34m:\u001b[0m\u001b[0;34m\u001b[0m\u001b[0;34m\u001b[0m\u001b[0m\n\u001b[0;32m-> 3229\u001b[0;31m             raise ValueError(\n\u001b[0m\u001b[1;32m   3230\u001b[0m                 \u001b[0;34m\"This model has not yet been built. \"\u001b[0m\u001b[0;34m\u001b[0m\u001b[0;34m\u001b[0m\u001b[0m\n\u001b[1;32m   3231\u001b[0m                 \u001b[0;34m\"Build the model first by calling `build()` or by calling \"\u001b[0m\u001b[0;34m\u001b[0m\u001b[0;34m\u001b[0m\u001b[0m\n",
            "\u001b[0;31mValueError\u001b[0m: This model has not yet been built. Build the model first by calling `build()` or by calling the model on a batch of data."
          ]
        }
      ]
    },
    {
      "cell_type": "code",
      "source": [
        "X[0], y[0]"
      ],
      "metadata": {
        "colab": {
          "base_uri": "https://localhost:8080/"
        },
        "id": "yBX3cSxTYh4y",
        "outputId": "cb117522-e44c-42e0-f5db-7a76e92e594a"
      },
      "execution_count": 31,
      "outputs": [
        {
          "output_type": "execute_result",
          "data": {
            "text/plain": [
              "(<tf.Tensor: shape=(), dtype=int32, numpy=-100>,\n",
              " <tf.Tensor: shape=(), dtype=int32, numpy=-90>)"
            ]
          },
          "metadata": {},
          "execution_count": 31
        }
      ]
    },
    {
      "cell_type": "code",
      "source": [
        "# Let's create a model which builds automatically by defining the input_shape argument in the first layer\n",
        "tf.random.set_seed(42)\n",
        "\n",
        "# 1. Create a model (same as above)\n",
        "model = tf.keras.Sequential([\n",
        "  tf.keras.layers.Dense(10, input_shape=[1], name=\"input_layer\"),\n",
        "  tf.keras.layers.Dense(1, name=\"output_layer\")\n",
        "], name=\"model_1\")\n",
        "\n",
        "# 2. Compile the model (same as above)\n",
        "model.compile(loss=tf.keras.losses.mae,\n",
        "              optimizer=tf.keras.optimizers.SGD(),\n",
        "              metrics=[\"mae\"])"
      ],
      "metadata": {
        "id": "Ac3mofXvYsb7"
      },
      "execution_count": 32,
      "outputs": []
    },
    {
      "cell_type": "code",
      "source": [
        "model.summary()"
      ],
      "metadata": {
        "colab": {
          "base_uri": "https://localhost:8080/"
        },
        "id": "BT0qtywhYvM8",
        "outputId": "a712e0d6-1cf5-49b3-bbd1-72bc5e81a877"
      },
      "execution_count": 33,
      "outputs": [
        {
          "output_type": "stream",
          "name": "stdout",
          "text": [
            "Model: \"model_1\"\n",
            "_________________________________________________________________\n",
            " Layer (type)                Output Shape              Param #   \n",
            "=================================================================\n",
            " input_layer (Dense)         (None, 10)                20        \n",
            "                                                                 \n",
            " output_layer (Dense)        (None, 1)                 11        \n",
            "                                                                 \n",
            "=================================================================\n",
            "Total params: 31\n",
            "Trainable params: 31\n",
            "Non-trainable params: 0\n",
            "_________________________________________________________________\n"
          ]
        }
      ]
    },
    {
      "cell_type": "markdown",
      "source": [
        "## Types of Parameters\n",
        "- Total params - total number of parameters in the model.\n",
        "- Trainable parameters - these are the parameters (patterns) the model can update as it trains.\n",
        "- Non-trainable params - these parameters aren't updated during training (this is typical when you bring in already learn patterns or parameters from other models during transfer learning).\n"
      ],
      "metadata": {
        "id": "D2OTcd9DZjB8"
      }
    },
    {
      "cell_type": "code",
      "source": [
        "# Let's fit our model to the training data\n",
        "model.fit(X_train, y_train, epochs=100, verbose=0)"
      ],
      "metadata": {
        "colab": {
          "base_uri": "https://localhost:8080/"
        },
        "id": "IO7ODT12YydE",
        "outputId": "0eb0a883-d08f-45e6-a509-d6f3586ff9c1"
      },
      "execution_count": 34,
      "outputs": [
        {
          "output_type": "execute_result",
          "data": {
            "text/plain": [
              "<keras.callbacks.History at 0x7f9a0320c790>"
            ]
          },
          "metadata": {},
          "execution_count": 34
        }
      ]
    },
    {
      "cell_type": "code",
      "source": [
        "# Get a summary of our model\n",
        "model.summary()"
      ],
      "metadata": {
        "colab": {
          "base_uri": "https://localhost:8080/"
        },
        "id": "qOk19IsSZ3RK",
        "outputId": "ba939e48-480a-4ecd-ffec-9d6f98b85e7b"
      },
      "execution_count": 35,
      "outputs": [
        {
          "output_type": "stream",
          "name": "stdout",
          "text": [
            "Model: \"model_1\"\n",
            "_________________________________________________________________\n",
            " Layer (type)                Output Shape              Param #   \n",
            "=================================================================\n",
            " input_layer (Dense)         (None, 10)                20        \n",
            "                                                                 \n",
            " output_layer (Dense)        (None, 1)                 11        \n",
            "                                                                 \n",
            "=================================================================\n",
            "Total params: 31\n",
            "Trainable params: 31\n",
            "Non-trainable params: 0\n",
            "_________________________________________________________________\n"
          ]
        }
      ]
    },
    {
      "cell_type": "code",
      "source": [
        "from tensorflow.keras.utils import plot_model\n",
        "\n",
        "plot_model(model=model, show_shapes=True)"
      ],
      "metadata": {
        "colab": {
          "base_uri": "https://localhost:8080/",
          "height": 312
        },
        "id": "XmJigp9dZ6db",
        "outputId": "87ae3936-c108-4937-cf40-77531ccaf756"
      },
      "execution_count": 36,
      "outputs": [
        {
          "output_type": "execute_result",
          "data": {
            "image/png": "[encoded data removed]",
            "text/plain": [
              "<IPython.core.display.Image object>"
            ]
          },
          "metadata": {},
          "execution_count": 36
        }
      ]
    },
    {
      "cell_type": "markdown",
      "source": [
        "\n",
        "## Visualizing our model's predictions\n",
        "\n",
        "To visualize predictions, it's a good idea to plot them against the ground truth labels.\n",
        "\n",
        "Often you'll see this in the form of `y_test` or `y_true` versus `y_pred` (ground truth versus your model's predictions).\n"
      ],
      "metadata": {
        "id": "nbNsDL64aQvU"
      }
    },
    {
      "cell_type": "code",
      "source": [
        "# Make some predictions\n",
        "y_pred = model.predict(X_test)\n",
        "y_pred "
      ],
      "metadata": {
        "colab": {
          "base_uri": "https://localhost:8080/"
        },
        "id": "-dYEFZXQZ9eY",
        "outputId": "1d32f289-528f-471d-9b68-06994a704142"
      },
      "execution_count": 37,
      "outputs": [
        {
          "output_type": "stream",
          "name": "stdout",
          "text": [
            "1/1 [==============================] - 0s 67ms/step\n"
          ]
        },
        {
          "output_type": "execute_result",
          "data": {
            "text/plain": [
              "array([[ 76.33467 ],\n",
              "       [ 81.307396],\n",
              "       [ 86.28012 ],\n",
              "       [ 91.25284 ],\n",
              "       [ 96.22556 ],\n",
              "       [101.19828 ],\n",
              "       [106.171005],\n",
              "       [111.14373 ],\n",
              "       [116.11645 ],\n",
              "       [121.08917 ]], dtype=float32)"
            ]
          },
          "metadata": {},
          "execution_count": 37
        }
      ]
    },
    {
      "cell_type": "code",
      "source": [
        "y_test"
      ],
      "metadata": {
        "colab": {
          "base_uri": "https://localhost:8080/"
        },
        "id": "dfXs49UraXv7",
        "outputId": "080ea9e5-36c2-4cc5-8625-39717e2959ec"
      },
      "execution_count": 38,
      "outputs": [
        {
          "output_type": "execute_result",
          "data": {
            "text/plain": [
              "<tf.Tensor: shape=(10,), dtype=int32, numpy=array([ 70,  74,  78,  82,  86,  90,  94,  98, 102, 106], dtype=int32)>"
            ]
          },
          "metadata": {},
          "execution_count": 38
        }
      ]
    },
    {
      "cell_type": "markdown",
      "source": [
        "### Create a Plotting Function"
      ],
      "metadata": {
        "id": "ZZpEl1Akad88"
      }
    },
    {
      "cell_type": "code",
      "source": [
        "# Let's create a plotting function\n",
        "def plot_predictions(train_data=X_train,\n",
        "                     train_labels=y_train,\n",
        "                     test_data=X_test,\n",
        "                     test_labels=y_test,\n",
        "                     predictions=y_pred):\n",
        "  \"\"\"\n",
        "  Plots training data, test data and compares predictions to ground truth labels.\n",
        "  \"\"\"\n",
        "  plt.figure(figsize=(10, 7))\n",
        "  # Plot training data in blue\n",
        "  plt.scatter(train_data, train_labels, c=\"b\", label=\"Training data\")\n",
        "  # Plot testing data in green\n",
        "  plt.scatter(test_data, test_labels, c=\"g\", label=\"Testing data\")\n",
        "  # Plot model's predictions in red\n",
        "  plt.scatter(test_data, predictions, c=\"r\", label=\"Predictions\")\n",
        "  # Show the legend\n",
        "  plt.legend();"
      ],
      "metadata": {
        "id": "N3dl0DUnabKP"
      },
      "execution_count": 39,
      "outputs": []
    },
    {
      "cell_type": "code",
      "source": [
        "plot_predictions(train_data=X_train,\n",
        "                 train_labels=y_train,\n",
        "                 test_data=X_test,\n",
        "                 test_labels=y_test,\n",
        "                 predictions=y_pred)"
      ],
      "metadata": {
        "colab": {
          "base_uri": "https://localhost:8080/",
          "height": 599
        },
        "id": "vxwJy95FajEN",
        "outputId": "6d1981d9-2b1f-4141-c1e7-37f568339e3d"
      },
      "execution_count": 40,
      "outputs": [
        {
          "output_type": "display_data",
          "data": {
            "text/plain": [
              "<Figure size 1000x700 with 1 Axes>"
            ],
            "image/png": "[encoded data removed]"
          },
          "metadata": {}
        }
      ]
    },
    {
      "cell_type": "markdown",
      "source": [
        "## Evaluting our model's predictions with regression evaluation metrics\n",
        "\n",
        "Depending on the problem you're working on, there will be different evaluation metrics to evaluate your model's performance.\n",
        "\n",
        "Since we're working on a regression, two of the main metrics:\n",
        "\n",
        "    \n",
        "    \n",
        "- **MAE** - mean absolute error, \"on average, how wrong is each of my model's predictions\"\n",
        "- **MSE** - mean square error, \"square the average errors\"\n",
        "\n"
      ],
      "metadata": {
        "id": "7wY6QJKzaqzf"
      }
    },
    {
      "cell_type": "code",
      "source": [
        "# Evaluate the model on the test\n",
        "model.evaluate(X_test, y_test)"
      ],
      "metadata": {
        "id": "CQ5XYH-uamDa",
        "colab": {
          "base_uri": "https://localhost:8080/"
        },
        "outputId": "641b3559-c8b7-4e61-f754-f63b6f7be18f"
      },
      "execution_count": 41,
      "outputs": [
        {
          "output_type": "stream",
          "name": "stdout",
          "text": [
            "1/1 [==============================] - 0s 162ms/step - loss: 10.7119 - mae: 10.7119\n"
          ]
        },
        {
          "output_type": "execute_result",
          "data": {
            "text/plain": [
              "[10.71192455291748, 10.71192455291748]"
            ]
          },
          "metadata": {},
          "execution_count": 41
        }
      ]
    },
    {
      "cell_type": "code",
      "source": [
        "# Calculate the mean absolute error\n",
        "mae = tf.metrics.mean_absolute_error(y_true=y_test, \n",
        "                                     y_pred=tf.constant(y_pred))\n",
        "mae"
      ],
      "metadata": {
        "colab": {
          "base_uri": "https://localhost:8080/"
        },
        "id": "-mR-4IXJi9Ew",
        "outputId": "7143bf75-5b01-4c69-9139-f6e1e13affeb"
      },
      "execution_count": 42,
      "outputs": [
        {
          "output_type": "execute_result",
          "data": {
            "text/plain": [
              "<tf.Tensor: shape=(10,), dtype=float32, numpy=\n",
              "array([13.399198, 11.077042, 10.      , 10.250567, 11.690226, 14.318968,\n",
              "       18.171005, 23.14373 , 28.11645 , 33.089172], dtype=float32)>"
            ]
          },
          "metadata": {},
          "execution_count": 42
        }
      ]
    },
    {
      "cell_type": "code",
      "source": [
        "tf.constant(y_pred)"
      ],
      "metadata": {
        "colab": {
          "base_uri": "https://localhost:8080/"
        },
        "id": "TssalLZei8yH",
        "outputId": "491eecf8-2b9f-444a-f430-ed9f5bd65332"
      },
      "execution_count": 43,
      "outputs": [
        {
          "output_type": "execute_result",
          "data": {
            "text/plain": [
              "<tf.Tensor: shape=(10, 1), dtype=float32, numpy=\n",
              "array([[ 76.33467 ],\n",
              "       [ 81.307396],\n",
              "       [ 86.28012 ],\n",
              "       [ 91.25284 ],\n",
              "       [ 96.22556 ],\n",
              "       [101.19828 ],\n",
              "       [106.171005],\n",
              "       [111.14373 ],\n",
              "       [116.11645 ],\n",
              "       [121.08917 ]], dtype=float32)>"
            ]
          },
          "metadata": {},
          "execution_count": 43
        }
      ]
    },
    {
      "cell_type": "code",
      "source": [
        "y_test"
      ],
      "metadata": {
        "colab": {
          "base_uri": "https://localhost:8080/"
        },
        "id": "n87jEYzcjLDp",
        "outputId": "f41f738a-6bc0-4fef-e6d3-6503abfbd450"
      },
      "execution_count": 44,
      "outputs": [
        {
          "output_type": "execute_result",
          "data": {
            "text/plain": [
              "<tf.Tensor: shape=(10,), dtype=int32, numpy=array([ 70,  74,  78,  82,  86,  90,  94,  98, 102, 106], dtype=int32)>"
            ]
          },
          "metadata": {},
          "execution_count": 44
        }
      ]
    },
    {
      "cell_type": "code",
      "source": [
        "tf.squeeze(y_pred)"
      ],
      "metadata": {
        "colab": {
          "base_uri": "https://localhost:8080/"
        },
        "id": "mCg-qPX6jqit",
        "outputId": "d97b7843-cf5b-4e5a-8dc8-738d84f57cf4"
      },
      "execution_count": 45,
      "outputs": [
        {
          "output_type": "execute_result",
          "data": {
            "text/plain": [
              "<tf.Tensor: shape=(10,), dtype=float32, numpy=\n",
              "array([ 76.33467 ,  81.307396,  86.28012 ,  91.25284 ,  96.22556 ,\n",
              "       101.19828 , 106.171005, 111.14373 , 116.11645 , 121.08917 ],\n",
              "      dtype=float32)>"
            ]
          },
          "metadata": {},
          "execution_count": 45
        }
      ]
    },
    {
      "cell_type": "code",
      "source": [
        "# Calculate the mean absolute error\n",
        "mae = tf.metrics.mean_absolute_error(y_true=y_test,\n",
        "                                     y_pred=tf.squeeze(y_pred))\n",
        "mae"
      ],
      "metadata": {
        "colab": {
          "base_uri": "https://localhost:8080/"
        },
        "id": "1boZhON4jtIJ",
        "outputId": "30025ed1-53ab-4f9e-a53e-14c3f30942cb"
      },
      "execution_count": 46,
      "outputs": [
        {
          "output_type": "execute_result",
          "data": {
            "text/plain": [
              "<tf.Tensor: shape=(), dtype=float32, numpy=10.711923>"
            ]
          },
          "metadata": {},
          "execution_count": 46
        }
      ]
    },
    {
      "cell_type": "code",
      "source": [
        "# Calculate the mean square error\n",
        "mse = tf.metrics.mean_squared_error(y_true=y_test,\n",
        "                                    y_pred=tf.squeeze(y_pred))\n",
        "mse"
      ],
      "metadata": {
        "colab": {
          "base_uri": "https://localhost:8080/"
        },
        "id": "06LrrA1hjyKw",
        "outputId": "e4b88d3e-88b0-4222-9a69-2d737581b226"
      },
      "execution_count": 47,
      "outputs": [
        {
          "output_type": "execute_result",
          "data": {
            "text/plain": [
              "<tf.Tensor: shape=(), dtype=float32, numpy=122.551346>"
            ]
          },
          "metadata": {},
          "execution_count": 47
        }
      ]
    },
    {
      "cell_type": "code",
      "source": [
        "# Make some functions to reuse MAE and MSE\n",
        "def mae(y_true, y_pred):\n",
        "  return tf.metrics.mean_absolute_error(y_true=y_true,\n",
        "                                        y_pred=tf.squeeze(y_pred))\n",
        "  \n",
        "def mse(y_true, y_pred):\n",
        "  return tf.metrics.mean_squared_error(y_true=y_true,\n",
        "                                       y_pred=tf.squeeze(y_pred))"
      ],
      "metadata": {
        "id": "wlrcp4K6j4mM"
      },
      "execution_count": 48,
      "outputs": []
    },
    {
      "cell_type": "markdown",
      "source": [
        "\n",
        "## Running experiments to improve our model\n",
        "```\n",
        "Build a model -> fit it -> evaluate it -> tweak it -> fit it -> evaluate it -> tweak it -> fit it -> evaluate it ...\n",
        "```\n",
        "- Get more data - get more examples for your model to train on (more opportunities to learn patterns or relationships between features and labels).\n",
        "- Make your model larger (using a more complex model) - this might come in the form of more layers or more hidden units in each layer.\n",
        "- Train for longer - give your model more of a chance to find patterns in the data.\n",
        "\n",
        "Let's do 3 modelling experiments:\n",
        "\n",
        "1. model_1 - same as the original model, 1 layer, trained for 100 epochs\n",
        "2. model_2 - 2 layers, trained for 100 epochs\n",
        "3. model_3 - 2 layers, trained for 500 epochs\n",
        "\n",
        "### Build model_1\n"
      ],
      "metadata": {
        "id": "hJ0VmSRxtvHL"
      }
    },
    {
      "cell_type": "code",
      "source": [
        "# Set random seed\n",
        "tf.random.set_seed(42)\n",
        "\n",
        "# 1. Create the model\n",
        "model_1 = tf.keras.Sequential([\n",
        "  tf.keras.layers.Dense(1)\n",
        "])\n",
        "\n",
        "# 2. Compile the model\n",
        "model_1.compile(loss=tf.keras.losses.mae,\n",
        "                optimizer=tf.keras.optimizers.SGD(),\n",
        "                metrics=[\"mae\"])\n",
        "\n",
        "# 3. Fit the model\n",
        "model_1.fit(tf.expand_dims(X_train, axis=-1), y_train, epochs=100)"
      ],
      "metadata": {
        "colab": {
          "base_uri": "https://localhost:8080/"
        },
        "id": "LCvbGnLdj_Qw",
        "outputId": "d2ec6a63-d29d-4907-d442-35320bc6c895"
      },
      "execution_count": 49,
      "outputs": [
        {
          "output_type": "stream",
          "name": "stdout",
          "text": [
            "Epoch 1/100\n",
            "2/2 [==============================] - 0s 12ms/step - loss: 63.4317 - mae: 63.4317\n",
            "Epoch 2/100\n",
            "2/2 [==============================] - 0s 8ms/step - loss: 28.4915 - mae: 28.4915\n",
            "Epoch 3/100\n",
            "2/2 [==============================] - 0s 9ms/step - loss: 10.7302 - mae: 10.7302\n",
            "Epoch 4/100\n",
            "2/2 [==============================] - 0s 9ms/step - loss: 11.1897 - mae: 11.1897\n",
            "Epoch 5/100\n",
            "2/2 [==============================] - 0s 8ms/step - loss: 12.3972 - mae: 12.3972\n",
            "Epoch 6/100\n",
            "2/2 [==============================] - 0s 13ms/step - loss: 9.5926 - mae: 9.5926\n",
            "Epoch 7/100\n",
            "2/2 [==============================] - 0s 8ms/step - loss: 8.7084 - mae: 8.7084\n",
            "Epoch 8/100\n",
            "2/2 [==============================] - 0s 8ms/step - loss: 9.0716 - mae: 9.0716\n",
            "Epoch 9/100\n",
            "2/2 [==============================] - 0s 8ms/step - loss: 19.0661 - mae: 19.0661\n",
            "Epoch 10/100\n",
            "2/2 [==============================] - 0s 9ms/step - loss: 10.3009 - mae: 10.3009\n",
            "Epoch 11/100\n",
            "2/2 [==============================] - 0s 8ms/step - loss: 8.4807 - mae: 8.4807\n",
            "Epoch 12/100\n",
            "2/2 [==============================] - 0s 6ms/step - loss: 10.8166 - mae: 10.8166\n",
            "Epoch 13/100\n",
            "2/2 [==============================] - 0s 7ms/step - loss: 9.8790 - mae: 9.8790\n",
            "Epoch 14/100\n",
            "2/2 [==============================] - 0s 8ms/step - loss: 12.0506 - mae: 12.0506\n",
            "Epoch 15/100\n",
            "2/2 [==============================] - 0s 7ms/step - loss: 12.4721 - mae: 12.4721\n",
            "Epoch 16/100\n",
            "2/2 [==============================] - 0s 7ms/step - loss: 7.9277 - mae: 7.9277\n",
            "Epoch 17/100\n",
            "2/2 [==============================] - 0s 7ms/step - loss: 12.8528 - mae: 12.8528\n",
            "Epoch 18/100\n",
            "2/2 [==============================] - 0s 7ms/step - loss: 10.4822 - mae: 10.4822\n",
            "Epoch 19/100\n",
            "2/2 [==============================] - 0s 12ms/step - loss: 19.2548 - mae: 19.2548\n",
            "Epoch 20/100\n",
            "2/2 [==============================] - 0s 7ms/step - loss: 15.9200 - mae: 15.9200\n",
            "Epoch 21/100\n",
            "2/2 [==============================] - 0s 7ms/step - loss: 11.7503 - mae: 11.7503\n",
            "Epoch 22/100\n",
            "2/2 [==============================] - 0s 6ms/step - loss: 8.9542 - mae: 8.9542\n",
            "Epoch 23/100\n",
            "2/2 [==============================] - 0s 6ms/step - loss: 10.0641 - mae: 10.0641\n",
            "Epoch 24/100\n",
            "2/2 [==============================] - 0s 7ms/step - loss: 15.6467 - mae: 15.6467\n",
            "Epoch 25/100\n",
            "2/2 [==============================] - 0s 6ms/step - loss: 12.1158 - mae: 12.1158\n",
            "Epoch 26/100\n",
            "2/2 [==============================] - 0s 6ms/step - loss: 13.2274 - mae: 13.2274\n",
            "Epoch 27/100\n",
            "2/2 [==============================] - 0s 7ms/step - loss: 10.6931 - mae: 10.6931\n",
            "Epoch 28/100\n",
            "2/2 [==============================] - 0s 6ms/step - loss: 12.9217 - mae: 12.9217\n",
            "Epoch 29/100\n",
            "2/2 [==============================] - 0s 7ms/step - loss: 9.5278 - mae: 9.5278\n",
            "Epoch 30/100\n",
            "2/2 [==============================] - 0s 7ms/step - loss: 16.4568 - mae: 16.4568\n",
            "Epoch 31/100\n",
            "2/2 [==============================] - 0s 6ms/step - loss: 23.5479 - mae: 23.5479\n",
            "Epoch 32/100\n",
            "2/2 [==============================] - 0s 13ms/step - loss: 7.6181 - mae: 7.6181\n",
            "Epoch 33/100\n",
            "2/2 [==============================] - 0s 7ms/step - loss: 9.3130 - mae: 9.3130\n",
            "Epoch 34/100\n",
            "2/2 [==============================] - 0s 7ms/step - loss: 13.6679 - mae: 13.6679\n",
            "Epoch 35/100\n",
            "2/2 [==============================] - 0s 7ms/step - loss: 11.1821 - mae: 11.1821\n",
            "Epoch 36/100\n",
            "2/2 [==============================] - 0s 7ms/step - loss: 13.4156 - mae: 13.4156\n",
            "Epoch 37/100\n",
            "2/2 [==============================] - 0s 7ms/step - loss: 9.4554 - mae: 9.4554\n",
            "Epoch 38/100\n",
            "2/2 [==============================] - 0s 7ms/step - loss: 10.1060 - mae: 10.1060\n",
            "Epoch 39/100\n",
            "2/2 [==============================] - 0s 8ms/step - loss: 8.9827 - mae: 8.9827\n",
            "Epoch 40/100\n",
            "2/2 [==============================] - 0s 10ms/step - loss: 9.6110 - mae: 9.6110\n",
            "Epoch 41/100\n",
            "2/2 [==============================] - 0s 6ms/step - loss: 10.5710 - mae: 10.5710\n",
            "Epoch 42/100\n",
            "2/2 [==============================] - 0s 10ms/step - loss: 10.6240 - mae: 10.6240\n",
            "Epoch 43/100\n",
            "2/2 [==============================] - 0s 7ms/step - loss: 7.2218 - mae: 7.2218\n",
            "Epoch 44/100\n",
            "2/2 [==============================] - 0s 9ms/step - loss: 8.0243 - mae: 8.0243\n",
            "Epoch 45/100\n",
            "2/2 [==============================] - 0s 7ms/step - loss: 9.8258 - mae: 9.8258\n",
            "Epoch 46/100\n",
            "2/2 [==============================] - 0s 8ms/step - loss: 8.9049 - mae: 8.9049\n",
            "Epoch 47/100\n",
            "2/2 [==============================] - 0s 10ms/step - loss: 7.5780 - mae: 7.5780\n",
            "Epoch 48/100\n",
            "2/2 [==============================] - 0s 8ms/step - loss: 8.5481 - mae: 8.5481\n",
            "Epoch 49/100\n",
            "2/2 [==============================] - 0s 9ms/step - loss: 10.0365 - mae: 10.0365\n",
            "Epoch 50/100\n",
            "2/2 [==============================] - 0s 7ms/step - loss: 8.9950 - mae: 8.9950\n",
            "Epoch 51/100\n",
            "2/2 [==============================] - 0s 8ms/step - loss: 10.7124 - mae: 10.7124\n",
            "Epoch 52/100\n",
            "2/2 [==============================] - 0s 7ms/step - loss: 15.2736 - mae: 15.2736\n",
            "Epoch 53/100\n",
            "2/2 [==============================] - 0s 7ms/step - loss: 14.3018 - mae: 14.3018\n",
            "Epoch 54/100\n",
            "2/2 [==============================] - 0s 7ms/step - loss: 21.5570 - mae: 21.5570\n",
            "Epoch 55/100\n",
            "2/2 [==============================] - 0s 8ms/step - loss: 16.0469 - mae: 16.0469\n",
            "Epoch 56/100\n",
            "2/2 [==============================] - 0s 7ms/step - loss: 10.2580 - mae: 10.2580\n",
            "Epoch 57/100\n",
            "2/2 [==============================] - 0s 8ms/step - loss: 9.8019 - mae: 9.8019\n",
            "Epoch 58/100\n",
            "2/2 [==============================] - 0s 7ms/step - loss: 9.0849 - mae: 9.0849\n",
            "Epoch 59/100\n",
            "2/2 [==============================] - 0s 7ms/step - loss: 8.2879 - mae: 8.2879\n",
            "Epoch 60/100\n",
            "2/2 [==============================] - 0s 7ms/step - loss: 9.3819 - mae: 9.3819\n",
            "Epoch 61/100\n",
            "2/2 [==============================] - 0s 7ms/step - loss: 11.2085 - mae: 11.2085\n",
            "Epoch 62/100\n",
            "2/2 [==============================] - 0s 7ms/step - loss: 12.0452 - mae: 12.0452\n",
            "Epoch 63/100\n",
            "2/2 [==============================] - 0s 7ms/step - loss: 7.2817 - mae: 7.2817\n",
            "Epoch 64/100\n",
            "2/2 [==============================] - 0s 7ms/step - loss: 12.4683 - mae: 12.4683\n",
            "Epoch 65/100\n",
            "2/2 [==============================] - 0s 6ms/step - loss: 10.5444 - mae: 10.5444\n",
            "Epoch 66/100\n",
            "2/2 [==============================] - 0s 8ms/step - loss: 15.5769 - mae: 15.5769\n",
            "Epoch 67/100\n",
            "2/2 [==============================] - 0s 7ms/step - loss: 9.9912 - mae: 9.9912\n",
            "Epoch 68/100\n",
            "2/2 [==============================] - 0s 8ms/step - loss: 8.7192 - mae: 8.7192\n",
            "Epoch 69/100\n",
            "2/2 [==============================] - 0s 7ms/step - loss: 13.4537 - mae: 13.4537\n",
            "Epoch 70/100\n",
            "2/2 [==============================] - 0s 7ms/step - loss: 7.4795 - mae: 7.4795\n",
            "Epoch 71/100\n",
            "2/2 [==============================] - 0s 8ms/step - loss: 12.2712 - mae: 12.2712\n",
            "Epoch 72/100\n",
            "2/2 [==============================] - 0s 8ms/step - loss: 8.5196 - mae: 8.5196\n",
            "Epoch 73/100\n",
            "2/2 [==============================] - 0s 7ms/step - loss: 7.0464 - mae: 7.0464\n",
            "Epoch 74/100\n",
            "2/2 [==============================] - 0s 7ms/step - loss: 9.8983 - mae: 9.8983\n",
            "Epoch 75/100\n",
            "2/2 [==============================] - 0s 9ms/step - loss: 9.9705 - mae: 9.9705\n",
            "Epoch 76/100\n",
            "2/2 [==============================] - 0s 9ms/step - loss: 10.1310 - mae: 10.1310\n",
            "Epoch 77/100\n",
            "2/2 [==============================] - 0s 8ms/step - loss: 13.0014 - mae: 13.0014\n",
            "Epoch 78/100\n",
            "2/2 [==============================] - 0s 8ms/step - loss: 10.9018 - mae: 10.9018\n",
            "Epoch 79/100\n",
            "2/2 [==============================] - 0s 8ms/step - loss: 15.3778 - mae: 15.3778\n",
            "Epoch 80/100\n",
            "2/2 [==============================] - 0s 8ms/step - loss: 11.7429 - mae: 11.7429\n",
            "Epoch 81/100\n",
            "2/2 [==============================] - 0s 7ms/step - loss: 9.2526 - mae: 9.2526\n",
            "Epoch 82/100\n",
            "2/2 [==============================] - 0s 7ms/step - loss: 12.7419 - mae: 12.7419\n",
            "Epoch 83/100\n",
            "2/2 [==============================] - 0s 7ms/step - loss: 8.2948 - mae: 8.2948\n",
            "Epoch 84/100\n",
            "2/2 [==============================] - 0s 8ms/step - loss: 7.3142 - mae: 7.3142\n",
            "Epoch 85/100\n",
            "2/2 [==============================] - 0s 7ms/step - loss: 10.4722 - mae: 10.4722\n",
            "Epoch 86/100\n",
            "2/2 [==============================] - 0s 8ms/step - loss: 9.1463 - mae: 9.1463\n",
            "Epoch 87/100\n",
            "2/2 [==============================] - 0s 7ms/step - loss: 11.8557 - mae: 11.8557\n",
            "Epoch 88/100\n",
            "2/2 [==============================] - 0s 8ms/step - loss: 10.4647 - mae: 10.4647\n",
            "Epoch 89/100\n",
            "2/2 [==============================] - 0s 7ms/step - loss: 6.9791 - mae: 6.9791\n",
            "Epoch 90/100\n",
            "2/2 [==============================] - 0s 7ms/step - loss: 13.7886 - mae: 13.7886\n",
            "Epoch 91/100\n",
            "2/2 [==============================] - 0s 7ms/step - loss: 7.8721 - mae: 7.8721\n",
            "Epoch 92/100\n",
            "2/2 [==============================] - 0s 7ms/step - loss: 7.9250 - mae: 7.9250\n",
            "Epoch 93/100\n",
            "2/2 [==============================] - 0s 7ms/step - loss: 9.4194 - mae: 9.4194\n",
            "Epoch 94/100\n",
            "2/2 [==============================] - 0s 7ms/step - loss: 8.7406 - mae: 8.7406\n",
            "Epoch 95/100\n",
            "2/2 [==============================] - 0s 5ms/step - loss: 9.8575 - mae: 9.8575\n",
            "Epoch 96/100\n",
            "2/2 [==============================] - 0s 10ms/step - loss: 7.3499 - mae: 7.3499\n",
            "Epoch 97/100\n",
            "2/2 [==============================] - 0s 8ms/step - loss: 6.8634 - mae: 6.8634\n",
            "Epoch 98/100\n",
            "2/2 [==============================] - 0s 8ms/step - loss: 7.2572 - mae: 7.2572\n",
            "Epoch 99/100\n",
            "2/2 [==============================] - 0s 9ms/step - loss: 7.4089 - mae: 7.4089\n",
            "Epoch 100/100\n",
            "2/2 [==============================] - 0s 7ms/step - loss: 11.1134 - mae: 11.1134\n"
          ]
        },
        {
          "output_type": "execute_result",
          "data": {
            "text/plain": [
              "<keras.callbacks.History at 0x7f9a031b9540>"
            ]
          },
          "metadata": {},
          "execution_count": 49
        }
      ]
    },
    {
      "cell_type": "code",
      "source": [
        "# Make and plot predictions for model_1\n",
        "y_preds_1 = model_1.predict(X_test)\n",
        "plot_predictions(predictions=y_preds_1)"
      ],
      "metadata": {
        "colab": {
          "base_uri": "https://localhost:8080/",
          "height": 656
        },
        "id": "p2GHfXx-vpCI",
        "outputId": "ea56dd5f-51c8-4727-8716-fa9e70db3ba0"
      },
      "execution_count": 50,
      "outputs": [
        {
          "output_type": "stream",
          "name": "stderr",
          "text": [
            "WARNING:tensorflow:5 out of the last 5 calls to <function Model.make_predict_function.<locals>.predict_function at 0x7f9a0283b2e0> triggered tf.function retracing. Tracing is expensive and the excessive number of tracings could be due to (1) creating @tf.function repeatedly in a loop, (2) passing tensors with different shapes, (3) passing Python objects instead of tensors. For (1), please define your @tf.function outside of the loop. For (2), @tf.function has reduce_retracing=True option that can avoid unnecessary retracing. For (3), please refer to https://www.tensorflow.org/guide/function#controlling_retracing and https://www.tensorflow.org/api_docs/python/tf/function for  more details.\n"
          ]
        },
        {
          "output_type": "stream",
          "name": "stdout",
          "text": [
            "1/1 [==============================] - 0s 84ms/step\n"
          ]
        },
        {
          "output_type": "display_data",
          "data": {
            "text/plain": [
              "<Figure size 1000x700 with 1 Axes>"
            ],
            "image/png": "[encoded data removed]"
          },
          "metadata": {}
        }
      ]
    },
    {
      "cell_type": "code",
      "source": [
        "# Calculate model_1 evaluation metrics\n",
        "mae_1 = mae(y_test, y_preds_1)\n",
        "mse_1 = mse(y_test, y_preds_1)\n",
        "mae_1, mse_1"
      ],
      "metadata": {
        "colab": {
          "base_uri": "https://localhost:8080/"
        },
        "id": "zeL2JWdSwAUe",
        "outputId": "e67e1007-eb6b-4ca9-ef74-50a834cc77b9"
      },
      "execution_count": 51,
      "outputs": [
        {
          "output_type": "execute_result",
          "data": {
            "text/plain": [
              "(<tf.Tensor: shape=(), dtype=float32, numpy=21.298494>,\n",
              " <tf.Tensor: shape=(), dtype=float32, numpy=457.07022>)"
            ]
          },
          "metadata": {},
          "execution_count": 51
        }
      ]
    },
    {
      "cell_type": "markdown",
      "source": [
        "\n",
        "\n",
        "### Build model_2\n",
        "\n",
        "2 dense layers, trained for `100 epochs`\n",
        "\n"
      ],
      "metadata": {
        "id": "ImrP6ar9wEWS"
      }
    },
    {
      "cell_type": "code",
      "source": [
        "# Set the random seed\n",
        "tf.random.set_seed(42)\n",
        "\n",
        "# 1. Create the model\n",
        "model_2 = tf.keras.Sequential([\n",
        "  tf.keras.layers.Dense(10),\n",
        "  tf.keras.layers.Dense(1)\n",
        "])\n",
        "\n",
        "# 2. Compile the model\n",
        "model_2.compile(loss=tf.keras.losses.mae,\n",
        "                optimizer=tf.keras.optimizers.SGD(),\n",
        "                metrics=[\"mse\"])\n",
        "\n",
        "# 3. Fit the model\n",
        "model_2.fit(tf.expand_dims(X_train, axis=-1), y_train, epochs=100)"
      ],
      "metadata": {
        "colab": {
          "base_uri": "https://localhost:8080/"
        },
        "id": "MxbPprzfwHlO",
        "outputId": "e96d1608-3566-48b5-b2bc-752a37def54b"
      },
      "execution_count": 52,
      "outputs": [
        {
          "output_type": "stream",
          "name": "stdout",
          "text": [
            "Epoch 1/100\n",
            "2/2 [==============================] - 0s 11ms/step - loss: 51.5533 - mse: 4090.1431\n",
            "Epoch 2/100\n",
            "2/2 [==============================] - 0s 9ms/step - loss: 28.2453 - mse: 1030.9243\n",
            "Epoch 3/100\n",
            "2/2 [==============================] - 0s 30ms/step - loss: 32.5377 - mse: 1617.9863\n",
            "Epoch 4/100\n",
            "2/2 [==============================] - 0s 19ms/step - loss: 21.2887 - mse: 647.5177\n",
            "Epoch 5/100\n",
            "2/2 [==============================] - 0s 13ms/step - loss: 14.2619 - mse: 250.5701\n",
            "Epoch 6/100\n",
            "2/2 [==============================] - 0s 15ms/step - loss: 11.4369 - mse: 148.1481\n",
            "Epoch 7/100\n",
            "2/2 [==============================] - 0s 24ms/step - loss: 12.5029 - mse: 205.8777\n",
            "Epoch 8/100\n",
            "2/2 [==============================] - 0s 21ms/step - loss: 11.0215 - mse: 145.9517\n",
            "Epoch 9/100\n",
            "2/2 [==============================] - 0s 24ms/step - loss: 39.4448 - mse: 2431.5500\n",
            "Epoch 10/100\n",
            "2/2 [==============================] - 0s 28ms/step - loss: 26.9730 - mse: 1023.1816\n",
            "Epoch 11/100\n",
            "2/2 [==============================] - 0s 23ms/step - loss: 11.0366 - mse: 179.7359\n",
            "Epoch 12/100\n",
            "2/2 [==============================] - 0s 33ms/step - loss: 24.5195 - mse: 843.8539\n",
            "Epoch 13/100\n",
            "2/2 [==============================] - 0s 17ms/step - loss: 19.1724 - mse: 516.5931\n",
            "Epoch 14/100\n",
            "2/2 [==============================] - 0s 12ms/step - loss: 23.3683 - mse: 835.9144\n",
            "Epoch 15/100\n",
            "2/2 [==============================] - 0s 27ms/step - loss: 15.1948 - mse: 310.8139\n",
            "Epoch 16/100\n",
            "2/2 [==============================] - 0s 22ms/step - loss: 11.3222 - mse: 148.5291\n",
            "Epoch 17/100\n",
            "2/2 [==============================] - 0s 21ms/step - loss: 23.1125 - mse: 747.3065\n",
            "Epoch 18/100\n",
            "2/2 [==============================] - 0s 26ms/step - loss: 11.7413 - mse: 210.7817\n",
            "Epoch 19/100\n",
            "2/2 [==============================] - 0s 16ms/step - loss: 16.4117 - mse: 432.1235\n",
            "Epoch 20/100\n",
            "2/2 [==============================] - 0s 25ms/step - loss: 8.2366 - mse: 93.1818\n",
            "Epoch 21/100\n",
            "2/2 [==============================] - 0s 14ms/step - loss: 14.4382 - mse: 288.9854\n",
            "Epoch 22/100\n",
            "2/2 [==============================] - 0s 8ms/step - loss: 12.8569 - mse: 246.1320\n",
            "Epoch 23/100\n",
            "2/2 [==============================] - 0s 9ms/step - loss: 15.4870 - mse: 315.0520\n",
            "Epoch 24/100\n",
            "2/2 [==============================] - 0s 7ms/step - loss: 15.2777 - mse: 316.2299\n",
            "Epoch 25/100\n",
            "2/2 [==============================] - 0s 7ms/step - loss: 14.3424 - mse: 272.6564\n",
            "Epoch 26/100\n",
            "2/2 [==============================] - 0s 7ms/step - loss: 19.3570 - mse: 568.6472\n",
            "Epoch 27/100\n",
            "2/2 [==============================] - 0s 9ms/step - loss: 11.4346 - mse: 168.2525\n",
            "Epoch 28/100\n",
            "2/2 [==============================] - 0s 8ms/step - loss: 29.0569 - mse: 1372.0494\n",
            "Epoch 29/100\n",
            "2/2 [==============================] - 0s 7ms/step - loss: 9.2411 - mse: 94.3917\n",
            "Epoch 30/100\n",
            "2/2 [==============================] - 0s 15ms/step - loss: 29.8057 - mse: 1608.1134\n",
            "Epoch 31/100\n",
            "2/2 [==============================] - 0s 7ms/step - loss: 54.0779 - mse: 5238.9404\n",
            "Epoch 32/100\n",
            "2/2 [==============================] - 0s 11ms/step - loss: 9.5528 - mse: 100.9026\n",
            "Epoch 33/100\n",
            "2/2 [==============================] - 0s 8ms/step - loss: 12.1440 - mse: 180.3900\n",
            "Epoch 34/100\n",
            "2/2 [==============================] - 0s 8ms/step - loss: 23.8698 - mse: 863.0834\n",
            "Epoch 35/100\n",
            "2/2 [==============================] - 0s 8ms/step - loss: 12.6191 - mse: 242.2890\n",
            "Epoch 36/100\n",
            "2/2 [==============================] - 0s 8ms/step - loss: 21.5398 - mse: 661.8044\n",
            "Epoch 37/100\n",
            "2/2 [==============================] - 0s 7ms/step - loss: 11.3593 - mse: 149.6427\n",
            "Epoch 38/100\n",
            "2/2 [==============================] - 0s 7ms/step - loss: 13.4418 - mse: 268.2408\n",
            "Epoch 39/100\n",
            "2/2 [==============================] - 0s 7ms/step - loss: 10.7734 - mse: 138.6887\n",
            "Epoch 40/100\n",
            "2/2 [==============================] - 0s 7ms/step - loss: 16.5783 - mse: 398.8566\n",
            "Epoch 41/100\n",
            "2/2 [==============================] - 0s 8ms/step - loss: 10.9559 - mse: 179.6770\n",
            "Epoch 42/100\n",
            "2/2 [==============================] - 0s 8ms/step - loss: 9.2870 - mse: 114.9545\n",
            "Epoch 43/100\n",
            "2/2 [==============================] - 0s 8ms/step - loss: 9.5828 - mse: 110.7877\n",
            "Epoch 44/100\n",
            "2/2 [==============================] - 0s 7ms/step - loss: 27.9929 - mse: 1256.5862\n",
            "Epoch 45/100\n",
            "2/2 [==============================] - 0s 7ms/step - loss: 11.2747 - mse: 146.7458\n",
            "Epoch 46/100\n",
            "2/2 [==============================] - 0s 8ms/step - loss: 14.0661 - mse: 288.8300\n",
            "Epoch 47/100\n",
            "2/2 [==============================] - 0s 8ms/step - loss: 13.4969 - mse: 256.4143\n",
            "Epoch 48/100\n",
            "2/2 [==============================] - 0s 7ms/step - loss: 17.3310 - mse: 407.6155\n",
            "Epoch 49/100\n",
            "2/2 [==============================] - 0s 9ms/step - loss: 9.5102 - mse: 98.5032\n",
            "Epoch 50/100\n",
            "2/2 [==============================] - 0s 7ms/step - loss: 13.7042 - mse: 253.7871\n",
            "Epoch 51/100\n",
            "2/2 [==============================] - 0s 8ms/step - loss: 11.5539 - mse: 152.9825\n",
            "Epoch 52/100\n",
            "2/2 [==============================] - 0s 7ms/step - loss: 30.2564 - mse: 1578.8782\n",
            "Epoch 53/100\n",
            "2/2 [==============================] - 0s 8ms/step - loss: 14.2249 - mse: 296.3838\n",
            "Epoch 54/100\n",
            "2/2 [==============================] - 0s 7ms/step - loss: 23.5206 - mse: 832.1157\n",
            "Epoch 55/100\n",
            "2/2 [==============================] - 0s 7ms/step - loss: 24.4301 - mse: 900.3218\n",
            "Epoch 56/100\n",
            "2/2 [==============================] - 0s 7ms/step - loss: 11.2844 - mse: 171.3977\n",
            "Epoch 57/100\n",
            "2/2 [==============================] - 0s 10ms/step - loss: 13.2863 - mse: 221.9171\n",
            "Epoch 58/100\n",
            "2/2 [==============================] - 0s 9ms/step - loss: 9.9054 - mse: 108.4317\n",
            "Epoch 59/100\n",
            "2/2 [==============================] - 0s 10ms/step - loss: 13.8279 - mse: 271.2142\n",
            "Epoch 60/100\n",
            "2/2 [==============================] - 0s 7ms/step - loss: 9.9499 - mse: 118.4145\n",
            "Epoch 61/100\n",
            "2/2 [==============================] - 0s 7ms/step - loss: 14.8876 - mse: 304.1619\n",
            "Epoch 62/100\n",
            "2/2 [==============================] - 0s 7ms/step - loss: 11.8697 - mse: 193.5426\n",
            "Epoch 63/100\n",
            "2/2 [==============================] - 0s 8ms/step - loss: 10.2542 - mse: 132.6624\n",
            "Epoch 64/100\n",
            "2/2 [==============================] - 0s 7ms/step - loss: 23.7586 - mse: 829.1075\n",
            "Epoch 65/100\n",
            "2/2 [==============================] - 0s 8ms/step - loss: 10.4299 - mse: 128.6296\n",
            "Epoch 66/100\n",
            "2/2 [==============================] - 0s 8ms/step - loss: 20.8218 - mse: 636.9489\n",
            "Epoch 67/100\n",
            "2/2 [==============================] - 0s 8ms/step - loss: 10.4023 - mse: 125.1352\n",
            "Epoch 68/100\n",
            "2/2 [==============================] - 0s 7ms/step - loss: 14.0992 - mse: 299.2139\n",
            "Epoch 69/100\n",
            "2/2 [==============================] - 0s 7ms/step - loss: 10.4682 - mse: 124.6846\n",
            "Epoch 70/100\n",
            "2/2 [==============================] - 0s 7ms/step - loss: 12.5349 - mse: 199.2628\n",
            "Epoch 71/100\n",
            "2/2 [==============================] - 0s 7ms/step - loss: 12.9674 - mse: 223.6917\n",
            "Epoch 72/100\n",
            "2/2 [==============================] - 0s 7ms/step - loss: 19.2669 - mse: 526.6577\n",
            "Epoch 73/100\n",
            "2/2 [==============================] - 0s 8ms/step - loss: 11.0995 - mse: 193.7902\n",
            "Epoch 74/100\n",
            "2/2 [==============================] - 0s 8ms/step - loss: 21.3507 - mse: 711.0306\n",
            "Epoch 75/100\n",
            "2/2 [==============================] - 0s 7ms/step - loss: 9.4264 - mse: 151.9041\n",
            "Epoch 76/100\n",
            "2/2 [==============================] - 0s 7ms/step - loss: 12.2453 - mse: 181.8137\n",
            "Epoch 77/100\n",
            "2/2 [==============================] - 0s 8ms/step - loss: 16.2557 - mse: 406.6446\n",
            "Epoch 78/100\n",
            "2/2 [==============================] - 0s 7ms/step - loss: 8.9924 - mse: 91.3376\n",
            "Epoch 79/100\n",
            "2/2 [==============================] - 0s 7ms/step - loss: 23.4961 - mse: 826.0717\n",
            "Epoch 80/100\n",
            "2/2 [==============================] - 0s 7ms/step - loss: 26.1773 - mse: 1053.3362\n",
            "Epoch 81/100\n",
            "2/2 [==============================] - 0s 8ms/step - loss: 11.3948 - mse: 159.1996\n",
            "Epoch 82/100\n",
            "2/2 [==============================] - 0s 7ms/step - loss: 12.4621 - mse: 226.8501\n",
            "Epoch 83/100\n",
            "2/2 [==============================] - 0s 7ms/step - loss: 17.1337 - mse: 382.0002\n",
            "Epoch 84/100\n",
            "2/2 [==============================] - 0s 9ms/step - loss: 6.5536 - mse: 63.5905\n",
            "Epoch 85/100\n",
            "2/2 [==============================] - 0s 8ms/step - loss: 20.3849 - mse: 581.3948\n",
            "Epoch 86/100\n",
            "2/2 [==============================] - 0s 9ms/step - loss: 10.1581 - mse: 116.3613\n",
            "Epoch 87/100\n",
            "2/2 [==============================] - 0s 8ms/step - loss: 24.4533 - mse: 837.1014\n",
            "Epoch 88/100\n",
            "2/2 [==============================] - 0s 8ms/step - loss: 19.1157 - mse: 518.6268\n",
            "Epoch 89/100\n",
            "2/2 [==============================] - 0s 8ms/step - loss: 7.1395 - mse: 69.4589\n",
            "Epoch 90/100\n",
            "2/2 [==============================] - 0s 10ms/step - loss: 18.2042 - mse: 491.2855\n",
            "Epoch 91/100\n",
            "2/2 [==============================] - 0s 8ms/step - loss: 13.2512 - mse: 254.1755\n",
            "Epoch 92/100\n",
            "2/2 [==============================] - 0s 8ms/step - loss: 14.7819 - mse: 308.3225\n",
            "Epoch 93/100\n",
            "2/2 [==============================] - 0s 7ms/step - loss: 11.0775 - mse: 216.4730\n",
            "Epoch 94/100\n",
            "2/2 [==============================] - 0s 9ms/step - loss: 16.6671 - mse: 400.7440\n",
            "Epoch 95/100\n",
            "2/2 [==============================] - 0s 9ms/step - loss: 16.0321 - mse: 348.2062\n",
            "Epoch 96/100\n",
            "2/2 [==============================] - 0s 8ms/step - loss: 10.5567 - mse: 194.3684\n",
            "Epoch 97/100\n",
            "2/2 [==============================] - 0s 8ms/step - loss: 21.1992 - mse: 642.1378\n",
            "Epoch 98/100\n",
            "2/2 [==============================] - 0s 11ms/step - loss: 10.4380 - mse: 138.8194\n",
            "Epoch 99/100\n",
            "2/2 [==============================] - 0s 7ms/step - loss: 14.5353 - mse: 293.6568\n",
            "Epoch 100/100\n",
            "2/2 [==============================] - 0s 7ms/step - loss: 17.7053 - mse: 465.1048\n"
          ]
        },
        {
          "output_type": "execute_result",
          "data": {
            "text/plain": [
              "<keras.callbacks.History at 0x7f9a02f22f50>"
            ]
          },
          "metadata": {},
          "execution_count": 52
        }
      ]
    },
    {
      "cell_type": "code",
      "source": [
        "# Make and plot predictions of model_2\n",
        "y_preds_2 = model_2.predict(X_test)\n",
        "plot_predictions(predictions=y_preds_2)"
      ],
      "metadata": {
        "colab": {
          "base_uri": "https://localhost:8080/",
          "height": 656
        },
        "id": "DHwfGtNYwgrb",
        "outputId": "c15d5803-d25f-4a9f-ae9a-68276b51375e"
      },
      "execution_count": 53,
      "outputs": [
        {
          "output_type": "stream",
          "name": "stderr",
          "text": [
            "WARNING:tensorflow:6 out of the last 6 calls to <function Model.make_predict_function.<locals>.predict_function at 0x7f9a028bcaf0> triggered tf.function retracing. Tracing is expensive and the excessive number of tracings could be due to (1) creating @tf.function repeatedly in a loop, (2) passing tensors with different shapes, (3) passing Python objects instead of tensors. For (1), please define your @tf.function outside of the loop. For (2), @tf.function has reduce_retracing=True option that can avoid unnecessary retracing. For (3), please refer to https://www.tensorflow.org/guide/function#controlling_retracing and https://www.tensorflow.org/api_docs/python/tf/function for  more details.\n"
          ]
        },
        {
          "output_type": "stream",
          "name": "stdout",
          "text": [
            "1/1 [==============================] - 0s 58ms/step\n"
          ]
        },
        {
          "output_type": "display_data",
          "data": {
            "text/plain": [
              "<Figure size 1000x700 with 1 Axes>"
            ],
            "image/png": "[encoded data removed]"
          },
          "metadata": {}
        }
      ]
    },
    {
      "cell_type": "code",
      "source": [
        "# Calculate model_2 evaluation metrics\n",
        "mae_2 = mae(y_test, y_preds_2)\n",
        "mse_2 = mse(y_test, y_preds_2)\n",
        "mae_2, mse_2\n",
        "     "
      ],
      "metadata": {
        "colab": {
          "base_uri": "https://localhost:8080/"
        },
        "id": "AOltN__ZwgT8",
        "outputId": "1fa1053d-7b3d-49e3-b1e3-5fc612ecf852"
      },
      "execution_count": 54,
      "outputs": [
        {
          "output_type": "execute_result",
          "data": {
            "text/plain": [
              "(<tf.Tensor: shape=(), dtype=float32, numpy=2.0145898>,\n",
              " <tf.Tensor: shape=(), dtype=float32, numpy=5.9773664>)"
            ]
          },
          "metadata": {},
          "execution_count": 54
        }
      ]
    },
    {
      "cell_type": "markdown",
      "source": [
        "\n",
        "\n",
        "### Build model_3\n",
        "\n",
        "2 layers, trained for `500 epochs`\n",
        "\n"
      ],
      "metadata": {
        "id": "-T9hVfVVwsPj"
      }
    },
    {
      "cell_type": "code",
      "source": [
        "# Set random seed\n",
        "tf.random.set_seed(42)\n",
        "\n",
        "# 1. Create a model\n",
        "model_3 = tf.keras.Sequential([\n",
        "  tf.keras.layers.Dense(10),\n",
        "  tf.keras.layers.Dense(1)\n",
        "])\n",
        "\n",
        "# 2. Compile the model\n",
        "model_3.compile(loss=tf.keras.losses.mae,\n",
        "                optimizer=tf.keras.optimizers.SGD(),\n",
        "                metrics=[\"mae\"])\n",
        "\n",
        "# 3. Fit the model\n",
        "model_3.fit(tf.expand_dims(X_train, axis=-1), y_train, epochs=500)"
      ],
      "metadata": {
        "colab": {
          "base_uri": "https://localhost:8080/"
        },
        "id": "DO1fqJXywzkk",
        "outputId": "bdec8f2d-8ae5-4e4e-8607-d827107bd456"
      },
      "execution_count": 55,
      "outputs": [
        {
          "output_type": "stream",
          "name": "stdout",
          "text": [
            "Epoch 1/500\n",
            "2/2 [==============================] - 0s 12ms/step - loss: 51.8220 - mae: 51.8220\n",
            "Epoch 2/500\n",
            "2/2 [==============================] - 0s 7ms/step - loss: 29.1455 - mae: 29.1455\n",
            "Epoch 3/500\n",
            "2/2 [==============================] - 0s 7ms/step - loss: 19.9945 - mae: 19.9945\n",
            "Epoch 4/500\n",
            "2/2 [==============================] - 0s 8ms/step - loss: 12.9422 - mae: 12.9422\n",
            "Epoch 5/500\n",
            "2/2 [==============================] - 0s 8ms/step - loss: 14.2425 - mae: 14.2425\n",
            "Epoch 6/500\n",
            "2/2 [==============================] - 0s 7ms/step - loss: 11.3938 - mae: 11.3938\n",
            "Epoch 7/500\n",
            "2/2 [==============================] - 0s 8ms/step - loss: 12.4261 - mae: 12.4261\n",
            "Epoch 8/500\n",
            "2/2 [==============================] - 0s 8ms/step - loss: 10.9776 - mae: 10.9776\n",
            "Epoch 9/500\n",
            "2/2 [==============================] - 0s 7ms/step - loss: 38.8387 - mae: 38.8387\n",
            "Epoch 10/500\n",
            "2/2 [==============================] - 0s 7ms/step - loss: 26.4394 - mae: 26.4394\n",
            "Epoch 11/500\n",
            "2/2 [==============================] - 0s 7ms/step - loss: 11.8193 - mae: 11.8193\n",
            "Epoch 12/500\n",
            "2/2 [==============================] - 0s 7ms/step - loss: 23.6337 - mae: 23.6337\n",
            "Epoch 13/500\n",
            "2/2 [==============================] - 0s 7ms/step - loss: 21.0797 - mae: 21.0797\n",
            "Epoch 14/500\n",
            "2/2 [==============================] - 0s 7ms/step - loss: 23.5140 - mae: 23.5140\n",
            "Epoch 15/500\n",
            "2/2 [==============================] - 0s 7ms/step - loss: 15.2954 - mae: 15.2954\n",
            "Epoch 16/500\n",
            "2/2 [==============================] - 0s 8ms/step - loss: 11.3786 - mae: 11.3786\n",
            "Epoch 17/500\n",
            "2/2 [==============================] - 0s 8ms/step - loss: 23.2343 - mae: 23.2343\n",
            "Epoch 18/500\n",
            "2/2 [==============================] - 0s 12ms/step - loss: 11.8025 - mae: 11.8025\n",
            "Epoch 19/500\n",
            "2/2 [==============================] - 0s 7ms/step - loss: 16.5101 - mae: 16.5101\n",
            "Epoch 20/500\n",
            "2/2 [==============================] - 0s 8ms/step - loss: 8.2499 - mae: 8.2499\n",
            "Epoch 21/500\n",
            "2/2 [==============================] - 0s 8ms/step - loss: 14.4206 - mae: 14.4206\n",
            "Epoch 22/500\n",
            "2/2 [==============================] - 0s 8ms/step - loss: 12.8326 - mae: 12.8326\n",
            "Epoch 23/500\n",
            "2/2 [==============================] - 0s 9ms/step - loss: 15.4745 - mae: 15.4745\n",
            "Epoch 24/500\n",
            "2/2 [==============================] - 0s 9ms/step - loss: 15.2636 - mae: 15.2636\n",
            "Epoch 25/500\n",
            "2/2 [==============================] - 0s 10ms/step - loss: 14.3428 - mae: 14.3428\n",
            "Epoch 26/500\n",
            "2/2 [==============================] - 0s 8ms/step - loss: 19.3432 - mae: 19.3432\n",
            "Epoch 27/500\n",
            "2/2 [==============================] - 0s 8ms/step - loss: 11.4660 - mae: 11.4660\n",
            "Epoch 28/500\n",
            "2/2 [==============================] - 0s 6ms/step - loss: 29.1044 - mae: 29.1044\n",
            "Epoch 29/500\n",
            "2/2 [==============================] - 0s 8ms/step - loss: 9.2620 - mae: 9.2620\n",
            "Epoch 30/500\n",
            "2/2 [==============================] - 0s 7ms/step - loss: 29.8322 - mae: 29.8322\n",
            "Epoch 31/500\n",
            "2/2 [==============================] - 0s 7ms/step - loss: 54.1334 - mae: 54.1334\n",
            "Epoch 32/500\n",
            "2/2 [==============================] - 0s 9ms/step - loss: 9.5802 - mae: 9.5802\n",
            "Epoch 33/500\n",
            "2/2 [==============================] - 0s 9ms/step - loss: 12.1709 - mae: 12.1709\n",
            "Epoch 34/500\n",
            "2/2 [==============================] - 0s 8ms/step - loss: 23.8821 - mae: 23.8821\n",
            "Epoch 35/500\n",
            "2/2 [==============================] - 0s 7ms/step - loss: 12.6349 - mae: 12.6349\n",
            "Epoch 36/500\n",
            "2/2 [==============================] - 0s 7ms/step - loss: 21.5478 - mae: 21.5478\n",
            "Epoch 37/500\n",
            "2/2 [==============================] - 0s 7ms/step - loss: 11.3756 - mae: 11.3756\n",
            "Epoch 38/500\n",
            "2/2 [==============================] - 0s 8ms/step - loss: 13.4442 - mae: 13.4442\n",
            "Epoch 39/500\n",
            "2/2 [==============================] - 0s 7ms/step - loss: 10.7867 - mae: 10.7867\n",
            "Epoch 40/500\n",
            "2/2 [==============================] - 0s 7ms/step - loss: 16.5559 - mae: 16.5559\n",
            "Epoch 41/500\n",
            "2/2 [==============================] - 0s 6ms/step - loss: 10.9596 - mae: 10.9596\n",
            "Epoch 42/500\n",
            "2/2 [==============================] - 0s 6ms/step - loss: 9.2905 - mae: 9.2905\n",
            "Epoch 43/500\n",
            "2/2 [==============================] - 0s 7ms/step - loss: 9.5963 - mae: 9.5963\n",
            "Epoch 44/500\n",
            "2/2 [==============================] - 0s 7ms/step - loss: 27.8996 - mae: 27.8996\n",
            "Epoch 45/500\n",
            "2/2 [==============================] - 0s 6ms/step - loss: 11.2700 - mae: 11.2700\n",
            "Epoch 46/500\n",
            "2/2 [==============================] - 0s 8ms/step - loss: 13.8544 - mae: 13.8544\n",
            "Epoch 47/500\n",
            "2/2 [==============================] - 0s 7ms/step - loss: 11.9306 - mae: 11.9306\n",
            "Epoch 48/500\n",
            "2/2 [==============================] - 0s 7ms/step - loss: 16.9691 - mae: 16.9691\n",
            "Epoch 49/500\n",
            "2/2 [==============================] - 0s 7ms/step - loss: 9.7763 - mae: 9.7763\n",
            "Epoch 50/500\n",
            "2/2 [==============================] - 0s 7ms/step - loss: 14.1616 - mae: 14.1616\n",
            "Epoch 51/500\n",
            "2/2 [==============================] - 0s 10ms/step - loss: 11.7398 - mae: 11.7398\n",
            "Epoch 52/500\n",
            "2/2 [==============================] - 0s 9ms/step - loss: 31.3326 - mae: 31.3326\n",
            "Epoch 53/500\n",
            "2/2 [==============================] - 0s 9ms/step - loss: 14.7057 - mae: 14.7057\n",
            "Epoch 54/500\n",
            "2/2 [==============================] - 0s 7ms/step - loss: 24.5737 - mae: 24.5737\n",
            "Epoch 55/500\n",
            "2/2 [==============================] - 0s 6ms/step - loss: 23.8551 - mae: 23.8551\n",
            "Epoch 56/500\n",
            "2/2 [==============================] - 0s 7ms/step - loss: 11.1162 - mae: 11.1162\n",
            "Epoch 57/500\n",
            "2/2 [==============================] - 0s 7ms/step - loss: 13.0478 - mae: 13.0478\n",
            "Epoch 58/500\n",
            "2/2 [==============================] - 0s 7ms/step - loss: 9.7762 - mae: 9.7762\n",
            "Epoch 59/500\n",
            "2/2 [==============================] - 0s 9ms/step - loss: 13.2171 - mae: 13.2171\n",
            "Epoch 60/500\n",
            "2/2 [==============================] - 0s 9ms/step - loss: 10.8249 - mae: 10.8249\n",
            "Epoch 61/500\n",
            "2/2 [==============================] - 0s 11ms/step - loss: 13.3953 - mae: 13.3953\n",
            "Epoch 62/500\n",
            "2/2 [==============================] - 0s 9ms/step - loss: 17.3305 - mae: 17.3305\n",
            "Epoch 63/500\n",
            "2/2 [==============================] - 0s 10ms/step - loss: 9.1331 - mae: 9.1331\n",
            "Epoch 64/500\n",
            "2/2 [==============================] - 0s 11ms/step - loss: 17.9514 - mae: 17.9514\n",
            "Epoch 65/500\n",
            "2/2 [==============================] - 0s 9ms/step - loss: 10.6169 - mae: 10.6169\n",
            "Epoch 66/500\n",
            "2/2 [==============================] - 0s 8ms/step - loss: 21.4634 - mae: 21.4634\n",
            "Epoch 67/500\n",
            "2/2 [==============================] - 0s 8ms/step - loss: 10.6252 - mae: 10.6252\n",
            "Epoch 68/500\n",
            "2/2 [==============================] - 0s 7ms/step - loss: 14.8479 - mae: 14.8479\n",
            "Epoch 69/500\n",
            "2/2 [==============================] - 0s 9ms/step - loss: 10.7675 - mae: 10.7675\n",
            "Epoch 70/500\n",
            "2/2 [==============================] - 0s 9ms/step - loss: 12.8673 - mae: 12.8673\n",
            "Epoch 71/500\n",
            "2/2 [==============================] - 0s 10ms/step - loss: 13.2859 - mae: 13.2859\n",
            "Epoch 72/500\n",
            "2/2 [==============================] - 0s 7ms/step - loss: 20.1120 - mae: 20.1120\n",
            "Epoch 73/500\n",
            "2/2 [==============================] - 0s 8ms/step - loss: 9.7379 - mae: 9.7379\n",
            "Epoch 74/500\n",
            "2/2 [==============================] - 0s 8ms/step - loss: 27.4022 - mae: 27.4022\n",
            "Epoch 75/500\n",
            "2/2 [==============================] - 0s 8ms/step - loss: 10.0133 - mae: 10.0133\n",
            "Epoch 76/500\n",
            "2/2 [==============================] - 0s 7ms/step - loss: 12.9299 - mae: 12.9299\n",
            "Epoch 77/500\n",
            "2/2 [==============================] - 0s 8ms/step - loss: 17.9026 - mae: 17.9026\n",
            "Epoch 78/500\n",
            "2/2 [==============================] - 0s 8ms/step - loss: 8.9632 - mae: 8.9632\n",
            "Epoch 79/500\n",
            "2/2 [==============================] - 0s 9ms/step - loss: 28.7338 - mae: 28.7338\n",
            "Epoch 80/500\n",
            "2/2 [==============================] - 0s 8ms/step - loss: 31.0739 - mae: 31.0739\n",
            "Epoch 81/500\n",
            "2/2 [==============================] - 0s 9ms/step - loss: 13.4258 - mae: 13.4258\n",
            "Epoch 82/500\n",
            "2/2 [==============================] - 0s 8ms/step - loss: 14.3186 - mae: 14.3186\n",
            "Epoch 83/500\n",
            "2/2 [==============================] - 0s 8ms/step - loss: 18.8535 - mae: 18.8535\n",
            "Epoch 84/500\n",
            "2/2 [==============================] - 0s 9ms/step - loss: 9.4582 - mae: 9.4582\n",
            "Epoch 85/500\n",
            "2/2 [==============================] - 0s 8ms/step - loss: 25.2487 - mae: 25.2487\n",
            "Epoch 86/500\n",
            "2/2 [==============================] - 0s 8ms/step - loss: 16.4309 - mae: 16.4309\n",
            "Epoch 87/500\n",
            "2/2 [==============================] - 0s 9ms/step - loss: 11.4687 - mae: 11.4687\n",
            "Epoch 88/500\n",
            "2/2 [==============================] - 0s 9ms/step - loss: 27.0382 - mae: 27.0382\n",
            "Epoch 89/500\n",
            "2/2 [==============================] - 0s 9ms/step - loss: 9.7406 - mae: 9.7406\n",
            "Epoch 90/500\n",
            "2/2 [==============================] - 0s 9ms/step - loss: 19.0797 - mae: 19.0797\n",
            "Epoch 91/500\n",
            "2/2 [==============================] - 0s 8ms/step - loss: 10.5981 - mae: 10.5981\n",
            "Epoch 92/500\n",
            "2/2 [==============================] - 0s 7ms/step - loss: 18.2936 - mae: 18.2936\n",
            "Epoch 93/500\n",
            "2/2 [==============================] - 0s 7ms/step - loss: 6.8614 - mae: 6.8614\n",
            "Epoch 94/500\n",
            "2/2 [==============================] - 0s 8ms/step - loss: 13.0678 - mae: 13.0678\n",
            "Epoch 95/500\n",
            "2/2 [==============================] - 0s 8ms/step - loss: 18.4401 - mae: 18.4401\n",
            "Epoch 96/500\n",
            "2/2 [==============================] - 0s 8ms/step - loss: 10.4059 - mae: 10.4059\n",
            "Epoch 97/500\n",
            "2/2 [==============================] - 0s 8ms/step - loss: 14.1800 - mae: 14.1800\n",
            "Epoch 98/500\n",
            "2/2 [==============================] - 0s 9ms/step - loss: 9.6461 - mae: 9.6461\n",
            "Epoch 99/500\n",
            "2/2 [==============================] - 0s 7ms/step - loss: 11.3397 - mae: 11.3397\n",
            "Epoch 100/500\n",
            "2/2 [==============================] - 0s 7ms/step - loss: 29.2934 - mae: 29.2934\n",
            "Epoch 101/500\n",
            "2/2 [==============================] - 0s 7ms/step - loss: 15.5882 - mae: 15.5882\n",
            "Epoch 102/500\n",
            "2/2 [==============================] - 0s 8ms/step - loss: 10.9557 - mae: 10.9557\n",
            "Epoch 103/500\n",
            "2/2 [==============================] - 0s 7ms/step - loss: 9.2657 - mae: 9.2657\n",
            "Epoch 104/500\n",
            "2/2 [==============================] - 0s 7ms/step - loss: 24.1911 - mae: 24.1911\n",
            "Epoch 105/500\n",
            "2/2 [==============================] - 0s 8ms/step - loss: 10.9996 - mae: 10.9996\n",
            "Epoch 106/500\n",
            "2/2 [==============================] - 0s 10ms/step - loss: 11.4373 - mae: 11.4373\n",
            "Epoch 107/500\n",
            "2/2 [==============================] - 0s 7ms/step - loss: 21.7193 - mae: 21.7193\n",
            "Epoch 108/500\n",
            "2/2 [==============================] - 0s 9ms/step - loss: 8.0082 - mae: 8.0082\n",
            "Epoch 109/500\n",
            "2/2 [==============================] - 0s 8ms/step - loss: 12.3225 - mae: 12.3225\n",
            "Epoch 110/500\n",
            "2/2 [==============================] - 0s 8ms/step - loss: 10.2795 - mae: 10.2795\n",
            "Epoch 111/500\n",
            "2/2 [==============================] - 0s 9ms/step - loss: 16.0641 - mae: 16.0641\n",
            "Epoch 112/500\n",
            "2/2 [==============================] - 0s 7ms/step - loss: 9.3395 - mae: 9.3395\n",
            "Epoch 113/500\n",
            "2/2 [==============================] - 0s 8ms/step - loss: 16.5944 - mae: 16.5944\n",
            "Epoch 114/500\n",
            "2/2 [==============================] - 0s 7ms/step - loss: 18.0624 - mae: 18.0624\n",
            "Epoch 115/500\n",
            "2/2 [==============================] - 0s 8ms/step - loss: 10.8079 - mae: 10.8079\n",
            "Epoch 116/500\n",
            "2/2 [==============================] - 0s 9ms/step - loss: 21.9628 - mae: 21.9628\n",
            "Epoch 117/500\n",
            "2/2 [==============================] - 0s 13ms/step - loss: 9.2278 - mae: 9.2278\n",
            "Epoch 118/500\n",
            "2/2 [==============================] - 0s 8ms/step - loss: 10.2262 - mae: 10.2262\n",
            "Epoch 119/500\n",
            "2/2 [==============================] - 0s 9ms/step - loss: 8.0471 - mae: 8.0471\n",
            "Epoch 120/500\n",
            "2/2 [==============================] - 0s 8ms/step - loss: 46.3691 - mae: 46.3691\n",
            "Epoch 121/500\n",
            "2/2 [==============================] - 0s 8ms/step - loss: 12.1235 - mae: 12.1235\n",
            "Epoch 122/500\n",
            "2/2 [==============================] - 0s 8ms/step - loss: 23.1048 - mae: 23.1048\n",
            "Epoch 123/500\n",
            "2/2 [==============================] - 0s 8ms/step - loss: 27.8429 - mae: 27.8429\n",
            "Epoch 124/500\n",
            "2/2 [==============================] - 0s 8ms/step - loss: 15.6051 - mae: 15.6051\n",
            "Epoch 125/500\n",
            "2/2 [==============================] - 0s 8ms/step - loss: 8.4037 - mae: 8.4037\n",
            "Epoch 126/500\n",
            "2/2 [==============================] - 0s 8ms/step - loss: 11.2511 - mae: 11.2511\n",
            "Epoch 127/500\n",
            "2/2 [==============================] - 0s 10ms/step - loss: 17.4766 - mae: 17.4766\n",
            "Epoch 128/500\n",
            "2/2 [==============================] - 0s 7ms/step - loss: 11.0347 - mae: 11.0347\n",
            "Epoch 129/500\n",
            "2/2 [==============================] - 0s 8ms/step - loss: 19.6210 - mae: 19.6210\n",
            "Epoch 130/500\n",
            "2/2 [==============================] - 0s 8ms/step - loss: 10.1906 - mae: 10.1906\n",
            "Epoch 131/500\n",
            "2/2 [==============================] - 0s 8ms/step - loss: 21.2599 - mae: 21.2599\n",
            "Epoch 132/500\n",
            "2/2 [==============================] - 0s 7ms/step - loss: 8.2231 - mae: 8.2231\n",
            "Epoch 133/500\n",
            "2/2 [==============================] - 0s 8ms/step - loss: 9.0083 - mae: 9.0083\n",
            "Epoch 134/500\n",
            "2/2 [==============================] - 0s 12ms/step - loss: 16.3390 - mae: 16.3390\n",
            "Epoch 135/500\n",
            "2/2 [==============================] - 0s 9ms/step - loss: 11.3014 - mae: 11.3014\n",
            "Epoch 136/500\n",
            "2/2 [==============================] - 0s 9ms/step - loss: 20.2584 - mae: 20.2584\n",
            "Epoch 137/500\n",
            "2/2 [==============================] - 0s 10ms/step - loss: 23.7054 - mae: 23.7054\n",
            "Epoch 138/500\n",
            "2/2 [==============================] - 0s 7ms/step - loss: 9.3911 - mae: 9.3911\n",
            "Epoch 139/500\n",
            "2/2 [==============================] - 0s 9ms/step - loss: 9.0920 - mae: 9.0920\n",
            "Epoch 140/500\n",
            "2/2 [==============================] - 0s 8ms/step - loss: 17.0781 - mae: 17.0781\n",
            "Epoch 141/500\n",
            "2/2 [==============================] - 0s 9ms/step - loss: 8.3749 - mae: 8.3749\n",
            "Epoch 142/500\n",
            "2/2 [==============================] - 0s 8ms/step - loss: 34.1391 - mae: 34.1391\n",
            "Epoch 143/500\n",
            "2/2 [==============================] - 0s 9ms/step - loss: 23.2132 - mae: 23.2132\n",
            "Epoch 144/500\n",
            "2/2 [==============================] - 0s 9ms/step - loss: 10.5117 - mae: 10.5117\n",
            "Epoch 145/500\n",
            "2/2 [==============================] - 0s 10ms/step - loss: 25.8911 - mae: 25.8911\n",
            "Epoch 146/500\n",
            "2/2 [==============================] - 0s 6ms/step - loss: 9.8994 - mae: 9.8994\n",
            "Epoch 147/500\n",
            "2/2 [==============================] - 0s 7ms/step - loss: 15.0667 - mae: 15.0667\n",
            "Epoch 148/500\n",
            "2/2 [==============================] - 0s 7ms/step - loss: 17.5139 - mae: 17.5139\n",
            "Epoch 149/500\n",
            "2/2 [==============================] - 0s 10ms/step - loss: 8.7829 - mae: 8.7829\n",
            "Epoch 150/500\n",
            "2/2 [==============================] - 0s 8ms/step - loss: 7.7686 - mae: 7.7686\n",
            "Epoch 151/500\n",
            "2/2 [==============================] - 0s 7ms/step - loss: 19.7893 - mae: 19.7893\n",
            "Epoch 152/500\n",
            "2/2 [==============================] - 0s 9ms/step - loss: 10.2610 - mae: 10.2610\n",
            "Epoch 153/500\n",
            "2/2 [==============================] - 0s 8ms/step - loss: 29.0892 - mae: 29.0892\n",
            "Epoch 154/500\n",
            "2/2 [==============================] - 0s 8ms/step - loss: 10.6977 - mae: 10.6977\n",
            "Epoch 155/500\n",
            "2/2 [==============================] - 0s 8ms/step - loss: 15.5823 - mae: 15.5823\n",
            "Epoch 156/500\n",
            "2/2 [==============================] - 0s 8ms/step - loss: 17.2820 - mae: 17.2820\n",
            "Epoch 157/500\n",
            "2/2 [==============================] - 0s 8ms/step - loss: 32.1466 - mae: 32.1466\n",
            "Epoch 158/500\n",
            "2/2 [==============================] - 0s 7ms/step - loss: 10.5676 - mae: 10.5676\n",
            "Epoch 159/500\n",
            "2/2 [==============================] - 0s 7ms/step - loss: 8.8680 - mae: 8.8680\n",
            "Epoch 160/500\n",
            "2/2 [==============================] - 0s 7ms/step - loss: 21.4420 - mae: 21.4420\n",
            "Epoch 161/500\n",
            "2/2 [==============================] - 0s 7ms/step - loss: 12.6606 - mae: 12.6606\n",
            "Epoch 162/500\n",
            "2/2 [==============================] - 0s 7ms/step - loss: 19.3289 - mae: 19.3289\n",
            "Epoch 163/500\n",
            "2/2 [==============================] - 0s 7ms/step - loss: 18.2739 - mae: 18.2739\n",
            "Epoch 164/500\n",
            "2/2 [==============================] - 0s 7ms/step - loss: 11.9826 - mae: 11.9826\n",
            "Epoch 165/500\n",
            "2/2 [==============================] - 0s 7ms/step - loss: 11.7701 - mae: 11.7701\n",
            "Epoch 166/500\n",
            "2/2 [==============================] - 0s 7ms/step - loss: 21.7026 - mae: 21.7026\n",
            "Epoch 167/500\n",
            "2/2 [==============================] - 0s 9ms/step - loss: 26.0066 - mae: 26.0066\n",
            "Epoch 168/500\n",
            "2/2 [==============================] - 0s 11ms/step - loss: 9.8717 - mae: 9.8717\n",
            "Epoch 169/500\n",
            "2/2 [==============================] - 0s 9ms/step - loss: 22.2339 - mae: 22.2339\n",
            "Epoch 170/500\n",
            "2/2 [==============================] - 0s 8ms/step - loss: 10.2406 - mae: 10.2406\n",
            "Epoch 171/500\n",
            "2/2 [==============================] - 0s 9ms/step - loss: 18.2070 - mae: 18.2070\n",
            "Epoch 172/500\n",
            "2/2 [==============================] - 0s 7ms/step - loss: 28.4567 - mae: 28.4567\n",
            "Epoch 173/500\n",
            "2/2 [==============================] - 0s 9ms/step - loss: 16.0955 - mae: 16.0955\n",
            "Epoch 174/500\n",
            "2/2 [==============================] - 0s 9ms/step - loss: 10.5114 - mae: 10.5114\n",
            "Epoch 175/500\n",
            "2/2 [==============================] - 0s 6ms/step - loss: 27.5068 - mae: 27.5068\n",
            "Epoch 176/500\n",
            "2/2 [==============================] - 0s 6ms/step - loss: 8.4267 - mae: 8.4267\n",
            "Epoch 177/500\n",
            "2/2 [==============================] - 0s 9ms/step - loss: 9.3979 - mae: 9.3979\n",
            "Epoch 178/500\n",
            "2/2 [==============================] - 0s 7ms/step - loss: 18.3762 - mae: 18.3762\n",
            "Epoch 179/500\n",
            "2/2 [==============================] - 0s 8ms/step - loss: 10.5178 - mae: 10.5178\n",
            "Epoch 180/500\n",
            "2/2 [==============================] - 0s 7ms/step - loss: 8.0065 - mae: 8.0065\n",
            "Epoch 181/500\n",
            "2/2 [==============================] - 0s 7ms/step - loss: 17.5605 - mae: 17.5605\n",
            "Epoch 182/500\n",
            "2/2 [==============================] - 0s 8ms/step - loss: 11.1488 - mae: 11.1488\n",
            "Epoch 183/500\n",
            "2/2 [==============================] - 0s 8ms/step - loss: 11.7894 - mae: 11.7894\n",
            "Epoch 184/500\n",
            "2/2 [==============================] - 0s 8ms/step - loss: 30.5669 - mae: 30.5669\n",
            "Epoch 185/500\n",
            "2/2 [==============================] - 0s 9ms/step - loss: 7.6110 - mae: 7.6110\n",
            "Epoch 186/500\n",
            "2/2 [==============================] - 0s 7ms/step - loss: 15.9829 - mae: 15.9829\n",
            "Epoch 187/500\n",
            "2/2 [==============================] - 0s 8ms/step - loss: 8.6401 - mae: 8.6401\n",
            "Epoch 188/500\n",
            "2/2 [==============================] - 0s 7ms/step - loss: 28.7844 - mae: 28.7844\n",
            "Epoch 189/500\n",
            "2/2 [==============================] - 0s 7ms/step - loss: 13.1872 - mae: 13.1872\n",
            "Epoch 190/500\n",
            "2/2 [==============================] - 0s 8ms/step - loss: 18.3339 - mae: 18.3339\n",
            "Epoch 191/500\n",
            "2/2 [==============================] - 0s 7ms/step - loss: 13.7667 - mae: 13.7667\n",
            "Epoch 192/500\n",
            "2/2 [==============================] - 0s 8ms/step - loss: 13.7491 - mae: 13.7491\n",
            "Epoch 193/500\n",
            "2/2 [==============================] - 0s 10ms/step - loss: 28.6035 - mae: 28.6035\n",
            "Epoch 194/500\n",
            "2/2 [==============================] - 0s 13ms/step - loss: 7.1129 - mae: 7.1129\n",
            "Epoch 195/500\n",
            "2/2 [==============================] - 0s 10ms/step - loss: 7.1174 - mae: 7.1174\n",
            "Epoch 196/500\n",
            "2/2 [==============================] - 0s 7ms/step - loss: 22.0725 - mae: 22.0725\n",
            "Epoch 197/500\n",
            "2/2 [==============================] - 0s 9ms/step - loss: 20.7222 - mae: 20.7222\n",
            "Epoch 198/500\n",
            "2/2 [==============================] - 0s 7ms/step - loss: 12.4211 - mae: 12.4211\n",
            "Epoch 199/500\n",
            "2/2 [==============================] - 0s 7ms/step - loss: 17.7995 - mae: 17.7995\n",
            "Epoch 200/500\n",
            "2/2 [==============================] - 0s 7ms/step - loss: 13.6506 - mae: 13.6506\n",
            "Epoch 201/500\n",
            "2/2 [==============================] - 0s 9ms/step - loss: 5.5487 - mae: 5.5487\n",
            "Epoch 202/500\n",
            "2/2 [==============================] - 0s 8ms/step - loss: 13.5966 - mae: 13.5966\n",
            "Epoch 203/500\n",
            "2/2 [==============================] - 0s 8ms/step - loss: 9.4357 - mae: 9.4357\n",
            "Epoch 204/500\n",
            "2/2 [==============================] - 0s 8ms/step - loss: 20.7321 - mae: 20.7321\n",
            "Epoch 205/500\n",
            "2/2 [==============================] - 0s 8ms/step - loss: 9.5270 - mae: 9.5270\n",
            "Epoch 206/500\n",
            "2/2 [==============================] - 0s 7ms/step - loss: 11.1530 - mae: 11.1530\n",
            "Epoch 207/500\n",
            "2/2 [==============================] - 0s 8ms/step - loss: 17.6034 - mae: 17.6034\n",
            "Epoch 208/500\n",
            "2/2 [==============================] - 0s 7ms/step - loss: 14.3622 - mae: 14.3622\n",
            "Epoch 209/500\n",
            "2/2 [==============================] - 0s 8ms/step - loss: 16.6314 - mae: 16.6314\n",
            "Epoch 210/500\n",
            "2/2 [==============================] - 0s 8ms/step - loss: 18.1309 - mae: 18.1309\n",
            "Epoch 211/500\n",
            "2/2 [==============================] - 0s 8ms/step - loss: 9.9711 - mae: 9.9711\n",
            "Epoch 212/500\n",
            "2/2 [==============================] - 0s 8ms/step - loss: 18.5624 - mae: 18.5624\n",
            "Epoch 213/500\n",
            "2/2 [==============================] - 0s 8ms/step - loss: 15.0129 - mae: 15.0129\n",
            "Epoch 214/500\n",
            "2/2 [==============================] - 0s 8ms/step - loss: 14.5779 - mae: 14.5779\n",
            "Epoch 215/500\n",
            "2/2 [==============================] - 0s 8ms/step - loss: 23.2549 - mae: 23.2549\n",
            "Epoch 216/500\n",
            "2/2 [==============================] - 0s 7ms/step - loss: 13.4719 - mae: 13.4719\n",
            "Epoch 217/500\n",
            "2/2 [==============================] - 0s 7ms/step - loss: 9.9921 - mae: 9.9921\n",
            "Epoch 218/500\n",
            "2/2 [==============================] - 0s 7ms/step - loss: 12.5312 - mae: 12.5312\n",
            "Epoch 219/500\n",
            "2/2 [==============================] - 0s 8ms/step - loss: 5.3519 - mae: 5.3519\n",
            "Epoch 220/500\n",
            "2/2 [==============================] - 0s 7ms/step - loss: 12.3619 - mae: 12.3619\n",
            "Epoch 221/500\n",
            "2/2 [==============================] - 0s 8ms/step - loss: 22.2901 - mae: 22.2901\n",
            "Epoch 222/500\n",
            "2/2 [==============================] - 0s 8ms/step - loss: 21.3533 - mae: 21.3533\n",
            "Epoch 223/500\n",
            "2/2 [==============================] - 0s 8ms/step - loss: 11.7024 - mae: 11.7024\n",
            "Epoch 224/500\n",
            "2/2 [==============================] - 0s 7ms/step - loss: 13.6216 - mae: 13.6216\n",
            "Epoch 225/500\n",
            "2/2 [==============================] - 0s 7ms/step - loss: 15.7663 - mae: 15.7663\n",
            "Epoch 226/500\n",
            "2/2 [==============================] - 0s 7ms/step - loss: 15.0086 - mae: 15.0086\n",
            "Epoch 227/500\n",
            "2/2 [==============================] - 0s 8ms/step - loss: 15.3307 - mae: 15.3307\n",
            "Epoch 228/500\n",
            "2/2 [==============================] - 0s 7ms/step - loss: 17.5177 - mae: 17.5177\n",
            "Epoch 229/500\n",
            "2/2 [==============================] - 0s 8ms/step - loss: 7.2081 - mae: 7.2081\n",
            "Epoch 230/500\n",
            "2/2 [==============================] - 0s 8ms/step - loss: 7.4696 - mae: 7.4696\n",
            "Epoch 231/500\n",
            "2/2 [==============================] - 0s 8ms/step - loss: 24.5607 - mae: 24.5607\n",
            "Epoch 232/500\n",
            "2/2 [==============================] - 0s 8ms/step - loss: 8.7892 - mae: 8.7892\n",
            "Epoch 233/500\n",
            "2/2 [==============================] - 0s 17ms/step - loss: 24.5077 - mae: 24.5077\n",
            "Epoch 234/500\n",
            "2/2 [==============================] - 0s 7ms/step - loss: 8.1361 - mae: 8.1361\n",
            "Epoch 235/500\n",
            "2/2 [==============================] - 0s 9ms/step - loss: 16.7546 - mae: 16.7546\n",
            "Epoch 236/500\n",
            "2/2 [==============================] - 0s 7ms/step - loss: 7.0839 - mae: 7.0839\n",
            "Epoch 237/500\n",
            "2/2 [==============================] - 0s 7ms/step - loss: 9.1269 - mae: 9.1269\n",
            "Epoch 238/500\n",
            "2/2 [==============================] - 0s 8ms/step - loss: 8.0734 - mae: 8.0734\n",
            "Epoch 239/500\n",
            "2/2 [==============================] - 0s 7ms/step - loss: 16.7588 - mae: 16.7588\n",
            "Epoch 240/500\n",
            "2/2 [==============================] - 0s 8ms/step - loss: 8.7934 - mae: 8.7934\n",
            "Epoch 241/500\n",
            "2/2 [==============================] - 0s 7ms/step - loss: 12.6125 - mae: 12.6125\n",
            "Epoch 242/500\n",
            "2/2 [==============================] - 0s 8ms/step - loss: 10.7849 - mae: 10.7849\n",
            "Epoch 243/500\n",
            "2/2 [==============================] - 0s 7ms/step - loss: 17.0261 - mae: 17.0261\n",
            "Epoch 244/500\n",
            "2/2 [==============================] - 0s 7ms/step - loss: 14.0456 - mae: 14.0456\n",
            "Epoch 245/500\n",
            "2/2 [==============================] - 0s 7ms/step - loss: 14.6732 - mae: 14.6732\n",
            "Epoch 246/500\n",
            "2/2 [==============================] - 0s 7ms/step - loss: 15.8137 - mae: 15.8137\n",
            "Epoch 247/500\n",
            "2/2 [==============================] - 0s 8ms/step - loss: 17.6922 - mae: 17.6922\n",
            "Epoch 248/500\n",
            "2/2 [==============================] - 0s 7ms/step - loss: 13.2517 - mae: 13.2517\n",
            "Epoch 249/500\n",
            "2/2 [==============================] - 0s 8ms/step - loss: 14.5301 - mae: 14.5301\n",
            "Epoch 250/500\n",
            "2/2 [==============================] - 0s 7ms/step - loss: 23.2516 - mae: 23.2516\n",
            "Epoch 251/500\n",
            "2/2 [==============================] - 0s 10ms/step - loss: 9.3480 - mae: 9.3480\n",
            "Epoch 252/500\n",
            "2/2 [==============================] - 0s 9ms/step - loss: 36.5795 - mae: 36.5795\n",
            "Epoch 253/500\n",
            "2/2 [==============================] - 0s 13ms/step - loss: 21.7795 - mae: 21.7795\n",
            "Epoch 254/500\n",
            "2/2 [==============================] - 0s 12ms/step - loss: 7.3317 - mae: 7.3317\n",
            "Epoch 255/500\n",
            "2/2 [==============================] - 0s 9ms/step - loss: 24.6334 - mae: 24.6334\n",
            "Epoch 256/500\n",
            "2/2 [==============================] - 0s 8ms/step - loss: 12.4228 - mae: 12.4228\n",
            "Epoch 257/500\n",
            "2/2 [==============================] - 0s 7ms/step - loss: 10.5899 - mae: 10.5899\n",
            "Epoch 258/500\n",
            "2/2 [==============================] - 0s 7ms/step - loss: 14.1729 - mae: 14.1729\n",
            "Epoch 259/500\n",
            "2/2 [==============================] - 0s 7ms/step - loss: 11.2621 - mae: 11.2621\n",
            "Epoch 260/500\n",
            "2/2 [==============================] - 0s 7ms/step - loss: 31.5042 - mae: 31.5042\n",
            "Epoch 261/500\n",
            "2/2 [==============================] - 0s 8ms/step - loss: 11.1800 - mae: 11.1800\n",
            "Epoch 262/500\n",
            "2/2 [==============================] - 0s 8ms/step - loss: 10.0361 - mae: 10.0361\n",
            "Epoch 263/500\n",
            "2/2 [==============================] - 0s 7ms/step - loss: 8.9582 - mae: 8.9582\n",
            "Epoch 264/500\n",
            "2/2 [==============================] - 0s 7ms/step - loss: 21.3972 - mae: 21.3972\n",
            "Epoch 265/500\n",
            "2/2 [==============================] - 0s 7ms/step - loss: 11.4939 - mae: 11.4939\n",
            "Epoch 266/500\n",
            "2/2 [==============================] - 0s 8ms/step - loss: 13.3399 - mae: 13.3399\n",
            "Epoch 267/500\n",
            "2/2 [==============================] - 0s 8ms/step - loss: 11.1159 - mae: 11.1159\n",
            "Epoch 268/500\n",
            "2/2 [==============================] - 0s 8ms/step - loss: 19.2172 - mae: 19.2172\n",
            "Epoch 269/500\n",
            "2/2 [==============================] - 0s 8ms/step - loss: 40.5245 - mae: 40.5245\n",
            "Epoch 270/500\n",
            "2/2 [==============================] - 0s 7ms/step - loss: 12.8446 - mae: 12.8446\n",
            "Epoch 271/500\n",
            "2/2 [==============================] - 0s 8ms/step - loss: 14.7894 - mae: 14.7894\n",
            "Epoch 272/500\n",
            "2/2 [==============================] - 0s 8ms/step - loss: 28.5476 - mae: 28.5476\n",
            "Epoch 273/500\n",
            "2/2 [==============================] - 0s 8ms/step - loss: 7.3548 - mae: 7.3548\n",
            "Epoch 274/500\n",
            "2/2 [==============================] - 0s 8ms/step - loss: 6.3792 - mae: 6.3792\n",
            "Epoch 275/500\n",
            "2/2 [==============================] - 0s 8ms/step - loss: 36.6987 - mae: 36.6987\n",
            "Epoch 276/500\n",
            "2/2 [==============================] - 0s 7ms/step - loss: 8.2953 - mae: 8.2953\n",
            "Epoch 277/500\n",
            "2/2 [==============================] - 0s 7ms/step - loss: 27.5480 - mae: 27.5480\n",
            "Epoch 278/500\n",
            "2/2 [==============================] - 0s 7ms/step - loss: 10.7258 - mae: 10.7258\n",
            "Epoch 279/500\n",
            "2/2 [==============================] - 0s 7ms/step - loss: 16.1467 - mae: 16.1467\n",
            "Epoch 280/500\n",
            "2/2 [==============================] - 0s 7ms/step - loss: 21.3063 - mae: 21.3063\n",
            "Epoch 281/500\n",
            "2/2 [==============================] - 0s 7ms/step - loss: 23.6235 - mae: 23.6235\n",
            "Epoch 282/500\n",
            "2/2 [==============================] - 0s 7ms/step - loss: 8.2380 - mae: 8.2380\n",
            "Epoch 283/500\n",
            "2/2 [==============================] - 0s 7ms/step - loss: 8.4387 - mae: 8.4387\n",
            "Epoch 284/500\n",
            "2/2 [==============================] - 0s 7ms/step - loss: 26.4476 - mae: 26.4476\n",
            "Epoch 285/500\n",
            "2/2 [==============================] - 0s 10ms/step - loss: 14.1006 - mae: 14.1006\n",
            "Epoch 286/500\n",
            "2/2 [==============================] - 0s 7ms/step - loss: 6.0285 - mae: 6.0285\n",
            "Epoch 287/500\n",
            "2/2 [==============================] - 0s 8ms/step - loss: 19.0348 - mae: 19.0348\n",
            "Epoch 288/500\n",
            "2/2 [==============================] - 0s 9ms/step - loss: 32.7728 - mae: 32.7728\n",
            "Epoch 289/500\n",
            "2/2 [==============================] - 0s 7ms/step - loss: 8.4070 - mae: 8.4070\n",
            "Epoch 290/500\n",
            "2/2 [==============================] - 0s 8ms/step - loss: 16.9000 - mae: 16.9000\n",
            "Epoch 291/500\n",
            "2/2 [==============================] - 0s 8ms/step - loss: 17.2786 - mae: 17.2786\n",
            "Epoch 292/500\n",
            "2/2 [==============================] - 0s 8ms/step - loss: 10.9177 - mae: 10.9177\n",
            "Epoch 293/500\n",
            "2/2 [==============================] - 0s 7ms/step - loss: 14.5970 - mae: 14.5970\n",
            "Epoch 294/500\n",
            "2/2 [==============================] - 0s 8ms/step - loss: 21.8456 - mae: 21.8456\n",
            "Epoch 295/500\n",
            "2/2 [==============================] - 0s 8ms/step - loss: 19.8902 - mae: 19.8902\n",
            "Epoch 296/500\n",
            "2/2 [==============================] - 0s 8ms/step - loss: 6.9888 - mae: 6.9888\n",
            "Epoch 297/500\n",
            "2/2 [==============================] - 0s 7ms/step - loss: 9.0301 - mae: 9.0301\n",
            "Epoch 298/500\n",
            "2/2 [==============================] - 0s 7ms/step - loss: 24.2978 - mae: 24.2978\n",
            "Epoch 299/500\n",
            "2/2 [==============================] - 0s 8ms/step - loss: 17.7837 - mae: 17.7837\n",
            "Epoch 300/500\n",
            "2/2 [==============================] - 0s 8ms/step - loss: 7.0200 - mae: 7.0200\n",
            "Epoch 301/500\n",
            "2/2 [==============================] - 0s 7ms/step - loss: 25.2491 - mae: 25.2491\n",
            "Epoch 302/500\n",
            "2/2 [==============================] - 0s 7ms/step - loss: 8.9408 - mae: 8.9408\n",
            "Epoch 303/500\n",
            "2/2 [==============================] - 0s 7ms/step - loss: 17.8028 - mae: 17.8028\n",
            "Epoch 304/500\n",
            "2/2 [==============================] - 0s 7ms/step - loss: 11.0452 - mae: 11.0452\n",
            "Epoch 305/500\n",
            "2/2 [==============================] - 0s 7ms/step - loss: 12.9420 - mae: 12.9420\n",
            "Epoch 306/500\n",
            "2/2 [==============================] - 0s 8ms/step - loss: 8.4355 - mae: 8.4355\n",
            "Epoch 307/500\n",
            "2/2 [==============================] - 0s 7ms/step - loss: 13.6252 - mae: 13.6252\n",
            "Epoch 308/500\n",
            "2/2 [==============================] - 0s 8ms/step - loss: 7.4665 - mae: 7.4665\n",
            "Epoch 309/500\n",
            "2/2 [==============================] - 0s 10ms/step - loss: 9.4805 - mae: 9.4805\n",
            "Epoch 310/500\n",
            "2/2 [==============================] - 0s 8ms/step - loss: 10.7051 - mae: 10.7051\n",
            "Epoch 311/500\n",
            "2/2 [==============================] - 0s 8ms/step - loss: 13.2970 - mae: 13.2970\n",
            "Epoch 312/500\n",
            "2/2 [==============================] - 0s 8ms/step - loss: 29.9856 - mae: 29.9856\n",
            "Epoch 313/500\n",
            "2/2 [==============================] - 0s 7ms/step - loss: 7.6403 - mae: 7.6403\n",
            "Epoch 314/500\n",
            "2/2 [==============================] - 0s 8ms/step - loss: 9.9312 - mae: 9.9312\n",
            "Epoch 315/500\n",
            "2/2 [==============================] - 0s 10ms/step - loss: 23.7930 - mae: 23.7930\n",
            "Epoch 316/500\n",
            "2/2 [==============================] - 0s 9ms/step - loss: 16.3458 - mae: 16.3458\n",
            "Epoch 317/500\n",
            "2/2 [==============================] - 0s 9ms/step - loss: 20.8882 - mae: 20.8882\n",
            "Epoch 318/500\n",
            "2/2 [==============================] - 0s 7ms/step - loss: 9.2689 - mae: 9.2689\n",
            "Epoch 319/500\n",
            "2/2 [==============================] - 0s 9ms/step - loss: 11.8677 - mae: 11.8677\n",
            "Epoch 320/500\n",
            "2/2 [==============================] - 0s 12ms/step - loss: 12.7280 - mae: 12.7280\n",
            "Epoch 321/500\n",
            "2/2 [==============================] - 0s 7ms/step - loss: 8.2322 - mae: 8.2322\n",
            "Epoch 322/500\n",
            "2/2 [==============================] - 0s 7ms/step - loss: 13.3687 - mae: 13.3687\n",
            "Epoch 323/500\n",
            "2/2 [==============================] - 0s 9ms/step - loss: 17.6101 - mae: 17.6101\n",
            "Epoch 324/500\n",
            "2/2 [==============================] - 0s 8ms/step - loss: 15.8644 - mae: 15.8644\n",
            "Epoch 325/500\n",
            "2/2 [==============================] - 0s 8ms/step - loss: 17.4886 - mae: 17.4886\n",
            "Epoch 326/500\n",
            "2/2 [==============================] - 0s 8ms/step - loss: 11.2031 - mae: 11.2031\n",
            "Epoch 327/500\n",
            "2/2 [==============================] - 0s 9ms/step - loss: 7.7490 - mae: 7.7490\n",
            "Epoch 328/500\n",
            "2/2 [==============================] - 0s 10ms/step - loss: 4.7798 - mae: 4.7798\n",
            "Epoch 329/500\n",
            "2/2 [==============================] - 0s 8ms/step - loss: 13.0594 - mae: 13.0594\n",
            "Epoch 330/500\n",
            "2/2 [==============================] - 0s 8ms/step - loss: 15.0782 - mae: 15.0782\n",
            "Epoch 331/500\n",
            "2/2 [==============================] - 0s 9ms/step - loss: 17.4465 - mae: 17.4465\n",
            "Epoch 332/500\n",
            "2/2 [==============================] - 0s 6ms/step - loss: 21.3067 - mae: 21.3067\n",
            "Epoch 333/500\n",
            "2/2 [==============================] - 0s 8ms/step - loss: 30.5361 - mae: 30.5361\n",
            "Epoch 334/500\n",
            "2/2 [==============================] - 0s 8ms/step - loss: 7.4653 - mae: 7.4653\n",
            "Epoch 335/500\n",
            "2/2 [==============================] - 0s 8ms/step - loss: 6.2183 - mae: 6.2183\n",
            "Epoch 336/500\n",
            "2/2 [==============================] - 0s 8ms/step - loss: 37.7367 - mae: 37.7367\n",
            "Epoch 337/500\n",
            "2/2 [==============================] - 0s 8ms/step - loss: 29.1686 - mae: 29.1686\n",
            "Epoch 338/500\n",
            "2/2 [==============================] - 0s 9ms/step - loss: 15.8225 - mae: 15.8225\n",
            "Epoch 339/500\n",
            "2/2 [==============================] - 0s 8ms/step - loss: 9.0603 - mae: 9.0603\n",
            "Epoch 340/500\n",
            "2/2 [==============================] - 0s 9ms/step - loss: 12.2507 - mae: 12.2507\n",
            "Epoch 341/500\n",
            "2/2 [==============================] - 0s 8ms/step - loss: 9.5005 - mae: 9.5005\n",
            "Epoch 342/500\n",
            "2/2 [==============================] - 0s 9ms/step - loss: 12.1115 - mae: 12.1115\n",
            "Epoch 343/500\n",
            "2/2 [==============================] - 0s 8ms/step - loss: 9.5551 - mae: 9.5551\n",
            "Epoch 344/500\n",
            "2/2 [==============================] - 0s 8ms/step - loss: 5.6075 - mae: 5.6075\n",
            "Epoch 345/500\n",
            "2/2 [==============================] - 0s 8ms/step - loss: 37.0144 - mae: 37.0144\n",
            "Epoch 346/500\n",
            "2/2 [==============================] - 0s 10ms/step - loss: 16.6164 - mae: 16.6164\n",
            "Epoch 347/500\n",
            "2/2 [==============================] - 0s 9ms/step - loss: 12.6174 - mae: 12.6174\n",
            "Epoch 348/500\n",
            "2/2 [==============================] - 0s 8ms/step - loss: 8.2932 - mae: 8.2932\n",
            "Epoch 349/500\n",
            "2/2 [==============================] - 0s 8ms/step - loss: 13.6502 - mae: 13.6502\n",
            "Epoch 350/500\n",
            "2/2 [==============================] - 0s 9ms/step - loss: 15.4648 - mae: 15.4648\n",
            "Epoch 351/500\n",
            "2/2 [==============================] - 0s 13ms/step - loss: 33.0245 - mae: 33.0245\n",
            "Epoch 352/500\n",
            "2/2 [==============================] - 0s 9ms/step - loss: 14.2916 - mae: 14.2916\n",
            "Epoch 353/500\n",
            "2/2 [==============================] - 0s 8ms/step - loss: 15.9973 - mae: 15.9973\n",
            "Epoch 354/500\n",
            "2/2 [==============================] - 0s 7ms/step - loss: 13.3559 - mae: 13.3559\n",
            "Epoch 355/500\n",
            "2/2 [==============================] - 0s 7ms/step - loss: 21.4989 - mae: 21.4989\n",
            "Epoch 356/500\n",
            "2/2 [==============================] - 0s 12ms/step - loss: 16.2666 - mae: 16.2666\n",
            "Epoch 357/500\n",
            "2/2 [==============================] - 0s 10ms/step - loss: 11.8015 - mae: 11.8015\n",
            "Epoch 358/500\n",
            "2/2 [==============================] - 0s 8ms/step - loss: 14.8991 - mae: 14.8991\n",
            "Epoch 359/500\n",
            "2/2 [==============================] - 0s 9ms/step - loss: 12.2404 - mae: 12.2404\n",
            "Epoch 360/500\n",
            "2/2 [==============================] - 0s 13ms/step - loss: 20.2010 - mae: 20.2010\n",
            "Epoch 361/500\n",
            "2/2 [==============================] - 0s 10ms/step - loss: 11.1158 - mae: 11.1158\n",
            "Epoch 362/500\n",
            "2/2 [==============================] - 0s 7ms/step - loss: 6.8180 - mae: 6.8180\n",
            "Epoch 363/500\n",
            "2/2 [==============================] - 0s 8ms/step - loss: 24.1632 - mae: 24.1632\n",
            "Epoch 364/500\n",
            "2/2 [==============================] - 0s 8ms/step - loss: 29.9834 - mae: 29.9834\n",
            "Epoch 365/500\n",
            "2/2 [==============================] - 0s 8ms/step - loss: 8.4088 - mae: 8.4088\n",
            "Epoch 366/500\n",
            "2/2 [==============================] - 0s 7ms/step - loss: 6.0778 - mae: 6.0778\n",
            "Epoch 367/500\n",
            "2/2 [==============================] - 0s 8ms/step - loss: 35.1976 - mae: 35.1976\n",
            "Epoch 368/500\n",
            "2/2 [==============================] - 0s 8ms/step - loss: 7.4517 - mae: 7.4517\n",
            "Epoch 369/500\n",
            "2/2 [==============================] - 0s 8ms/step - loss: 9.7047 - mae: 9.7047\n",
            "Epoch 370/500\n",
            "2/2 [==============================] - 0s 8ms/step - loss: 7.7928 - mae: 7.7928\n",
            "Epoch 371/500\n",
            "2/2 [==============================] - 0s 14ms/step - loss: 20.1212 - mae: 20.1212\n",
            "Epoch 372/500\n",
            "2/2 [==============================] - 0s 8ms/step - loss: 12.5102 - mae: 12.5102\n",
            "Epoch 373/500\n",
            "2/2 [==============================] - 0s 8ms/step - loss: 26.4083 - mae: 26.4083\n",
            "Epoch 374/500\n",
            "2/2 [==============================] - 0s 8ms/step - loss: 9.2691 - mae: 9.2691\n",
            "Epoch 375/500\n",
            "2/2 [==============================] - 0s 7ms/step - loss: 5.5299 - mae: 5.5299\n",
            "Epoch 376/500\n",
            "2/2 [==============================] - 0s 8ms/step - loss: 11.8506 - mae: 11.8506\n",
            "Epoch 377/500\n",
            "2/2 [==============================] - 0s 7ms/step - loss: 14.6758 - mae: 14.6758\n",
            "Epoch 378/500\n",
            "2/2 [==============================] - 0s 8ms/step - loss: 16.2034 - mae: 16.2034\n",
            "Epoch 379/500\n",
            "2/2 [==============================] - 0s 8ms/step - loss: 20.6669 - mae: 20.6669\n",
            "Epoch 380/500\n",
            "2/2 [==============================] - 0s 8ms/step - loss: 34.1876 - mae: 34.1876\n",
            "Epoch 381/500\n",
            "2/2 [==============================] - 0s 10ms/step - loss: 8.7870 - mae: 8.7870\n",
            "Epoch 382/500\n",
            "2/2 [==============================] - 0s 8ms/step - loss: 9.5961 - mae: 9.5961\n",
            "Epoch 383/500\n",
            "2/2 [==============================] - 0s 9ms/step - loss: 5.7031 - mae: 5.7031\n",
            "Epoch 384/500\n",
            "2/2 [==============================] - 0s 9ms/step - loss: 8.6873 - mae: 8.6873\n",
            "Epoch 385/500\n",
            "2/2 [==============================] - 0s 9ms/step - loss: 4.9124 - mae: 4.9124\n",
            "Epoch 386/500\n",
            "2/2 [==============================] - 0s 9ms/step - loss: 25.0998 - mae: 25.0998\n",
            "Epoch 387/500\n",
            "2/2 [==============================] - 0s 7ms/step - loss: 15.1883 - mae: 15.1883\n",
            "Epoch 388/500\n",
            "2/2 [==============================] - 0s 8ms/step - loss: 6.5898 - mae: 6.5898\n",
            "Epoch 389/500\n",
            "2/2 [==============================] - 0s 9ms/step - loss: 17.5190 - mae: 17.5190\n",
            "Epoch 390/500\n",
            "2/2 [==============================] - 0s 8ms/step - loss: 23.7962 - mae: 23.7962\n",
            "Epoch 391/500\n",
            "2/2 [==============================] - 0s 8ms/step - loss: 16.6649 - mae: 16.6649\n",
            "Epoch 392/500\n",
            "2/2 [==============================] - 0s 9ms/step - loss: 8.3251 - mae: 8.3251\n",
            "Epoch 393/500\n",
            "2/2 [==============================] - 0s 10ms/step - loss: 19.4230 - mae: 19.4230\n",
            "Epoch 394/500\n",
            "2/2 [==============================] - 0s 9ms/step - loss: 24.5812 - mae: 24.5812\n",
            "Epoch 395/500\n",
            "2/2 [==============================] - 0s 9ms/step - loss: 19.5211 - mae: 19.5211\n",
            "Epoch 396/500\n",
            "2/2 [==============================] - 0s 8ms/step - loss: 8.4229 - mae: 8.4229\n",
            "Epoch 397/500\n",
            "2/2 [==============================] - 0s 8ms/step - loss: 11.1559 - mae: 11.1559\n",
            "Epoch 398/500\n",
            "2/2 [==============================] - 0s 13ms/step - loss: 6.8420 - mae: 6.8420\n",
            "Epoch 399/500\n",
            "2/2 [==============================] - 0s 9ms/step - loss: 13.9958 - mae: 13.9958\n",
            "Epoch 400/500\n",
            "2/2 [==============================] - 0s 8ms/step - loss: 6.6280 - mae: 6.6280\n",
            "Epoch 401/500\n",
            "2/2 [==============================] - 0s 8ms/step - loss: 7.9108 - mae: 7.9108\n",
            "Epoch 402/500\n",
            "2/2 [==============================] - 0s 10ms/step - loss: 16.2642 - mae: 16.2642\n",
            "Epoch 403/500\n",
            "2/2 [==============================] - 0s 10ms/step - loss: 12.3709 - mae: 12.3709\n",
            "Epoch 404/500\n",
            "2/2 [==============================] - 0s 7ms/step - loss: 22.9903 - mae: 22.9903\n",
            "Epoch 405/500\n",
            "2/2 [==============================] - 0s 9ms/step - loss: 17.9637 - mae: 17.9637\n",
            "Epoch 406/500\n",
            "2/2 [==============================] - 0s 8ms/step - loss: 6.9733 - mae: 6.9733\n",
            "Epoch 407/500\n",
            "2/2 [==============================] - 0s 7ms/step - loss: 12.5380 - mae: 12.5380\n",
            "Epoch 408/500\n",
            "2/2 [==============================] - 0s 8ms/step - loss: 5.6224 - mae: 5.6224\n",
            "Epoch 409/500\n",
            "2/2 [==============================] - 0s 10ms/step - loss: 31.0594 - mae: 31.0594\n",
            "Epoch 410/500\n",
            "2/2 [==============================] - 0s 9ms/step - loss: 9.2710 - mae: 9.2710\n",
            "Epoch 411/500\n",
            "2/2 [==============================] - 0s 9ms/step - loss: 14.8876 - mae: 14.8876\n",
            "Epoch 412/500\n",
            "2/2 [==============================] - 0s 8ms/step - loss: 21.7876 - mae: 21.7876\n",
            "Epoch 413/500\n",
            "2/2 [==============================] - 0s 8ms/step - loss: 12.5117 - mae: 12.5117\n",
            "Epoch 414/500\n",
            "2/2 [==============================] - 0s 8ms/step - loss: 6.0531 - mae: 6.0531\n",
            "Epoch 415/500\n",
            "2/2 [==============================] - 0s 9ms/step - loss: 13.2437 - mae: 13.2437\n",
            "Epoch 416/500\n",
            "2/2 [==============================] - 0s 10ms/step - loss: 27.4732 - mae: 27.4732\n",
            "Epoch 417/500\n",
            "2/2 [==============================] - 0s 9ms/step - loss: 10.5181 - mae: 10.5181\n",
            "Epoch 418/500\n",
            "2/2 [==============================] - 0s 9ms/step - loss: 12.8505 - mae: 12.8505\n",
            "Epoch 419/500\n",
            "2/2 [==============================] - 0s 12ms/step - loss: 15.8861 - mae: 15.8861\n",
            "Epoch 420/500\n",
            "2/2 [==============================] - 0s 12ms/step - loss: 24.7871 - mae: 24.7871\n",
            "Epoch 421/500\n",
            "2/2 [==============================] - 0s 9ms/step - loss: 17.3869 - mae: 17.3869\n",
            "Epoch 422/500\n",
            "2/2 [==============================] - 0s 12ms/step - loss: 8.6974 - mae: 8.6974\n",
            "Epoch 423/500\n",
            "2/2 [==============================] - 0s 7ms/step - loss: 24.9690 - mae: 24.9690\n",
            "Epoch 424/500\n",
            "2/2 [==============================] - 0s 9ms/step - loss: 15.9994 - mae: 15.9994\n",
            "Epoch 425/500\n",
            "2/2 [==============================] - 0s 7ms/step - loss: 7.3813 - mae: 7.3813\n",
            "Epoch 426/500\n",
            "2/2 [==============================] - 0s 8ms/step - loss: 21.4084 - mae: 21.4084\n",
            "Epoch 427/500\n",
            "2/2 [==============================] - 0s 9ms/step - loss: 6.5755 - mae: 6.5755\n",
            "Epoch 428/500\n",
            "2/2 [==============================] - 0s 9ms/step - loss: 13.7449 - mae: 13.7449\n",
            "Epoch 429/500\n",
            "2/2 [==============================] - 0s 8ms/step - loss: 11.7065 - mae: 11.7065\n",
            "Epoch 430/500\n",
            "2/2 [==============================] - 0s 8ms/step - loss: 10.4448 - mae: 10.4448\n",
            "Epoch 431/500\n",
            "2/2 [==============================] - 0s 8ms/step - loss: 11.9956 - mae: 11.9956\n",
            "Epoch 432/500\n",
            "2/2 [==============================] - 0s 7ms/step - loss: 7.5322 - mae: 7.5322\n",
            "Epoch 433/500\n",
            "2/2 [==============================] - 0s 7ms/step - loss: 14.7954 - mae: 14.7954\n",
            "Epoch 434/500\n",
            "2/2 [==============================] - 0s 8ms/step - loss: 17.8964 - mae: 17.8964\n",
            "Epoch 435/500\n",
            "2/2 [==============================] - 0s 7ms/step - loss: 9.6834 - mae: 9.6834\n",
            "Epoch 436/500\n",
            "2/2 [==============================] - 0s 7ms/step - loss: 29.1249 - mae: 29.1249\n",
            "Epoch 437/500\n",
            "2/2 [==============================] - 0s 8ms/step - loss: 9.2616 - mae: 9.2616\n",
            "Epoch 438/500\n",
            "2/2 [==============================] - 0s 8ms/step - loss: 12.6757 - mae: 12.6757\n",
            "Epoch 439/500\n",
            "2/2 [==============================] - 0s 7ms/step - loss: 33.5547 - mae: 33.5547\n",
            "Epoch 440/500\n",
            "2/2 [==============================] - 0s 7ms/step - loss: 14.8984 - mae: 14.8984\n",
            "Epoch 441/500\n",
            "2/2 [==============================] - 0s 12ms/step - loss: 17.3302 - mae: 17.3302\n",
            "Epoch 442/500\n",
            "2/2 [==============================] - 0s 9ms/step - loss: 22.0079 - mae: 22.0079\n",
            "Epoch 443/500\n",
            "2/2 [==============================] - 0s 12ms/step - loss: 24.2875 - mae: 24.2875\n",
            "Epoch 444/500\n",
            "2/2 [==============================] - 0s 8ms/step - loss: 11.5530 - mae: 11.5530\n",
            "Epoch 445/500\n",
            "2/2 [==============================] - 0s 10ms/step - loss: 14.7327 - mae: 14.7327\n",
            "Epoch 446/500\n",
            "2/2 [==============================] - 0s 9ms/step - loss: 17.7311 - mae: 17.7311\n",
            "Epoch 447/500\n",
            "2/2 [==============================] - 0s 9ms/step - loss: 5.6691 - mae: 5.6691\n",
            "Epoch 448/500\n",
            "2/2 [==============================] - 0s 9ms/step - loss: 9.4626 - mae: 9.4626\n",
            "Epoch 449/500\n",
            "2/2 [==============================] - 0s 11ms/step - loss: 14.1361 - mae: 14.1361\n",
            "Epoch 450/500\n",
            "2/2 [==============================] - 0s 8ms/step - loss: 16.8969 - mae: 16.8969\n",
            "Epoch 451/500\n",
            "2/2 [==============================] - 0s 8ms/step - loss: 14.3289 - mae: 14.3289\n",
            "Epoch 452/500\n",
            "2/2 [==============================] - 0s 8ms/step - loss: 30.7357 - mae: 30.7357\n",
            "Epoch 453/500\n",
            "2/2 [==============================] - 0s 7ms/step - loss: 8.3795 - mae: 8.3795\n",
            "Epoch 454/500\n",
            "2/2 [==============================] - 0s 7ms/step - loss: 27.6379 - mae: 27.6379\n",
            "Epoch 455/500\n",
            "2/2 [==============================] - 0s 8ms/step - loss: 9.9529 - mae: 9.9529\n",
            "Epoch 456/500\n",
            "2/2 [==============================] - 0s 8ms/step - loss: 14.5639 - mae: 14.5639\n",
            "Epoch 457/500\n",
            "2/2 [==============================] - 0s 8ms/step - loss: 17.7201 - mae: 17.7201\n",
            "Epoch 458/500\n",
            "2/2 [==============================] - 0s 8ms/step - loss: 14.0074 - mae: 14.0074\n",
            "Epoch 459/500\n",
            "2/2 [==============================] - 0s 8ms/step - loss: 25.9242 - mae: 25.9242\n",
            "Epoch 460/500\n",
            "2/2 [==============================] - 0s 7ms/step - loss: 14.9913 - mae: 14.9913\n",
            "Epoch 461/500\n",
            "2/2 [==============================] - 0s 8ms/step - loss: 11.9204 - mae: 11.9204\n",
            "Epoch 462/500\n",
            "2/2 [==============================] - 0s 7ms/step - loss: 13.2711 - mae: 13.2711\n",
            "Epoch 463/500\n",
            "2/2 [==============================] - 0s 8ms/step - loss: 29.4676 - mae: 29.4676\n",
            "Epoch 464/500\n",
            "2/2 [==============================] - 0s 9ms/step - loss: 3.1629 - mae: 3.1629\n",
            "Epoch 465/500\n",
            "2/2 [==============================] - 0s 8ms/step - loss: 7.5703 - mae: 7.5703\n",
            "Epoch 466/500\n",
            "2/2 [==============================] - 0s 7ms/step - loss: 16.4927 - mae: 16.4927\n",
            "Epoch 467/500\n",
            "2/2 [==============================] - 0s 8ms/step - loss: 17.4546 - mae: 17.4546\n",
            "Epoch 468/500\n",
            "2/2 [==============================] - 0s 8ms/step - loss: 12.9075 - mae: 12.9075\n",
            "Epoch 469/500\n",
            "2/2 [==============================] - 0s 7ms/step - loss: 29.1944 - mae: 29.1944\n",
            "Epoch 470/500\n",
            "2/2 [==============================] - 0s 8ms/step - loss: 7.2216 - mae: 7.2216\n",
            "Epoch 471/500\n",
            "2/2 [==============================] - 0s 9ms/step - loss: 26.4166 - mae: 26.4166\n",
            "Epoch 472/500\n",
            "2/2 [==============================] - 0s 11ms/step - loss: 12.4001 - mae: 12.4001\n",
            "Epoch 473/500\n",
            "2/2 [==============================] - 0s 10ms/step - loss: 14.7430 - mae: 14.7430\n",
            "Epoch 474/500\n",
            "2/2 [==============================] - 0s 10ms/step - loss: 18.6722 - mae: 18.6722\n",
            "Epoch 475/500\n",
            "2/2 [==============================] - 0s 10ms/step - loss: 12.2838 - mae: 12.2838\n",
            "Epoch 476/500\n",
            "2/2 [==============================] - 0s 12ms/step - loss: 13.6956 - mae: 13.6956\n",
            "Epoch 477/500\n",
            "2/2 [==============================] - 0s 8ms/step - loss: 30.3362 - mae: 30.3362\n",
            "Epoch 478/500\n",
            "2/2 [==============================] - 0s 11ms/step - loss: 7.4073 - mae: 7.4073\n",
            "Epoch 479/500\n",
            "2/2 [==============================] - 0s 7ms/step - loss: 11.2720 - mae: 11.2720\n",
            "Epoch 480/500\n",
            "2/2 [==============================] - 0s 8ms/step - loss: 17.9406 - mae: 17.9406\n",
            "Epoch 481/500\n",
            "2/2 [==============================] - 0s 9ms/step - loss: 15.8307 - mae: 15.8307\n",
            "Epoch 482/500\n",
            "2/2 [==============================] - 0s 7ms/step - loss: 21.3780 - mae: 21.3780\n",
            "Epoch 483/500\n",
            "2/2 [==============================] - 0s 8ms/step - loss: 25.2406 - mae: 25.2406\n",
            "Epoch 484/500\n",
            "2/2 [==============================] - 0s 8ms/step - loss: 23.7942 - mae: 23.7942\n",
            "Epoch 485/500\n",
            "2/2 [==============================] - 0s 8ms/step - loss: 5.6733 - mae: 5.6733\n",
            "Epoch 486/500\n",
            "2/2 [==============================] - 0s 9ms/step - loss: 19.8654 - mae: 19.8654\n",
            "Epoch 487/500\n",
            "2/2 [==============================] - 0s 7ms/step - loss: 14.0470 - mae: 14.0470\n",
            "Epoch 488/500\n",
            "2/2 [==============================] - 0s 7ms/step - loss: 30.6336 - mae: 30.6336\n",
            "Epoch 489/500\n",
            "2/2 [==============================] - 0s 7ms/step - loss: 11.9609 - mae: 11.9609\n",
            "Epoch 490/500\n",
            "2/2 [==============================] - 0s 7ms/step - loss: 12.7396 - mae: 12.7396\n",
            "Epoch 491/500\n",
            "2/2 [==============================] - 0s 7ms/step - loss: 23.6401 - mae: 23.6401\n",
            "Epoch 492/500\n",
            "2/2 [==============================] - 0s 10ms/step - loss: 20.4739 - mae: 20.4739\n",
            "Epoch 493/500\n",
            "2/2 [==============================] - 0s 11ms/step - loss: 4.9109 - mae: 4.9109\n",
            "Epoch 494/500\n",
            "2/2 [==============================] - 0s 8ms/step - loss: 12.7379 - mae: 12.7379\n",
            "Epoch 495/500\n",
            "2/2 [==============================] - 0s 8ms/step - loss: 13.3742 - mae: 13.3742\n",
            "Epoch 496/500\n",
            "2/2 [==============================] - 0s 8ms/step - loss: 12.6679 - mae: 12.6679\n",
            "Epoch 497/500\n",
            "2/2 [==============================] - 0s 8ms/step - loss: 17.6015 - mae: 17.6015\n",
            "Epoch 498/500\n",
            "2/2 [==============================] - 0s 8ms/step - loss: 23.5722 - mae: 23.5722\n",
            "Epoch 499/500\n",
            "2/2 [==============================] - 0s 7ms/step - loss: 9.3843 - mae: 9.3843\n",
            "Epoch 500/500\n",
            "2/2 [==============================] - 0s 8ms/step - loss: 14.6061 - mae: 14.6061\n"
          ]
        },
        {
          "output_type": "execute_result",
          "data": {
            "text/plain": [
              "<keras.callbacks.History at 0x7f9a02e067d0>"
            ]
          },
          "metadata": {},
          "execution_count": 55
        }
      ]
    },
    {
      "cell_type": "code",
      "source": [
        "# Make and plot some predictions\n",
        "y_preds_3 = model_3.predict(X_test)\n",
        "plot_predictions(predictions=y_preds_3)"
      ],
      "metadata": {
        "colab": {
          "base_uri": "https://localhost:8080/",
          "height": 617
        },
        "id": "CbEjSudBxRFJ",
        "outputId": "77b0a596-d3d5-4b59-a777-89a9a81151f0"
      },
      "execution_count": 57,
      "outputs": [
        {
          "output_type": "stream",
          "name": "stdout",
          "text": [
            "1/1 [==============================] - 0s 27ms/step\n"
          ]
        },
        {
          "output_type": "display_data",
          "data": {
            "text/plain": [
              "<Figure size 1000x700 with 1 Axes>"
            ],
            "image/png": "[encoded data removed]"
          },
          "metadata": {}
        }
      ]
    },
    {
      "cell_type": "code",
      "source": [
        "# Calculate model_3 evalaution metrics\n",
        "mae_3 = mae(y_test, y_preds_3)\n",
        "mse_3 = mse(y_test, y_preds_3)\n",
        "mae_3, mse_3"
      ],
      "metadata": {
        "colab": {
          "base_uri": "https://localhost:8080/"
        },
        "id": "76jQ3rufxZnl",
        "outputId": "3f4721e2-71d6-4e09-baf3-2f31be9ab7e0"
      },
      "execution_count": 58,
      "outputs": [
        {
          "output_type": "execute_result",
          "data": {
            "text/plain": [
              "(<tf.Tensor: shape=(), dtype=float32, numpy=68.60426>,\n",
              " <tf.Tensor: shape=(), dtype=float32, numpy=4792.93>)"
            ]
          },
          "metadata": {},
          "execution_count": 58
        }
      ]
    },
    {
      "cell_type": "markdown",
      "source": [
        "\n",
        "## Comparing the results of our experiments\n",
        "\n",
        "We've run a few experiments, let's compare the results.\n"
      ],
      "metadata": {
        "id": "PjOn4idcxc3K"
      }
    },
    {
      "cell_type": "code",
      "source": [
        "# Let's compare our model's results using a pandas DataFrame\n",
        "import pandas as pd\n",
        "\n",
        "model_results = [[\"model_1\", mae_1.numpy(), mse_1.numpy()],\n",
        "                 [\"model_2\", mae_2.numpy(), mse_2.numpy()],\n",
        "                 [\"model_3\", mae_3.numpy(), mse_3.numpy()]]\n",
        "\n",
        "all_results = pd.DataFrame(model_results, columns=[\"model\", \"mae\", \"mse\"])\n",
        "all_results"
      ],
      "metadata": {
        "colab": {
          "base_uri": "https://localhost:8080/",
          "height": 143
        },
        "id": "ieVc1uXmxed_",
        "outputId": "c1dfd8c9-e06e-4642-be4a-c5729bd2e8b8"
      },
      "execution_count": 59,
      "outputs": [
        {
          "output_type": "execute_result",
          "data": {
            "text/plain": [
              "     model        mae          mse\n",
              "0  model_1  21.298494   457.070221\n",
              "1  model_2   2.014590     5.977366\n",
              "2  model_3  68.604263  4792.930176"
            ],
            "text/html": [
              "\n",
              "  <div id=\"df-e3df9107-f46e-4a08-a595-ff2d1b6c569f\">\n",
              "    <div class=\"colab-df-container\">\n",
              "      <div>\n",
              "<style scoped>\n",
              "    .dataframe tbody tr th:only-of-type {\n",
              "        vertical-align: middle;\n",
              "    }\n",
              "\n",
              "    .dataframe tbody tr th {\n",
              "        vertical-align: top;\n",
              "    }\n",
              "\n",
              "    .dataframe thead th {\n",
              "        text-align: right;\n",
              "    }\n",
              "</style>\n",
              "<table border=\"1\" class=\"dataframe\">\n",
              "  <thead>\n",
              "    <tr style=\"text-align: right;\">\n",
              "      <th></th>\n",
              "      <th>model</th>\n",
              "      <th>mae</th>\n",
              "      <th>mse</th>\n",
              "    </tr>\n",
              "  </thead>\n",
              "  <tbody>\n",
              "    <tr>\n",
              "      <th>0</th>\n",
              "      <td>model_1</td>\n",
              "      <td>21.298494</td>\n",
              "      <td>457.070221</td>\n",
              "    </tr>\n",
              "    <tr>\n",
              "      <th>1</th>\n",
              "      <td>model_2</td>\n",
              "      <td>2.014590</td>\n",
              "      <td>5.977366</td>\n",
              "    </tr>\n",
              "    <tr>\n",
              "      <th>2</th>\n",
              "      <td>model_3</td>\n",
              "      <td>68.604263</td>\n",
              "      <td>4792.930176</td>\n",
              "    </tr>\n",
              "  </tbody>\n",
              "</table>\n",
              "</div>\n",
              "      <button class=\"colab-df-convert\" onclick=\"convertToInteractive('df-e3df9107-f46e-4a08-a595-ff2d1b6c569f')\"\n",
              "              title=\"Convert this dataframe to an interactive table.\"\n",
              "              style=\"display:none;\">\n",
              "        \n",
              "  <svg xmlns=\"http://www.w3.org/2000/svg\" height=\"24px\"viewBox=\"0 0 24 24\"\n",
              "       width=\"24px\">\n",
              "    <path d=\"M0 0h24v24H0V0z\" fill=\"none\"/>\n",
              "    <path d=\"M18.56 5.44l.94 2.06.94-2.06 2.06-.94-2.06-.94-.94-2.06-.94 2.06-2.06.94zm-11 1L8.5 8.5l.94-2.06 2.06-.94-2.06-.94L8.5 2.5l-.94 2.06-2.06.94zm10 10l.94 2.06.94-2.06 2.06-.94-2.06-.94-.94-2.06-.94 2.06-2.06.94z\"/><path d=\"M17.41 7.96l-1.37-1.37c-.4-.4-.92-.59-1.43-.59-.52 0-1.04.2-1.43.59L10.3 9.45l-7.72 7.72c-.78.78-.78 2.05 0 2.83L4 21.41c.39.39.9.59 1.41.59.51 0 1.02-.2 1.41-.59l7.78-7.78 2.81-2.81c.8-.78.8-2.07 0-2.86zM5.41 20L4 18.59l7.72-7.72 1.47 1.35L5.41 20z\"/>\n",
              "  </svg>\n",
              "      </button>\n",
              "      \n",
              "  <style>\n",
              "    .colab-df-container {\n",
              "      display:flex;\n",
              "      flex-wrap:wrap;\n",
              "      gap: 12px;\n",
              "    }\n",
              "\n",
              "    .colab-df-convert {\n",
              "      background-color: #E8F0FE;\n",
              "      border: none;\n",
              "      border-radius: 50%;\n",
              "      cursor: pointer;\n",
              "      display: none;\n",
              "      fill: #1967D2;\n",
              "      height: 32px;\n",
              "      padding: 0 0 0 0;\n",
              "      width: 32px;\n",
              "    }\n",
              "\n",
              "    .colab-df-convert:hover {\n",
              "      background-color: #E2EBFA;\n",
              "      box-shadow: 0px 1px 2px rgba(60, 64, 67, 0.3), 0px 1px 3px 1px rgba(60, 64, 67, 0.15);\n",
              "      fill: #174EA6;\n",
              "    }\n",
              "\n",
              "    [theme=dark] .colab-df-convert {\n",
              "      background-color: #3B4455;\n",
              "      fill: #D2E3FC;\n",
              "    }\n",
              "\n",
              "    [theme=dark] .colab-df-convert:hover {\n",
              "      background-color: #434B5C;\n",
              "      box-shadow: 0px 1px 3px 1px rgba(0, 0, 0, 0.15);\n",
              "      filter: drop-shadow(0px 1px 2px rgba(0, 0, 0, 0.3));\n",
              "      fill: #FFFFFF;\n",
              "    }\n",
              "  </style>\n",
              "\n",
              "      <script>\n",
              "        const buttonEl =\n",
              "          document.querySelector('#df-e3df9107-f46e-4a08-a595-ff2d1b6c569f button.colab-df-convert');\n",
              "        buttonEl.style.display =\n",
              "          google.colab.kernel.accessAllowed ? 'block' : 'none';\n",
              "\n",
              "        async function convertToInteractive(key) {\n",
              "          const element = document.querySelector('#df-e3df9107-f46e-4a08-a595-ff2d1b6c569f');\n",
              "          const dataTable =\n",
              "            await google.colab.kernel.invokeFunction('convertToInteractive',\n",
              "                                                     [key], {});\n",
              "          if (!dataTable) return;\n",
              "\n",
              "          const docLinkHtml = 'Like what you see? Visit the ' +\n",
              "            '<a target=\"_blank\" href=https://colab.research.google.com/notebooks/data_table.ipynb>data table notebook</a>'\n",
              "            + ' to learn more about interactive tables.';\n",
              "          element.innerHTML = '';\n",
              "          dataTable['output_type'] = 'display_data';\n",
              "          await google.colab.output.renderOutput(dataTable, element);\n",
              "          const docLink = document.createElement('div');\n",
              "          docLink.innerHTML = docLinkHtml;\n",
              "          element.appendChild(docLink);\n",
              "        }\n",
              "      </script>\n",
              "    </div>\n",
              "  </div>\n",
              "  "
            ]
          },
          "metadata": {},
          "execution_count": 59
        }
      ]
    },
    {
      "cell_type": "markdown",
      "source": [
        "Looks like `model_2` performed the best.."
      ],
      "metadata": {
        "id": "fW7dbMU2x0sx"
      }
    },
    {
      "cell_type": "code",
      "source": [
        "model_1.summary()"
      ],
      "metadata": {
        "colab": {
          "base_uri": "https://localhost:8080/"
        },
        "id": "Boxt6-fPx2oV",
        "outputId": "cdf35e39-bc02-4f38-cf41-dbb9f618a953"
      },
      "execution_count": 60,
      "outputs": [
        {
          "output_type": "stream",
          "name": "stdout",
          "text": [
            "Model: \"sequential_4\"\n",
            "_________________________________________________________________\n",
            " Layer (type)                Output Shape              Param #   \n",
            "=================================================================\n",
            " dense_5 (Dense)             (None, 1)                 2         \n",
            "                                                                 \n",
            "=================================================================\n",
            "Total params: 2\n",
            "Trainable params: 2\n",
            "Non-trainable params: 0\n",
            "_________________________________________________________________\n"
          ]
        }
      ]
    },
    {
      "cell_type": "markdown",
      "source": [
        "\n",
        "## Tracking your experiments\n",
        "\n",
        "One really good habit in machine learning modelling is to track the results of your experiments.\n",
        "\n",
        "And when doing so, it can be tedious if you're running lots of experiments.\n",
        "\n",
        "Luckily, there are tools to help us!\n",
        "\n",
        "**📖 Resource: As you build more models, you'll want to look into using:**\n",
        "\n",
        "- **TensorBoard** - a component of the TensorFlow library to help track modelling experiments (we'll see this one later).\n",
        "- **Weights & Biases** - a tool for tracking all of kinds of machine learning experiments (plugs straight into TensorBoard).\n",
        "\n",
        "Saving our models\n",
        "\n",
        "Saving our models allows us to use them outside of Google Colab (or wherever they were trained) such as in a web application or a mobile app.\n",
        "\n",
        "There are two main formats we can save our model's too:\n",
        "\n",
        "- The `SavedModel` format\n",
        "- The `HDF5` format\n",
        "\n"
      ],
      "metadata": {
        "id": "cgYKYVl1yCEv"
      }
    },
    {
      "cell_type": "markdown",
      "source": [
        "### SaveModel Format"
      ],
      "metadata": {
        "id": "aO0w1ZklfMX-"
      }
    },
    {
      "cell_type": "code",
      "source": [
        "# Save model using the SavedModel format\n",
        "model_2.save(\"best_model_SavedModel_format\")"
      ],
      "metadata": {
        "colab": {
          "base_uri": "https://localhost:8080/"
        },
        "id": "dFhR27J8ySQe",
        "outputId": "1683634a-677b-495c-ef09-5d0ebfdaa8ba"
      },
      "execution_count": 63,
      "outputs": [
        {
          "output_type": "stream",
          "name": "stderr",
          "text": [
            "WARNING:absl:Found untraced functions such as _update_step_xla while saving (showing 1 of 1). These functions will not be directly callable after loading.\n"
          ]
        }
      ]
    },
    {
      "cell_type": "markdown",
      "source": [
        "### HDF5 Format"
      ],
      "metadata": {
        "id": "3KVEQt6vfPz-"
      }
    },
    {
      "cell_type": "code",
      "source": [
        "# Save model using the HDF5 format\n",
        "model_2.save(\"best_model_HDF5_format.h5\")"
      ],
      "metadata": {
        "id": "e4LDs7a7fT4Y"
      },
      "execution_count": 64,
      "outputs": []
    },
    {
      "cell_type": "markdown",
      "source": [
        "## Loading in a saved model"
      ],
      "metadata": {
        "id": "kYTsJJbcf-S4"
      }
    },
    {
      "cell_type": "code",
      "source": [
        "# Load in the SavedModel format model\n",
        "loaded_SavedModel_format = tf.keras.models.load_model(\"best_model_SavedModel_format\")\n",
        "loaded_SavedModel_format.summary()"
      ],
      "metadata": {
        "colab": {
          "base_uri": "https://localhost:8080/"
        },
        "id": "etfsna5if_cU",
        "outputId": "507df96a-01de-4fdf-f167-8a66f6209467"
      },
      "execution_count": 65,
      "outputs": [
        {
          "output_type": "stream",
          "name": "stdout",
          "text": [
            "Model: \"sequential_5\"\n",
            "_________________________________________________________________\n",
            " Layer (type)                Output Shape              Param #   \n",
            "=================================================================\n",
            " dense_6 (Dense)             (None, 10)                20        \n",
            "                                                                 \n",
            " dense_7 (Dense)             (None, 1)                 11        \n",
            "                                                                 \n",
            "=================================================================\n",
            "Total params: 31\n",
            "Trainable params: 31\n",
            "Non-trainable params: 0\n",
            "_________________________________________________________________\n"
          ]
        }
      ]
    },
    {
      "cell_type": "code",
      "source": [
        "# Compare model_2 predictions with SavedModel format model predictions\n",
        "model_2_preds = model_2.predict(X_test)\n",
        "loaded_SavedModel_format_preds = loaded_SavedModel_format.predict(X_test)\n",
        "model_2_preds == loaded_SavedModel_format_preds"
      ],
      "metadata": {
        "colab": {
          "base_uri": "https://localhost:8080/"
        },
        "id": "ZzBf6n5HgQQd",
        "outputId": "5f1cc572-9b88-4850-8677-0fb97580072d"
      },
      "execution_count": 66,
      "outputs": [
        {
          "output_type": "stream",
          "name": "stdout",
          "text": [
            "1/1 [==============================] - 0s 37ms/step\n",
            "1/1 [==============================] - 0s 83ms/step\n"
          ]
        },
        {
          "output_type": "execute_result",
          "data": {
            "text/plain": [
              "array([[ True],\n",
              "       [ True],\n",
              "       [ True],\n",
              "       [ True],\n",
              "       [ True],\n",
              "       [ True],\n",
              "       [ True],\n",
              "       [ True],\n",
              "       [ True],\n",
              "       [ True]])"
            ]
          },
          "metadata": {},
          "execution_count": 66
        }
      ]
    },
    {
      "cell_type": "code",
      "source": [
        "# Compare the MAE of model_2 preds and loaded_SavedModel_preds\n",
        "mae(y_true=y_test, y_pred=model_2_preds) == mae(y_true=y_test, y_pred=loaded_SavedModel_format_preds)"
      ],
      "metadata": {
        "colab": {
          "base_uri": "https://localhost:8080/"
        },
        "id": "eAAhh99ogRzF",
        "outputId": "26d28fa6-6476-4f9a-f6d3-e4109123c8f5"
      },
      "execution_count": 67,
      "outputs": [
        {
          "output_type": "execute_result",
          "data": {
            "text/plain": [
              "<tf.Tensor: shape=(), dtype=bool, numpy=True>"
            ]
          },
          "metadata": {},
          "execution_count": 67
        }
      ]
    },
    {
      "cell_type": "code",
      "source": [
        "# Load in a model using the .h5 format\n",
        "loaded_h5_model = tf.keras.models.load_model(\"/content/best_model_HDF5_format.h5\")\n",
        "loaded_h5_model.summary()"
      ],
      "metadata": {
        "colab": {
          "base_uri": "https://localhost:8080/"
        },
        "id": "lciXSHuqgV-h",
        "outputId": "fd46f976-3965-417e-ea24-71cf6a270dbf"
      },
      "execution_count": 68,
      "outputs": [
        {
          "output_type": "stream",
          "name": "stdout",
          "text": [
            "Model: \"sequential_5\"\n",
            "_________________________________________________________________\n",
            " Layer (type)                Output Shape              Param #   \n",
            "=================================================================\n",
            " dense_6 (Dense)             (None, 10)                20        \n",
            "                                                                 \n",
            " dense_7 (Dense)             (None, 1)                 11        \n",
            "                                                                 \n",
            "=================================================================\n",
            "Total params: 31\n",
            "Trainable params: 31\n",
            "Non-trainable params: 0\n",
            "_________________________________________________________________\n"
          ]
        }
      ]
    },
    {
      "cell_type": "code",
      "source": [
        "# Check to see if loaded .h5 model predictions match model_2\n",
        "model_2_preds = model_2.predict(X_test)\n",
        "loaded_h5_model_preds = loaded_h5_model.predict(X_test)\n",
        "model_2_preds == loaded_h5_model_preds"
      ],
      "metadata": {
        "colab": {
          "base_uri": "https://localhost:8080/"
        },
        "id": "Ot13eSvUgjdT",
        "outputId": "ca5169d4-3a4b-4559-972a-9b000fbf9622"
      },
      "execution_count": 69,
      "outputs": [
        {
          "output_type": "stream",
          "name": "stdout",
          "text": [
            "1/1 [==============================] - 0s 39ms/step\n",
            "1/1 [==============================] - 0s 89ms/step\n"
          ]
        },
        {
          "output_type": "execute_result",
          "data": {
            "text/plain": [
              "array([[ True],\n",
              "       [ True],\n",
              "       [ True],\n",
              "       [ True],\n",
              "       [ True],\n",
              "       [ True],\n",
              "       [ True],\n",
              "       [ True],\n",
              "       [ True],\n",
              "       [ True]])"
            ]
          },
          "metadata": {},
          "execution_count": 69
        }
      ]
    },
    {
      "cell_type": "markdown",
      "source": [
        "\n",
        "## Download a model (or any other file) from Google Colab\n",
        "\n",
        "If you want to download your files from Google Colab:\n",
        "\n",
        "- You can go to the \"files\" tab and right click on the file you're after and click \"download\".\n",
        "- Use code (see the cell below).\n",
        "- Save it to Google Drive by connecting Google Drive and copying it there (see 2nd code cell below).\n",
        "\n"
      ],
      "metadata": {
        "id": "VdzB1VS6g7OX"
      }
    },
    {
      "cell_type": "code",
      "source": [
        "# Download a file from Google Colab\n",
        "from google.colab import files\n",
        "files.download(\"/content/best_model_HDF5_format.h5\")"
      ],
      "metadata": {
        "colab": {
          "base_uri": "https://localhost:8080/",
          "height": 17
        },
        "id": "KRc4W7PNgoFF",
        "outputId": "13d43212-eb1e-46c4-d7a2-1b9c1fe2508c"
      },
      "execution_count": 70,
      "outputs": [
        {
          "output_type": "display_data",
          "data": {
            "text/plain": [
              "<IPython.core.display.Javascript object>"
            ],
            "application/javascript": [
              "\n",
              "    async function download(id, filename, size) {\n",
              "      if (!google.colab.kernel.accessAllowed) {\n",
              "        return;\n",
              "      }\n",
              "      const div = document.createElement('div');\n",
              "      const label = document.createElement('label');\n",
              "      label.textContent = `Downloading \"${filename}\": `;\n",
              "      div.appendChild(label);\n",
              "      const progress = document.createElement('progress');\n",
              "      progress.max = size;\n",
              "      div.appendChild(progress);\n",
              "      document.body.appendChild(div);\n",
              "\n",
              "      const buffers = [];\n",
              "      let downloaded = 0;\n",
              "\n",
              "      const channel = await google.colab.kernel.comms.open(id);\n",
              "      // Send a message to notify the kernel that we're ready.\n",
              "      channel.send({})\n",
              "\n",
              "      for await (const message of channel.messages) {\n",
              "        // Send a message to notify the kernel that we're ready.\n",
              "        channel.send({})\n",
              "        if (message.buffers) {\n",
              "          for (const buffer of message.buffers) {\n",
              "            buffers.push(buffer);\n",
              "            downloaded += buffer.byteLength;\n",
              "            progress.value = downloaded;\n",
              "          }\n",
              "        }\n",
              "      }\n",
              "      const blob = new Blob(buffers, {type: 'application/binary'});\n",
              "      const a = document.createElement('a');\n",
              "      a.href = window.URL.createObjectURL(blob);\n",
              "      a.download = filename;\n",
              "      div.appendChild(a);\n",
              "      a.click();\n",
              "      div.remove();\n",
              "    }\n",
              "  "
            ]
          },
          "metadata": {}
        },
        {
          "output_type": "display_data",
          "data": {
            "text/plain": [
              "<IPython.core.display.Javascript object>"
            ],
            "application/javascript": [
              "download(\"download_6acec827-20b3-44ff-b9e9-7129ab8ee536\", \"best_model_HDF5_format.h5\", 21952)"
            ]
          },
          "metadata": {}
        }
      ]
    },
    {
      "cell_type": "code",
      "source": [
        "# Save a file from Google Colab to Google Drive (requires mounting Google Drive)\n",
        "!cp /content/best_model_HDF5_format.h5 /content/drive/MyDrive/Tensorflow"
      ],
      "metadata": {
        "id": "vpxa57xJhVAE"
      },
      "execution_count": 73,
      "outputs": []
    },
    {
      "cell_type": "code",
      "source": [
        "!ls /content/drive/MyDrive/Tensorflow"
      ],
      "metadata": {
        "colab": {
          "base_uri": "https://localhost:8080/"
        },
        "id": "DxAFw1VdhmHn",
        "outputId": "e5bf30d8-df4c-4c29-8a3e-2deeab92e32e"
      },
      "execution_count": 74,
      "outputs": [
        {
          "output_type": "stream",
          "name": "stdout",
          "text": [
            "best_model_HDF5_format.h5\n"
          ]
        }
      ]
    },
    {
      "cell_type": "markdown",
      "source": [
        "# Working with a Larger Model- Insurance Dataset\n",
        "Alright, we've seen the fundamentals of building neural network regression models in **TensorFlow**.\n",
        "\n",
        "Let's step it up a notch and build a model for a more feature rich dataset.\n",
        "\n",
        "More specifically we're going to try predict the cost of medical insurance for individuals based on a number of different parameters such as, `age`, `sex`, `bmi`, `children`, `smoking_status` and `residential_region`.\n",
        "\n",
        "To do, we'll leverage the pubically available [Medical Cost dataset](https://www.kaggle.com/datasets/mirichoi0218/insurance) available from Kaggle and [hosted on GitHub](https://github.com/stedy/Machine-Learning-with-R-datasets/blob/master/insurance.csv)."
      ],
      "metadata": {
        "id": "H0f89_ljiOeq"
      }
    },
    {
      "cell_type": "code",
      "source": [
        "# Import required libraries\n",
        "import tensorflow as tf\n",
        "import pandas as pd\n",
        "import matplotlib.pyplot as plt"
      ],
      "metadata": {
        "id": "z5GguQ7xhzwH"
      },
      "execution_count": 79,
      "outputs": []
    },
    {
      "cell_type": "code",
      "source": [
        "# Read in the insurance dataset\n",
        "insurance = pd.read_csv(\"https://raw.githubusercontent.com/stedy/Machine-Learning-with-R-datasets/master/insurance.csv\")\n",
        "insurance"
      ],
      "metadata": {
        "colab": {
          "base_uri": "https://localhost:8080/",
          "height": 424
        },
        "id": "Y5OTzbryksRI",
        "outputId": "86dc0a56-0c8b-4440-bec9-f0a5c754d248"
      },
      "execution_count": 83,
      "outputs": [
        {
          "output_type": "execute_result",
          "data": {
            "text/plain": [
              "      age     sex     bmi  children smoker     region      charges\n",
              "0      19  female  27.900         0    yes  southwest  16884.92400\n",
              "1      18    male  33.770         1     no  southeast   1725.55230\n",
              "2      28    male  33.000         3     no  southeast   4449.46200\n",
              "3      33    male  22.705         0     no  northwest  21984.47061\n",
              "4      32    male  28.880         0     no  northwest   3866.85520\n",
              "...   ...     ...     ...       ...    ...        ...          ...\n",
              "1333   50    male  30.970         3     no  northwest  10600.54830\n",
              "1334   18  female  31.920         0     no  northeast   2205.98080\n",
              "1335   18  female  36.850         0     no  southeast   1629.83350\n",
              "1336   21  female  25.800         0     no  southwest   2007.94500\n",
              "1337   61  female  29.070         0    yes  northwest  29141.36030\n",
              "\n",
              "[1338 rows x 7 columns]"
            ],
            "text/html": [
              "\n",
              "  <div id=\"df-8f7fd89c-5de2-4155-8d88-2b201a44c330\">\n",
              "    <div class=\"colab-df-container\">\n",
              "      <div>\n",
              "<style scoped>\n",
              "    .dataframe tbody tr th:only-of-type {\n",
              "        vertical-align: middle;\n",
              "    }\n",
              "\n",
              "    .dataframe tbody tr th {\n",
              "        vertical-align: top;\n",
              "    }\n",
              "\n",
              "    .dataframe thead th {\n",
              "        text-align: right;\n",
              "    }\n",
              "</style>\n",
              "<table border=\"1\" class=\"dataframe\">\n",
              "  <thead>\n",
              "    <tr style=\"text-align: right;\">\n",
              "      <th></th>\n",
              "      <th>age</th>\n",
              "      <th>sex</th>\n",
              "      <th>bmi</th>\n",
              "      <th>children</th>\n",
              "      <th>smoker</th>\n",
              "      <th>region</th>\n",
              "      <th>charges</th>\n",
              "    </tr>\n",
              "  </thead>\n",
              "  <tbody>\n",
              "    <tr>\n",
              "      <th>0</th>\n",
              "      <td>19</td>\n",
              "      <td>female</td>\n",
              "      <td>27.900</td>\n",
              "      <td>0</td>\n",
              "      <td>yes</td>\n",
              "      <td>southwest</td>\n",
              "      <td>16884.92400</td>\n",
              "    </tr>\n",
              "    <tr>\n",
              "      <th>1</th>\n",
              "      <td>18</td>\n",
              "      <td>male</td>\n",
              "      <td>33.770</td>\n",
              "      <td>1</td>\n",
              "      <td>no</td>\n",
              "      <td>southeast</td>\n",
              "      <td>1725.55230</td>\n",
              "    </tr>\n",
              "    <tr>\n",
              "      <th>2</th>\n",
              "      <td>28</td>\n",
              "      <td>male</td>\n",
              "      <td>33.000</td>\n",
              "      <td>3</td>\n",
              "      <td>no</td>\n",
              "      <td>southeast</td>\n",
              "      <td>4449.46200</td>\n",
              "    </tr>\n",
              "    <tr>\n",
              "      <th>3</th>\n",
              "      <td>33</td>\n",
              "      <td>male</td>\n",
              "      <td>22.705</td>\n",
              "      <td>0</td>\n",
              "      <td>no</td>\n",
              "      <td>northwest</td>\n",
              "      <td>21984.47061</td>\n",
              "    </tr>\n",
              "    <tr>\n",
              "      <th>4</th>\n",
              "      <td>32</td>\n",
              "      <td>male</td>\n",
              "      <td>28.880</td>\n",
              "      <td>0</td>\n",
              "      <td>no</td>\n",
              "      <td>northwest</td>\n",
              "      <td>3866.85520</td>\n",
              "    </tr>\n",
              "    <tr>\n",
              "      <th>...</th>\n",
              "      <td>...</td>\n",
              "      <td>...</td>\n",
              "      <td>...</td>\n",
              "      <td>...</td>\n",
              "      <td>...</td>\n",
              "      <td>...</td>\n",
              "      <td>...</td>\n",
              "    </tr>\n",
              "    <tr>\n",
              "      <th>1333</th>\n",
              "      <td>50</td>\n",
              "      <td>male</td>\n",
              "      <td>30.970</td>\n",
              "      <td>3</td>\n",
              "      <td>no</td>\n",
              "      <td>northwest</td>\n",
              "      <td>10600.54830</td>\n",
              "    </tr>\n",
              "    <tr>\n",
              "      <th>1334</th>\n",
              "      <td>18</td>\n",
              "      <td>female</td>\n",
              "      <td>31.920</td>\n",
              "      <td>0</td>\n",
              "      <td>no</td>\n",
              "      <td>northeast</td>\n",
              "      <td>2205.98080</td>\n",
              "    </tr>\n",
              "    <tr>\n",
              "      <th>1335</th>\n",
              "      <td>18</td>\n",
              "      <td>female</td>\n",
              "      <td>36.850</td>\n",
              "      <td>0</td>\n",
              "      <td>no</td>\n",
              "      <td>southeast</td>\n",
              "      <td>1629.83350</td>\n",
              "    </tr>\n",
              "    <tr>\n",
              "      <th>1336</th>\n",
              "      <td>21</td>\n",
              "      <td>female</td>\n",
              "      <td>25.800</td>\n",
              "      <td>0</td>\n",
              "      <td>no</td>\n",
              "      <td>southwest</td>\n",
              "      <td>2007.94500</td>\n",
              "    </tr>\n",
              "    <tr>\n",
              "      <th>1337</th>\n",
              "      <td>61</td>\n",
              "      <td>female</td>\n",
              "      <td>29.070</td>\n",
              "      <td>0</td>\n",
              "      <td>yes</td>\n",
              "      <td>northwest</td>\n",
              "      <td>29141.36030</td>\n",
              "    </tr>\n",
              "  </tbody>\n",
              "</table>\n",
              "<p>1338 rows × 7 columns</p>\n",
              "</div>\n",
              "      <button class=\"colab-df-convert\" onclick=\"convertToInteractive('df-8f7fd89c-5de2-4155-8d88-2b201a44c330')\"\n",
              "              title=\"Convert this dataframe to an interactive table.\"\n",
              "              style=\"display:none;\">\n",
              "        \n",
              "  <svg xmlns=\"http://www.w3.org/2000/svg\" height=\"24px\"viewBox=\"0 0 24 24\"\n",
              "       width=\"24px\">\n",
              "    <path d=\"M0 0h24v24H0V0z\" fill=\"none\"/>\n",
              "    <path d=\"M18.56 5.44l.94 2.06.94-2.06 2.06-.94-2.06-.94-.94-2.06-.94 2.06-2.06.94zm-11 1L8.5 8.5l.94-2.06 2.06-.94-2.06-.94L8.5 2.5l-.94 2.06-2.06.94zm10 10l.94 2.06.94-2.06 2.06-.94-2.06-.94-.94-2.06-.94 2.06-2.06.94z\"/><path d=\"M17.41 7.96l-1.37-1.37c-.4-.4-.92-.59-1.43-.59-.52 0-1.04.2-1.43.59L10.3 9.45l-7.72 7.72c-.78.78-.78 2.05 0 2.83L4 21.41c.39.39.9.59 1.41.59.51 0 1.02-.2 1.41-.59l7.78-7.78 2.81-2.81c.8-.78.8-2.07 0-2.86zM5.41 20L4 18.59l7.72-7.72 1.47 1.35L5.41 20z\"/>\n",
              "  </svg>\n",
              "      </button>\n",
              "      \n",
              "  <style>\n",
              "    .colab-df-container {\n",
              "      display:flex;\n",
              "      flex-wrap:wrap;\n",
              "      gap: 12px;\n",
              "    }\n",
              "\n",
              "    .colab-df-convert {\n",
              "      background-color: #E8F0FE;\n",
              "      border: none;\n",
              "      border-radius: 50%;\n",
              "      cursor: pointer;\n",
              "      display: none;\n",
              "      fill: #1967D2;\n",
              "      height: 32px;\n",
              "      padding: 0 0 0 0;\n",
              "      width: 32px;\n",
              "    }\n",
              "\n",
              "    .colab-df-convert:hover {\n",
              "      background-color: #E2EBFA;\n",
              "      box-shadow: 0px 1px 2px rgba(60, 64, 67, 0.3), 0px 1px 3px 1px rgba(60, 64, 67, 0.15);\n",
              "      fill: #174EA6;\n",
              "    }\n",
              "\n",
              "    [theme=dark] .colab-df-convert {\n",
              "      background-color: #3B4455;\n",
              "      fill: #D2E3FC;\n",
              "    }\n",
              "\n",
              "    [theme=dark] .colab-df-convert:hover {\n",
              "      background-color: #434B5C;\n",
              "      box-shadow: 0px 1px 3px 1px rgba(0, 0, 0, 0.15);\n",
              "      filter: drop-shadow(0px 1px 2px rgba(0, 0, 0, 0.3));\n",
              "      fill: #FFFFFF;\n",
              "    }\n",
              "  </style>\n",
              "\n",
              "      <script>\n",
              "        const buttonEl =\n",
              "          document.querySelector('#df-8f7fd89c-5de2-4155-8d88-2b201a44c330 button.colab-df-convert');\n",
              "        buttonEl.style.display =\n",
              "          google.colab.kernel.accessAllowed ? 'block' : 'none';\n",
              "\n",
              "        async function convertToInteractive(key) {\n",
              "          const element = document.querySelector('#df-8f7fd89c-5de2-4155-8d88-2b201a44c330');\n",
              "          const dataTable =\n",
              "            await google.colab.kernel.invokeFunction('convertToInteractive',\n",
              "                                                     [key], {});\n",
              "          if (!dataTable) return;\n",
              "\n",
              "          const docLinkHtml = 'Like what you see? Visit the ' +\n",
              "            '<a target=\"_blank\" href=https://colab.research.google.com/notebooks/data_table.ipynb>data table notebook</a>'\n",
              "            + ' to learn more about interactive tables.';\n",
              "          element.innerHTML = '';\n",
              "          dataTable['output_type'] = 'display_data';\n",
              "          await google.colab.output.renderOutput(dataTable, element);\n",
              "          const docLink = document.createElement('div');\n",
              "          docLink.innerHTML = docLinkHtml;\n",
              "          element.appendChild(docLink);\n",
              "        }\n",
              "      </script>\n",
              "    </div>\n",
              "  </div>\n",
              "  "
            ]
          },
          "metadata": {},
          "execution_count": 83
        }
      ]
    },
    {
      "cell_type": "code",
      "source": [
        "insurance[[\"smoker\",\"children\"]]"
      ],
      "metadata": {
        "colab": {
          "base_uri": "https://localhost:8080/",
          "height": 424
        },
        "id": "-XMku62FmN0B",
        "outputId": "2106fdf5-7a7a-4ea4-846d-e8279be542b2"
      },
      "execution_count": 90,
      "outputs": [
        {
          "output_type": "execute_result",
          "data": {
            "text/plain": [
              "     smoker  children\n",
              "0       yes         0\n",
              "1        no         1\n",
              "2        no         3\n",
              "3        no         0\n",
              "4        no         0\n",
              "...     ...       ...\n",
              "1333     no         3\n",
              "1334     no         0\n",
              "1335     no         0\n",
              "1336     no         0\n",
              "1337    yes         0\n",
              "\n",
              "[1338 rows x 2 columns]"
            ],
            "text/html": [
              "\n",
              "  <div id=\"df-d4ea2b19-c9b2-4113-b9ba-6aee9911c2bb\">\n",
              "    <div class=\"colab-df-container\">\n",
              "      <div>\n",
              "<style scoped>\n",
              "    .dataframe tbody tr th:only-of-type {\n",
              "        vertical-align: middle;\n",
              "    }\n",
              "\n",
              "    .dataframe tbody tr th {\n",
              "        vertical-align: top;\n",
              "    }\n",
              "\n",
              "    .dataframe thead th {\n",
              "        text-align: right;\n",
              "    }\n",
              "</style>\n",
              "<table border=\"1\" class=\"dataframe\">\n",
              "  <thead>\n",
              "    <tr style=\"text-align: right;\">\n",
              "      <th></th>\n",
              "      <th>smoker</th>\n",
              "      <th>children</th>\n",
              "    </tr>\n",
              "  </thead>\n",
              "  <tbody>\n",
              "    <tr>\n",
              "      <th>0</th>\n",
              "      <td>yes</td>\n",
              "      <td>0</td>\n",
              "    </tr>\n",
              "    <tr>\n",
              "      <th>1</th>\n",
              "      <td>no</td>\n",
              "      <td>1</td>\n",
              "    </tr>\n",
              "    <tr>\n",
              "      <th>2</th>\n",
              "      <td>no</td>\n",
              "      <td>3</td>\n",
              "    </tr>\n",
              "    <tr>\n",
              "      <th>3</th>\n",
              "      <td>no</td>\n",
              "      <td>0</td>\n",
              "    </tr>\n",
              "    <tr>\n",
              "      <th>4</th>\n",
              "      <td>no</td>\n",
              "      <td>0</td>\n",
              "    </tr>\n",
              "    <tr>\n",
              "      <th>...</th>\n",
              "      <td>...</td>\n",
              "      <td>...</td>\n",
              "    </tr>\n",
              "    <tr>\n",
              "      <th>1333</th>\n",
              "      <td>no</td>\n",
              "      <td>3</td>\n",
              "    </tr>\n",
              "    <tr>\n",
              "      <th>1334</th>\n",
              "      <td>no</td>\n",
              "      <td>0</td>\n",
              "    </tr>\n",
              "    <tr>\n",
              "      <th>1335</th>\n",
              "      <td>no</td>\n",
              "      <td>0</td>\n",
              "    </tr>\n",
              "    <tr>\n",
              "      <th>1336</th>\n",
              "      <td>no</td>\n",
              "      <td>0</td>\n",
              "    </tr>\n",
              "    <tr>\n",
              "      <th>1337</th>\n",
              "      <td>yes</td>\n",
              "      <td>0</td>\n",
              "    </tr>\n",
              "  </tbody>\n",
              "</table>\n",
              "<p>1338 rows × 2 columns</p>\n",
              "</div>\n",
              "      <button class=\"colab-df-convert\" onclick=\"convertToInteractive('df-d4ea2b19-c9b2-4113-b9ba-6aee9911c2bb')\"\n",
              "              title=\"Convert this dataframe to an interactive table.\"\n",
              "              style=\"display:none;\">\n",
              "        \n",
              "  <svg xmlns=\"http://www.w3.org/2000/svg\" height=\"24px\"viewBox=\"0 0 24 24\"\n",
              "       width=\"24px\">\n",
              "    <path d=\"M0 0h24v24H0V0z\" fill=\"none\"/>\n",
              "    <path d=\"M18.56 5.44l.94 2.06.94-2.06 2.06-.94-2.06-.94-.94-2.06-.94 2.06-2.06.94zm-11 1L8.5 8.5l.94-2.06 2.06-.94-2.06-.94L8.5 2.5l-.94 2.06-2.06.94zm10 10l.94 2.06.94-2.06 2.06-.94-2.06-.94-.94-2.06-.94 2.06-2.06.94z\"/><path d=\"M17.41 7.96l-1.37-1.37c-.4-.4-.92-.59-1.43-.59-.52 0-1.04.2-1.43.59L10.3 9.45l-7.72 7.72c-.78.78-.78 2.05 0 2.83L4 21.41c.39.39.9.59 1.41.59.51 0 1.02-.2 1.41-.59l7.78-7.78 2.81-2.81c.8-.78.8-2.07 0-2.86zM5.41 20L4 18.59l7.72-7.72 1.47 1.35L5.41 20z\"/>\n",
              "  </svg>\n",
              "      </button>\n",
              "      \n",
              "  <style>\n",
              "    .colab-df-container {\n",
              "      display:flex;\n",
              "      flex-wrap:wrap;\n",
              "      gap: 12px;\n",
              "    }\n",
              "\n",
              "    .colab-df-convert {\n",
              "      background-color: #E8F0FE;\n",
              "      border: none;\n",
              "      border-radius: 50%;\n",
              "      cursor: pointer;\n",
              "      display: none;\n",
              "      fill: #1967D2;\n",
              "      height: 32px;\n",
              "      padding: 0 0 0 0;\n",
              "      width: 32px;\n",
              "    }\n",
              "\n",
              "    .colab-df-convert:hover {\n",
              "      background-color: #E2EBFA;\n",
              "      box-shadow: 0px 1px 2px rgba(60, 64, 67, 0.3), 0px 1px 3px 1px rgba(60, 64, 67, 0.15);\n",
              "      fill: #174EA6;\n",
              "    }\n",
              "\n",
              "    [theme=dark] .colab-df-convert {\n",
              "      background-color: #3B4455;\n",
              "      fill: #D2E3FC;\n",
              "    }\n",
              "\n",
              "    [theme=dark] .colab-df-convert:hover {\n",
              "      background-color: #434B5C;\n",
              "      box-shadow: 0px 1px 3px 1px rgba(0, 0, 0, 0.15);\n",
              "      filter: drop-shadow(0px 1px 2px rgba(0, 0, 0, 0.3));\n",
              "      fill: #FFFFFF;\n",
              "    }\n",
              "  </style>\n",
              "\n",
              "      <script>\n",
              "        const buttonEl =\n",
              "          document.querySelector('#df-d4ea2b19-c9b2-4113-b9ba-6aee9911c2bb button.colab-df-convert');\n",
              "        buttonEl.style.display =\n",
              "          google.colab.kernel.accessAllowed ? 'block' : 'none';\n",
              "\n",
              "        async function convertToInteractive(key) {\n",
              "          const element = document.querySelector('#df-d4ea2b19-c9b2-4113-b9ba-6aee9911c2bb');\n",
              "          const dataTable =\n",
              "            await google.colab.kernel.invokeFunction('convertToInteractive',\n",
              "                                                     [key], {});\n",
              "          if (!dataTable) return;\n",
              "\n",
              "          const docLinkHtml = 'Like what you see? Visit the ' +\n",
              "            '<a target=\"_blank\" href=https://colab.research.google.com/notebooks/data_table.ipynb>data table notebook</a>'\n",
              "            + ' to learn more about interactive tables.';\n",
              "          element.innerHTML = '';\n",
              "          dataTable['output_type'] = 'display_data';\n",
              "          await google.colab.output.renderOutput(dataTable, element);\n",
              "          const docLink = document.createElement('div');\n",
              "          docLink.innerHTML = docLinkHtml;\n",
              "          element.appendChild(docLink);\n",
              "        }\n",
              "      </script>\n",
              "    </div>\n",
              "  </div>\n",
              "  "
            ]
          },
          "metadata": {},
          "execution_count": 90
        }
      ]
    },
    {
      "cell_type": "code",
      "source": [
        "# check data type of different columns\n",
        "insurance[\"smoker\"],insurance[\"age\"],insurance[\"bmi\"]"
      ],
      "metadata": {
        "colab": {
          "base_uri": "https://localhost:8080/"
        },
        "id": "tomgvnDHoAvd",
        "outputId": "7fe0e864-eee8-41e9-8313-d77080d07e37"
      },
      "execution_count": 93,
      "outputs": [
        {
          "output_type": "execute_result",
          "data": {
            "text/plain": [
              "(0       yes\n",
              " 1        no\n",
              " 2        no\n",
              " 3        no\n",
              " 4        no\n",
              "        ... \n",
              " 1333     no\n",
              " 1334     no\n",
              " 1335     no\n",
              " 1336     no\n",
              " 1337    yes\n",
              " Name: smoker, Length: 1338, dtype: object,\n",
              " 0       19\n",
              " 1       18\n",
              " 2       28\n",
              " 3       33\n",
              " 4       32\n",
              "         ..\n",
              " 1333    50\n",
              " 1334    18\n",
              " 1335    18\n",
              " 1336    21\n",
              " 1337    61\n",
              " Name: age, Length: 1338, dtype: int64,\n",
              " 0       27.900\n",
              " 1       33.770\n",
              " 2       33.000\n",
              " 3       22.705\n",
              " 4       28.880\n",
              "          ...  \n",
              " 1333    30.970\n",
              " 1334    31.920\n",
              " 1335    36.850\n",
              " 1336    25.800\n",
              " 1337    29.070\n",
              " Name: bmi, Length: 1338, dtype: float64)"
            ]
          },
          "metadata": {},
          "execution_count": 93
        }
      ]
    },
    {
      "cell_type": "markdown",
      "source": [
        "## One Hot Encoding\n",
        "\n",
        "\n",
        "We're going to have to turn the non-numerical columns into numbers (because a neural network can't handle non-numerical inputs).\n",
        "\n",
        "To do so, we'll use the `get_dummies()` method in pandas.\n",
        "\n",
        "It converts categorical variables (like the `sex`, `smoker` and `region` columns) into numerical variables using **one-hot encoding**.\n",
        "\n",
        "With one hot encoding, a categorical feature becomes an array whose size is the number of possible choices for that feature."
      ],
      "metadata": {
        "id": "fxv5IyEzpUo4"
      }
    },
    {
      "cell_type": "code",
      "source": [
        "# Let's try one-hot encode our DataFrame so it's all numbers\n",
        "insurance_one_hot = pd.get_dummies(insurance)\n",
        "insurance_one_hot.head()"
      ],
      "metadata": {
        "colab": {
          "base_uri": "https://localhost:8080/",
          "height": 270
        },
        "id": "anr7Cw9hovfp",
        "outputId": "1b6f9d87-4761-4a19-dc5f-614ab97f73d5"
      },
      "execution_count": 94,
      "outputs": [
        {
          "output_type": "execute_result",
          "data": {
            "text/plain": [
              "   age     bmi  children      charges  sex_female  sex_male  smoker_no  \\\n",
              "0   19  27.900         0  16884.92400           1         0          0   \n",
              "1   18  33.770         1   1725.55230           0         1          1   \n",
              "2   28  33.000         3   4449.46200           0         1          1   \n",
              "3   33  22.705         0  21984.47061           0         1          1   \n",
              "4   32  28.880         0   3866.85520           0         1          1   \n",
              "\n",
              "   smoker_yes  region_northeast  region_northwest  region_southeast  \\\n",
              "0           1                 0                 0                 0   \n",
              "1           0                 0                 0                 1   \n",
              "2           0                 0                 0                 1   \n",
              "3           0                 0                 1                 0   \n",
              "4           0                 0                 1                 0   \n",
              "\n",
              "   region_southwest  \n",
              "0                 1  \n",
              "1                 0  \n",
              "2                 0  \n",
              "3                 0  \n",
              "4                 0  "
            ],
            "text/html": [
              "\n",
              "  <div id=\"df-a8b1a03b-e25f-4772-944c-0e167c8d0331\">\n",
              "    <div class=\"colab-df-container\">\n",
              "      <div>\n",
              "<style scoped>\n",
              "    .dataframe tbody tr th:only-of-type {\n",
              "        vertical-align: middle;\n",
              "    }\n",
              "\n",
              "    .dataframe tbody tr th {\n",
              "        vertical-align: top;\n",
              "    }\n",
              "\n",
              "    .dataframe thead th {\n",
              "        text-align: right;\n",
              "    }\n",
              "</style>\n",
              "<table border=\"1\" class=\"dataframe\">\n",
              "  <thead>\n",
              "    <tr style=\"text-align: right;\">\n",
              "      <th></th>\n",
              "      <th>age</th>\n",
              "      <th>bmi</th>\n",
              "      <th>children</th>\n",
              "      <th>charges</th>\n",
              "      <th>sex_female</th>\n",
              "      <th>sex_male</th>\n",
              "      <th>smoker_no</th>\n",
              "      <th>smoker_yes</th>\n",
              "      <th>region_northeast</th>\n",
              "      <th>region_northwest</th>\n",
              "      <th>region_southeast</th>\n",
              "      <th>region_southwest</th>\n",
              "    </tr>\n",
              "  </thead>\n",
              "  <tbody>\n",
              "    <tr>\n",
              "      <th>0</th>\n",
              "      <td>19</td>\n",
              "      <td>27.900</td>\n",
              "      <td>0</td>\n",
              "      <td>16884.92400</td>\n",
              "      <td>1</td>\n",
              "      <td>0</td>\n",
              "      <td>0</td>\n",
              "      <td>1</td>\n",
              "      <td>0</td>\n",
              "      <td>0</td>\n",
              "      <td>0</td>\n",
              "      <td>1</td>\n",
              "    </tr>\n",
              "    <tr>\n",
              "      <th>1</th>\n",
              "      <td>18</td>\n",
              "      <td>33.770</td>\n",
              "      <td>1</td>\n",
              "      <td>1725.55230</td>\n",
              "      <td>0</td>\n",
              "      <td>1</td>\n",
              "      <td>1</td>\n",
              "      <td>0</td>\n",
              "      <td>0</td>\n",
              "      <td>0</td>\n",
              "      <td>1</td>\n",
              "      <td>0</td>\n",
              "    </tr>\n",
              "    <tr>\n",
              "      <th>2</th>\n",
              "      <td>28</td>\n",
              "      <td>33.000</td>\n",
              "      <td>3</td>\n",
              "      <td>4449.46200</td>\n",
              "      <td>0</td>\n",
              "      <td>1</td>\n",
              "      <td>1</td>\n",
              "      <td>0</td>\n",
              "      <td>0</td>\n",
              "      <td>0</td>\n",
              "      <td>1</td>\n",
              "      <td>0</td>\n",
              "    </tr>\n",
              "    <tr>\n",
              "      <th>3</th>\n",
              "      <td>33</td>\n",
              "      <td>22.705</td>\n",
              "      <td>0</td>\n",
              "      <td>21984.47061</td>\n",
              "      <td>0</td>\n",
              "      <td>1</td>\n",
              "      <td>1</td>\n",
              "      <td>0</td>\n",
              "      <td>0</td>\n",
              "      <td>1</td>\n",
              "      <td>0</td>\n",
              "      <td>0</td>\n",
              "    </tr>\n",
              "    <tr>\n",
              "      <th>4</th>\n",
              "      <td>32</td>\n",
              "      <td>28.880</td>\n",
              "      <td>0</td>\n",
              "      <td>3866.85520</td>\n",
              "      <td>0</td>\n",
              "      <td>1</td>\n",
              "      <td>1</td>\n",
              "      <td>0</td>\n",
              "      <td>0</td>\n",
              "      <td>1</td>\n",
              "      <td>0</td>\n",
              "      <td>0</td>\n",
              "    </tr>\n",
              "  </tbody>\n",
              "</table>\n",
              "</div>\n",
              "      <button class=\"colab-df-convert\" onclick=\"convertToInteractive('df-a8b1a03b-e25f-4772-944c-0e167c8d0331')\"\n",
              "              title=\"Convert this dataframe to an interactive table.\"\n",
              "              style=\"display:none;\">\n",
              "        \n",
              "  <svg xmlns=\"http://www.w3.org/2000/svg\" height=\"24px\"viewBox=\"0 0 24 24\"\n",
              "       width=\"24px\">\n",
              "    <path d=\"M0 0h24v24H0V0z\" fill=\"none\"/>\n",
              "    <path d=\"M18.56 5.44l.94 2.06.94-2.06 2.06-.94-2.06-.94-.94-2.06-.94 2.06-2.06.94zm-11 1L8.5 8.5l.94-2.06 2.06-.94-2.06-.94L8.5 2.5l-.94 2.06-2.06.94zm10 10l.94 2.06.94-2.06 2.06-.94-2.06-.94-.94-2.06-.94 2.06-2.06.94z\"/><path d=\"M17.41 7.96l-1.37-1.37c-.4-.4-.92-.59-1.43-.59-.52 0-1.04.2-1.43.59L10.3 9.45l-7.72 7.72c-.78.78-.78 2.05 0 2.83L4 21.41c.39.39.9.59 1.41.59.51 0 1.02-.2 1.41-.59l7.78-7.78 2.81-2.81c.8-.78.8-2.07 0-2.86zM5.41 20L4 18.59l7.72-7.72 1.47 1.35L5.41 20z\"/>\n",
              "  </svg>\n",
              "      </button>\n",
              "      \n",
              "  <style>\n",
              "    .colab-df-container {\n",
              "      display:flex;\n",
              "      flex-wrap:wrap;\n",
              "      gap: 12px;\n",
              "    }\n",
              "\n",
              "    .colab-df-convert {\n",
              "      background-color: #E8F0FE;\n",
              "      border: none;\n",
              "      border-radius: 50%;\n",
              "      cursor: pointer;\n",
              "      display: none;\n",
              "      fill: #1967D2;\n",
              "      height: 32px;\n",
              "      padding: 0 0 0 0;\n",
              "      width: 32px;\n",
              "    }\n",
              "\n",
              "    .colab-df-convert:hover {\n",
              "      background-color: #E2EBFA;\n",
              "      box-shadow: 0px 1px 2px rgba(60, 64, 67, 0.3), 0px 1px 3px 1px rgba(60, 64, 67, 0.15);\n",
              "      fill: #174EA6;\n",
              "    }\n",
              "\n",
              "    [theme=dark] .colab-df-convert {\n",
              "      background-color: #3B4455;\n",
              "      fill: #D2E3FC;\n",
              "    }\n",
              "\n",
              "    [theme=dark] .colab-df-convert:hover {\n",
              "      background-color: #434B5C;\n",
              "      box-shadow: 0px 1px 3px 1px rgba(0, 0, 0, 0.15);\n",
              "      filter: drop-shadow(0px 1px 2px rgba(0, 0, 0, 0.3));\n",
              "      fill: #FFFFFF;\n",
              "    }\n",
              "  </style>\n",
              "\n",
              "      <script>\n",
              "        const buttonEl =\n",
              "          document.querySelector('#df-a8b1a03b-e25f-4772-944c-0e167c8d0331 button.colab-df-convert');\n",
              "        buttonEl.style.display =\n",
              "          google.colab.kernel.accessAllowed ? 'block' : 'none';\n",
              "\n",
              "        async function convertToInteractive(key) {\n",
              "          const element = document.querySelector('#df-a8b1a03b-e25f-4772-944c-0e167c8d0331');\n",
              "          const dataTable =\n",
              "            await google.colab.kernel.invokeFunction('convertToInteractive',\n",
              "                                                     [key], {});\n",
              "          if (!dataTable) return;\n",
              "\n",
              "          const docLinkHtml = 'Like what you see? Visit the ' +\n",
              "            '<a target=\"_blank\" href=https://colab.research.google.com/notebooks/data_table.ipynb>data table notebook</a>'\n",
              "            + ' to learn more about interactive tables.';\n",
              "          element.innerHTML = '';\n",
              "          dataTable['output_type'] = 'display_data';\n",
              "          await google.colab.output.renderOutput(dataTable, element);\n",
              "          const docLink = document.createElement('div');\n",
              "          docLink.innerHTML = docLinkHtml;\n",
              "          element.appendChild(docLink);\n",
              "        }\n",
              "      </script>\n",
              "    </div>\n",
              "  </div>\n",
              "  "
            ]
          },
          "metadata": {},
          "execution_count": 94
        }
      ]
    },
    {
      "cell_type": "code",
      "source": [
        "# Create X & y values (features and labels)\n",
        "X = insurance_one_hot.drop(\"charges\", axis=1)\n",
        "y = insurance_one_hot[\"charges\"]"
      ],
      "metadata": {
        "id": "JASSH7XZqFI5"
      },
      "execution_count": 95,
      "outputs": []
    },
    {
      "cell_type": "code",
      "source": [
        "# View X\n",
        "X.head()"
      ],
      "metadata": {
        "colab": {
          "base_uri": "https://localhost:8080/",
          "height": 270
        },
        "id": "mVfq2P6xqNb2",
        "outputId": "d7a52131-a0f8-428a-845b-bbdb998aa0ac"
      },
      "execution_count": 96,
      "outputs": [
        {
          "output_type": "execute_result",
          "data": {
            "text/plain": [
              "   age     bmi  children  sex_female  sex_male  smoker_no  smoker_yes  \\\n",
              "0   19  27.900         0           1         0          0           1   \n",
              "1   18  33.770         1           0         1          1           0   \n",
              "2   28  33.000         3           0         1          1           0   \n",
              "3   33  22.705         0           0         1          1           0   \n",
              "4   32  28.880         0           0         1          1           0   \n",
              "\n",
              "   region_northeast  region_northwest  region_southeast  region_southwest  \n",
              "0                 0                 0                 0                 1  \n",
              "1                 0                 0                 1                 0  \n",
              "2                 0                 0                 1                 0  \n",
              "3                 0                 1                 0                 0  \n",
              "4                 0                 1                 0                 0  "
            ],
            "text/html": [
              "\n",
              "  <div id=\"df-ffc19129-6de9-4b0b-a4c4-104a682202c5\">\n",
              "    <div class=\"colab-df-container\">\n",
              "      <div>\n",
              "<style scoped>\n",
              "    .dataframe tbody tr th:only-of-type {\n",
              "        vertical-align: middle;\n",
              "    }\n",
              "\n",
              "    .dataframe tbody tr th {\n",
              "        vertical-align: top;\n",
              "    }\n",
              "\n",
              "    .dataframe thead th {\n",
              "        text-align: right;\n",
              "    }\n",
              "</style>\n",
              "<table border=\"1\" class=\"dataframe\">\n",
              "  <thead>\n",
              "    <tr style=\"text-align: right;\">\n",
              "      <th></th>\n",
              "      <th>age</th>\n",
              "      <th>bmi</th>\n",
              "      <th>children</th>\n",
              "      <th>sex_female</th>\n",
              "      <th>sex_male</th>\n",
              "      <th>smoker_no</th>\n",
              "      <th>smoker_yes</th>\n",
              "      <th>region_northeast</th>\n",
              "      <th>region_northwest</th>\n",
              "      <th>region_southeast</th>\n",
              "      <th>region_southwest</th>\n",
              "    </tr>\n",
              "  </thead>\n",
              "  <tbody>\n",
              "    <tr>\n",
              "      <th>0</th>\n",
              "      <td>19</td>\n",
              "      <td>27.900</td>\n",
              "      <td>0</td>\n",
              "      <td>1</td>\n",
              "      <td>0</td>\n",
              "      <td>0</td>\n",
              "      <td>1</td>\n",
              "      <td>0</td>\n",
              "      <td>0</td>\n",
              "      <td>0</td>\n",
              "      <td>1</td>\n",
              "    </tr>\n",
              "    <tr>\n",
              "      <th>1</th>\n",
              "      <td>18</td>\n",
              "      <td>33.770</td>\n",
              "      <td>1</td>\n",
              "      <td>0</td>\n",
              "      <td>1</td>\n",
              "      <td>1</td>\n",
              "      <td>0</td>\n",
              "      <td>0</td>\n",
              "      <td>0</td>\n",
              "      <td>1</td>\n",
              "      <td>0</td>\n",
              "    </tr>\n",
              "    <tr>\n",
              "      <th>2</th>\n",
              "      <td>28</td>\n",
              "      <td>33.000</td>\n",
              "      <td>3</td>\n",
              "      <td>0</td>\n",
              "      <td>1</td>\n",
              "      <td>1</td>\n",
              "      <td>0</td>\n",
              "      <td>0</td>\n",
              "      <td>0</td>\n",
              "      <td>1</td>\n",
              "      <td>0</td>\n",
              "    </tr>\n",
              "    <tr>\n",
              "      <th>3</th>\n",
              "      <td>33</td>\n",
              "      <td>22.705</td>\n",
              "      <td>0</td>\n",
              "      <td>0</td>\n",
              "      <td>1</td>\n",
              "      <td>1</td>\n",
              "      <td>0</td>\n",
              "      <td>0</td>\n",
              "      <td>1</td>\n",
              "      <td>0</td>\n",
              "      <td>0</td>\n",
              "    </tr>\n",
              "    <tr>\n",
              "      <th>4</th>\n",
              "      <td>32</td>\n",
              "      <td>28.880</td>\n",
              "      <td>0</td>\n",
              "      <td>0</td>\n",
              "      <td>1</td>\n",
              "      <td>1</td>\n",
              "      <td>0</td>\n",
              "      <td>0</td>\n",
              "      <td>1</td>\n",
              "      <td>0</td>\n",
              "      <td>0</td>\n",
              "    </tr>\n",
              "  </tbody>\n",
              "</table>\n",
              "</div>\n",
              "      <button class=\"colab-df-convert\" onclick=\"convertToInteractive('df-ffc19129-6de9-4b0b-a4c4-104a682202c5')\"\n",
              "              title=\"Convert this dataframe to an interactive table.\"\n",
              "              style=\"display:none;\">\n",
              "        \n",
              "  <svg xmlns=\"http://www.w3.org/2000/svg\" height=\"24px\"viewBox=\"0 0 24 24\"\n",
              "       width=\"24px\">\n",
              "    <path d=\"M0 0h24v24H0V0z\" fill=\"none\"/>\n",
              "    <path d=\"M18.56 5.44l.94 2.06.94-2.06 2.06-.94-2.06-.94-.94-2.06-.94 2.06-2.06.94zm-11 1L8.5 8.5l.94-2.06 2.06-.94-2.06-.94L8.5 2.5l-.94 2.06-2.06.94zm10 10l.94 2.06.94-2.06 2.06-.94-2.06-.94-.94-2.06-.94 2.06-2.06.94z\"/><path d=\"M17.41 7.96l-1.37-1.37c-.4-.4-.92-.59-1.43-.59-.52 0-1.04.2-1.43.59L10.3 9.45l-7.72 7.72c-.78.78-.78 2.05 0 2.83L4 21.41c.39.39.9.59 1.41.59.51 0 1.02-.2 1.41-.59l7.78-7.78 2.81-2.81c.8-.78.8-2.07 0-2.86zM5.41 20L4 18.59l7.72-7.72 1.47 1.35L5.41 20z\"/>\n",
              "  </svg>\n",
              "      </button>\n",
              "      \n",
              "  <style>\n",
              "    .colab-df-container {\n",
              "      display:flex;\n",
              "      flex-wrap:wrap;\n",
              "      gap: 12px;\n",
              "    }\n",
              "\n",
              "    .colab-df-convert {\n",
              "      background-color: #E8F0FE;\n",
              "      border: none;\n",
              "      border-radius: 50%;\n",
              "      cursor: pointer;\n",
              "      display: none;\n",
              "      fill: #1967D2;\n",
              "      height: 32px;\n",
              "      padding: 0 0 0 0;\n",
              "      width: 32px;\n",
              "    }\n",
              "\n",
              "    .colab-df-convert:hover {\n",
              "      background-color: #E2EBFA;\n",
              "      box-shadow: 0px 1px 2px rgba(60, 64, 67, 0.3), 0px 1px 3px 1px rgba(60, 64, 67, 0.15);\n",
              "      fill: #174EA6;\n",
              "    }\n",
              "\n",
              "    [theme=dark] .colab-df-convert {\n",
              "      background-color: #3B4455;\n",
              "      fill: #D2E3FC;\n",
              "    }\n",
              "\n",
              "    [theme=dark] .colab-df-convert:hover {\n",
              "      background-color: #434B5C;\n",
              "      box-shadow: 0px 1px 3px 1px rgba(0, 0, 0, 0.15);\n",
              "      filter: drop-shadow(0px 1px 2px rgba(0, 0, 0, 0.3));\n",
              "      fill: #FFFFFF;\n",
              "    }\n",
              "  </style>\n",
              "\n",
              "      <script>\n",
              "        const buttonEl =\n",
              "          document.querySelector('#df-ffc19129-6de9-4b0b-a4c4-104a682202c5 button.colab-df-convert');\n",
              "        buttonEl.style.display =\n",
              "          google.colab.kernel.accessAllowed ? 'block' : 'none';\n",
              "\n",
              "        async function convertToInteractive(key) {\n",
              "          const element = document.querySelector('#df-ffc19129-6de9-4b0b-a4c4-104a682202c5');\n",
              "          const dataTable =\n",
              "            await google.colab.kernel.invokeFunction('convertToInteractive',\n",
              "                                                     [key], {});\n",
              "          if (!dataTable) return;\n",
              "\n",
              "          const docLinkHtml = 'Like what you see? Visit the ' +\n",
              "            '<a target=\"_blank\" href=https://colab.research.google.com/notebooks/data_table.ipynb>data table notebook</a>'\n",
              "            + ' to learn more about interactive tables.';\n",
              "          element.innerHTML = '';\n",
              "          dataTable['output_type'] = 'display_data';\n",
              "          await google.colab.output.renderOutput(dataTable, element);\n",
              "          const docLink = document.createElement('div');\n",
              "          docLink.innerHTML = docLinkHtml;\n",
              "          element.appendChild(docLink);\n",
              "        }\n",
              "      </script>\n",
              "    </div>\n",
              "  </div>\n",
              "  "
            ]
          },
          "metadata": {},
          "execution_count": 96
        }
      ]
    },
    {
      "cell_type": "code",
      "source": [
        "# View y\n",
        "y.head()"
      ],
      "metadata": {
        "colab": {
          "base_uri": "https://localhost:8080/"
        },
        "id": "_Tsu_QCeqRP4",
        "outputId": "63dfb388-bbfa-4b2a-b297-9637be6f155b"
      },
      "execution_count": 97,
      "outputs": [
        {
          "output_type": "execute_result",
          "data": {
            "text/plain": [
              "0    16884.92400\n",
              "1     1725.55230\n",
              "2     4449.46200\n",
              "3    21984.47061\n",
              "4     3866.85520\n",
              "Name: charges, dtype: float64"
            ]
          },
          "metadata": {},
          "execution_count": 97
        }
      ]
    },
    {
      "cell_type": "code",
      "source": [
        "# Create training and test sets\n",
        "from sklearn.model_selection import train_test_split\n",
        "X_train, X_test, y_train, y_test = train_test_split(X, y, test_size=0.2, random_state=42)\n",
        "len(X), len(X_train), len(X_test)"
      ],
      "metadata": {
        "colab": {
          "base_uri": "https://localhost:8080/"
        },
        "id": "o-8GuHiqqVZR",
        "outputId": "e3555382-12d6-4b0c-c8da-4cf6c60d1305"
      },
      "execution_count": 98,
      "outputs": [
        {
          "output_type": "execute_result",
          "data": {
            "text/plain": [
              "(1338, 1070, 268)"
            ]
          },
          "metadata": {},
          "execution_count": 98
        }
      ]
    },
    {
      "cell_type": "code",
      "source": [
        "# Build a neural network (sort of like model_2 above)\n",
        "tf.random.set_seed(42)\n",
        "\n",
        "# 1. Create a model\n",
        "insurance_model = tf.keras.Sequential([\n",
        "  tf.keras.layers.Dense(10),\n",
        "  tf.keras.layers.Dense(1)\n",
        "])\n",
        "\n",
        "# 2. Compile the model\n",
        "insurance_model.compile(loss=tf.keras.losses.mae,\n",
        "                        optimizer=tf.keras.optimizers.SGD(),\n",
        "                        metrics=[\"mae\"])\n",
        "\n",
        "# 3. Fit the model\n",
        "insurance_model.fit(X_train, y_train, epochs=100)\n",
        "     "
      ],
      "metadata": {
        "colab": {
          "base_uri": "https://localhost:8080/"
        },
        "id": "cZiKPH7froJV",
        "outputId": "5f82a376-f20e-4576-f6fe-a16180852950"
      },
      "execution_count": 100,
      "outputs": [
        {
          "output_type": "stream",
          "name": "stdout",
          "text": [
            "Epoch 1/100\n",
            "34/34 [==============================] - 1s 3ms/step - loss: 8675.9121 - mae: 8675.9121\n",
            "Epoch 2/100\n",
            "34/34 [==============================] - 0s 4ms/step - loss: 7884.0356 - mae: 7884.0356\n",
            "Epoch 3/100\n",
            "34/34 [==============================] - 0s 4ms/step - loss: 7602.0049 - mae: 7602.0049\n",
            "Epoch 4/100\n",
            "34/34 [==============================] - 0s 4ms/step - loss: 7790.5474 - mae: 7790.5474\n",
            "Epoch 5/100\n",
            "34/34 [==============================] - 0s 3ms/step - loss: 7654.7607 - mae: 7654.7607\n",
            "Epoch 6/100\n",
            "34/34 [==============================] - 0s 3ms/step - loss: 7654.0869 - mae: 7654.0869\n",
            "Epoch 7/100\n",
            "34/34 [==============================] - 0s 3ms/step - loss: 7568.1777 - mae: 7568.1777\n",
            "Epoch 8/100\n",
            "34/34 [==============================] - 0s 3ms/step - loss: 7828.3672 - mae: 7828.3672\n",
            "Epoch 9/100\n",
            "34/34 [==============================] - 0s 3ms/step - loss: 7450.2930 - mae: 7450.2930\n",
            "Epoch 10/100\n",
            "34/34 [==============================] - 0s 2ms/step - loss: 7676.1240 - mae: 7676.1240\n",
            "Epoch 11/100\n",
            "34/34 [==============================] - 0s 3ms/step - loss: 7546.0308 - mae: 7546.0308\n",
            "Epoch 12/100\n",
            "34/34 [==============================] - 0s 2ms/step - loss: 7636.2119 - mae: 7636.2119\n",
            "Epoch 13/100\n",
            "34/34 [==============================] - 0s 2ms/step - loss: 7647.3594 - mae: 7647.3594\n",
            "Epoch 14/100\n",
            "34/34 [==============================] - 0s 2ms/step - loss: 7731.2539 - mae: 7731.2539\n",
            "Epoch 15/100\n",
            "34/34 [==============================] - 0s 2ms/step - loss: 7378.7563 - mae: 7378.7563\n",
            "Epoch 16/100\n",
            "34/34 [==============================] - 0s 2ms/step - loss: 7669.0317 - mae: 7669.0317\n",
            "Epoch 17/100\n",
            "34/34 [==============================] - 0s 2ms/step - loss: 7523.0723 - mae: 7523.0723\n",
            "Epoch 18/100\n",
            "34/34 [==============================] - 0s 2ms/step - loss: 7843.7363 - mae: 7843.7363\n",
            "Epoch 19/100\n",
            "34/34 [==============================] - 0s 2ms/step - loss: 7477.5425 - mae: 7477.5425\n",
            "Epoch 20/100\n",
            "34/34 [==============================] - 0s 2ms/step - loss: 7908.2773 - mae: 7908.2773\n",
            "Epoch 21/100\n",
            "34/34 [==============================] - 0s 2ms/step - loss: 7387.9775 - mae: 7387.9775\n",
            "Epoch 22/100\n",
            "34/34 [==============================] - 0s 2ms/step - loss: 7771.9849 - mae: 7771.9849\n",
            "Epoch 23/100\n",
            "34/34 [==============================] - 0s 2ms/step - loss: 7728.8662 - mae: 7728.8662\n",
            "Epoch 24/100\n",
            "34/34 [==============================] - 0s 2ms/step - loss: 7586.0483 - mae: 7586.0483\n",
            "Epoch 25/100\n",
            "34/34 [==============================] - 0s 2ms/step - loss: 7677.8521 - mae: 7677.8521\n",
            "Epoch 26/100\n",
            "34/34 [==============================] - 0s 2ms/step - loss: 7594.6021 - mae: 7594.6021\n",
            "Epoch 27/100\n",
            "34/34 [==============================] - 0s 2ms/step - loss: 7642.5742 - mae: 7642.5742\n",
            "Epoch 28/100\n",
            "34/34 [==============================] - 0s 2ms/step - loss: 7414.3452 - mae: 7414.3452\n",
            "Epoch 29/100\n",
            "34/34 [==============================] - 0s 2ms/step - loss: 7680.7217 - mae: 7680.7217\n",
            "Epoch 30/100\n",
            "34/34 [==============================] - 0s 2ms/step - loss: 7571.5527 - mae: 7571.5527\n",
            "Epoch 31/100\n",
            "34/34 [==============================] - 0s 2ms/step - loss: 7697.2461 - mae: 7697.2461\n",
            "Epoch 32/100\n",
            "34/34 [==============================] - 0s 2ms/step - loss: 7497.3872 - mae: 7497.3872\n",
            "Epoch 33/100\n",
            "34/34 [==============================] - 0s 2ms/step - loss: 7361.4380 - mae: 7361.4380\n",
            "Epoch 34/100\n",
            "34/34 [==============================] - 0s 2ms/step - loss: 7456.8506 - mae: 7456.8506\n",
            "Epoch 35/100\n",
            "34/34 [==============================] - 0s 2ms/step - loss: 7571.7754 - mae: 7571.7754\n",
            "Epoch 36/100\n",
            "34/34 [==============================] - 0s 2ms/step - loss: 7551.2559 - mae: 7551.2559\n",
            "Epoch 37/100\n",
            "34/34 [==============================] - 0s 2ms/step - loss: 7632.1729 - mae: 7632.1729\n",
            "Epoch 38/100\n",
            "34/34 [==============================] - 0s 2ms/step - loss: 7335.0811 - mae: 7335.0811\n",
            "Epoch 39/100\n",
            "34/34 [==============================] - 0s 2ms/step - loss: 7412.1538 - mae: 7412.1538\n",
            "Epoch 40/100\n",
            "34/34 [==============================] - 0s 2ms/step - loss: 7358.3457 - mae: 7358.3457\n",
            "Epoch 41/100\n",
            "34/34 [==============================] - 0s 2ms/step - loss: 7706.6006 - mae: 7706.6006\n",
            "Epoch 42/100\n",
            "34/34 [==============================] - 0s 2ms/step - loss: 7436.4077 - mae: 7436.4077\n",
            "Epoch 43/100\n",
            "34/34 [==============================] - 0s 2ms/step - loss: 7678.6440 - mae: 7678.6440\n",
            "Epoch 44/100\n",
            "34/34 [==============================] - 0s 2ms/step - loss: 7346.6250 - mae: 7346.6250\n",
            "Epoch 45/100\n",
            "34/34 [==============================] - 0s 2ms/step - loss: 7541.7466 - mae: 7541.7466\n",
            "Epoch 46/100\n",
            "34/34 [==============================] - 0s 2ms/step - loss: 7450.8193 - mae: 7450.8193\n",
            "Epoch 47/100\n",
            "34/34 [==============================] - 0s 2ms/step - loss: 7307.0337 - mae: 7307.0337\n",
            "Epoch 48/100\n",
            "34/34 [==============================] - 0s 2ms/step - loss: 7541.5312 - mae: 7541.5312\n",
            "Epoch 49/100\n",
            "34/34 [==============================] - 0s 2ms/step - loss: 7511.6270 - mae: 7511.6270\n",
            "Epoch 50/100\n",
            "34/34 [==============================] - 0s 2ms/step - loss: 7430.2012 - mae: 7430.2012\n",
            "Epoch 51/100\n",
            "34/34 [==============================] - 0s 2ms/step - loss: 7399.3423 - mae: 7399.3423\n",
            "Epoch 52/100\n",
            "34/34 [==============================] - 0s 2ms/step - loss: 7377.6445 - mae: 7377.6445\n",
            "Epoch 53/100\n",
            "34/34 [==============================] - 0s 2ms/step - loss: 7485.4741 - mae: 7485.4741\n",
            "Epoch 54/100\n",
            "34/34 [==============================] - 0s 2ms/step - loss: 7221.1626 - mae: 7221.1626\n",
            "Epoch 55/100\n",
            "34/34 [==============================] - 0s 2ms/step - loss: 7407.0342 - mae: 7407.0342\n",
            "Epoch 56/100\n",
            "34/34 [==============================] - 0s 2ms/step - loss: 7404.2617 - mae: 7404.2617\n",
            "Epoch 57/100\n",
            "34/34 [==============================] - 0s 2ms/step - loss: 7264.0962 - mae: 7264.0962\n",
            "Epoch 58/100\n",
            "34/34 [==============================] - 0s 2ms/step - loss: 7294.6250 - mae: 7294.6250\n",
            "Epoch 59/100\n",
            "34/34 [==============================] - 0s 2ms/step - loss: 7657.7354 - mae: 7657.7354\n",
            "Epoch 60/100\n",
            "34/34 [==============================] - 0s 2ms/step - loss: 7510.4243 - mae: 7510.4243\n",
            "Epoch 61/100\n",
            "34/34 [==============================] - 0s 2ms/step - loss: 7368.2139 - mae: 7368.2139\n",
            "Epoch 62/100\n",
            "34/34 [==============================] - 0s 2ms/step - loss: 7414.9624 - mae: 7414.9624\n",
            "Epoch 63/100\n",
            "34/34 [==============================] - 0s 2ms/step - loss: 7264.8853 - mae: 7264.8853\n",
            "Epoch 64/100\n",
            "34/34 [==============================] - 0s 2ms/step - loss: 7431.1768 - mae: 7431.1768\n",
            "Epoch 65/100\n",
            "34/34 [==============================] - 0s 2ms/step - loss: 7533.9053 - mae: 7533.9053\n",
            "Epoch 66/100\n",
            "34/34 [==============================] - 0s 2ms/step - loss: 7517.0449 - mae: 7517.0449\n",
            "Epoch 67/100\n",
            "34/34 [==============================] - 0s 2ms/step - loss: 7334.7847 - mae: 7334.7847\n",
            "Epoch 68/100\n",
            "34/34 [==============================] - 0s 2ms/step - loss: 7525.8423 - mae: 7525.8423\n",
            "Epoch 69/100\n",
            "34/34 [==============================] - 0s 2ms/step - loss: 7553.5474 - mae: 7553.5474\n",
            "Epoch 70/100\n",
            "34/34 [==============================] - 0s 2ms/step - loss: 7485.3359 - mae: 7485.3359\n",
            "Epoch 71/100\n",
            "34/34 [==============================] - 0s 2ms/step - loss: 7275.1411 - mae: 7275.1411\n",
            "Epoch 72/100\n",
            "34/34 [==============================] - 0s 2ms/step - loss: 7297.8042 - mae: 7297.8042\n",
            "Epoch 73/100\n",
            "34/34 [==============================] - 0s 2ms/step - loss: 7454.3945 - mae: 7454.3945\n",
            "Epoch 74/100\n",
            "34/34 [==============================] - 0s 2ms/step - loss: 7441.4878 - mae: 7441.4878\n",
            "Epoch 75/100\n",
            "34/34 [==============================] - 0s 2ms/step - loss: 7263.9067 - mae: 7263.9067\n",
            "Epoch 76/100\n",
            "34/34 [==============================] - 0s 2ms/step - loss: 7243.4321 - mae: 7243.4321\n",
            "Epoch 77/100\n",
            "34/34 [==============================] - 0s 2ms/step - loss: 7401.2397 - mae: 7401.2397\n",
            "Epoch 78/100\n",
            "34/34 [==============================] - 0s 2ms/step - loss: 7296.9971 - mae: 7296.9971\n",
            "Epoch 79/100\n",
            "34/34 [==============================] - 0s 2ms/step - loss: 7417.5205 - mae: 7417.5205\n",
            "Epoch 80/100\n",
            "34/34 [==============================] - 0s 2ms/step - loss: 7141.3242 - mae: 7141.3242\n",
            "Epoch 81/100\n",
            "34/34 [==============================] - 0s 2ms/step - loss: 7297.0591 - mae: 7297.0591\n",
            "Epoch 82/100\n",
            "34/34 [==============================] - 0s 2ms/step - loss: 7267.5884 - mae: 7267.5884\n",
            "Epoch 83/100\n",
            "34/34 [==============================] - 0s 2ms/step - loss: 7426.8452 - mae: 7426.8452\n",
            "Epoch 84/100\n",
            "34/34 [==============================] - 0s 2ms/step - loss: 7391.4438 - mae: 7391.4438\n",
            "Epoch 85/100\n",
            "34/34 [==============================] - 0s 2ms/step - loss: 7425.3047 - mae: 7425.3047\n",
            "Epoch 86/100\n",
            "34/34 [==============================] - 0s 2ms/step - loss: 7495.9766 - mae: 7495.9766\n",
            "Epoch 87/100\n",
            "34/34 [==============================] - 0s 2ms/step - loss: 7126.0161 - mae: 7126.0161\n",
            "Epoch 88/100\n",
            "34/34 [==============================] - 0s 2ms/step - loss: 7335.7988 - mae: 7335.7988\n",
            "Epoch 89/100\n",
            "34/34 [==============================] - 0s 2ms/step - loss: 7456.0566 - mae: 7456.0566\n",
            "Epoch 90/100\n",
            "34/34 [==============================] - 0s 2ms/step - loss: 7089.8667 - mae: 7089.8667\n",
            "Epoch 91/100\n",
            "34/34 [==============================] - 0s 2ms/step - loss: 7301.0522 - mae: 7301.0522\n",
            "Epoch 92/100\n",
            "34/34 [==============================] - 0s 2ms/step - loss: 7297.4053 - mae: 7297.4053\n",
            "Epoch 93/100\n",
            "34/34 [==============================] - 0s 2ms/step - loss: 7446.9897 - mae: 7446.9897\n",
            "Epoch 94/100\n",
            "34/34 [==============================] - 0s 2ms/step - loss: 7082.7607 - mae: 7082.7607\n",
            "Epoch 95/100\n",
            "34/34 [==============================] - 0s 2ms/step - loss: 7254.6802 - mae: 7254.6802\n",
            "Epoch 96/100\n",
            "34/34 [==============================] - 0s 2ms/step - loss: 7135.8789 - mae: 7135.8789\n",
            "Epoch 97/100\n",
            "34/34 [==============================] - 0s 3ms/step - loss: 7202.4648 - mae: 7202.4648\n",
            "Epoch 98/100\n",
            "34/34 [==============================] - 0s 2ms/step - loss: 7353.6216 - mae: 7353.6216\n",
            "Epoch 99/100\n",
            "34/34 [==============================] - 0s 2ms/step - loss: 7157.8062 - mae: 7157.8062\n",
            "Epoch 100/100\n",
            "34/34 [==============================] - 0s 2ms/step - loss: 7127.7324 - mae: 7127.7324\n"
          ]
        },
        {
          "output_type": "execute_result",
          "data": {
            "text/plain": [
              "<keras.callbacks.History at 0x7f9a01d09ba0>"
            ]
          },
          "metadata": {},
          "execution_count": 100
        }
      ]
    },
    {
      "cell_type": "code",
      "source": [
        "# Check the results of the insurance model on the test data\n",
        "insurance_model.evaluate(X_test, y_test)"
      ],
      "metadata": {
        "colab": {
          "base_uri": "https://localhost:8080/"
        },
        "id": "Lmdnj1s-sG2a",
        "outputId": "ffcc2431-6330-4f9e-fe4a-2594fda87d6a"
      },
      "execution_count": 101,
      "outputs": [
        {
          "output_type": "stream",
          "name": "stdout",
          "text": [
            "9/9 [==============================] - 0s 2ms/step - loss: 8844.6328 - mae: 8844.6328\n"
          ]
        },
        {
          "output_type": "execute_result",
          "data": {
            "text/plain": [
              "[8844.6328125, 8844.6328125]"
            ]
          },
          "metadata": {},
          "execution_count": 101
        }
      ]
    },
    {
      "cell_type": "code",
      "source": [
        "y_train.median(), y_train.mean()"
      ],
      "metadata": {
        "colab": {
          "base_uri": "https://localhost:8080/"
        },
        "id": "tjGiylu_sWlk",
        "outputId": "f4503ff9-5cc7-4a39-f1f5-46aac4c126b4"
      },
      "execution_count": 102,
      "outputs": [
        {
          "output_type": "execute_result",
          "data": {
            "text/plain": [
              "(9575.4421, 13346.089736364485)"
            ]
          },
          "metadata": {},
          "execution_count": 102
        }
      ]
    },
    {
      "cell_type": "markdown",
      "source": [
        "## Improving Our Model\n",
        "\n",
        "\n",
        "Right now it looks like our model isn't performing too well... let's try and improve it!\n",
        "\n",
        "To (try) improve our model, we'll run 2 experiments:\n",
        "\n",
        "- Add an extra layer with more hidden units and use the Adam optimizer\n",
        "- Same as above but train for longer (200 epochs)\n",
        "  (insert your own experiment here)\n",
        "\n"
      ],
      "metadata": {
        "id": "VHAhbTGUsZ6a"
      }
    },
    {
      "cell_type": "code",
      "source": [
        "X_train, y_train"
      ],
      "metadata": {
        "colab": {
          "base_uri": "https://localhost:8080/"
        },
        "id": "EgvZZYoRshDE",
        "outputId": "4cf58c3e-a7ea-4e3c-c3b0-d67b46257725"
      },
      "execution_count": 103,
      "outputs": [
        {
          "output_type": "execute_result",
          "data": {
            "text/plain": [
              "(      age     bmi  children  sex_female  sex_male  smoker_no  smoker_yes  \\\n",
              " 560    46  19.950         2           1         0          1           0   \n",
              " 1285   47  24.320         0           1         0          1           0   \n",
              " 1142   52  24.860         0           1         0          1           0   \n",
              " 969    39  34.320         5           1         0          1           0   \n",
              " 486    54  21.470         3           1         0          1           0   \n",
              " ...   ...     ...       ...         ...       ...        ...         ...   \n",
              " 1095   18  31.350         4           1         0          1           0   \n",
              " 1130   39  23.870         5           1         0          1           0   \n",
              " 1294   58  25.175         0           0         1          1           0   \n",
              " 860    37  47.600         2           1         0          0           1   \n",
              " 1126   55  29.900         0           0         1          1           0   \n",
              " \n",
              "       region_northeast  region_northwest  region_southeast  region_southwest  \n",
              " 560                  0                 1                 0                 0  \n",
              " 1285                 1                 0                 0                 0  \n",
              " 1142                 0                 0                 1                 0  \n",
              " 969                  0                 0                 1                 0  \n",
              " 486                  0                 1                 0                 0  \n",
              " ...                ...               ...               ...               ...  \n",
              " 1095                 1                 0                 0                 0  \n",
              " 1130                 0                 0                 1                 0  \n",
              " 1294                 1                 0                 0                 0  \n",
              " 860                  0                 0                 0                 1  \n",
              " 1126                 0                 0                 0                 1  \n",
              " \n",
              " [1070 rows x 11 columns],\n",
              " 560      9193.83850\n",
              " 1285     8534.67180\n",
              " 1142    27117.99378\n",
              " 969      8596.82780\n",
              " 486     12475.35130\n",
              "            ...     \n",
              " 1095     4561.18850\n",
              " 1130     8582.30230\n",
              " 1294    11931.12525\n",
              " 860     46113.51100\n",
              " 1126    10214.63600\n",
              " Name: charges, Length: 1070, dtype: float64)"
            ]
          },
          "metadata": {},
          "execution_count": 103
        }
      ]
    },
    {
      "cell_type": "code",
      "source": [
        "# Set random seed\n",
        "tf.random.set_seed(42)\n",
        "\n",
        "# 1. Create the model\n",
        "insurance_model_2 = tf.keras.Sequential([\n",
        "  tf.keras.layers.Dense(100),\n",
        "  tf.keras.layers.Dense(10),\n",
        "  tf.keras.layers.Dense(1)\n",
        "])\n",
        "\n",
        "# 2. Compile the model\n",
        "insurance_model_2.compile(loss=tf.keras.losses.mae,\n",
        "                          optimizer=tf.keras.optimizers.Adam(),\n",
        "                          metrics=[\"mae\"])\n",
        "\n",
        "# 3. Fit the model\n",
        "insurance_model_2.fit(X_train, y_train, epochs=100, verbose=1)"
      ],
      "metadata": {
        "colab": {
          "base_uri": "https://localhost:8080/"
        },
        "id": "tbXbJxc5snXG",
        "outputId": "4be03755-0713-43e2-a7ed-ed50707b7330"
      },
      "execution_count": 104,
      "outputs": [
        {
          "output_type": "stream",
          "name": "stdout",
          "text": [
            "Epoch 1/100\n",
            "34/34 [==============================] - 1s 2ms/step - loss: 13305.4180 - mae: 13305.4180\n",
            "Epoch 2/100\n",
            "34/34 [==============================] - 0s 2ms/step - loss: 13177.2451 - mae: 13177.2451\n",
            "Epoch 3/100\n",
            "34/34 [==============================] - 0s 2ms/step - loss: 12904.7539 - mae: 12904.7539\n",
            "Epoch 4/100\n",
            "34/34 [==============================] - 0s 2ms/step - loss: 12346.1318 - mae: 12346.1318\n",
            "Epoch 5/100\n",
            "34/34 [==============================] - 0s 2ms/step - loss: 11351.8750 - mae: 11351.8750\n",
            "Epoch 6/100\n",
            "34/34 [==============================] - 0s 2ms/step - loss: 9948.5508 - mae: 9948.5508\n",
            "Epoch 7/100\n",
            "34/34 [==============================] - 0s 2ms/step - loss: 8509.4668 - mae: 8509.4668\n",
            "Epoch 8/100\n",
            "34/34 [==============================] - 0s 2ms/step - loss: 7638.7280 - mae: 7638.7280\n",
            "Epoch 9/100\n",
            "34/34 [==============================] - 0s 2ms/step - loss: 7448.2822 - mae: 7448.2822\n",
            "Epoch 10/100\n",
            "34/34 [==============================] - 0s 2ms/step - loss: 7422.4585 - mae: 7422.4585\n",
            "Epoch 11/100\n",
            "34/34 [==============================] - 0s 2ms/step - loss: 7404.0181 - mae: 7404.0181\n",
            "Epoch 12/100\n",
            "34/34 [==============================] - 0s 2ms/step - loss: 7382.3760 - mae: 7382.3760\n",
            "Epoch 13/100\n",
            "34/34 [==============================] - 0s 2ms/step - loss: 7362.2988 - mae: 7362.2988\n",
            "Epoch 14/100\n",
            "34/34 [==============================] - 0s 3ms/step - loss: 7340.3320 - mae: 7340.3320\n",
            "Epoch 15/100\n",
            "34/34 [==============================] - 0s 2ms/step - loss: 7321.6504 - mae: 7321.6504\n",
            "Epoch 16/100\n",
            "34/34 [==============================] - 0s 2ms/step - loss: 7299.4292 - mae: 7299.4292\n",
            "Epoch 17/100\n",
            "34/34 [==============================] - 0s 2ms/step - loss: 7280.1685 - mae: 7280.1685\n",
            "Epoch 18/100\n",
            "34/34 [==============================] - 0s 2ms/step - loss: 7256.8926 - mae: 7256.8926\n",
            "Epoch 19/100\n",
            "34/34 [==============================] - 0s 2ms/step - loss: 7235.1826 - mae: 7235.1826\n",
            "Epoch 20/100\n",
            "34/34 [==============================] - 0s 2ms/step - loss: 7212.5215 - mae: 7212.5215\n",
            "Epoch 21/100\n",
            "34/34 [==============================] - 0s 2ms/step - loss: 7193.6665 - mae: 7193.6665\n",
            "Epoch 22/100\n",
            "34/34 [==============================] - 0s 2ms/step - loss: 7166.9717 - mae: 7166.9717\n",
            "Epoch 23/100\n",
            "34/34 [==============================] - 0s 2ms/step - loss: 7142.6582 - mae: 7142.6582\n",
            "Epoch 24/100\n",
            "34/34 [==============================] - 0s 2ms/step - loss: 7118.5161 - mae: 7118.5161\n",
            "Epoch 25/100\n",
            "34/34 [==============================] - 0s 2ms/step - loss: 7100.9263 - mae: 7100.9263\n",
            "Epoch 26/100\n",
            "34/34 [==============================] - 0s 2ms/step - loss: 7069.6519 - mae: 7069.6519\n",
            "Epoch 27/100\n",
            "34/34 [==============================] - 0s 2ms/step - loss: 7041.7568 - mae: 7041.7568\n",
            "Epoch 28/100\n",
            "34/34 [==============================] - 0s 2ms/step - loss: 7014.3550 - mae: 7014.3550\n",
            "Epoch 29/100\n",
            "34/34 [==============================] - 0s 2ms/step - loss: 6986.6982 - mae: 6986.6982\n",
            "Epoch 30/100\n",
            "34/34 [==============================] - 0s 2ms/step - loss: 6960.6626 - mae: 6960.6626\n",
            "Epoch 31/100\n",
            "34/34 [==============================] - 0s 2ms/step - loss: 6929.6631 - mae: 6929.6631\n",
            "Epoch 32/100\n",
            "34/34 [==============================] - 0s 2ms/step - loss: 6902.9419 - mae: 6902.9419\n",
            "Epoch 33/100\n",
            "34/34 [==============================] - 0s 2ms/step - loss: 6872.4199 - mae: 6872.4199\n",
            "Epoch 34/100\n",
            "34/34 [==============================] - 0s 2ms/step - loss: 6840.1660 - mae: 6840.1660\n",
            "Epoch 35/100\n",
            "34/34 [==============================] - 0s 2ms/step - loss: 6808.5464 - mae: 6808.5464\n",
            "Epoch 36/100\n",
            "34/34 [==============================] - 0s 2ms/step - loss: 6775.2925 - mae: 6775.2925\n",
            "Epoch 37/100\n",
            "34/34 [==============================] - 0s 2ms/step - loss: 6740.1060 - mae: 6740.1060\n",
            "Epoch 38/100\n",
            "34/34 [==============================] - 0s 2ms/step - loss: 6709.0703 - mae: 6709.0703\n",
            "Epoch 39/100\n",
            "34/34 [==============================] - 0s 2ms/step - loss: 6670.5508 - mae: 6670.5508\n",
            "Epoch 40/100\n",
            "34/34 [==============================] - 0s 2ms/step - loss: 6635.8896 - mae: 6635.8896\n",
            "Epoch 41/100\n",
            "34/34 [==============================] - 0s 2ms/step - loss: 6603.2109 - mae: 6603.2109\n",
            "Epoch 42/100\n",
            "34/34 [==============================] - 0s 2ms/step - loss: 6573.1567 - mae: 6573.1567\n",
            "Epoch 43/100\n",
            "34/34 [==============================] - 0s 2ms/step - loss: 6542.3345 - mae: 6542.3345\n",
            "Epoch 44/100\n",
            "34/34 [==============================] - 0s 2ms/step - loss: 6517.7026 - mae: 6517.7026\n",
            "Epoch 45/100\n",
            "34/34 [==============================] - 0s 2ms/step - loss: 6500.2339 - mae: 6500.2339\n",
            "Epoch 46/100\n",
            "34/34 [==============================] - 0s 2ms/step - loss: 6481.7749 - mae: 6481.7749\n",
            "Epoch 47/100\n",
            "34/34 [==============================] - 0s 2ms/step - loss: 6465.1392 - mae: 6465.1392\n",
            "Epoch 48/100\n",
            "34/34 [==============================] - 0s 2ms/step - loss: 6449.3491 - mae: 6449.3491\n",
            "Epoch 49/100\n",
            "34/34 [==============================] - 0s 2ms/step - loss: 6436.1543 - mae: 6436.1543\n",
            "Epoch 50/100\n",
            "34/34 [==============================] - 0s 2ms/step - loss: 6422.8149 - mae: 6422.8149\n",
            "Epoch 51/100\n",
            "34/34 [==============================] - 0s 3ms/step - loss: 6408.8857 - mae: 6408.8857\n",
            "Epoch 52/100\n",
            "34/34 [==============================] - 0s 2ms/step - loss: 6398.2627 - mae: 6398.2627\n",
            "Epoch 53/100\n",
            "34/34 [==============================] - 0s 2ms/step - loss: 6384.3208 - mae: 6384.3208\n",
            "Epoch 54/100\n",
            "34/34 [==============================] - 0s 2ms/step - loss: 6370.5488 - mae: 6370.5488\n",
            "Epoch 55/100\n",
            "34/34 [==============================] - 0s 2ms/step - loss: 6357.2158 - mae: 6357.2158\n",
            "Epoch 56/100\n",
            "34/34 [==============================] - 0s 2ms/step - loss: 6343.4238 - mae: 6343.4238\n",
            "Epoch 57/100\n",
            "34/34 [==============================] - 0s 2ms/step - loss: 6331.8496 - mae: 6331.8496\n",
            "Epoch 58/100\n",
            "34/34 [==============================] - 0s 2ms/step - loss: 6317.7808 - mae: 6317.7808\n",
            "Epoch 59/100\n",
            "34/34 [==============================] - 0s 2ms/step - loss: 6302.2446 - mae: 6302.2446\n",
            "Epoch 60/100\n",
            "34/34 [==============================] - 0s 2ms/step - loss: 6292.4224 - mae: 6292.4224\n",
            "Epoch 61/100\n",
            "34/34 [==============================] - 0s 2ms/step - loss: 6273.6030 - mae: 6273.6030\n",
            "Epoch 62/100\n",
            "34/34 [==============================] - 0s 2ms/step - loss: 6261.5195 - mae: 6261.5195\n",
            "Epoch 63/100\n",
            "34/34 [==============================] - 0s 2ms/step - loss: 6243.6660 - mae: 6243.6660\n",
            "Epoch 64/100\n",
            "34/34 [==============================] - 0s 3ms/step - loss: 6227.3154 - mae: 6227.3154\n",
            "Epoch 65/100\n",
            "34/34 [==============================] - 0s 3ms/step - loss: 6210.7290 - mae: 6210.7290\n",
            "Epoch 66/100\n",
            "34/34 [==============================] - 0s 3ms/step - loss: 6194.4287 - mae: 6194.4287\n",
            "Epoch 67/100\n",
            "34/34 [==============================] - 0s 4ms/step - loss: 6182.2275 - mae: 6182.2275\n",
            "Epoch 68/100\n",
            "34/34 [==============================] - 0s 3ms/step - loss: 6160.6035 - mae: 6160.6035\n",
            "Epoch 69/100\n",
            "34/34 [==============================] - 0s 3ms/step - loss: 6144.5942 - mae: 6144.5942\n",
            "Epoch 70/100\n",
            "34/34 [==============================] - 0s 4ms/step - loss: 6124.7578 - mae: 6124.7578\n",
            "Epoch 71/100\n",
            "34/34 [==============================] - 0s 3ms/step - loss: 6105.8350 - mae: 6105.8350\n",
            "Epoch 72/100\n",
            "34/34 [==============================] - 0s 3ms/step - loss: 6088.1626 - mae: 6088.1626\n",
            "Epoch 73/100\n",
            "34/34 [==============================] - 0s 3ms/step - loss: 6072.8647 - mae: 6072.8647\n",
            "Epoch 74/100\n",
            "34/34 [==============================] - 0s 3ms/step - loss: 6047.6328 - mae: 6047.6328\n",
            "Epoch 75/100\n",
            "34/34 [==============================] - 0s 3ms/step - loss: 6027.4790 - mae: 6027.4790\n",
            "Epoch 76/100\n",
            "34/34 [==============================] - 0s 3ms/step - loss: 6014.0220 - mae: 6014.0220\n",
            "Epoch 77/100\n",
            "34/34 [==============================] - 0s 4ms/step - loss: 5980.8979 - mae: 5980.8979\n",
            "Epoch 78/100\n",
            "34/34 [==============================] - 0s 3ms/step - loss: 5959.5171 - mae: 5959.5171\n",
            "Epoch 79/100\n",
            "34/34 [==============================] - 0s 4ms/step - loss: 5936.1445 - mae: 5936.1445\n",
            "Epoch 80/100\n",
            "34/34 [==============================] - 0s 3ms/step - loss: 5909.8350 - mae: 5909.8350\n",
            "Epoch 81/100\n",
            "34/34 [==============================] - 0s 3ms/step - loss: 5885.3823 - mae: 5885.3823\n",
            "Epoch 82/100\n",
            "34/34 [==============================] - 0s 3ms/step - loss: 5859.3047 - mae: 5859.3047\n",
            "Epoch 83/100\n",
            "34/34 [==============================] - 0s 3ms/step - loss: 5831.7231 - mae: 5831.7231\n",
            "Epoch 84/100\n",
            "34/34 [==============================] - 0s 3ms/step - loss: 5799.5381 - mae: 5799.5381\n",
            "Epoch 85/100\n",
            "34/34 [==============================] - 0s 3ms/step - loss: 5773.9844 - mae: 5773.9844\n",
            "Epoch 86/100\n",
            "34/34 [==============================] - 0s 3ms/step - loss: 5741.3037 - mae: 5741.3037\n",
            "Epoch 87/100\n",
            "34/34 [==============================] - 0s 3ms/step - loss: 5707.1064 - mae: 5707.1064\n",
            "Epoch 88/100\n",
            "34/34 [==============================] - 0s 3ms/step - loss: 5675.3535 - mae: 5675.3535\n",
            "Epoch 89/100\n",
            "34/34 [==============================] - 0s 3ms/step - loss: 5636.7861 - mae: 5636.7861\n",
            "Epoch 90/100\n",
            "34/34 [==============================] - 0s 4ms/step - loss: 5598.2227 - mae: 5598.2227\n",
            "Epoch 91/100\n",
            "34/34 [==============================] - 0s 4ms/step - loss: 5564.9272 - mae: 5564.9272\n",
            "Epoch 92/100\n",
            "34/34 [==============================] - 0s 4ms/step - loss: 5517.7681 - mae: 5517.7681\n",
            "Epoch 93/100\n",
            "34/34 [==============================] - 0s 3ms/step - loss: 5479.6929 - mae: 5479.6929\n",
            "Epoch 94/100\n",
            "34/34 [==============================] - 0s 4ms/step - loss: 5437.4102 - mae: 5437.4102\n",
            "Epoch 95/100\n",
            "34/34 [==============================] - 0s 3ms/step - loss: 5386.7759 - mae: 5386.7759\n",
            "Epoch 96/100\n",
            "34/34 [==============================] - 0s 3ms/step - loss: 5345.1475 - mae: 5345.1475\n",
            "Epoch 97/100\n",
            "34/34 [==============================] - 0s 3ms/step - loss: 5293.8530 - mae: 5293.8530\n",
            "Epoch 98/100\n",
            "34/34 [==============================] - 0s 3ms/step - loss: 5235.4951 - mae: 5235.4951\n",
            "Epoch 99/100\n",
            "34/34 [==============================] - 0s 4ms/step - loss: 5179.5635 - mae: 5179.5635\n",
            "Epoch 100/100\n",
            "34/34 [==============================] - 0s 3ms/step - loss: 5124.3477 - mae: 5124.3477\n"
          ]
        },
        {
          "output_type": "execute_result",
          "data": {
            "text/plain": [
              "<keras.callbacks.History at 0x7f9a01c0b340>"
            ]
          },
          "metadata": {},
          "execution_count": 104
        }
      ]
    },
    {
      "cell_type": "code",
      "source": [
        "# Evaluate the larger model\n",
        "insurance_model_2.evaluate(X_test, y_test)"
      ],
      "metadata": {
        "colab": {
          "base_uri": "https://localhost:8080/"
        },
        "id": "pvPAaM9OuC0o",
        "outputId": "185b57ea-a06b-4794-d41d-e99517dbed46"
      },
      "execution_count": 105,
      "outputs": [
        {
          "output_type": "stream",
          "name": "stdout",
          "text": [
            "9/9 [==============================] - 1s 4ms/step - loss: 4993.9224 - mae: 4993.9224\n"
          ]
        },
        {
          "output_type": "execute_result",
          "data": {
            "text/plain": [
              "[4993.92236328125, 4993.92236328125]"
            ]
          },
          "metadata": {},
          "execution_count": 105
        }
      ]
    },
    {
      "cell_type": "code",
      "source": [
        "insurance_model.evaluate(X_test, y_test)"
      ],
      "metadata": {
        "colab": {
          "base_uri": "https://localhost:8080/"
        },
        "id": "flKPIM8buNR-",
        "outputId": "b33228db-e5c4-4e66-a902-1d34afdef742"
      },
      "execution_count": 106,
      "outputs": [
        {
          "output_type": "stream",
          "name": "stdout",
          "text": [
            "9/9 [==============================] - 0s 6ms/step - loss: 8844.6328 - mae: 8844.6328\n"
          ]
        },
        {
          "output_type": "execute_result",
          "data": {
            "text/plain": [
              "[8844.6328125, 8844.6328125]"
            ]
          },
          "metadata": {},
          "execution_count": 106
        }
      ]
    },
    {
      "cell_type": "code",
      "source": [
        "# Set random set\n",
        "tf.random.set_seed(42)\n",
        "\n",
        "# 1. Create the model (same as above)\n",
        "insurance_model_3 = tf.keras.Sequential([\n",
        "  tf.keras.layers.Dense(100),\n",
        "  tf.keras.layers.Dense(10),\n",
        "  tf.keras.layers.Dense(1)                                \n",
        "])\n",
        "\n",
        "# 2. Compile the model\n",
        "insurance_model_3.compile(loss=tf.keras.losses.mae,\n",
        "                          optimizer=tf.keras.optimizers.Adam(),\n",
        "                          metrics=[\"mae\"])\n",
        "\n",
        "# 3. Fit the model\n",
        "history = insurance_model_3.fit(X_train, y_train, epochs=200)"
      ],
      "metadata": {
        "colab": {
          "base_uri": "https://localhost:8080/"
        },
        "id": "FTnu-SM-uR2b",
        "outputId": "fd17dfaf-ae90-4739-b6c1-b425060cb9e8"
      },
      "execution_count": 107,
      "outputs": [
        {
          "output_type": "stream",
          "name": "stdout",
          "text": [
            "Epoch 1/200\n",
            "34/34 [==============================] - 1s 3ms/step - loss: 13311.0547 - mae: 13311.0547\n",
            "Epoch 2/200\n",
            "34/34 [==============================] - 0s 2ms/step - loss: 13159.7744 - mae: 13159.7744\n",
            "Epoch 3/200\n",
            "34/34 [==============================] - 0s 2ms/step - loss: 12833.2832 - mae: 12833.2832\n",
            "Epoch 4/200\n",
            "34/34 [==============================] - 0s 3ms/step - loss: 12181.7061 - mae: 12181.7061\n",
            "Epoch 5/200\n",
            "34/34 [==============================] - 0s 2ms/step - loss: 11076.6201 - mae: 11076.6201\n",
            "Epoch 6/200\n",
            "34/34 [==============================] - 0s 2ms/step - loss: 9636.3828 - mae: 9636.3828\n",
            "Epoch 7/200\n",
            "34/34 [==============================] - 0s 2ms/step - loss: 8280.3193 - mae: 8280.3193\n",
            "Epoch 8/200\n",
            "34/34 [==============================] - 0s 2ms/step - loss: 7571.8198 - mae: 7571.8198\n",
            "Epoch 9/200\n",
            "34/34 [==============================] - 0s 3ms/step - loss: 7441.7568 - mae: 7441.7568\n",
            "Epoch 10/200\n",
            "34/34 [==============================] - 0s 4ms/step - loss: 7420.7500 - mae: 7420.7500\n",
            "Epoch 11/200\n",
            "34/34 [==============================] - 0s 2ms/step - loss: 7402.5571 - mae: 7402.5571\n",
            "Epoch 12/200\n",
            "34/34 [==============================] - 0s 2ms/step - loss: 7380.6470 - mae: 7380.6470\n",
            "Epoch 13/200\n",
            "34/34 [==============================] - 0s 2ms/step - loss: 7360.3594 - mae: 7360.3594\n",
            "Epoch 14/200\n",
            "34/34 [==============================] - 0s 2ms/step - loss: 7338.4961 - mae: 7338.4961\n",
            "Epoch 15/200\n",
            "34/34 [==============================] - 0s 3ms/step - loss: 7319.6675 - mae: 7319.6675\n",
            "Epoch 16/200\n",
            "34/34 [==============================] - 0s 2ms/step - loss: 7297.3223 - mae: 7297.3223\n",
            "Epoch 17/200\n",
            "34/34 [==============================] - 0s 2ms/step - loss: 7277.8711 - mae: 7277.8711\n",
            "Epoch 18/200\n",
            "34/34 [==============================] - 0s 2ms/step - loss: 7254.7764 - mae: 7254.7764\n",
            "Epoch 19/200\n",
            "34/34 [==============================] - 0s 2ms/step - loss: 7233.0713 - mae: 7233.0713\n",
            "Epoch 20/200\n",
            "34/34 [==============================] - 0s 2ms/step - loss: 7210.1787 - mae: 7210.1787\n",
            "Epoch 21/200\n",
            "34/34 [==============================] - 0s 2ms/step - loss: 7191.4468 - mae: 7191.4468\n",
            "Epoch 22/200\n",
            "34/34 [==============================] - 0s 2ms/step - loss: 7164.9058 - mae: 7164.9058\n",
            "Epoch 23/200\n",
            "34/34 [==============================] - 0s 3ms/step - loss: 7140.4448 - mae: 7140.4448\n",
            "Epoch 24/200\n",
            "34/34 [==============================] - 0s 2ms/step - loss: 7116.4653 - mae: 7116.4653\n",
            "Epoch 25/200\n",
            "34/34 [==============================] - 0s 2ms/step - loss: 7098.7788 - mae: 7098.7788\n",
            "Epoch 26/200\n",
            "34/34 [==============================] - 0s 2ms/step - loss: 7067.8447 - mae: 7067.8447\n",
            "Epoch 27/200\n",
            "34/34 [==============================] - 0s 2ms/step - loss: 7039.8125 - mae: 7039.8125\n",
            "Epoch 28/200\n",
            "34/34 [==============================] - 0s 2ms/step - loss: 7012.6118 - mae: 7012.6118\n",
            "Epoch 29/200\n",
            "34/34 [==============================] - 0s 2ms/step - loss: 6985.0840 - mae: 6985.0840\n",
            "Epoch 30/200\n",
            "34/34 [==============================] - 0s 2ms/step - loss: 6958.9863 - mae: 6958.9863\n",
            "Epoch 31/200\n",
            "34/34 [==============================] - 0s 2ms/step - loss: 6928.1855 - mae: 6928.1855\n",
            "Epoch 32/200\n",
            "34/34 [==============================] - 0s 3ms/step - loss: 6901.4541 - mae: 6901.4541\n",
            "Epoch 33/200\n",
            "34/34 [==============================] - 0s 2ms/step - loss: 6871.2236 - mae: 6871.2236\n",
            "Epoch 34/200\n",
            "34/34 [==============================] - 0s 2ms/step - loss: 6839.5186 - mae: 6839.5186\n",
            "Epoch 35/200\n",
            "34/34 [==============================] - 0s 3ms/step - loss: 6807.7578 - mae: 6807.7578\n",
            "Epoch 36/200\n",
            "34/34 [==============================] - 0s 4ms/step - loss: 6774.4429 - mae: 6774.4429\n",
            "Epoch 37/200\n",
            "34/34 [==============================] - 0s 4ms/step - loss: 6739.5669 - mae: 6739.5669\n",
            "Epoch 38/200\n",
            "34/34 [==============================] - 0s 4ms/step - loss: 6708.1899 - mae: 6708.1899\n",
            "Epoch 39/200\n",
            "34/34 [==============================] - 0s 4ms/step - loss: 6670.6567 - mae: 6670.6567\n",
            "Epoch 40/200\n",
            "34/34 [==============================] - 0s 3ms/step - loss: 6636.1592 - mae: 6636.1592\n",
            "Epoch 41/200\n",
            "34/34 [==============================] - 0s 3ms/step - loss: 6602.9829 - mae: 6602.9829\n",
            "Epoch 42/200\n",
            "34/34 [==============================] - 0s 4ms/step - loss: 6573.7178 - mae: 6573.7178\n",
            "Epoch 43/200\n",
            "34/34 [==============================] - 0s 4ms/step - loss: 6542.6221 - mae: 6542.6221\n",
            "Epoch 44/200\n",
            "34/34 [==============================] - 0s 4ms/step - loss: 6517.0557 - mae: 6517.0557\n",
            "Epoch 45/200\n",
            "34/34 [==============================] - 0s 4ms/step - loss: 6499.7974 - mae: 6499.7974\n",
            "Epoch 46/200\n",
            "34/34 [==============================] - 0s 3ms/step - loss: 6480.4678 - mae: 6480.4678\n",
            "Epoch 47/200\n",
            "34/34 [==============================] - 0s 3ms/step - loss: 6463.9893 - mae: 6463.9893\n",
            "Epoch 48/200\n",
            "34/34 [==============================] - 0s 4ms/step - loss: 6448.1445 - mae: 6448.1445\n",
            "Epoch 49/200\n",
            "34/34 [==============================] - 0s 3ms/step - loss: 6435.3281 - mae: 6435.3281\n",
            "Epoch 50/200\n",
            "34/34 [==============================] - 0s 4ms/step - loss: 6421.0293 - mae: 6421.0293\n",
            "Epoch 51/200\n",
            "34/34 [==============================] - 0s 3ms/step - loss: 6407.6543 - mae: 6407.6543\n",
            "Epoch 52/200\n",
            "34/34 [==============================] - 0s 3ms/step - loss: 6395.9546 - mae: 6395.9546\n",
            "Epoch 53/200\n",
            "34/34 [==============================] - 0s 3ms/step - loss: 6382.0425 - mae: 6382.0425\n",
            "Epoch 54/200\n",
            "34/34 [==============================] - 0s 4ms/step - loss: 6368.7241 - mae: 6368.7241\n",
            "Epoch 55/200\n",
            "34/34 [==============================] - 0s 3ms/step - loss: 6355.3394 - mae: 6355.3394\n",
            "Epoch 56/200\n",
            "34/34 [==============================] - 0s 3ms/step - loss: 6340.8691 - mae: 6340.8691\n",
            "Epoch 57/200\n",
            "34/34 [==============================] - 0s 3ms/step - loss: 6328.8091 - mae: 6328.8091\n",
            "Epoch 58/200\n",
            "34/34 [==============================] - 0s 3ms/step - loss: 6314.3867 - mae: 6314.3867\n",
            "Epoch 59/200\n",
            "34/34 [==============================] - 0s 4ms/step - loss: 6299.7993 - mae: 6299.7993\n",
            "Epoch 60/200\n",
            "34/34 [==============================] - 0s 3ms/step - loss: 6289.3569 - mae: 6289.3569\n",
            "Epoch 61/200\n",
            "34/34 [==============================] - 0s 4ms/step - loss: 6269.2168 - mae: 6269.2168\n",
            "Epoch 62/200\n",
            "34/34 [==============================] - 0s 3ms/step - loss: 6258.6118 - mae: 6258.6118\n",
            "Epoch 63/200\n",
            "34/34 [==============================] - 0s 3ms/step - loss: 6239.4380 - mae: 6239.4380\n",
            "Epoch 64/200\n",
            "34/34 [==============================] - 0s 3ms/step - loss: 6223.7358 - mae: 6223.7358\n",
            "Epoch 65/200\n",
            "34/34 [==============================] - 0s 3ms/step - loss: 6206.6011 - mae: 6206.6011\n",
            "Epoch 66/200\n",
            "34/34 [==============================] - 0s 4ms/step - loss: 6189.6470 - mae: 6189.6470\n",
            "Epoch 67/200\n",
            "34/34 [==============================] - 0s 3ms/step - loss: 6177.6523 - mae: 6177.6523\n",
            "Epoch 68/200\n",
            "34/34 [==============================] - 0s 4ms/step - loss: 6154.9058 - mae: 6154.9058\n",
            "Epoch 69/200\n",
            "34/34 [==============================] - 0s 4ms/step - loss: 6139.3237 - mae: 6139.3237\n",
            "Epoch 70/200\n",
            "34/34 [==============================] - 0s 4ms/step - loss: 6119.1416 - mae: 6119.1416\n",
            "Epoch 71/200\n",
            "34/34 [==============================] - 0s 4ms/step - loss: 6100.7153 - mae: 6100.7153\n",
            "Epoch 72/200\n",
            "34/34 [==============================] - 0s 3ms/step - loss: 6081.7222 - mae: 6081.7222\n",
            "Epoch 73/200\n",
            "34/34 [==============================] - 0s 2ms/step - loss: 6067.1304 - mae: 6067.1304\n",
            "Epoch 74/200\n",
            "34/34 [==============================] - 0s 2ms/step - loss: 6040.3677 - mae: 6040.3677\n",
            "Epoch 75/200\n",
            "34/34 [==============================] - 0s 2ms/step - loss: 6020.1064 - mae: 6020.1064\n",
            "Epoch 76/200\n",
            "34/34 [==============================] - 0s 2ms/step - loss: 6004.6045 - mae: 6004.6045\n",
            "Epoch 77/200\n",
            "34/34 [==============================] - 0s 2ms/step - loss: 5973.5771 - mae: 5973.5771\n",
            "Epoch 78/200\n",
            "34/34 [==============================] - 0s 2ms/step - loss: 5951.1636 - mae: 5951.1636\n",
            "Epoch 79/200\n",
            "34/34 [==============================] - 0s 2ms/step - loss: 5926.9839 - mae: 5926.9839\n",
            "Epoch 80/200\n",
            "34/34 [==============================] - 0s 2ms/step - loss: 5900.8892 - mae: 5900.8892\n",
            "Epoch 81/200\n",
            "34/34 [==============================] - 0s 2ms/step - loss: 5875.3896 - mae: 5875.3896\n",
            "Epoch 82/200\n",
            "34/34 [==============================] - 0s 3ms/step - loss: 5848.8462 - mae: 5848.8462\n",
            "Epoch 83/200\n",
            "34/34 [==============================] - 0s 2ms/step - loss: 5820.5972 - mae: 5820.5972\n",
            "Epoch 84/200\n",
            "34/34 [==============================] - 0s 2ms/step - loss: 5789.0615 - mae: 5789.0615\n",
            "Epoch 85/200\n",
            "34/34 [==============================] - 0s 2ms/step - loss: 5762.5679 - mae: 5762.5679\n",
            "Epoch 86/200\n",
            "34/34 [==============================] - 0s 2ms/step - loss: 5728.8755 - mae: 5728.8755\n",
            "Epoch 87/200\n",
            "34/34 [==============================] - 0s 2ms/step - loss: 5694.1064 - mae: 5694.1064\n",
            "Epoch 88/200\n",
            "34/34 [==============================] - 0s 2ms/step - loss: 5660.4077 - mae: 5660.4077\n",
            "Epoch 89/200\n",
            "34/34 [==============================] - 0s 2ms/step - loss: 5622.7007 - mae: 5622.7007\n",
            "Epoch 90/200\n",
            "34/34 [==============================] - 0s 2ms/step - loss: 5582.9380 - mae: 5582.9380\n",
            "Epoch 91/200\n",
            "34/34 [==============================] - 0s 2ms/step - loss: 5549.4932 - mae: 5549.4932\n",
            "Epoch 92/200\n",
            "34/34 [==============================] - 0s 2ms/step - loss: 5501.4399 - mae: 5501.4399\n",
            "Epoch 93/200\n",
            "34/34 [==============================] - 0s 2ms/step - loss: 5461.8218 - mae: 5461.8218\n",
            "Epoch 94/200\n",
            "34/34 [==============================] - 0s 3ms/step - loss: 5419.6030 - mae: 5419.6030\n",
            "Epoch 95/200\n",
            "34/34 [==============================] - 0s 2ms/step - loss: 5367.9707 - mae: 5367.9707\n",
            "Epoch 96/200\n",
            "34/34 [==============================] - 0s 2ms/step - loss: 5324.1455 - mae: 5324.1455\n",
            "Epoch 97/200\n",
            "34/34 [==============================] - 0s 2ms/step - loss: 5272.9697 - mae: 5272.9697\n",
            "Epoch 98/200\n",
            "34/34 [==============================] - 0s 2ms/step - loss: 5213.9141 - mae: 5213.9141\n",
            "Epoch 99/200\n",
            "34/34 [==============================] - 0s 2ms/step - loss: 5157.4722 - mae: 5157.4722\n",
            "Epoch 100/200\n",
            "34/34 [==============================] - 0s 2ms/step - loss: 5101.6069 - mae: 5101.6069\n",
            "Epoch 101/200\n",
            "34/34 [==============================] - 0s 2ms/step - loss: 5035.6968 - mae: 5035.6968\n",
            "Epoch 102/200\n",
            "34/34 [==============================] - 0s 2ms/step - loss: 4968.5752 - mae: 4968.5752\n",
            "Epoch 103/200\n",
            "34/34 [==============================] - 0s 2ms/step - loss: 4903.8086 - mae: 4903.8086\n",
            "Epoch 104/200\n",
            "34/34 [==============================] - 0s 3ms/step - loss: 4828.5732 - mae: 4828.5732\n",
            "Epoch 105/200\n",
            "34/34 [==============================] - 0s 2ms/step - loss: 4748.9956 - mae: 4748.9956\n",
            "Epoch 106/200\n",
            "34/34 [==============================] - 0s 2ms/step - loss: 4669.7793 - mae: 4669.7793\n",
            "Epoch 107/200\n",
            "34/34 [==============================] - 0s 2ms/step - loss: 4587.3843 - mae: 4587.3843\n",
            "Epoch 108/200\n",
            "34/34 [==============================] - 0s 2ms/step - loss: 4499.2261 - mae: 4499.2261\n",
            "Epoch 109/200\n",
            "34/34 [==============================] - 0s 2ms/step - loss: 4414.7603 - mae: 4414.7603\n",
            "Epoch 110/200\n",
            "34/34 [==============================] - 0s 3ms/step - loss: 4331.1284 - mae: 4331.1284\n",
            "Epoch 111/200\n",
            "34/34 [==============================] - 0s 2ms/step - loss: 4249.1021 - mae: 4249.1021\n",
            "Epoch 112/200\n",
            "34/34 [==============================] - 0s 2ms/step - loss: 4179.9937 - mae: 4179.9937\n",
            "Epoch 113/200\n",
            "34/34 [==============================] - 0s 3ms/step - loss: 4104.3916 - mae: 4104.3916\n",
            "Epoch 114/200\n",
            "34/34 [==============================] - 0s 2ms/step - loss: 4033.9663 - mae: 4033.9663\n",
            "Epoch 115/200\n",
            "34/34 [==============================] - 0s 2ms/step - loss: 3978.8235 - mae: 3978.8235\n",
            "Epoch 116/200\n",
            "34/34 [==============================] - 0s 3ms/step - loss: 3948.4719 - mae: 3948.4719\n",
            "Epoch 117/200\n",
            "34/34 [==============================] - 0s 2ms/step - loss: 3925.5327 - mae: 3925.5327\n",
            "Epoch 118/200\n",
            "34/34 [==============================] - 0s 2ms/step - loss: 3894.7297 - mae: 3894.7297\n",
            "Epoch 119/200\n",
            "34/34 [==============================] - 0s 2ms/step - loss: 3870.9937 - mae: 3870.9937\n",
            "Epoch 120/200\n",
            "34/34 [==============================] - 0s 2ms/step - loss: 3850.0251 - mae: 3850.0251\n",
            "Epoch 121/200\n",
            "34/34 [==============================] - 0s 2ms/step - loss: 3841.8848 - mae: 3841.8848\n",
            "Epoch 122/200\n",
            "34/34 [==============================] - 0s 2ms/step - loss: 3833.7004 - mae: 3833.7004\n",
            "Epoch 123/200\n",
            "34/34 [==============================] - 0s 2ms/step - loss: 3829.1814 - mae: 3829.1814\n",
            "Epoch 124/200\n",
            "34/34 [==============================] - 0s 3ms/step - loss: 3819.0244 - mae: 3819.0244\n",
            "Epoch 125/200\n",
            "34/34 [==============================] - 0s 2ms/step - loss: 3805.1221 - mae: 3805.1221\n",
            "Epoch 126/200\n",
            "34/34 [==============================] - 0s 2ms/step - loss: 3815.0461 - mae: 3815.0461\n",
            "Epoch 127/200\n",
            "34/34 [==============================] - 0s 3ms/step - loss: 3805.0181 - mae: 3805.0181\n",
            "Epoch 128/200\n",
            "34/34 [==============================] - 0s 3ms/step - loss: 3797.9419 - mae: 3797.9419\n",
            "Epoch 129/200\n",
            "34/34 [==============================] - 0s 2ms/step - loss: 3805.1453 - mae: 3805.1453\n",
            "Epoch 130/200\n",
            "34/34 [==============================] - 0s 2ms/step - loss: 3791.0864 - mae: 3791.0864\n",
            "Epoch 131/200\n",
            "34/34 [==============================] - 0s 2ms/step - loss: 3786.5686 - mae: 3786.5686\n",
            "Epoch 132/200\n",
            "34/34 [==============================] - 0s 2ms/step - loss: 3780.3145 - mae: 3780.3145\n",
            "Epoch 133/200\n",
            "34/34 [==============================] - 0s 2ms/step - loss: 3775.7959 - mae: 3775.7959\n",
            "Epoch 134/200\n",
            "34/34 [==============================] - 0s 2ms/step - loss: 3775.0562 - mae: 3775.0562\n",
            "Epoch 135/200\n",
            "34/34 [==============================] - 0s 2ms/step - loss: 3771.5637 - mae: 3771.5637\n",
            "Epoch 136/200\n",
            "34/34 [==============================] - 0s 2ms/step - loss: 3770.6509 - mae: 3770.6509\n",
            "Epoch 137/200\n",
            "34/34 [==============================] - 0s 2ms/step - loss: 3777.9949 - mae: 3777.9949\n",
            "Epoch 138/200\n",
            "34/34 [==============================] - 0s 2ms/step - loss: 3788.0488 - mae: 3788.0488\n",
            "Epoch 139/200\n",
            "34/34 [==============================] - 0s 3ms/step - loss: 3766.2144 - mae: 3766.2144\n",
            "Epoch 140/200\n",
            "34/34 [==============================] - 0s 3ms/step - loss: 3766.5977 - mae: 3766.5977\n",
            "Epoch 141/200\n",
            "34/34 [==============================] - 0s 2ms/step - loss: 3767.2429 - mae: 3767.2429\n",
            "Epoch 142/200\n",
            "34/34 [==============================] - 0s 2ms/step - loss: 3768.5720 - mae: 3768.5720\n",
            "Epoch 143/200\n",
            "34/34 [==============================] - 0s 2ms/step - loss: 3760.0068 - mae: 3760.0068\n",
            "Epoch 144/200\n",
            "34/34 [==============================] - 0s 2ms/step - loss: 3754.7900 - mae: 3754.7900\n",
            "Epoch 145/200\n",
            "34/34 [==============================] - 0s 2ms/step - loss: 3755.0938 - mae: 3755.0938\n",
            "Epoch 146/200\n",
            "34/34 [==============================] - 0s 2ms/step - loss: 3760.7900 - mae: 3760.7900\n",
            "Epoch 147/200\n",
            "34/34 [==============================] - 0s 3ms/step - loss: 3756.0566 - mae: 3756.0566\n",
            "Epoch 148/200\n",
            "34/34 [==============================] - 0s 2ms/step - loss: 3760.4028 - mae: 3760.4028\n",
            "Epoch 149/200\n",
            "34/34 [==============================] - 0s 2ms/step - loss: 3747.4153 - mae: 3747.4153\n",
            "Epoch 150/200\n",
            "34/34 [==============================] - 0s 2ms/step - loss: 3742.8799 - mae: 3742.8799\n",
            "Epoch 151/200\n",
            "34/34 [==============================] - 0s 2ms/step - loss: 3744.6094 - mae: 3744.6094\n",
            "Epoch 152/200\n",
            "34/34 [==============================] - 0s 2ms/step - loss: 3746.4153 - mae: 3746.4153\n",
            "Epoch 153/200\n",
            "34/34 [==============================] - 0s 2ms/step - loss: 3745.6653 - mae: 3745.6653\n",
            "Epoch 154/200\n",
            "34/34 [==============================] - 0s 3ms/step - loss: 3741.3164 - mae: 3741.3164\n",
            "Epoch 155/200\n",
            "34/34 [==============================] - 0s 2ms/step - loss: 3743.5869 - mae: 3743.5869\n",
            "Epoch 156/200\n",
            "34/34 [==============================] - 0s 2ms/step - loss: 3738.8955 - mae: 3738.8955\n",
            "Epoch 157/200\n",
            "34/34 [==============================] - 0s 2ms/step - loss: 3737.3579 - mae: 3737.3579\n",
            "Epoch 158/200\n",
            "34/34 [==============================] - 0s 2ms/step - loss: 3733.1665 - mae: 3733.1665\n",
            "Epoch 159/200\n",
            "34/34 [==============================] - 0s 3ms/step - loss: 3733.5408 - mae: 3733.5408\n",
            "Epoch 160/200\n",
            "34/34 [==============================] - 0s 3ms/step - loss: 3737.3076 - mae: 3737.3076\n",
            "Epoch 161/200\n",
            "34/34 [==============================] - 0s 2ms/step - loss: 3732.4438 - mae: 3732.4438\n",
            "Epoch 162/200\n",
            "34/34 [==============================] - 0s 3ms/step - loss: 3726.7026 - mae: 3726.7026\n",
            "Epoch 163/200\n",
            "34/34 [==============================] - 0s 2ms/step - loss: 3726.0352 - mae: 3726.0352\n",
            "Epoch 164/200\n",
            "34/34 [==============================] - 0s 3ms/step - loss: 3730.4875 - mae: 3730.4875\n",
            "Epoch 165/200\n",
            "34/34 [==============================] - 0s 2ms/step - loss: 3720.2471 - mae: 3720.2471\n",
            "Epoch 166/200\n",
            "34/34 [==============================] - 0s 2ms/step - loss: 3725.0862 - mae: 3725.0862\n",
            "Epoch 167/200\n",
            "34/34 [==============================] - 0s 2ms/step - loss: 3723.8350 - mae: 3723.8350\n",
            "Epoch 168/200\n",
            "34/34 [==============================] - 0s 2ms/step - loss: 3719.8186 - mae: 3719.8186\n",
            "Epoch 169/200\n",
            "34/34 [==============================] - 0s 3ms/step - loss: 3718.8647 - mae: 3718.8647\n",
            "Epoch 170/200\n",
            "34/34 [==============================] - 0s 2ms/step - loss: 3712.3379 - mae: 3712.3379\n",
            "Epoch 171/200\n",
            "34/34 [==============================] - 0s 2ms/step - loss: 3711.7036 - mae: 3711.7036\n",
            "Epoch 172/200\n",
            "34/34 [==============================] - 0s 2ms/step - loss: 3713.7832 - mae: 3713.7832\n",
            "Epoch 173/200\n",
            "34/34 [==============================] - 0s 2ms/step - loss: 3709.2485 - mae: 3709.2485\n",
            "Epoch 174/200\n",
            "34/34 [==============================] - 0s 3ms/step - loss: 3713.9758 - mae: 3713.9758\n",
            "Epoch 175/200\n",
            "34/34 [==============================] - 0s 2ms/step - loss: 3716.0679 - mae: 3716.0679\n",
            "Epoch 176/200\n",
            "34/34 [==============================] - 0s 2ms/step - loss: 3709.9753 - mae: 3709.9753\n",
            "Epoch 177/200\n",
            "34/34 [==============================] - 0s 2ms/step - loss: 3702.6335 - mae: 3702.6335\n",
            "Epoch 178/200\n",
            "34/34 [==============================] - 0s 2ms/step - loss: 3703.2957 - mae: 3703.2957\n",
            "Epoch 179/200\n",
            "34/34 [==============================] - 0s 3ms/step - loss: 3711.7993 - mae: 3711.7993\n",
            "Epoch 180/200\n",
            "34/34 [==============================] - 0s 3ms/step - loss: 3714.1038 - mae: 3714.1038\n",
            "Epoch 181/200\n",
            "34/34 [==============================] - 0s 2ms/step - loss: 3699.7722 - mae: 3699.7722\n",
            "Epoch 182/200\n",
            "34/34 [==============================] - 0s 3ms/step - loss: 3697.8979 - mae: 3697.8979\n",
            "Epoch 183/200\n",
            "34/34 [==============================] - 0s 4ms/step - loss: 3696.1243 - mae: 3696.1243\n",
            "Epoch 184/200\n",
            "34/34 [==============================] - 0s 4ms/step - loss: 3702.3999 - mae: 3702.3999\n",
            "Epoch 185/200\n",
            "34/34 [==============================] - 0s 4ms/step - loss: 3697.6467 - mae: 3697.6467\n",
            "Epoch 186/200\n",
            "34/34 [==============================] - 0s 4ms/step - loss: 3701.3821 - mae: 3701.3821\n",
            "Epoch 187/200\n",
            "34/34 [==============================] - 0s 4ms/step - loss: 3692.9258 - mae: 3692.9258\n",
            "Epoch 188/200\n",
            "34/34 [==============================] - 0s 3ms/step - loss: 3698.1384 - mae: 3698.1384\n",
            "Epoch 189/200\n",
            "34/34 [==============================] - 0s 3ms/step - loss: 3688.8286 - mae: 3688.8286\n",
            "Epoch 190/200\n",
            "34/34 [==============================] - 0s 3ms/step - loss: 3688.4558 - mae: 3688.4558\n",
            "Epoch 191/200\n",
            "34/34 [==============================] - 0s 3ms/step - loss: 3702.9370 - mae: 3702.9370\n",
            "Epoch 192/200\n",
            "34/34 [==============================] - 0s 3ms/step - loss: 3689.2493 - mae: 3689.2493\n",
            "Epoch 193/200\n",
            "34/34 [==============================] - 0s 4ms/step - loss: 3678.8960 - mae: 3678.8960\n",
            "Epoch 194/200\n",
            "34/34 [==============================] - 0s 4ms/step - loss: 3680.2493 - mae: 3680.2493\n",
            "Epoch 195/200\n",
            "34/34 [==============================] - 0s 3ms/step - loss: 3677.6099 - mae: 3677.6099\n",
            "Epoch 196/200\n",
            "34/34 [==============================] - 0s 4ms/step - loss: 3684.9890 - mae: 3684.9890\n",
            "Epoch 197/200\n",
            "34/34 [==============================] - 0s 3ms/step - loss: 3670.4243 - mae: 3670.4243\n",
            "Epoch 198/200\n",
            "34/34 [==============================] - 0s 3ms/step - loss: 3676.8645 - mae: 3676.8645\n",
            "Epoch 199/200\n",
            "34/34 [==============================] - 0s 4ms/step - loss: 3684.4907 - mae: 3684.4907\n",
            "Epoch 200/200\n",
            "34/34 [==============================] - 0s 4ms/step - loss: 3671.6646 - mae: 3671.6646\n"
          ]
        }
      ]
    },
    {
      "cell_type": "code",
      "source": [
        "# Evaluate our third model\n",
        "insurance_model_3.evaluate(X_test, y_test)"
      ],
      "metadata": {
        "colab": {
          "base_uri": "https://localhost:8080/"
        },
        "id": "uf0fhRlbuZ24",
        "outputId": "bc1cb105-060e-4299-bbcd-bbf00b77b947"
      },
      "execution_count": 108,
      "outputs": [
        {
          "output_type": "stream",
          "name": "stdout",
          "text": [
            "9/9 [==============================] - 0s 6ms/step - loss: 3498.6111 - mae: 3498.6111\n"
          ]
        },
        {
          "output_type": "execute_result",
          "data": {
            "text/plain": [
              "[3498.611083984375, 3498.611083984375]"
            ]
          },
          "metadata": {},
          "execution_count": 108
        }
      ]
    },
    {
      "cell_type": "code",
      "source": [
        "insurance_model.evaluate(X_test, y_test)"
      ],
      "metadata": {
        "colab": {
          "base_uri": "https://localhost:8080/"
        },
        "id": "lSMYYIiPufEd",
        "outputId": "e70abdfc-22f6-4f95-fc48-e8f7d0e4b74c"
      },
      "execution_count": 109,
      "outputs": [
        {
          "output_type": "stream",
          "name": "stdout",
          "text": [
            "9/9 [==============================] - 0s 3ms/step - loss: 8844.6328 - mae: 8844.6328\n"
          ]
        },
        {
          "output_type": "execute_result",
          "data": {
            "text/plain": [
              "[8844.6328125, 8844.6328125]"
            ]
          },
          "metadata": {},
          "execution_count": 109
        }
      ]
    },
    {
      "cell_type": "code",
      "source": [
        "# Plot history (also known as a loss curve or a training curve)\n",
        "pd.DataFrame(history.history).plot()\n",
        "plt.ylabel(\"loss\")\n",
        "plt.xlabel(\"epochs\")"
      ],
      "metadata": {
        "colab": {
          "base_uri": "https://localhost:8080/",
          "height": 467
        },
        "id": "IEF0hJmDuhtk",
        "outputId": "fa2d2b65-7204-4687-bf22-428cea9c2710"
      },
      "execution_count": 110,
      "outputs": [
        {
          "output_type": "execute_result",
          "data": {
            "text/plain": [
              "Text(0.5, 0, 'epochs')"
            ]
          },
          "metadata": {},
          "execution_count": 110
        },
        {
          "output_type": "display_data",
          "data": {
            "text/plain": [
              "<Figure size 640x480 with 1 Axes>"
            ],
            "image/png": "[encoded data removed]"
          },
          "metadata": {}
        }
      ]
    },
    {
      "cell_type": "markdown",
      "source": [
        "### Question: How long should you train for?\n",
        "\n",
        "It depends. Really... it depends on the problem you're working on. However, many people have asked this question before... so TensorFlow has a solution! It's called the [EarlyStopping Callback](https://www.tensorflow.org/api_docs/python/tf/keras/callbacks/EarlyStopping), which is a TensorFlow component you can add to your model to stop training once it stops improving a certain metric."
      ],
      "metadata": {
        "id": "OP667g6FupQ_"
      }
    },
    {
      "cell_type": "markdown",
      "source": [
        "\n",
        "## Preprocessing data (normalization and standardization)- New Start of the Model\n",
        "\n",
        "In terms of scaling values, neural networks tend to prefer `normalization`.\n",
        "\n",
        "If you're not sure on which to use, you could try both and see which performs better.\n"
      ],
      "metadata": {
        "id": "rWt1TSeMu2ss"
      }
    },
    {
      "cell_type": "code",
      "source": [
        "import pandas as pd\n",
        "import matplotlib.pyplot as plt\n",
        "import tensorflow as tf\n",
        "\n",
        "# Read in the insurance dataset\n",
        "insurance = pd.read_csv(\"https://raw.githubusercontent.com/stedy/Machine-Learning-with-R-datasets/master/insurance.csv\")\n",
        "insurance"
      ],
      "metadata": {
        "colab": {
          "base_uri": "https://localhost:8080/",
          "height": 424
        },
        "id": "G10c8cg5uldA",
        "outputId": "86862f49-7c57-4a8d-d953-5b44c44d3f6b"
      },
      "execution_count": 111,
      "outputs": [
        {
          "output_type": "execute_result",
          "data": {
            "text/plain": [
              "      age     sex     bmi  children smoker     region      charges\n",
              "0      19  female  27.900         0    yes  southwest  16884.92400\n",
              "1      18    male  33.770         1     no  southeast   1725.55230\n",
              "2      28    male  33.000         3     no  southeast   4449.46200\n",
              "3      33    male  22.705         0     no  northwest  21984.47061\n",
              "4      32    male  28.880         0     no  northwest   3866.85520\n",
              "...   ...     ...     ...       ...    ...        ...          ...\n",
              "1333   50    male  30.970         3     no  northwest  10600.54830\n",
              "1334   18  female  31.920         0     no  northeast   2205.98080\n",
              "1335   18  female  36.850         0     no  southeast   1629.83350\n",
              "1336   21  female  25.800         0     no  southwest   2007.94500\n",
              "1337   61  female  29.070         0    yes  northwest  29141.36030\n",
              "\n",
              "[1338 rows x 7 columns]"
            ],
            "text/html": [
              "\n",
              "  <div id=\"df-6c1dba0f-c77f-4092-9381-b5cecba062ef\">\n",
              "    <div class=\"colab-df-container\">\n",
              "      <div>\n",
              "<style scoped>\n",
              "    .dataframe tbody tr th:only-of-type {\n",
              "        vertical-align: middle;\n",
              "    }\n",
              "\n",
              "    .dataframe tbody tr th {\n",
              "        vertical-align: top;\n",
              "    }\n",
              "\n",
              "    .dataframe thead th {\n",
              "        text-align: right;\n",
              "    }\n",
              "</style>\n",
              "<table border=\"1\" class=\"dataframe\">\n",
              "  <thead>\n",
              "    <tr style=\"text-align: right;\">\n",
              "      <th></th>\n",
              "      <th>age</th>\n",
              "      <th>sex</th>\n",
              "      <th>bmi</th>\n",
              "      <th>children</th>\n",
              "      <th>smoker</th>\n",
              "      <th>region</th>\n",
              "      <th>charges</th>\n",
              "    </tr>\n",
              "  </thead>\n",
              "  <tbody>\n",
              "    <tr>\n",
              "      <th>0</th>\n",
              "      <td>19</td>\n",
              "      <td>female</td>\n",
              "      <td>27.900</td>\n",
              "      <td>0</td>\n",
              "      <td>yes</td>\n",
              "      <td>southwest</td>\n",
              "      <td>16884.92400</td>\n",
              "    </tr>\n",
              "    <tr>\n",
              "      <th>1</th>\n",
              "      <td>18</td>\n",
              "      <td>male</td>\n",
              "      <td>33.770</td>\n",
              "      <td>1</td>\n",
              "      <td>no</td>\n",
              "      <td>southeast</td>\n",
              "      <td>1725.55230</td>\n",
              "    </tr>\n",
              "    <tr>\n",
              "      <th>2</th>\n",
              "      <td>28</td>\n",
              "      <td>male</td>\n",
              "      <td>33.000</td>\n",
              "      <td>3</td>\n",
              "      <td>no</td>\n",
              "      <td>southeast</td>\n",
              "      <td>4449.46200</td>\n",
              "    </tr>\n",
              "    <tr>\n",
              "      <th>3</th>\n",
              "      <td>33</td>\n",
              "      <td>male</td>\n",
              "      <td>22.705</td>\n",
              "      <td>0</td>\n",
              "      <td>no</td>\n",
              "      <td>northwest</td>\n",
              "      <td>21984.47061</td>\n",
              "    </tr>\n",
              "    <tr>\n",
              "      <th>4</th>\n",
              "      <td>32</td>\n",
              "      <td>male</td>\n",
              "      <td>28.880</td>\n",
              "      <td>0</td>\n",
              "      <td>no</td>\n",
              "      <td>northwest</td>\n",
              "      <td>3866.85520</td>\n",
              "    </tr>\n",
              "    <tr>\n",
              "      <th>...</th>\n",
              "      <td>...</td>\n",
              "      <td>...</td>\n",
              "      <td>...</td>\n",
              "      <td>...</td>\n",
              "      <td>...</td>\n",
              "      <td>...</td>\n",
              "      <td>...</td>\n",
              "    </tr>\n",
              "    <tr>\n",
              "      <th>1333</th>\n",
              "      <td>50</td>\n",
              "      <td>male</td>\n",
              "      <td>30.970</td>\n",
              "      <td>3</td>\n",
              "      <td>no</td>\n",
              "      <td>northwest</td>\n",
              "      <td>10600.54830</td>\n",
              "    </tr>\n",
              "    <tr>\n",
              "      <th>1334</th>\n",
              "      <td>18</td>\n",
              "      <td>female</td>\n",
              "      <td>31.920</td>\n",
              "      <td>0</td>\n",
              "      <td>no</td>\n",
              "      <td>northeast</td>\n",
              "      <td>2205.98080</td>\n",
              "    </tr>\n",
              "    <tr>\n",
              "      <th>1335</th>\n",
              "      <td>18</td>\n",
              "      <td>female</td>\n",
              "      <td>36.850</td>\n",
              "      <td>0</td>\n",
              "      <td>no</td>\n",
              "      <td>southeast</td>\n",
              "      <td>1629.83350</td>\n",
              "    </tr>\n",
              "    <tr>\n",
              "      <th>1336</th>\n",
              "      <td>21</td>\n",
              "      <td>female</td>\n",
              "      <td>25.800</td>\n",
              "      <td>0</td>\n",
              "      <td>no</td>\n",
              "      <td>southwest</td>\n",
              "      <td>2007.94500</td>\n",
              "    </tr>\n",
              "    <tr>\n",
              "      <th>1337</th>\n",
              "      <td>61</td>\n",
              "      <td>female</td>\n",
              "      <td>29.070</td>\n",
              "      <td>0</td>\n",
              "      <td>yes</td>\n",
              "      <td>northwest</td>\n",
              "      <td>29141.36030</td>\n",
              "    </tr>\n",
              "  </tbody>\n",
              "</table>\n",
              "<p>1338 rows × 7 columns</p>\n",
              "</div>\n",
              "      <button class=\"colab-df-convert\" onclick=\"convertToInteractive('df-6c1dba0f-c77f-4092-9381-b5cecba062ef')\"\n",
              "              title=\"Convert this dataframe to an interactive table.\"\n",
              "              style=\"display:none;\">\n",
              "        \n",
              "  <svg xmlns=\"http://www.w3.org/2000/svg\" height=\"24px\"viewBox=\"0 0 24 24\"\n",
              "       width=\"24px\">\n",
              "    <path d=\"M0 0h24v24H0V0z\" fill=\"none\"/>\n",
              "    <path d=\"M18.56 5.44l.94 2.06.94-2.06 2.06-.94-2.06-.94-.94-2.06-.94 2.06-2.06.94zm-11 1L8.5 8.5l.94-2.06 2.06-.94-2.06-.94L8.5 2.5l-.94 2.06-2.06.94zm10 10l.94 2.06.94-2.06 2.06-.94-2.06-.94-.94-2.06-.94 2.06-2.06.94z\"/><path d=\"M17.41 7.96l-1.37-1.37c-.4-.4-.92-.59-1.43-.59-.52 0-1.04.2-1.43.59L10.3 9.45l-7.72 7.72c-.78.78-.78 2.05 0 2.83L4 21.41c.39.39.9.59 1.41.59.51 0 1.02-.2 1.41-.59l7.78-7.78 2.81-2.81c.8-.78.8-2.07 0-2.86zM5.41 20L4 18.59l7.72-7.72 1.47 1.35L5.41 20z\"/>\n",
              "  </svg>\n",
              "      </button>\n",
              "      \n",
              "  <style>\n",
              "    .colab-df-container {\n",
              "      display:flex;\n",
              "      flex-wrap:wrap;\n",
              "      gap: 12px;\n",
              "    }\n",
              "\n",
              "    .colab-df-convert {\n",
              "      background-color: #E8F0FE;\n",
              "      border: none;\n",
              "      border-radius: 50%;\n",
              "      cursor: pointer;\n",
              "      display: none;\n",
              "      fill: #1967D2;\n",
              "      height: 32px;\n",
              "      padding: 0 0 0 0;\n",
              "      width: 32px;\n",
              "    }\n",
              "\n",
              "    .colab-df-convert:hover {\n",
              "      background-color: #E2EBFA;\n",
              "      box-shadow: 0px 1px 2px rgba(60, 64, 67, 0.3), 0px 1px 3px 1px rgba(60, 64, 67, 0.15);\n",
              "      fill: #174EA6;\n",
              "    }\n",
              "\n",
              "    [theme=dark] .colab-df-convert {\n",
              "      background-color: #3B4455;\n",
              "      fill: #D2E3FC;\n",
              "    }\n",
              "\n",
              "    [theme=dark] .colab-df-convert:hover {\n",
              "      background-color: #434B5C;\n",
              "      box-shadow: 0px 1px 3px 1px rgba(0, 0, 0, 0.15);\n",
              "      filter: drop-shadow(0px 1px 2px rgba(0, 0, 0, 0.3));\n",
              "      fill: #FFFFFF;\n",
              "    }\n",
              "  </style>\n",
              "\n",
              "      <script>\n",
              "        const buttonEl =\n",
              "          document.querySelector('#df-6c1dba0f-c77f-4092-9381-b5cecba062ef button.colab-df-convert');\n",
              "        buttonEl.style.display =\n",
              "          google.colab.kernel.accessAllowed ? 'block' : 'none';\n",
              "\n",
              "        async function convertToInteractive(key) {\n",
              "          const element = document.querySelector('#df-6c1dba0f-c77f-4092-9381-b5cecba062ef');\n",
              "          const dataTable =\n",
              "            await google.colab.kernel.invokeFunction('convertToInteractive',\n",
              "                                                     [key], {});\n",
              "          if (!dataTable) return;\n",
              "\n",
              "          const docLinkHtml = 'Like what you see? Visit the ' +\n",
              "            '<a target=\"_blank\" href=https://colab.research.google.com/notebooks/data_table.ipynb>data table notebook</a>'\n",
              "            + ' to learn more about interactive tables.';\n",
              "          element.innerHTML = '';\n",
              "          dataTable['output_type'] = 'display_data';\n",
              "          await google.colab.output.renderOutput(dataTable, element);\n",
              "          const docLink = document.createElement('div');\n",
              "          docLink.innerHTML = docLinkHtml;\n",
              "          element.appendChild(docLink);\n",
              "        }\n",
              "      </script>\n",
              "    </div>\n",
              "  </div>\n",
              "  "
            ]
          },
          "metadata": {},
          "execution_count": 111
        }
      ]
    },
    {
      "cell_type": "code",
      "source": [
        "X[\"age\"].plot(kind= \"hist\");"
      ],
      "metadata": {
        "colab": {
          "base_uri": "https://localhost:8080/",
          "height": 430
        },
        "id": "Cm1VzTuwwfef",
        "outputId": "c1fb97d7-d4ed-4b76-a29d-1cfc863d4d43"
      },
      "execution_count": 124,
      "outputs": [
        {
          "output_type": "display_data",
          "data": {
            "text/plain": [
              "<Figure size 640x480 with 1 Axes>"
            ],
            "image/png": "[encoded data removed]"
          },
          "metadata": {}
        }
      ]
    },
    {
      "cell_type": "code",
      "source": [
        "X[\"bmi\"].plot(kind= \"hist\");"
      ],
      "metadata": {
        "colab": {
          "base_uri": "https://localhost:8080/",
          "height": 430
        },
        "id": "FsMy9nv4w0XE",
        "outputId": "77639a10-65bd-4704-8e8f-db50c713bd4b"
      },
      "execution_count": 125,
      "outputs": [
        {
          "output_type": "display_data",
          "data": {
            "text/plain": [
              "<Figure size 640x480 with 1 Axes>"
            ],
            "image/png": "[encoded data removed]"
          },
          "metadata": {}
        }
      ]
    },
    {
      "cell_type": "code",
      "source": [
        "X[\"children\"].value_counts()"
      ],
      "metadata": {
        "colab": {
          "base_uri": "https://localhost:8080/"
        },
        "id": "0azbufB8w62A",
        "outputId": "473cb3d1-9f17-45d5-a334-39c48f927b68"
      },
      "execution_count": 126,
      "outputs": [
        {
          "output_type": "execute_result",
          "data": {
            "text/plain": [
              "0    574\n",
              "1    324\n",
              "2    240\n",
              "3    157\n",
              "4     25\n",
              "5     18\n",
              "Name: children, dtype: int64"
            ]
          },
          "metadata": {},
          "execution_count": 126
        }
      ]
    },
    {
      "cell_type": "markdown",
      "source": [
        "### Working with Scikit-Learn\n",
        "To prepare our data, we can borrow a few classes from Scikit-Learn."
      ],
      "metadata": {
        "id": "JShyGY2nvRMe"
      }
    },
    {
      "cell_type": "code",
      "source": [
        "from sklearn.compose import make_column_transformer\n",
        "from sklearn.preprocessing import MinMaxScaler, OneHotEncoder \n",
        "from sklearn.model_selection import train_test_split\n",
        "\n",
        "# Create a column transformer\n",
        "ct = make_column_transformer(\n",
        "    (MinMaxScaler(), [\"age\", \"bmi\", \"children\"]), # turn all values in these columns between 0 and 1 \n",
        "    (OneHotEncoder(handle_unknown=\"ignore\"), [\"sex\", \"smoker\", \"region\"])\n",
        ")\n",
        "\n",
        "# Create X & y\n",
        "X = insurance.drop(\"charges\", axis=1)\n",
        "y = insurance[\"charges\"]\n",
        "\n",
        "# Build our train and test sets\n",
        "X_train, X_test, y_train, y_test = train_test_split(X, y, test_size=0.2, random_state=42)\n",
        "\n",
        "# Fit the column transformer to our training data\n",
        "ct.fit(X_train)\n",
        "\n",
        "# Transform training and test data with normalization (MinMaxScaler) and OneHotEncoder\n",
        "X_train_normal = ct.transform(X_train)\n",
        "X_test_normal = ct.transform(X_test)"
      ],
      "metadata": {
        "id": "fwguQ2R8vU0h"
      },
      "execution_count": 112,
      "outputs": []
    },
    {
      "cell_type": "code",
      "source": [
        "# What does our data look like now?\n",
        "X_train.loc[0]"
      ],
      "metadata": {
        "colab": {
          "base_uri": "https://localhost:8080/"
        },
        "id": "UHo_HWc7vaHC",
        "outputId": "81740cb3-e942-4168-ea5b-f7a57c3757b1"
      },
      "execution_count": 113,
      "outputs": [
        {
          "output_type": "execute_result",
          "data": {
            "text/plain": [
              "age                19\n",
              "sex            female\n",
              "bmi              27.9\n",
              "children            0\n",
              "smoker            yes\n",
              "region      southwest\n",
              "Name: 0, dtype: object"
            ]
          },
          "metadata": {},
          "execution_count": 113
        }
      ]
    },
    {
      "cell_type": "code",
      "source": [
        "X_train_normal[0]"
      ],
      "metadata": {
        "colab": {
          "base_uri": "https://localhost:8080/"
        },
        "id": "73s9K2cQvd3I",
        "outputId": "7d0c6bec-b1b5-4224-aefa-33291af9a4ac"
      },
      "execution_count": 114,
      "outputs": [
        {
          "output_type": "execute_result",
          "data": {
            "text/plain": [
              "array([0.60869565, 0.10734463, 0.4       , 1.        , 0.        ,\n",
              "       1.        , 0.        , 0.        , 1.        , 0.        ,\n",
              "       0.        ])"
            ]
          },
          "metadata": {},
          "execution_count": 114
        }
      ]
    },
    {
      "cell_type": "code",
      "source": [
        "X_train.shape, X_train_normal.shape"
      ],
      "metadata": {
        "colab": {
          "base_uri": "https://localhost:8080/"
        },
        "id": "HsRSlqrXvgl_",
        "outputId": "b34c09b3-052c-45d9-a9a6-eb8013cc1dbb"
      },
      "execution_count": 115,
      "outputs": [
        {
          "output_type": "execute_result",
          "data": {
            "text/plain": [
              "((1070, 6), (1070, 11))"
            ]
          },
          "metadata": {},
          "execution_count": 115
        }
      ]
    },
    {
      "cell_type": "markdown",
      "source": [
        "### Building a Neural Network\n",
        "Now let's build a neural network model on it and see how it goes."
      ],
      "metadata": {
        "id": "37kTofuJvkjz"
      }
    },
    {
      "cell_type": "code",
      "source": [
        "# Build a neural network model to fit on our normalized data\n",
        "tf.random.set_seed(42)\n",
        "\n",
        "# 1. Create the model\n",
        "insurance_model_4 = tf.keras.Sequential([\n",
        "  tf.keras.layers.Dense(100),\n",
        "  tf.keras.layers.Dense(10),\n",
        "  tf.keras.layers.Dense(1)                                        \n",
        "])\n",
        "\n",
        "# 2. Compile the model\n",
        "insurance_model_4.compile(loss=tf.keras.losses.mae,\n",
        "                          optimizer=tf.keras.optimizers.Adam(),\n",
        "                          metrics=[\"mae\"])\n",
        "\n",
        "# 3. Fit the model\n",
        "insurance_model_4.fit(X_train_normal, y_train, epochs=100)"
      ],
      "metadata": {
        "colab": {
          "base_uri": "https://localhost:8080/"
        },
        "id": "-UCeHNVvvlOA",
        "outputId": "335bfc95-4f0f-41ed-8f5c-a77a51cb4a99"
      },
      "execution_count": 116,
      "outputs": [
        {
          "output_type": "stream",
          "name": "stdout",
          "text": [
            "Epoch 1/100\n",
            "34/34 [==============================] - 1s 2ms/step - loss: 13344.7754 - mae: 13344.7754\n",
            "Epoch 2/100\n",
            "34/34 [==============================] - 0s 2ms/step - loss: 13338.7949 - mae: 13338.7949\n",
            "Epoch 3/100\n",
            "34/34 [==============================] - 0s 3ms/step - loss: 13322.8125 - mae: 13322.8125\n",
            "Epoch 4/100\n",
            "34/34 [==============================] - 0s 2ms/step - loss: 13286.9668 - mae: 13286.9668\n",
            "Epoch 5/100\n",
            "34/34 [==============================] - 0s 2ms/step - loss: 13220.0537 - mae: 13220.0537\n",
            "Epoch 6/100\n",
            "34/34 [==============================] - 0s 2ms/step - loss: 13110.8213 - mae: 13110.8213\n",
            "Epoch 7/100\n",
            "34/34 [==============================] - 0s 2ms/step - loss: 12948.7080 - mae: 12948.7080\n",
            "Epoch 8/100\n",
            "34/34 [==============================] - 0s 2ms/step - loss: 12723.3203 - mae: 12723.3203\n",
            "Epoch 9/100\n",
            "34/34 [==============================] - 0s 2ms/step - loss: 12424.1982 - mae: 12424.1982\n",
            "Epoch 10/100\n",
            "34/34 [==============================] - 0s 2ms/step - loss: 12044.0547 - mae: 12044.0547\n",
            "Epoch 11/100\n",
            "34/34 [==============================] - 0s 3ms/step - loss: 11588.2910 - mae: 11588.2910\n",
            "Epoch 12/100\n",
            "34/34 [==============================] - 0s 2ms/step - loss: 11082.9404 - mae: 11082.9404\n",
            "Epoch 13/100\n",
            "34/34 [==============================] - 0s 2ms/step - loss: 10580.7402 - mae: 10580.7402\n",
            "Epoch 14/100\n",
            "34/34 [==============================] - 0s 2ms/step - loss: 10080.3232 - mae: 10080.3232\n",
            "Epoch 15/100\n",
            "34/34 [==============================] - 0s 2ms/step - loss: 9603.4746 - mae: 9603.4746\n",
            "Epoch 16/100\n",
            "34/34 [==============================] - 0s 2ms/step - loss: 9170.7754 - mae: 9170.7754\n",
            "Epoch 17/100\n",
            "34/34 [==============================] - 0s 2ms/step - loss: 8805.4473 - mae: 8805.4473\n",
            "Epoch 18/100\n",
            "34/34 [==============================] - 0s 2ms/step - loss: 8510.1973 - mae: 8510.1973\n",
            "Epoch 19/100\n",
            "34/34 [==============================] - 0s 2ms/step - loss: 8279.5400 - mae: 8279.5400\n",
            "Epoch 20/100\n",
            "34/34 [==============================] - 0s 3ms/step - loss: 8121.7759 - mae: 8121.7759\n",
            "Epoch 21/100\n",
            "34/34 [==============================] - 0s 2ms/step - loss: 8003.5942 - mae: 8003.5942\n",
            "Epoch 22/100\n",
            "34/34 [==============================] - 0s 2ms/step - loss: 7923.6572 - mae: 7923.6572\n",
            "Epoch 23/100\n",
            "34/34 [==============================] - 0s 2ms/step - loss: 7862.2197 - mae: 7862.2197\n",
            "Epoch 24/100\n",
            "34/34 [==============================] - 0s 2ms/step - loss: 7808.9902 - mae: 7808.9902\n",
            "Epoch 25/100\n",
            "34/34 [==============================] - 0s 2ms/step - loss: 7770.2544 - mae: 7770.2544\n",
            "Epoch 26/100\n",
            "34/34 [==============================] - 0s 2ms/step - loss: 7719.0229 - mae: 7719.0229\n",
            "Epoch 27/100\n",
            "34/34 [==============================] - 0s 2ms/step - loss: 7677.8008 - mae: 7677.8008\n",
            "Epoch 28/100\n",
            "34/34 [==============================] - 0s 2ms/step - loss: 7636.4204 - mae: 7636.4204\n",
            "Epoch 29/100\n",
            "34/34 [==============================] - 0s 2ms/step - loss: 7594.7935 - mae: 7594.7935\n",
            "Epoch 30/100\n",
            "34/34 [==============================] - 0s 3ms/step - loss: 7552.4214 - mae: 7552.4214\n",
            "Epoch 31/100\n",
            "34/34 [==============================] - 0s 3ms/step - loss: 7509.8438 - mae: 7509.8438\n",
            "Epoch 32/100\n",
            "34/34 [==============================] - 0s 2ms/step - loss: 7467.1528 - mae: 7467.1528\n",
            "Epoch 33/100\n",
            "34/34 [==============================] - 0s 2ms/step - loss: 7424.2471 - mae: 7424.2471\n",
            "Epoch 34/100\n",
            "34/34 [==============================] - 0s 2ms/step - loss: 7377.5630 - mae: 7377.5630\n",
            "Epoch 35/100\n",
            "34/34 [==============================] - 0s 2ms/step - loss: 7332.4287 - mae: 7332.4287\n",
            "Epoch 36/100\n",
            "34/34 [==============================] - 0s 2ms/step - loss: 7284.0898 - mae: 7284.0898\n",
            "Epoch 37/100\n",
            "34/34 [==============================] - 0s 2ms/step - loss: 7235.6699 - mae: 7235.6699\n",
            "Epoch 38/100\n",
            "34/34 [==============================] - 0s 2ms/step - loss: 7186.6562 - mae: 7186.6562\n",
            "Epoch 39/100\n",
            "34/34 [==============================] - 0s 2ms/step - loss: 7133.9946 - mae: 7133.9946\n",
            "Epoch 40/100\n",
            "34/34 [==============================] - 0s 2ms/step - loss: 7080.9111 - mae: 7080.9111\n",
            "Epoch 41/100\n",
            "34/34 [==============================] - 0s 2ms/step - loss: 7027.0054 - mae: 7027.0054\n",
            "Epoch 42/100\n",
            "34/34 [==============================] - 0s 2ms/step - loss: 6970.6235 - mae: 6970.6235\n",
            "Epoch 43/100\n",
            "34/34 [==============================] - 0s 2ms/step - loss: 6910.9048 - mae: 6910.9048\n",
            "Epoch 44/100\n",
            "34/34 [==============================] - 0s 2ms/step - loss: 6847.8066 - mae: 6847.8066\n",
            "Epoch 45/100\n",
            "34/34 [==============================] - 0s 2ms/step - loss: 6783.9463 - mae: 6783.9463\n",
            "Epoch 46/100\n",
            "34/34 [==============================] - 0s 2ms/step - loss: 6718.4380 - mae: 6718.4380\n",
            "Epoch 47/100\n",
            "34/34 [==============================] - 0s 2ms/step - loss: 6651.0928 - mae: 6651.0928\n",
            "Epoch 48/100\n",
            "34/34 [==============================] - 0s 2ms/step - loss: 6576.4326 - mae: 6576.4326\n",
            "Epoch 49/100\n",
            "34/34 [==============================] - 0s 2ms/step - loss: 6501.8276 - mae: 6501.8276\n",
            "Epoch 50/100\n",
            "34/34 [==============================] - 0s 2ms/step - loss: 6420.6802 - mae: 6420.6802\n",
            "Epoch 51/100\n",
            "34/34 [==============================] - 0s 2ms/step - loss: 6341.3340 - mae: 6341.3340\n",
            "Epoch 52/100\n",
            "34/34 [==============================] - 0s 2ms/step - loss: 6253.1646 - mae: 6253.1646\n",
            "Epoch 53/100\n",
            "34/34 [==============================] - 0s 2ms/step - loss: 6162.6553 - mae: 6162.6553\n",
            "Epoch 54/100\n",
            "34/34 [==============================] - 0s 2ms/step - loss: 6069.9780 - mae: 6069.9780\n",
            "Epoch 55/100\n",
            "34/34 [==============================] - 0s 2ms/step - loss: 5968.8145 - mae: 5968.8145\n",
            "Epoch 56/100\n",
            "34/34 [==============================] - 0s 2ms/step - loss: 5866.7695 - mae: 5866.7695\n",
            "Epoch 57/100\n",
            "34/34 [==============================] - 0s 2ms/step - loss: 5757.3911 - mae: 5757.3911\n",
            "Epoch 58/100\n",
            "34/34 [==============================] - 0s 2ms/step - loss: 5643.2861 - mae: 5643.2861\n",
            "Epoch 59/100\n",
            "34/34 [==============================] - 0s 2ms/step - loss: 5529.5698 - mae: 5529.5698\n",
            "Epoch 60/100\n",
            "34/34 [==============================] - 0s 2ms/step - loss: 5414.5059 - mae: 5414.5059\n",
            "Epoch 61/100\n",
            "34/34 [==============================] - 0s 2ms/step - loss: 5291.6079 - mae: 5291.6079\n",
            "Epoch 62/100\n",
            "34/34 [==============================] - 0s 2ms/step - loss: 5166.6265 - mae: 5166.6265\n",
            "Epoch 63/100\n",
            "34/34 [==============================] - 0s 2ms/step - loss: 5042.2290 - mae: 5042.2290\n",
            "Epoch 64/100\n",
            "34/34 [==============================] - 0s 2ms/step - loss: 4912.0269 - mae: 4912.0269\n",
            "Epoch 65/100\n",
            "34/34 [==============================] - 0s 2ms/step - loss: 4785.0142 - mae: 4785.0142\n",
            "Epoch 66/100\n",
            "34/34 [==============================] - 0s 2ms/step - loss: 4655.1880 - mae: 4655.1880\n",
            "Epoch 67/100\n",
            "34/34 [==============================] - 0s 2ms/step - loss: 4534.9868 - mae: 4534.9868\n",
            "Epoch 68/100\n",
            "34/34 [==============================] - 0s 2ms/step - loss: 4422.6680 - mae: 4422.6680\n",
            "Epoch 69/100\n",
            "34/34 [==============================] - 0s 2ms/step - loss: 4316.5220 - mae: 4316.5220\n",
            "Epoch 70/100\n",
            "34/34 [==============================] - 0s 2ms/step - loss: 4216.3101 - mae: 4216.3101\n",
            "Epoch 71/100\n",
            "34/34 [==============================] - 0s 2ms/step - loss: 4121.4858 - mae: 4121.4858\n",
            "Epoch 72/100\n",
            "34/34 [==============================] - 0s 2ms/step - loss: 4034.5046 - mae: 4034.5046\n",
            "Epoch 73/100\n",
            "34/34 [==============================] - 0s 2ms/step - loss: 3957.6763 - mae: 3957.6763\n",
            "Epoch 74/100\n",
            "34/34 [==============================] - 0s 3ms/step - loss: 3889.9597 - mae: 3889.9597\n",
            "Epoch 75/100\n",
            "34/34 [==============================] - 0s 2ms/step - loss: 3836.5825 - mae: 3836.5825\n",
            "Epoch 76/100\n",
            "34/34 [==============================] - 0s 2ms/step - loss: 3793.0813 - mae: 3793.0813\n",
            "Epoch 77/100\n",
            "34/34 [==============================] - 0s 3ms/step - loss: 3756.5195 - mae: 3756.5195\n",
            "Epoch 78/100\n",
            "34/34 [==============================] - 0s 3ms/step - loss: 3730.7107 - mae: 3730.7107\n",
            "Epoch 79/100\n",
            "34/34 [==============================] - 0s 4ms/step - loss: 3710.4385 - mae: 3710.4385\n",
            "Epoch 80/100\n",
            "34/34 [==============================] - 0s 3ms/step - loss: 3696.1404 - mae: 3696.1404\n",
            "Epoch 81/100\n",
            "34/34 [==============================] - 0s 3ms/step - loss: 3686.4167 - mae: 3686.4167\n",
            "Epoch 82/100\n",
            "34/34 [==============================] - 0s 3ms/step - loss: 3680.3042 - mae: 3680.3042\n",
            "Epoch 83/100\n",
            "34/34 [==============================] - 0s 3ms/step - loss: 3672.5066 - mae: 3672.5066\n",
            "Epoch 84/100\n",
            "34/34 [==============================] - 0s 3ms/step - loss: 3668.3115 - mae: 3668.3115\n",
            "Epoch 85/100\n",
            "34/34 [==============================] - 0s 4ms/step - loss: 3665.1562 - mae: 3665.1562\n",
            "Epoch 86/100\n",
            "34/34 [==============================] - 0s 3ms/step - loss: 3662.4929 - mae: 3662.4929\n",
            "Epoch 87/100\n",
            "34/34 [==============================] - 0s 3ms/step - loss: 3659.3435 - mae: 3659.3435\n",
            "Epoch 88/100\n",
            "34/34 [==============================] - 0s 3ms/step - loss: 3656.6770 - mae: 3656.6770\n",
            "Epoch 89/100\n",
            "34/34 [==============================] - 0s 3ms/step - loss: 3654.6125 - mae: 3654.6125\n",
            "Epoch 90/100\n",
            "34/34 [==============================] - 0s 3ms/step - loss: 3652.8779 - mae: 3652.8779\n",
            "Epoch 91/100\n",
            "34/34 [==============================] - 0s 3ms/step - loss: 3649.9653 - mae: 3649.9653\n",
            "Epoch 92/100\n",
            "34/34 [==============================] - 0s 3ms/step - loss: 3649.1594 - mae: 3649.1594\n",
            "Epoch 93/100\n",
            "34/34 [==============================] - 0s 3ms/step - loss: 3646.7788 - mae: 3646.7788\n",
            "Epoch 94/100\n",
            "34/34 [==============================] - 0s 4ms/step - loss: 3645.2336 - mae: 3645.2336\n",
            "Epoch 95/100\n",
            "34/34 [==============================] - 0s 3ms/step - loss: 3646.2764 - mae: 3646.2764\n",
            "Epoch 96/100\n",
            "34/34 [==============================] - 0s 3ms/step - loss: 3643.1536 - mae: 3643.1536\n",
            "Epoch 97/100\n",
            "34/34 [==============================] - 0s 2ms/step - loss: 3640.7622 - mae: 3640.7622\n",
            "Epoch 98/100\n",
            "34/34 [==============================] - 0s 3ms/step - loss: 3638.6443 - mae: 3638.6443\n",
            "Epoch 99/100\n",
            "34/34 [==============================] - 0s 3ms/step - loss: 3638.0342 - mae: 3638.0342\n",
            "Epoch 100/100\n",
            "34/34 [==============================] - 0s 3ms/step - loss: 3636.5327 - mae: 3636.5327\n"
          ]
        },
        {
          "output_type": "execute_result",
          "data": {
            "text/plain": [
              "<keras.callbacks.History at 0x7f9a0185d5a0>"
            ]
          },
          "metadata": {},
          "execution_count": 116
        }
      ]
    },
    {
      "cell_type": "code",
      "source": [
        "# Evalaute our insurance model trained on normalized data\n",
        "insurance_model_4.evaluate(X_test_normal, y_test)"
      ],
      "metadata": {
        "colab": {
          "base_uri": "https://localhost:8080/"
        },
        "id": "V-AKZEFkv6YG",
        "outputId": "9cd7ce99-49ec-4391-a7b0-cbed04f8b289"
      },
      "execution_count": 117,
      "outputs": [
        {
          "output_type": "stream",
          "name": "stdout",
          "text": [
            "9/9 [==============================] - 0s 4ms/step - loss: 3440.5295 - mae: 3440.5295\n"
          ]
        },
        {
          "output_type": "execute_result",
          "data": {
            "text/plain": [
              "[3440.529541015625, 3440.529541015625]"
            ]
          },
          "metadata": {},
          "execution_count": 117
        }
      ]
    },
    {
      "cell_type": "code",
      "source": [
        "# Insurance model 2 results\n",
        "# 9/9 [==============================] - 0s 1ms/step - loss: 4924.3477 - mae: 4924.3477"
      ],
      "metadata": {
        "id": "X_N7UHRjv9w1"
      },
      "execution_count": 118,
      "outputs": []
    },
    {
      "cell_type": "markdown",
      "source": [
        "**Our model `(insurance_model_4)` fit on normalized data achieved a ~30% better score compared to the same model `(insurnace_model_2)` fit on non-normalized data!**"
      ],
      "metadata": {
        "id": "ulhKdzVVwEaF"
      }
    },
    {
      "cell_type": "code",
      "source": [
        "insurance_model_2.summary()"
      ],
      "metadata": {
        "colab": {
          "base_uri": "https://localhost:8080/"
        },
        "id": "aQW5GY5AwDln",
        "outputId": "456e723b-c6fb-4ea4-85c8-de7ba27b3b80"
      },
      "execution_count": 119,
      "outputs": [
        {
          "output_type": "stream",
          "name": "stdout",
          "text": [
            "Model: \"sequential_9\"\n",
            "_________________________________________________________________\n",
            " Layer (type)                Output Shape              Param #   \n",
            "=================================================================\n",
            " dense_14 (Dense)            (None, 100)               1200      \n",
            "                                                                 \n",
            " dense_15 (Dense)            (None, 10)                1010      \n",
            "                                                                 \n",
            " dense_16 (Dense)            (None, 1)                 11        \n",
            "                                                                 \n",
            "=================================================================\n",
            "Total params: 2,221\n",
            "Trainable params: 2,221\n",
            "Non-trainable params: 0\n",
            "_________________________________________________________________\n"
          ]
        }
      ]
    },
    {
      "cell_type": "code",
      "source": [
        "insurance_model_4.summary()"
      ],
      "metadata": {
        "colab": {
          "base_uri": "https://localhost:8080/"
        },
        "id": "e1ub75CSwOr5",
        "outputId": "76e73113-c284-4c9a-a162-fdfdb8c362ee"
      },
      "execution_count": 120,
      "outputs": [
        {
          "output_type": "stream",
          "name": "stdout",
          "text": [
            "Model: \"sequential_11\"\n",
            "_________________________________________________________________\n",
            " Layer (type)                Output Shape              Param #   \n",
            "=================================================================\n",
            " dense_20 (Dense)            (None, 100)               1200      \n",
            "                                                                 \n",
            " dense_21 (Dense)            (None, 10)                1010      \n",
            "                                                                 \n",
            " dense_22 (Dense)            (None, 1)                 11        \n",
            "                                                                 \n",
            "=================================================================\n",
            "Total params: 2,221\n",
            "Trainable params: 2,221\n",
            "Non-trainable params: 0\n",
            "_________________________________________________________________\n"
          ]
        }
      ]
    },
    {
      "cell_type": "code",
      "source": [],
      "metadata": {
        "id": "dl9V2hIRwRIP"
      },
      "execution_count": null,
      "outputs": []
    }
  ]
}